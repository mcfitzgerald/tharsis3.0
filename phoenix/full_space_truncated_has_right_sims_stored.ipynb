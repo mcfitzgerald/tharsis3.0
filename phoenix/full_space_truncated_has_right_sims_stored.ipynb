{
 "cells": [
  {
   "cell_type": "code",
   "execution_count": 129,
   "metadata": {
    "collapsed": true
   },
   "outputs": [],
   "source": [
    "import numpy as np\n",
    "import scipy as sp\n",
    "from scipy import optimize\n",
    "from scipy import stats\n",
    "import matplotlib.pyplot as plt\n",
    "import sys, copy, emcee, corner\n",
    "%matplotlib inline"
   ]
  },
  {
   "cell_type": "code",
   "execution_count": 130,
   "metadata": {
    "collapsed": true
   },
   "outputs": [],
   "source": [
    "sys.path.append('./ligbind/')\n",
    "import ligbind as lb"
   ]
  },
  {
   "cell_type": "code",
   "execution_count": 131,
   "metadata": {
    "collapsed": true
   },
   "outputs": [],
   "source": [
    "def wym_obj(guess,model,data,ligs,rtot):\n",
    "    datac = np.concatenate(data)\n",
    "    return (model(guess,ligs,rtot)-datac)\n",
    "\n",
    "def fit_wym(guess,model,data,ligs,rtot,bnds):\n",
    "        return sp.optimize.least_squares(wym_obj,guess,args=(model,data,ligs,rtot),bounds=bnds,method='trf',ftol=1e-14,gtol=1e-14,xtol=1e-14)\n",
    "    \n",
    "def wym_obj_wt(guess,model,data,ligs,rtot):\n",
    "    datac = np.concatenate(data)\n",
    "    return (model(guess,ligs,rtot)-datac)/datac\n",
    "\n",
    "def fit_wym_wt(guess,model,data,ligs,rtot,bnds):\n",
    "        return sp.optimize.least_squares(wym_obj_wt,guess,args=(model,data,ligs,rtot),bounds=bnds,method='trf',ftol=1e-14,gtol=1e-14,xtol=1e-14)"
   ]
  },
  {
   "cell_type": "code",
   "execution_count": 132,
   "metadata": {
    "collapsed": true
   },
   "outputs": [],
   "source": [
    "def wymfunc_fix(parm,lig,rtot):\n",
    "    '''\n",
    "    Model function for dimerizing, single-site receptors as derived in\n",
    "    (Wyman and Gill, Binding and Linkage, 1990) and used by\n",
    "    (Macdonald and Pike, ...EGF-binding...negative cooperativity...aggregating system, 2008).\n",
    "    Takes numpy array of parameters [k11,k21,k22,l20], numpy array of free ligand concentrations,\n",
    "    and total receptor concentration. Returns the fraction of receptor bound to ligand.\n",
    "\n",
    "    To generate a data set, iterate over an array of desired receptor concentrations, e.g.:\n",
    "    [wymfunc(parm,lig,i) for i in array_of_rtots]\n",
    "\n",
    "    For use in curve fitting an objective function for use with scipy.optimize.least_squares\n",
    "    is readily constructed as: (wymfun(parm_guess,lig,rtot) - actual_data)\n",
    "    '''\n",
    "\n",
    "    #ensure dimension/broadcasting compatibility of inputs\n",
    "    if ((rtot.ndim > 0) and (rtot.ndim != lig.ndim)):\n",
    "        rtot = rtot[:,None] #adds dimension so that it can be broadcast\n",
    "    else:\n",
    "        rtot = rtot\n",
    "\n",
    "    #unpack parameters\n",
    "    k11 = parm[0]\n",
    "    k21 = parm[1]\n",
    "    k22 = k21/4.\n",
    "    l20 = parm[2]\n",
    "\n",
    "    ### START MODEL FUNCTION ###\n",
    "\n",
    "    #calculate concentration of free (unoccupied) receptor\n",
    "    rfree = (((-1 - k11*lig)) + \\\n",
    "    ((np.square((1 + k11*lig)) + \\\n",
    "    8.*l20*rtot*(1 + k21*lig + k21*k22*(np.square(lig)))))**0.5) \\\n",
    "    / (4*l20*(1 + k21*lig + k21*k22*(np.square(lig))))\n",
    "\n",
    "    #calculate bound fraction\n",
    "    bfrac = (k11*lig + l20*k21*rfree*lig + \\\n",
    "    2*l20*k21*k22*rfree*(np.square(lig))) \\\n",
    "    / (1 + 2*l20*rfree + k11*lig + \\\n",
    "    2*l20*k21*rfree*lig + 2*l20*k21*k22*rfree*(np.square(lig)))\n",
    "\n",
    "    ### END MODEL FUNCTION ###\n",
    "\n",
    "    #flatten output\n",
    "    if ((rtot.ndim > 0) and (rtot.ndim != lig.ndim)):\n",
    "        return bfrac.flatten()\n",
    "    elif (rtot.ndim == 0):\n",
    "        return bfrac.flatten()\n",
    "    else:\n",
    "        return np.concatenate(bfrac)"
   ]
  },
  {
   "cell_type": "code",
   "execution_count": 133,
   "metadata": {
    "collapsed": true
   },
   "outputs": [],
   "source": [
    "from itertools import product\n",
    "\n",
    "def parmsetter(k1):\n",
    "    base = np.array([k1,])\n",
    "    k2s = np.array([0.1,1.,10.])*base\n",
    "    k21s = np.array([1000.,100.,10.,0.1,0.01,0.001])*base\n",
    "    ls = np.array([10.,100.,1000.])*base\n",
    "    \n",
    "    things = [base,k2s,k21s,ls]\n",
    "    \n",
    "    b = list(product(*things))\n",
    "    \n",
    "    c = np.array(b)\n",
    "    \n",
    "    c[:,2]=c[:,1]/4.\n",
    "    \n",
    "    neuts = np.array(list(set([tuple(i.tolist()) for i in c])))\n",
    "    \n",
    "    all_sets = np.concatenate([b,neuts])\n",
    "    \n",
    "    return all_sets"
   ]
  },
  {
   "cell_type": "code",
   "execution_count": 134,
   "metadata": {
    "collapsed": true
   },
   "outputs": [],
   "source": [
    "parmsets = parmsetter(5)"
   ]
  },
  {
   "cell_type": "code",
   "execution_count": 135,
   "metadata": {
    "collapsed": true
   },
   "outputs": [],
   "source": [
    "sim_n05_pre = [lb.WymSimSubset(sets=1000,reps=1,parms=i,noise=0.05) for i in parmsets]"
   ]
  },
  {
   "cell_type": "code",
   "execution_count": 136,
   "metadata": {
    "collapsed": true
   },
   "outputs": [],
   "source": [
    "low = copy.deepcopy(sim_n05_pre)\n",
    "mid = copy.deepcopy(sim_n05_pre)\n",
    "hi = copy.deepcopy(sim_n05_pre)\n",
    "\n",
    "[i.subset(0,9) for i in low];\n",
    "[i.subset(4,14) for i in mid];\n",
    "[i.subset(9,18) for i in hi];"
   ]
  },
  {
   "cell_type": "code",
   "execution_count": 137,
   "metadata": {},
   "outputs": [
    {
     "data": {
      "image/png": "[encoded data removed]",
      "text/plain": [
       "<matplotlib.figure.Figure at 0x14ba819e8>"
      ]
     },
     "metadata": {},
     "output_type": "display_data"
    }
   ],
   "source": [
    "for i in range(6):\n",
    "    plt.semilogx(low[0].ligs[i],low[0].meanset[0][i],'o')"
   ]
  },
  {
   "cell_type": "code",
   "execution_count": 138,
   "metadata": {
    "scrolled": true
   },
   "outputs": [
    {
     "data": {
      "image/png": "[encoded data removed]",
      "text/plain": [
       "<matplotlib.figure.Figure at 0x14cac7c50>"
      ]
     },
     "metadata": {},
     "output_type": "display_data"
    }
   ],
   "source": [
    "for i in range(6):\n",
    "    plt.semilogx(mid[0].ligs[i],mid[0].meanset[0][i],'o')"
   ]
  },
  {
   "cell_type": "code",
   "execution_count": 139,
   "metadata": {},
   "outputs": [
    {
     "data": {
      "image/png": "[encoded data removed]",
      "text/plain": [
       "<matplotlib.figure.Figure at 0x14d53a128>"
      ]
     },
     "metadata": {},
     "output_type": "display_data"
    }
   ],
   "source": [
    "for i in range(6):\n",
    "    plt.semilogx(hi[0].ligs[i],hi[0].meanset[0][i],'o')"
   ]
  },
  {
   "cell_type": "code",
   "execution_count": 140,
   "metadata": {
    "collapsed": true
   },
   "outputs": [],
   "source": [
    "parmsets_fix = np.array([np.append(i[0:2],i[-1]) for i in parmsets])"
   ]
  },
  {
   "cell_type": "code",
   "execution_count": 141,
   "metadata": {},
   "outputs": [
    {
     "data": {
      "text/plain": [
       "numpy.ndarray"
      ]
     },
     "execution_count": 141,
     "metadata": {},
     "output_type": "execute_result"
    }
   ],
   "source": [
    "type(parmsets_fix)"
   ]
  },
  {
   "cell_type": "code",
   "execution_count": 142,
   "metadata": {
    "collapsed": true
   },
   "outputs": [],
   "source": [
    "lsbnds = (tuple(1e-5 for i in range(4)),tuple(1e4 for i in range(4)))\n",
    "lsbnds_fix = (tuple(1e-5 for i in range(3)),tuple(1e4 for i in range(3)))"
   ]
  },
  {
   "cell_type": "code",
   "execution_count": 143,
   "metadata": {},
   "outputs": [
    {
     "name": "stdout",
     "output_type": "stream",
     "text": [
      "CPU times: user 44min 11s, sys: 8.97 s, total: 44min 20s\n",
      "Wall time: 44min 25s\n"
     ]
    }
   ],
   "source": [
    "%time midtrunc_full_wt_REAL = [np.array([fit_wym_wt(parmsets[j],lb.models.wymfunc,mid[j].meanset[i],mid[j].ligs,mid[j].rtot,lsbnds) for i in range(1000)]) for j in range(len(mid))]"
   ]
  },
  {
   "cell_type": "code",
   "execution_count": 144,
   "metadata": {},
   "outputs": [
    {
     "name": "stdout",
     "output_type": "stream",
     "text": [
      "CPU times: user 42min 18s, sys: 15.4 s, total: 42min 34s\n",
      "Wall time: 42min 59s\n"
     ]
    }
   ],
   "source": [
    "%time midtrunc_fix_wt_REAL = [np.array([fit_wym_wt(parmsets_fix[j],wymfunc_fix,mid[j].meanset[i],mid[j].ligs,mid[j].rtot,lsbnds_fix) for i in range(1000)]) for j in range(len(mid))]"
   ]
  },
  {
   "cell_type": "code",
   "execution_count": 145,
   "metadata": {
    "collapsed": true
   },
   "outputs": [],
   "source": [
    "mids_fix = np.array(midtrunc_fix_wt_REAL)"
   ]
  },
  {
   "cell_type": "code",
   "execution_count": 146,
   "metadata": {
    "collapsed": true
   },
   "outputs": [],
   "source": [
    "mids_full = np.array(midtrunc_full_wt_REAL)"
   ]
  },
  {
   "cell_type": "code",
   "execution_count": 147,
   "metadata": {},
   "outputs": [
    {
     "name": "stdout",
     "output_type": "stream",
     "text": [
      "Stored 'mids_fix' (ndarray)\n"
     ]
    }
   ],
   "source": [
    "%store mids_fix"
   ]
  },
  {
   "cell_type": "code",
   "execution_count": 148,
   "metadata": {},
   "outputs": [
    {
     "name": "stdout",
     "output_type": "stream",
     "text": [
      "Stored 'mids_full' (ndarray)\n"
     ]
    }
   ],
   "source": [
    "%store mids_full"
   ]
  },
  {
   "cell_type": "code",
   "execution_count": 95,
   "metadata": {
    "collapsed": true
   },
   "outputs": [],
   "source": [
    "def ftest(fit1,fit2):\n",
    "    '''\n",
    "    fit1 is fit from simpler model\n",
    "    '''\n",
    "\n",
    "    SS1 = np.sum(np.square(fit1.fun))\n",
    "    SS2 = np.sum(np.square(fit2.fun))\n",
    "\n",
    "    DF1 = fit1.fun.shape[0] - fit1.x.shape[0]\n",
    "    DF2 = fit2.fun.shape[0] - fit2.x.shape[0]\n",
    "\n",
    "    F = ((SS1-SS2)/(DF1-DF2))/(SS2/DF2)\n",
    "\n",
    "    p = sp.stats.f.sf(F,(DF1-DF2),DF2)\n",
    "\n",
    "    return (SS1,SS2,DF1,DF2,F,p)"
   ]
  },
  {
   "cell_type": "code",
   "execution_count": 96,
   "metadata": {
    "collapsed": true
   },
   "outputs": [],
   "source": [
    "ps = np.array([np.array([ftest(mids_fix[j][i],mids_full[j][i])[-1] for i in range(1000)]) for j in range(63)])"
   ]
  },
  {
   "cell_type": "code",
   "execution_count": 97,
   "metadata": {
    "collapsed": true
   },
   "outputs": [],
   "source": [
    "sigs = np.array([np.sum(ps[i] < 0.05) for i in range(63)])"
   ]
  },
  {
   "cell_type": "code",
   "execution_count": 100,
   "metadata": {},
   "outputs": [
    {
     "data": {
      "text/plain": [
       "(array([  5.,   7.,   1.,   1.,   1.,  10.,  16.,  13.,   7.,   2.]),\n",
       " array([ 12. ,  19.7,  27.4,  35.1,  42.8,  50.5,  58.2,  65.9,  73.6,\n",
       "         81.3,  89. ]),\n",
       " <a list of 10 Patch objects>)"
      ]
     },
     "execution_count": 100,
     "metadata": {},
     "output_type": "execute_result"
    },
    {
     "data": {
      "image/png": "[encoded data removed]",
      "text/plain": [
       "<matplotlib.figure.Figure at 0x111a2b5c0>"
      ]
     },
     "metadata": {},
     "output_type": "display_data"
    }
   ],
   "source": [
    "plt.hist(sigs)"
   ]
  },
  {
   "cell_type": "code",
   "execution_count": 102,
   "metadata": {},
   "outputs": [
    {
     "data": {
      "text/plain": [
       "19.826572334156552"
      ]
     },
     "execution_count": 102,
     "metadata": {},
     "output_type": "execute_result"
    }
   ],
   "source": [
    "np.std(sigs)"
   ]
  },
  {
   "cell_type": "code",
   "execution_count": 103,
   "metadata": {
    "collapsed": true
   },
   "outputs": [],
   "source": [
    "labled_sigs = np.array([i for i in enumerate(sigs)])"
   ]
  },
  {
   "cell_type": "code",
   "execution_count": 104,
   "metadata": {},
   "outputs": [
    {
     "data": {
      "text/plain": [
       "array([[ 3, 12],\n",
       "       [ 9, 13],\n",
       "       [ 0, 14],\n",
       "       [56, 14],\n",
       "       [12, 17],\n",
       "       [ 6, 22],\n",
       "       [16, 22],\n",
       "       [15, 23],\n",
       "       [ 4, 24],\n",
       "       [ 1, 24],\n",
       "       [61, 25],\n",
       "       [10, 27],\n",
       "       [ 7, 32],\n",
       "       [13, 36],\n",
       "       [54, 50],\n",
       "       [51, 51],\n",
       "       [14, 55],\n",
       "       [26, 55],\n",
       "       [37, 56],\n",
       "       [41, 56],\n",
       "       [49, 56],\n",
       "       [30, 57],\n",
       "       [19, 57],\n",
       "       [33, 57],\n",
       "       [24, 58],\n",
       "       [47, 60],\n",
       "       [39, 60],\n",
       "       [45, 61],\n",
       "       [43, 61],\n",
       "       [50, 61],\n",
       "       [34, 61],\n",
       "       [53, 61],\n",
       "       [ 8, 61],\n",
       "       [28, 62],\n",
       "       [31, 63],\n",
       "       [27, 63],\n",
       "       [35, 64],\n",
       "       [44, 64],\n",
       "       [58, 64],\n",
       "       [17, 64],\n",
       "       [52, 65],\n",
       "       [57, 66],\n",
       "       [32, 66],\n",
       "       [18, 66],\n",
       "       [40, 66],\n",
       "       [ 2, 67],\n",
       "       [59, 67],\n",
       "       [55, 68],\n",
       "       [20, 68],\n",
       "       [46, 69],\n",
       "       [23, 69],\n",
       "       [42, 70],\n",
       "       [ 5, 70],\n",
       "       [48, 72],\n",
       "       [25, 74],\n",
       "       [29, 75],\n",
       "       [21, 76],\n",
       "       [22, 76],\n",
       "       [36, 77],\n",
       "       [11, 77],\n",
       "       [60, 79],\n",
       "       [38, 89],\n",
       "       [62, 89]])"
      ]
     },
     "execution_count": 104,
     "metadata": {},
     "output_type": "execute_result"
    }
   ],
   "source": [
    "labled_sigs[labled_sigs[:,1].argsort()]"
   ]
  },
  {
   "cell_type": "code",
   "execution_count": 106,
   "metadata": {},
   "outputs": [
    {
     "data": {
      "text/plain": [
       "[<matplotlib.lines.Line2D at 0x14bfd3e10>]"
      ]
     },
     "execution_count": 106,
     "metadata": {},
     "output_type": "execute_result"
    },
    {
     "data": {
      "image/png": "[encoded data removed]",
      "text/plain": [
       "<matplotlib.figure.Figure at 0x14dc65fd0>"
      ]
     },
     "metadata": {},
     "output_type": "display_data"
    }
   ],
   "source": [
    "plt.plot(labled_sigs[:,0],labled_sigs[:,1])"
   ]
  },
  {
   "cell_type": "code",
   "execution_count": 108,
   "metadata": {
    "collapsed": true
   },
   "outputs": [],
   "source": [
    "full_from_other_sheet = np.array([19, 35, 63, 15, 41, 52, 21, 32, 54, 16, 37, 71, 15, 25, 63,  6, 33,\n",
    "       73, 69, 74, 71, 74, 54, 61, 68, 64, 66, 62, 70, 73, 60, 69, 70, 91,\n",
    "       70, 74, 64, 61, 60, 60, 60, 75, 68, 66, 75, 62, 78, 70, 57, 75, 65,\n",
    "       53, 66, 61, 69, 80, 13, 57, 60, 74, 76, 33, 59])"
   ]
  },
  {
   "cell_type": "code",
   "execution_count": 112,
   "metadata": {
    "collapsed": true
   },
   "outputs": [],
   "source": [
    "ffo = np.array([i for i in enumerate(full_from_other_sheet)])"
   ]
  },
  {
   "cell_type": "code",
   "execution_count": 113,
   "metadata": {},
   "outputs": [
    {
     "data": {
      "text/plain": [
       "[<matplotlib.lines.Line2D at 0x141576ac8>]"
      ]
     },
     "execution_count": 113,
     "metadata": {},
     "output_type": "execute_result"
    },
    {
     "data": {
      "image/png": "[encoded data removed]",
      "text/plain": [
       "<matplotlib.figure.Figure at 0x141576be0>"
      ]
     },
     "metadata": {},
     "output_type": "display_data"
    }
   ],
   "source": [
    "plt.plot(labled_sigs[:,0],labled_sigs[:,1])\n",
    "plt.plot(ffo[:,0],ffo[:,1])"
   ]
  },
  {
   "cell_type": "code",
   "execution_count": 121,
   "metadata": {},
   "outputs": [
    {
     "data": {
      "text/plain": [
       "[[5.0, 0.5, 0.125, 50.0],\n",
       " [5.0, 0.5, 0.125, 500.0],\n",
       " [5.0, 0.5, 0.125, 5000.0],\n",
       " [5.0, 0.5, 0.125, 50.0],\n",
       " [5.0, 0.5, 0.125, 500.0],\n",
       " [5.0, 0.5, 0.125, 5000.0],\n",
       " [5.0, 0.5, 0.125, 50.0],\n",
       " [5.0, 0.5, 0.125, 500.0],\n",
       " [5.0, 0.5, 0.125, 5000.0],\n",
       " [5.0, 0.5, 0.125, 50.0],\n",
       " [5.0, 0.5, 0.125, 500.0],\n",
       " [5.0, 0.5, 0.125, 5000.0],\n",
       " [5.0, 0.5, 0.125, 50.0],\n",
       " [5.0, 0.5, 0.125, 500.0],\n",
       " [5.0, 0.5, 0.125, 5000.0],\n",
       " [5.0, 0.5, 0.125, 50.0],\n",
       " [5.0, 0.5, 0.125, 500.0],\n",
       " [5.0, 0.5, 0.125, 5000.0],\n",
       " [5.0, 5.0, 1.25, 50.0],\n",
       " [5.0, 5.0, 1.25, 500.0],\n",
       " [5.0, 5.0, 1.25, 5000.0],\n",
       " [5.0, 5.0, 1.25, 50.0],\n",
       " [5.0, 5.0, 1.25, 500.0],\n",
       " [5.0, 5.0, 1.25, 5000.0],\n",
       " [5.0, 5.0, 1.25, 50.0],\n",
       " [5.0, 5.0, 1.25, 500.0],\n",
       " [5.0, 5.0, 1.25, 5000.0],\n",
       " [5.0, 5.0, 1.25, 50.0],\n",
       " [5.0, 5.0, 1.25, 500.0],\n",
       " [5.0, 5.0, 1.25, 5000.0],\n",
       " [5.0, 5.0, 1.25, 50.0],\n",
       " [5.0, 5.0, 1.25, 500.0],\n",
       " [5.0, 5.0, 1.25, 5000.0],\n",
       " [5.0, 5.0, 1.25, 50.0],\n",
       " [5.0, 5.0, 1.25, 500.0],\n",
       " [5.0, 5.0, 1.25, 5000.0],\n",
       " [5.0, 50.0, 12.5, 50.0],\n",
       " [5.0, 50.0, 12.5, 500.0],\n",
       " [5.0, 50.0, 12.5, 5000.0],\n",
       " [5.0, 50.0, 12.5, 50.0],\n",
       " [5.0, 50.0, 12.5, 500.0],\n",
       " [5.0, 50.0, 12.5, 5000.0],\n",
       " [5.0, 50.0, 12.5, 50.0],\n",
       " [5.0, 50.0, 12.5, 500.0],\n",
       " [5.0, 50.0, 12.5, 5000.0],\n",
       " [5.0, 50.0, 12.5, 50.0],\n",
       " [5.0, 50.0, 12.5, 500.0],\n",
       " [5.0, 50.0, 12.5, 5000.0],\n",
       " [5.0, 50.0, 12.5, 50.0],\n",
       " [5.0, 50.0, 12.5, 500.0],\n",
       " [5.0, 50.0, 12.5, 5000.0],\n",
       " [5.0, 50.0, 12.5, 50.0],\n",
       " [5.0, 50.0, 12.5, 500.0],\n",
       " [5.0, 50.0, 12.5, 5000.0],\n",
       " [5.0, 50.0, 12.5, 500.0],\n",
       " [5.0, 50.0, 12.5, 5000.0],\n",
       " [5.0, 0.5, 0.125, 50.0],\n",
       " [5.0, 50.0, 12.5, 50.0],\n",
       " [5.0, 0.5, 0.125, 5000.0],\n",
       " [5.0, 5.0, 1.25, 500.0],\n",
       " [5.0, 5.0, 1.25, 5000.0],\n",
       " [5.0, 0.5, 0.125, 500.0],\n",
       " [5.0, 5.0, 1.25, 50.0]]"
      ]
     },
     "execution_count": 121,
     "metadata": {},
     "output_type": "execute_result"
    }
   ],
   "source": [
    "parmsets.tolist()"
   ]
  },
  {
   "cell_type": "code",
   "execution_count": 115,
   "metadata": {},
   "outputs": [
    {
     "data": {
      "text/plain": [
       "array([[  5.00000000e+00,   5.00000000e-01,   1.25000000e-01,\n",
       "          5.00000000e+01],\n",
       "       [  5.00000000e+00,   5.00000000e-01,   1.25000000e-01,\n",
       "          5.00000000e+02],\n",
       "       [  5.00000000e+00,   5.00000000e-01,   1.25000000e-01,\n",
       "          5.00000000e+03],\n",
       "       [  5.00000000e+00,   5.00000000e-01,   1.25000000e-01,\n",
       "          5.00000000e+01],\n",
       "       [  5.00000000e+00,   5.00000000e-01,   1.25000000e-01,\n",
       "          5.00000000e+02],\n",
       "       [  5.00000000e+00,   5.00000000e-01,   1.25000000e-01,\n",
       "          5.00000000e+03],\n",
       "       [  5.00000000e+00,   5.00000000e-01,   1.25000000e-01,\n",
       "          5.00000000e+01],\n",
       "       [  5.00000000e+00,   5.00000000e-01,   1.25000000e-01,\n",
       "          5.00000000e+02],\n",
       "       [  5.00000000e+00,   5.00000000e-01,   1.25000000e-01,\n",
       "          5.00000000e+03],\n",
       "       [  5.00000000e+00,   5.00000000e-01,   1.25000000e-01,\n",
       "          5.00000000e+01],\n",
       "       [  5.00000000e+00,   5.00000000e-01,   1.25000000e-01,\n",
       "          5.00000000e+02],\n",
       "       [  5.00000000e+00,   5.00000000e-01,   1.25000000e-01,\n",
       "          5.00000000e+03],\n",
       "       [  5.00000000e+00,   5.00000000e-01,   1.25000000e-01,\n",
       "          5.00000000e+01],\n",
       "       [  5.00000000e+00,   5.00000000e-01,   1.25000000e-01,\n",
       "          5.00000000e+02],\n",
       "       [  5.00000000e+00,   5.00000000e-01,   1.25000000e-01,\n",
       "          5.00000000e+03],\n",
       "       [  5.00000000e+00,   5.00000000e-01,   1.25000000e-01,\n",
       "          5.00000000e+01],\n",
       "       [  5.00000000e+00,   5.00000000e-01,   1.25000000e-01,\n",
       "          5.00000000e+02],\n",
       "       [  5.00000000e+00,   5.00000000e-01,   1.25000000e-01,\n",
       "          5.00000000e+03],\n",
       "       [  5.00000000e+00,   5.00000000e+00,   1.25000000e+00,\n",
       "          5.00000000e+01],\n",
       "       [  5.00000000e+00,   5.00000000e+00,   1.25000000e+00,\n",
       "          5.00000000e+02],\n",
       "       [  5.00000000e+00,   5.00000000e+00,   1.25000000e+00,\n",
       "          5.00000000e+03],\n",
       "       [  5.00000000e+00,   5.00000000e+00,   1.25000000e+00,\n",
       "          5.00000000e+01],\n",
       "       [  5.00000000e+00,   5.00000000e+00,   1.25000000e+00,\n",
       "          5.00000000e+02],\n",
       "       [  5.00000000e+00,   5.00000000e+00,   1.25000000e+00,\n",
       "          5.00000000e+03],\n",
       "       [  5.00000000e+00,   5.00000000e+00,   1.25000000e+00,\n",
       "          5.00000000e+01],\n",
       "       [  5.00000000e+00,   5.00000000e+00,   1.25000000e+00,\n",
       "          5.00000000e+02],\n",
       "       [  5.00000000e+00,   5.00000000e+00,   1.25000000e+00,\n",
       "          5.00000000e+03],\n",
       "       [  5.00000000e+00,   5.00000000e+00,   1.25000000e+00,\n",
       "          5.00000000e+01],\n",
       "       [  5.00000000e+00,   5.00000000e+00,   1.25000000e+00,\n",
       "          5.00000000e+02],\n",
       "       [  5.00000000e+00,   5.00000000e+00,   1.25000000e+00,\n",
       "          5.00000000e+03],\n",
       "       [  5.00000000e+00,   5.00000000e+00,   1.25000000e+00,\n",
       "          5.00000000e+01],\n",
       "       [  5.00000000e+00,   5.00000000e+00,   1.25000000e+00,\n",
       "          5.00000000e+02],\n",
       "       [  5.00000000e+00,   5.00000000e+00,   1.25000000e+00,\n",
       "          5.00000000e+03],\n",
       "       [  5.00000000e+00,   5.00000000e+00,   1.25000000e+00,\n",
       "          5.00000000e+01],\n",
       "       [  5.00000000e+00,   5.00000000e+00,   1.25000000e+00,\n",
       "          5.00000000e+02],\n",
       "       [  5.00000000e+00,   5.00000000e+00,   1.25000000e+00,\n",
       "          5.00000000e+03],\n",
       "       [  5.00000000e+00,   5.00000000e+01,   1.25000000e+01,\n",
       "          5.00000000e+01],\n",
       "       [  5.00000000e+00,   5.00000000e+01,   1.25000000e+01,\n",
       "          5.00000000e+02],\n",
       "       [  5.00000000e+00,   5.00000000e+01,   1.25000000e+01,\n",
       "          5.00000000e+03],\n",
       "       [  5.00000000e+00,   5.00000000e+01,   1.25000000e+01,\n",
       "          5.00000000e+01],\n",
       "       [  5.00000000e+00,   5.00000000e+01,   1.25000000e+01,\n",
       "          5.00000000e+02],\n",
       "       [  5.00000000e+00,   5.00000000e+01,   1.25000000e+01,\n",
       "          5.00000000e+03],\n",
       "       [  5.00000000e+00,   5.00000000e+01,   1.25000000e+01,\n",
       "          5.00000000e+01],\n",
       "       [  5.00000000e+00,   5.00000000e+01,   1.25000000e+01,\n",
       "          5.00000000e+02],\n",
       "       [  5.00000000e+00,   5.00000000e+01,   1.25000000e+01,\n",
       "          5.00000000e+03],\n",
       "       [  5.00000000e+00,   5.00000000e+01,   1.25000000e+01,\n",
       "          5.00000000e+01],\n",
       "       [  5.00000000e+00,   5.00000000e+01,   1.25000000e+01,\n",
       "          5.00000000e+02],\n",
       "       [  5.00000000e+00,   5.00000000e+01,   1.25000000e+01,\n",
       "          5.00000000e+03],\n",
       "       [  5.00000000e+00,   5.00000000e+01,   1.25000000e+01,\n",
       "          5.00000000e+01],\n",
       "       [  5.00000000e+00,   5.00000000e+01,   1.25000000e+01,\n",
       "          5.00000000e+02],\n",
       "       [  5.00000000e+00,   5.00000000e+01,   1.25000000e+01,\n",
       "          5.00000000e+03],\n",
       "       [  5.00000000e+00,   5.00000000e+01,   1.25000000e+01,\n",
       "          5.00000000e+01],\n",
       "       [  5.00000000e+00,   5.00000000e+01,   1.25000000e+01,\n",
       "          5.00000000e+02],\n",
       "       [  5.00000000e+00,   5.00000000e+01,   1.25000000e+01,\n",
       "          5.00000000e+03],\n",
       "       [  5.00000000e+00,   5.00000000e+01,   1.25000000e+01,\n",
       "          5.00000000e+02],\n",
       "       [  5.00000000e+00,   5.00000000e+01,   1.25000000e+01,\n",
       "          5.00000000e+03],\n",
       "       [  5.00000000e+00,   5.00000000e-01,   1.25000000e-01,\n",
       "          5.00000000e+01],\n",
       "       [  5.00000000e+00,   5.00000000e+01,   1.25000000e+01,\n",
       "          5.00000000e+01],\n",
       "       [  5.00000000e+00,   5.00000000e-01,   1.25000000e-01,\n",
       "          5.00000000e+03],\n",
       "       [  5.00000000e+00,   5.00000000e+00,   1.25000000e+00,\n",
       "          5.00000000e+02],\n",
       "       [  5.00000000e+00,   5.00000000e+00,   1.25000000e+00,\n",
       "          5.00000000e+03],\n",
       "       [  5.00000000e+00,   5.00000000e-01,   1.25000000e-01,\n",
       "          5.00000000e+02],\n",
       "       [  5.00000000e+00,   5.00000000e+00,   1.25000000e+00,\n",
       "          5.00000000e+01]])"
      ]
     },
     "execution_count": 115,
     "metadata": {},
     "output_type": "execute_result"
    }
   ],
   "source": []
  },
  {
   "cell_type": "code",
   "execution_count": 116,
   "metadata": {},
   "outputs": [
    {
     "data": {
      "text/plain": [
       "array([   55.625,   505.625,  5005.625,    55.625,   505.625,  5005.625,\n",
       "          55.625,   505.625,  5005.625,    55.625,   505.625,  5005.625,\n",
       "          55.625,   505.625,  5005.625,    55.625,   505.625,  5005.625,\n",
       "          61.25 ,   511.25 ,  5011.25 ,    61.25 ,   511.25 ,  5011.25 ,\n",
       "          61.25 ,   511.25 ,  5011.25 ,    61.25 ,   511.25 ,  5011.25 ,\n",
       "          61.25 ,   511.25 ,  5011.25 ,    61.25 ,   511.25 ,  5011.25 ,\n",
       "         117.5  ,   567.5  ,  5067.5  ,   117.5  ,   567.5  ,  5067.5  ,\n",
       "         117.5  ,   567.5  ,  5067.5  ,   117.5  ,   567.5  ,  5067.5  ,\n",
       "         117.5  ,   567.5  ,  5067.5  ,   117.5  ,   567.5  ,  5067.5  ,\n",
       "         567.5  ,  5067.5  ,    55.625,   117.5  ,  5005.625,   511.25 ,\n",
       "        5011.25 ,   505.625,    61.25 ])"
      ]
     },
     "execution_count": 116,
     "metadata": {},
     "output_type": "execute_result"
    }
   ],
   "source": [
    "parmsets[:,0] + parmsets[:,1] + parmsets[:,2] + parmsets[:,3]"
   ]
  },
  {
   "cell_type": "code",
   "execution_count": 117,
   "metadata": {},
   "outputs": [
    {
     "data": {
      "text/plain": [
       "array([  5.   ,   0.5  ,   0.125,  50.   ])"
      ]
     },
     "execution_count": 117,
     "metadata": {},
     "output_type": "execute_result"
    }
   ],
   "source": [
    "parmsets[0]"
   ]
  },
  {
   "cell_type": "code",
   "execution_count": 118,
   "metadata": {},
   "outputs": [
    {
     "data": {
      "text/plain": [
       "array([  5.   ,   0.5  ,   0.125,  50.   ])"
      ]
     },
     "execution_count": 118,
     "metadata": {},
     "output_type": "execute_result"
    }
   ],
   "source": [
    "parmsets[3]"
   ]
  },
  {
   "cell_type": "code",
   "execution_count": null,
   "metadata": {
    "collapsed": true
   },
   "outputs": [],
   "source": []
  }
 ],
 "metadata": {
  "anaconda-cloud": {},
  "kernelspec": {
   "display_name": "Python [conda env:fitter]",
   "language": "python",
   "name": "conda-env-fitter-py"
  },
  "language_info": {
   "codemirror_mode": {
    "name": "ipython",
    "version": 3
   },
   "file_extension": ".py",
   "mimetype": "text/x-python",
   "name": "python",
   "nbconvert_exporter": "python",
   "pygments_lexer": "ipython3",
   "version": "3.5.3"
  }
 },
 "nbformat": 4,
 "nbformat_minor": 2
}

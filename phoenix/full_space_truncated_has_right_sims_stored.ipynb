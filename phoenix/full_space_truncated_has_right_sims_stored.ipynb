{
 "cells": [
  {
   "cell_type": "code",
   "execution_count": 1,
   "metadata": {
    "collapsed": true
   },
   "outputs": [],
   "source": [
    "import numpy as np\n",
    "import scipy as sp\n",
    "from scipy import optimize\n",
    "from scipy import stats\n",
    "import matplotlib.pyplot as plt\n",
    "import sys, copy, emcee, corner\n",
    "%matplotlib inline"
   ]
  },
  {
   "cell_type": "code",
   "execution_count": 2,
   "metadata": {
    "collapsed": true
   },
   "outputs": [],
   "source": [
    "sys.path.append('./ligbind/')\n",
    "import ligbind as lb"
   ]
  },
  {
   "cell_type": "code",
   "execution_count": 3,
   "metadata": {
    "collapsed": true
   },
   "outputs": [],
   "source": [
    "def wym_obj(guess,model,data,ligs,rtot):\n",
    "    datac = np.concatenate(data)\n",
    "    return (model(guess,ligs,rtot)-datac)\n",
    "\n",
    "def fit_wym(guess,model,data,ligs,rtot,bnds):\n",
    "        return sp.optimize.least_squares(wym_obj,guess,args=(model,data,ligs,rtot),bounds=bnds,method='trf',ftol=1e-14,gtol=1e-14,xtol=1e-14)\n",
    "    \n",
    "def wym_obj_wt(guess,model,data,ligs,rtot):\n",
    "    datac = np.concatenate(data)\n",
    "    return (model(guess,ligs,rtot)-datac)/datac\n",
    "\n",
    "def fit_wym_wt(guess,model,data,ligs,rtot,bnds):\n",
    "        return sp.optimize.least_squares(wym_obj_wt,guess,args=(model,data,ligs,rtot),bounds=bnds,method='trf',ftol=1e-14,gtol=1e-14,xtol=1e-14)"
   ]
  },
  {
   "cell_type": "code",
   "execution_count": 4,
   "metadata": {
    "collapsed": true
   },
   "outputs": [],
   "source": [
    "def wymfunc_fix(parm,lig,rtot):\n",
    "    '''\n",
    "    Model function for dimerizing, single-site receptors as derived in\n",
    "    (Wyman and Gill, Binding and Linkage, 1990) and used by\n",
    "    (Macdonald and Pike, ...EGF-binding...negative cooperativity...aggregating system, 2008).\n",
    "    Takes numpy array of parameters [k11,k21,k22,l20], numpy array of free ligand concentrations,\n",
    "    and total receptor concentration. Returns the fraction of receptor bound to ligand.\n",
    "\n",
    "    To generate a data set, iterate over an array of desired receptor concentrations, e.g.:\n",
    "    [wymfunc(parm,lig,i) for i in array_of_rtots]\n",
    "\n",
    "    For use in curve fitting an objective function for use with scipy.optimize.least_squares\n",
    "    is readily constructed as: (wymfun(parm_guess,lig,rtot) - actual_data)\n",
    "    '''\n",
    "\n",
    "    #ensure dimension/broadcasting compatibility of inputs\n",
    "    if ((rtot.ndim > 0) and (rtot.ndim != lig.ndim)):\n",
    "        rtot = rtot[:,None] #adds dimension so that it can be broadcast\n",
    "    else:\n",
    "        rtot = rtot\n",
    "\n",
    "    #unpack parameters\n",
    "    k11 = parm[0]\n",
    "    k21 = parm[1]\n",
    "    k22 = k21/4.\n",
    "    l20 = parm[2]\n",
    "\n",
    "    ### START MODEL FUNCTION ###\n",
    "\n",
    "    #calculate concentration of free (unoccupied) receptor\n",
    "    rfree = (((-1 - k11*lig)) + \\\n",
    "    ((np.square((1 + k11*lig)) + \\\n",
    "    8.*l20*rtot*(1 + k21*lig + k21*k22*(np.square(lig)))))**0.5) \\\n",
    "    / (4*l20*(1 + k21*lig + k21*k22*(np.square(lig))))\n",
    "\n",
    "    #calculate bound fraction\n",
    "    bfrac = (k11*lig + l20*k21*rfree*lig + \\\n",
    "    2*l20*k21*k22*rfree*(np.square(lig))) \\\n",
    "    / (1 + 2*l20*rfree + k11*lig + \\\n",
    "    2*l20*k21*rfree*lig + 2*l20*k21*k22*rfree*(np.square(lig)))\n",
    "\n",
    "    ### END MODEL FUNCTION ###\n",
    "\n",
    "    #flatten output\n",
    "    if ((rtot.ndim > 0) and (rtot.ndim != lig.ndim)):\n",
    "        return bfrac.flatten()\n",
    "    elif (rtot.ndim == 0):\n",
    "        return bfrac.flatten()\n",
    "    else:\n",
    "        return np.concatenate(bfrac)"
   ]
  },
  {
   "cell_type": "code",
   "execution_count": 5,
   "metadata": {
    "collapsed": true
   },
   "outputs": [],
   "source": [
    "from itertools import product\n",
    "\n",
    "def parmsetter(k1):\n",
    "    base = np.array([k1,])\n",
    "    k2s = np.array([0.1,1.,10.])*base\n",
    "    k21s = np.array([1000.,100.,10.,0.1,0.01,0.001])*base\n",
    "    ls = np.array([10.,100.,1000.])*base\n",
    "    \n",
    "    things = [base,k2s,k21s,ls]\n",
    "    \n",
    "    b = list(product(*things))\n",
    "    \n",
    "    c = np.array(b)\n",
    "    \n",
    "    c[:,2]=c[:,1]/4.\n",
    "    \n",
    "    neuts = np.array(list(set([tuple(i.tolist()) for i in c])))\n",
    "    \n",
    "    all_sets = np.concatenate([b,neuts])\n",
    "    \n",
    "    return all_sets"
   ]
  },
  {
   "cell_type": "code",
   "execution_count": 6,
   "metadata": {
    "collapsed": true
   },
   "outputs": [],
   "source": [
    "parmsets = parmsetter(5)"
   ]
  },
  {
   "cell_type": "code",
   "execution_count": 7,
   "metadata": {
    "collapsed": true
   },
   "outputs": [],
   "source": [
    "sim_n05_pre = [lb.WymSimSubset(sets=1000,reps=1,parms=i,noise=0.05) for i in parmsets]"
   ]
  },
  {
   "cell_type": "code",
   "execution_count": 8,
   "metadata": {
    "collapsed": true
   },
   "outputs": [],
   "source": [
    "low = copy.deepcopy(sim_n05_pre)\n",
    "mid = copy.deepcopy(sim_n05_pre)\n",
    "hi = copy.deepcopy(sim_n05_pre)\n",
    "\n",
    "[i.subset(0,9) for i in low];\n",
    "[i.subset(4,14) for i in mid];\n",
    "[i.subset(9,18) for i in hi];"
   ]
  },
  {
   "cell_type": "code",
   "execution_count": 9,
   "metadata": {},
   "outputs": [
    {
     "data": {
      "image/png": "[encoded data removed]",
      "text/plain": [
       "<matplotlib.figure.Figure at 0x11719a940>"
      ]
     },
     "metadata": {},
     "output_type": "display_data"
    }
   ],
   "source": [
    "for i in range(6):\n",
    "    plt.semilogx(low[0].ligs[i],low[0].meanset[0][i],'o')"
   ]
  },
  {
   "cell_type": "code",
   "execution_count": 10,
   "metadata": {
    "scrolled": true
   },
   "outputs": [
    {
     "data": {
      "image/png": "[encoded data removed]",
      "text/plain": [
       "<matplotlib.figure.Figure at 0x133282f60>"
      ]
     },
     "metadata": {},
     "output_type": "display_data"
    }
   ],
   "source": [
    "for i in range(6):\n",
    "    plt.semilogx(mid[0].ligs[i],mid[0].meanset[0][i],'o')"
   ]
  },
  {
   "cell_type": "code",
   "execution_count": 11,
   "metadata": {},
   "outputs": [
    {
     "data": {
      "image/png": "[encoded data removed]",
      "text/plain": [
       "<matplotlib.figure.Figure at 0x1335959e8>"
      ]
     },
     "metadata": {},
     "output_type": "display_data"
    }
   ],
   "source": [
    "for i in range(6):\n",
    "    plt.semilogx(hi[0].ligs[i],hi[0].meanset[0][i],'o')"
   ]
  },
  {
   "cell_type": "code",
   "execution_count": 12,
   "metadata": {
    "collapsed": true
   },
   "outputs": [],
   "source": [
    "parmsets_fix = np.array([np.append(i[0:2],i[-1]) for i in parmsets])"
   ]
  },
  {
   "cell_type": "code",
   "execution_count": 13,
   "metadata": {},
   "outputs": [
    {
     "data": {
      "text/plain": [
       "numpy.ndarray"
      ]
     },
     "execution_count": 13,
     "metadata": {},
     "output_type": "execute_result"
    }
   ],
   "source": [
    "type(parmsets_fix)"
   ]
  },
  {
   "cell_type": "code",
   "execution_count": 14,
   "metadata": {
    "collapsed": true
   },
   "outputs": [],
   "source": [
    "lsbnds = (tuple(1e-5 for i in range(4)),tuple(1e4 for i in range(4)))\n",
    "lsbnds_fix = (tuple(1e-5 for i in range(3)),tuple(1e4 for i in range(3)))"
   ]
  },
  {
   "cell_type": "code",
   "execution_count": 15,
   "metadata": {},
   "outputs": [],
   "source": [
    "#%time midtrunc_full_wt_REAL = [np.array([fit_wym_wt(parmsets[j],lb.models.wymfunc,mid[j].meanset[i],mid[j].ligs,mid[j].rtot,lsbnds) for i in range(1000)]) for j in range(len(mid))]"
   ]
  },
  {
   "cell_type": "code",
   "execution_count": 16,
   "metadata": {},
   "outputs": [],
   "source": [
    "#%time midtrunc_fix_wt_REAL = [np.array([fit_wym_wt(parmsets_fix[j],wymfunc_fix,mid[j].meanset[i],mid[j].ligs,mid[j].rtot,lsbnds_fix) for i in range(1000)]) for j in range(len(mid))]"
   ]
  },
  {
   "cell_type": "code",
   "execution_count": 17,
   "metadata": {
    "collapsed": true
   },
   "outputs": [],
   "source": [
    "#mids_fix = np.array(midtrunc_fix_wt_REAL)"
   ]
  },
  {
   "cell_type": "code",
   "execution_count": 18,
   "metadata": {
    "collapsed": true
   },
   "outputs": [],
   "source": [
    "#mids_full = np.array(midtrunc_full_wt_REAL)"
   ]
  },
  {
   "cell_type": "code",
   "execution_count": 19,
   "metadata": {},
   "outputs": [],
   "source": [
    "#%store mids_fix"
   ]
  },
  {
   "cell_type": "code",
   "execution_count": 20,
   "metadata": {},
   "outputs": [],
   "source": [
    "#%store mids_full"
   ]
  },
  {
   "cell_type": "code",
   "execution_count": 21,
   "metadata": {
    "collapsed": true
   },
   "outputs": [],
   "source": [
    "%store -r"
   ]
  },
  {
   "cell_type": "code",
   "execution_count": 41,
   "metadata": {},
   "outputs": [
    {
     "data": {
      "text/plain": [
       "array([  8.20679471e+00,   1.00000000e+04,   1.32494909e-03])"
      ]
     },
     "execution_count": 41,
     "metadata": {},
     "output_type": "execute_result"
    }
   ],
   "source": [
    "mids_fix[0][0].x"
   ]
  },
  {
   "cell_type": "code",
   "execution_count": 42,
   "metadata": {
    "collapsed": true
   },
   "outputs": [],
   "source": [
    "def ftest(fit1,fit2):\n",
    "    '''\n",
    "    fit1 is fit from simpler model\n",
    "    '''\n",
    "\n",
    "    SS1 = np.sum(np.square(fit1.fun))\n",
    "    SS2 = np.sum(np.square(fit2.fun))\n",
    "\n",
    "    DF1 = fit1.fun.shape[0] - fit1.x.shape[0]\n",
    "    DF2 = fit2.fun.shape[0] - fit2.x.shape[0]\n",
    "\n",
    "    F = ((SS1-SS2)/(DF1-DF2))/(SS2/DF2)\n",
    "\n",
    "    p = sp.stats.f.sf(F,(DF1-DF2),DF2)\n",
    "\n",
    "    return (SS1,SS2,DF1,DF2,F,p)"
   ]
  },
  {
   "cell_type": "code",
   "execution_count": 43,
   "metadata": {
    "collapsed": true
   },
   "outputs": [],
   "source": [
    "ps = np.array([np.array([ftest(mids_fix[j][i],mids_full[j][i])[-1] for i in range(1000)]) for j in range(63)])"
   ]
  },
  {
   "cell_type": "code",
   "execution_count": 44,
   "metadata": {},
   "outputs": [
    {
     "data": {
      "text/plain": [
       "array([[  5.00000000e+00,   5.00000000e-01,   5.00000000e+03,\n",
       "          5.00000000e+01],\n",
       "       [  5.00000000e+00,   5.00000000e-01,   5.00000000e+03,\n",
       "          5.00000000e+02],\n",
       "       [  5.00000000e+00,   5.00000000e-01,   5.00000000e+03,\n",
       "          5.00000000e+03],\n",
       "       [  5.00000000e+00,   5.00000000e-01,   5.00000000e+02,\n",
       "          5.00000000e+01],\n",
       "       [  5.00000000e+00,   5.00000000e-01,   5.00000000e+02,\n",
       "          5.00000000e+02],\n",
       "       [  5.00000000e+00,   5.00000000e-01,   5.00000000e+02,\n",
       "          5.00000000e+03],\n",
       "       [  5.00000000e+00,   5.00000000e-01,   5.00000000e+01,\n",
       "          5.00000000e+01],\n",
       "       [  5.00000000e+00,   5.00000000e-01,   5.00000000e+01,\n",
       "          5.00000000e+02],\n",
       "       [  5.00000000e+00,   5.00000000e-01,   5.00000000e+01,\n",
       "          5.00000000e+03],\n",
       "       [  5.00000000e+00,   5.00000000e-01,   5.00000000e-01,\n",
       "          5.00000000e+01],\n",
       "       [  5.00000000e+00,   5.00000000e-01,   5.00000000e-01,\n",
       "          5.00000000e+02],\n",
       "       [  5.00000000e+00,   5.00000000e-01,   5.00000000e-01,\n",
       "          5.00000000e+03],\n",
       "       [  5.00000000e+00,   5.00000000e-01,   5.00000000e-02,\n",
       "          5.00000000e+01],\n",
       "       [  5.00000000e+00,   5.00000000e-01,   5.00000000e-02,\n",
       "          5.00000000e+02],\n",
       "       [  5.00000000e+00,   5.00000000e-01,   5.00000000e-02,\n",
       "          5.00000000e+03],\n",
       "       [  5.00000000e+00,   5.00000000e-01,   5.00000000e-03,\n",
       "          5.00000000e+01],\n",
       "       [  5.00000000e+00,   5.00000000e-01,   5.00000000e-03,\n",
       "          5.00000000e+02],\n",
       "       [  5.00000000e+00,   5.00000000e-01,   5.00000000e-03,\n",
       "          5.00000000e+03],\n",
       "       [  5.00000000e+00,   5.00000000e+00,   5.00000000e+03,\n",
       "          5.00000000e+01],\n",
       "       [  5.00000000e+00,   5.00000000e+00,   5.00000000e+03,\n",
       "          5.00000000e+02],\n",
       "       [  5.00000000e+00,   5.00000000e+00,   5.00000000e+03,\n",
       "          5.00000000e+03],\n",
       "       [  5.00000000e+00,   5.00000000e+00,   5.00000000e+02,\n",
       "          5.00000000e+01],\n",
       "       [  5.00000000e+00,   5.00000000e+00,   5.00000000e+02,\n",
       "          5.00000000e+02],\n",
       "       [  5.00000000e+00,   5.00000000e+00,   5.00000000e+02,\n",
       "          5.00000000e+03],\n",
       "       [  5.00000000e+00,   5.00000000e+00,   5.00000000e+01,\n",
       "          5.00000000e+01],\n",
       "       [  5.00000000e+00,   5.00000000e+00,   5.00000000e+01,\n",
       "          5.00000000e+02],\n",
       "       [  5.00000000e+00,   5.00000000e+00,   5.00000000e+01,\n",
       "          5.00000000e+03],\n",
       "       [  5.00000000e+00,   5.00000000e+00,   5.00000000e-01,\n",
       "          5.00000000e+01],\n",
       "       [  5.00000000e+00,   5.00000000e+00,   5.00000000e-01,\n",
       "          5.00000000e+02],\n",
       "       [  5.00000000e+00,   5.00000000e+00,   5.00000000e-01,\n",
       "          5.00000000e+03],\n",
       "       [  5.00000000e+00,   5.00000000e+00,   5.00000000e-02,\n",
       "          5.00000000e+01],\n",
       "       [  5.00000000e+00,   5.00000000e+00,   5.00000000e-02,\n",
       "          5.00000000e+02],\n",
       "       [  5.00000000e+00,   5.00000000e+00,   5.00000000e-02,\n",
       "          5.00000000e+03],\n",
       "       [  5.00000000e+00,   5.00000000e+00,   5.00000000e-03,\n",
       "          5.00000000e+01],\n",
       "       [  5.00000000e+00,   5.00000000e+00,   5.00000000e-03,\n",
       "          5.00000000e+02],\n",
       "       [  5.00000000e+00,   5.00000000e+00,   5.00000000e-03,\n",
       "          5.00000000e+03],\n",
       "       [  5.00000000e+00,   5.00000000e+01,   5.00000000e+03,\n",
       "          5.00000000e+01],\n",
       "       [  5.00000000e+00,   5.00000000e+01,   5.00000000e+03,\n",
       "          5.00000000e+02],\n",
       "       [  5.00000000e+00,   5.00000000e+01,   5.00000000e+03,\n",
       "          5.00000000e+03],\n",
       "       [  5.00000000e+00,   5.00000000e+01,   5.00000000e+02,\n",
       "          5.00000000e+01],\n",
       "       [  5.00000000e+00,   5.00000000e+01,   5.00000000e+02,\n",
       "          5.00000000e+02],\n",
       "       [  5.00000000e+00,   5.00000000e+01,   5.00000000e+02,\n",
       "          5.00000000e+03],\n",
       "       [  5.00000000e+00,   5.00000000e+01,   5.00000000e+01,\n",
       "          5.00000000e+01],\n",
       "       [  5.00000000e+00,   5.00000000e+01,   5.00000000e+01,\n",
       "          5.00000000e+02],\n",
       "       [  5.00000000e+00,   5.00000000e+01,   5.00000000e+01,\n",
       "          5.00000000e+03],\n",
       "       [  5.00000000e+00,   5.00000000e+01,   5.00000000e-01,\n",
       "          5.00000000e+01],\n",
       "       [  5.00000000e+00,   5.00000000e+01,   5.00000000e-01,\n",
       "          5.00000000e+02],\n",
       "       [  5.00000000e+00,   5.00000000e+01,   5.00000000e-01,\n",
       "          5.00000000e+03],\n",
       "       [  5.00000000e+00,   5.00000000e+01,   5.00000000e-02,\n",
       "          5.00000000e+01],\n",
       "       [  5.00000000e+00,   5.00000000e+01,   5.00000000e-02,\n",
       "          5.00000000e+02],\n",
       "       [  5.00000000e+00,   5.00000000e+01,   5.00000000e-02,\n",
       "          5.00000000e+03],\n",
       "       [  5.00000000e+00,   5.00000000e+01,   5.00000000e-03,\n",
       "          5.00000000e+01],\n",
       "       [  5.00000000e+00,   5.00000000e+01,   5.00000000e-03,\n",
       "          5.00000000e+02],\n",
       "       [  5.00000000e+00,   5.00000000e+01,   5.00000000e-03,\n",
       "          5.00000000e+03],\n",
       "       [  5.00000000e+00,   5.00000000e+01,   1.25000000e+01,\n",
       "          5.00000000e+02],\n",
       "       [  5.00000000e+00,   5.00000000e+01,   1.25000000e+01,\n",
       "          5.00000000e+03],\n",
       "       [  5.00000000e+00,   5.00000000e-01,   1.25000000e-01,\n",
       "          5.00000000e+01],\n",
       "       [  5.00000000e+00,   5.00000000e+01,   1.25000000e+01,\n",
       "          5.00000000e+01],\n",
       "       [  5.00000000e+00,   5.00000000e-01,   1.25000000e-01,\n",
       "          5.00000000e+03],\n",
       "       [  5.00000000e+00,   5.00000000e+00,   1.25000000e+00,\n",
       "          5.00000000e+02],\n",
       "       [  5.00000000e+00,   5.00000000e+00,   1.25000000e+00,\n",
       "          5.00000000e+03],\n",
       "       [  5.00000000e+00,   5.00000000e-01,   1.25000000e-01,\n",
       "          5.00000000e+02],\n",
       "       [  5.00000000e+00,   5.00000000e+00,   1.25000000e+00,\n",
       "          5.00000000e+01]])"
      ]
     },
     "execution_count": 44,
     "metadata": {},
     "output_type": "execute_result"
    }
   ],
   "source": [
    "parmsets"
   ]
  },
  {
   "cell_type": "code",
   "execution_count": 45,
   "metadata": {
    "collapsed": true
   },
   "outputs": [],
   "source": [
    "sigs = np.array([np.sum(ps[i] < 0.05) for i in range(63)])"
   ]
  },
  {
   "cell_type": "code",
   "execution_count": 46,
   "metadata": {},
   "outputs": [
    {
     "data": {
      "text/plain": [
       "array([1000, 1000, 1000, 1000, 1000, 1000, 1000, 1000, 1000,   36,  532,\n",
       "       1000,   21,   48,  862,   15,  107, 1000,  405,  399,  387, 1000,\n",
       "       1000, 1000, 1000, 1000, 1000,  836, 1000, 1000,  998, 1000, 1000,\n",
       "       1000, 1000, 1000,    2,    1,    1,  334,  330,  294,  996, 1000,\n",
       "       1000, 1000, 1000, 1000, 1000, 1000, 1000, 1000, 1000, 1000,   57,\n",
       "         78,   22,   59,   62,   64,   61,   26,   60])"
      ]
     },
     "execution_count": 46,
     "metadata": {},
     "output_type": "execute_result"
    }
   ],
   "source": [
    "sigs"
   ]
  },
  {
   "cell_type": "code",
   "execution_count": 47,
   "metadata": {},
   "outputs": [
    {
     "data": {
      "text/plain": [
       "425.64031529512698"
      ]
     },
     "execution_count": 47,
     "metadata": {},
     "output_type": "execute_result"
    }
   ],
   "source": [
    "np.std(sigs)"
   ]
  },
  {
   "cell_type": "code",
   "execution_count": 48,
   "metadata": {
    "collapsed": true
   },
   "outputs": [],
   "source": [
    "labled_sigs = np.array([i for i in enumerate(sigs)])"
   ]
  },
  {
   "cell_type": "code",
   "execution_count": 49,
   "metadata": {},
   "outputs": [
    {
     "data": {
      "text/plain": [
       "array([[  38,    1],\n",
       "       [  37,    1],\n",
       "       [  36,    2],\n",
       "       [  15,   15],\n",
       "       [  12,   21],\n",
       "       [  56,   22],\n",
       "       [  61,   26],\n",
       "       [   9,   36],\n",
       "       [  13,   48],\n",
       "       [  54,   57],\n",
       "       [  57,   59],\n",
       "       [  62,   60],\n",
       "       [  60,   61],\n",
       "       [  58,   62],\n",
       "       [  59,   64],\n",
       "       [  55,   78],\n",
       "       [  16,  107],\n",
       "       [  41,  294],\n",
       "       [  40,  330],\n",
       "       [  39,  334],\n",
       "       [  20,  387],\n",
       "       [  19,  399],\n",
       "       [  18,  405],\n",
       "       [  10,  532],\n",
       "       [  27,  836],\n",
       "       [  14,  862],\n",
       "       [  42,  996],\n",
       "       [  30,  998],\n",
       "       [  47, 1000],\n",
       "       [  52, 1000],\n",
       "       [  45, 1000],\n",
       "       [  44, 1000],\n",
       "       [  43, 1000],\n",
       "       [  49, 1000],\n",
       "       [  50, 1000],\n",
       "       [  51, 1000],\n",
       "       [  53, 1000],\n",
       "       [  48, 1000],\n",
       "       [  46, 1000],\n",
       "       [   0, 1000],\n",
       "       [  34, 1000],\n",
       "       [   1, 1000],\n",
       "       [   2, 1000],\n",
       "       [   3, 1000],\n",
       "       [   4, 1000],\n",
       "       [   5, 1000],\n",
       "       [   6, 1000],\n",
       "       [   7, 1000],\n",
       "       [   8, 1000],\n",
       "       [  11, 1000],\n",
       "       [  35, 1000],\n",
       "       [  17, 1000],\n",
       "       [  22, 1000],\n",
       "       [  23, 1000],\n",
       "       [  24, 1000],\n",
       "       [  25, 1000],\n",
       "       [  26, 1000],\n",
       "       [  28, 1000],\n",
       "       [  29, 1000],\n",
       "       [  32, 1000],\n",
       "       [  33, 1000],\n",
       "       [  21, 1000],\n",
       "       [  31, 1000]])"
      ]
     },
     "execution_count": 49,
     "metadata": {},
     "output_type": "execute_result"
    }
   ],
   "source": [
    "labled_sigs[labled_sigs[:,1].argsort()]"
   ]
  },
  {
   "cell_type": "code",
   "execution_count": 50,
   "metadata": {},
   "outputs": [
    {
     "data": {
      "text/plain": [
       "[<matplotlib.lines.Line2D at 0x133297c88>]"
      ]
     },
     "execution_count": 50,
     "metadata": {},
     "output_type": "execute_result"
    },
    {
     "data": {
      "image/png": "[encoded data removed]",
      "text/plain": [
       "<matplotlib.figure.Figure at 0x13bdb2f98>"
      ]
     },
     "metadata": {},
     "output_type": "display_data"
    }
   ],
   "source": [
    "plt.plot(labled_sigs[:,0],labled_sigs[:,1])"
   ]
  },
  {
   "cell_type": "code",
   "execution_count": 51,
   "metadata": {
    "collapsed": true
   },
   "outputs": [],
   "source": [
    "full_from_other_sheet = np.array([19, 35, 63, 15, 41, 52, 21, 32, 54, 16, 37, 71, 15, 25, 63,  6, 33,\n",
    "       73, 69, 74, 71, 74, 54, 61, 68, 64, 66, 62, 70, 73, 60, 69, 70, 91,\n",
    "       70, 74, 64, 61, 60, 60, 60, 75, 68, 66, 75, 62, 78, 70, 57, 75, 65,\n",
    "       53, 66, 61, 69, 80, 13, 57, 60, 74, 76, 33, 59])"
   ]
  },
  {
   "cell_type": "code",
   "execution_count": 52,
   "metadata": {
    "collapsed": true
   },
   "outputs": [],
   "source": [
    "ffo = np.array([i for i in enumerate(full_from_other_sheet)])"
   ]
  },
  {
   "cell_type": "code",
   "execution_count": 53,
   "metadata": {},
   "outputs": [
    {
     "data": {
      "text/plain": [
       "[<matplotlib.lines.Line2D at 0x1335a5588>]"
      ]
     },
     "execution_count": 53,
     "metadata": {},
     "output_type": "execute_result"
    },
    {
     "data": {
      "image/png": "[encoded data removed]",
      "text/plain": [
       "<matplotlib.figure.Figure at 0x1332fc2e8>"
      ]
     },
     "metadata": {},
     "output_type": "display_data"
    }
   ],
   "source": [
    "plt.plot(labled_sigs[:,0],labled_sigs[:,1])\n",
    "plt.plot(ffo[:,0],ffo[:,1])"
   ]
  },
  {
   "cell_type": "code",
   "execution_count": 56,
   "metadata": {},
   "outputs": [
    {
     "data": {
      "text/plain": [
       "[[5.0, 0.5, 5000.0, 50.0],\n",
       " [5.0, 0.5, 5000.0, 500.0],\n",
       " [5.0, 0.5, 5000.0, 5000.0],\n",
       " [5.0, 0.5, 500.0, 50.0],\n",
       " [5.0, 0.5, 500.0, 500.0],\n",
       " [5.0, 0.5, 500.0, 5000.0],\n",
       " [5.0, 0.5, 50.0, 50.0],\n",
       " [5.0, 0.5, 50.0, 500.0],\n",
       " [5.0, 0.5, 50.0, 5000.0],\n",
       " [5.0, 0.5, 0.5, 50.0],\n",
       " [5.0, 0.5, 0.5, 500.0],\n",
       " [5.0, 0.5, 0.5, 5000.0],\n",
       " [5.0, 0.5, 0.05, 50.0],\n",
       " [5.0, 0.5, 0.05, 500.0],\n",
       " [5.0, 0.5, 0.05, 5000.0],\n",
       " [5.0, 0.5, 0.005, 50.0],\n",
       " [5.0, 0.5, 0.005, 500.0],\n",
       " [5.0, 0.5, 0.005, 5000.0],\n",
       " [5.0, 5.0, 5000.0, 50.0],\n",
       " [5.0, 5.0, 5000.0, 500.0],\n",
       " [5.0, 5.0, 5000.0, 5000.0],\n",
       " [5.0, 5.0, 500.0, 50.0],\n",
       " [5.0, 5.0, 500.0, 500.0],\n",
       " [5.0, 5.0, 500.0, 5000.0],\n",
       " [5.0, 5.0, 50.0, 50.0],\n",
       " [5.0, 5.0, 50.0, 500.0],\n",
       " [5.0, 5.0, 50.0, 5000.0],\n",
       " [5.0, 5.0, 0.5, 50.0],\n",
       " [5.0, 5.0, 0.5, 500.0],\n",
       " [5.0, 5.0, 0.5, 5000.0],\n",
       " [5.0, 5.0, 0.05, 50.0],\n",
       " [5.0, 5.0, 0.05, 500.0],\n",
       " [5.0, 5.0, 0.05, 5000.0],\n",
       " [5.0, 5.0, 0.005, 50.0],\n",
       " [5.0, 5.0, 0.005, 500.0],\n",
       " [5.0, 5.0, 0.005, 5000.0],\n",
       " [5.0, 50.0, 5000.0, 50.0],\n",
       " [5.0, 50.0, 5000.0, 500.0],\n",
       " [5.0, 50.0, 5000.0, 5000.0],\n",
       " [5.0, 50.0, 500.0, 50.0],\n",
       " [5.0, 50.0, 500.0, 500.0],\n",
       " [5.0, 50.0, 500.0, 5000.0],\n",
       " [5.0, 50.0, 50.0, 50.0],\n",
       " [5.0, 50.0, 50.0, 500.0],\n",
       " [5.0, 50.0, 50.0, 5000.0],\n",
       " [5.0, 50.0, 0.5, 50.0],\n",
       " [5.0, 50.0, 0.5, 500.0],\n",
       " [5.0, 50.0, 0.5, 5000.0],\n",
       " [5.0, 50.0, 0.05, 50.0],\n",
       " [5.0, 50.0, 0.05, 500.0],\n",
       " [5.0, 50.0, 0.05, 5000.0],\n",
       " [5.0, 50.0, 0.005, 50.0],\n",
       " [5.0, 50.0, 0.005, 500.0],\n",
       " [5.0, 50.0, 0.005, 5000.0],\n",
       " [5.0, 50.0, 12.5, 500.0],\n",
       " [5.0, 50.0, 12.5, 5000.0],\n",
       " [5.0, 0.5, 0.125, 50.0],\n",
       " [5.0, 50.0, 12.5, 50.0],\n",
       " [5.0, 0.5, 0.125, 5000.0],\n",
       " [5.0, 5.0, 1.25, 500.0],\n",
       " [5.0, 5.0, 1.25, 5000.0],\n",
       " [5.0, 0.5, 0.125, 500.0],\n",
       " [5.0, 5.0, 1.25, 50.0]]"
      ]
     },
     "execution_count": 56,
     "metadata": {},
     "output_type": "execute_result"
    }
   ],
   "source": [
    "parmsets.tolist()"
   ]
  },
  {
   "cell_type": "code",
   "execution_count": 57,
   "metadata": {},
   "outputs": [
    {
     "data": {
      "text/plain": [
       "array([  5055.5  ,   5505.5  ,  10005.5  ,    555.5  ,   1005.5  ,\n",
       "         5505.5  ,    105.5  ,    555.5  ,   5055.5  ,     56.   ,\n",
       "          506.   ,   5006.   ,     55.55 ,    505.55 ,   5005.55 ,\n",
       "           55.505,    505.505,   5005.505,   5060.   ,   5510.   ,\n",
       "        10010.   ,    560.   ,   1010.   ,   5510.   ,    110.   ,\n",
       "          560.   ,   5060.   ,     60.5  ,    510.5  ,   5010.5  ,\n",
       "           60.05 ,    510.05 ,   5010.05 ,     60.005,    510.005,\n",
       "         5010.005,   5105.   ,   5555.   ,  10055.   ,    605.   ,\n",
       "         1055.   ,   5555.   ,    155.   ,    605.   ,   5105.   ,\n",
       "          105.5  ,    555.5  ,   5055.5  ,    105.05 ,    555.05 ,\n",
       "         5055.05 ,    105.005,    555.005,   5055.005,    567.5  ,\n",
       "         5067.5  ,     55.625,    117.5  ,   5005.625,    511.25 ,\n",
       "         5011.25 ,    505.625,     61.25 ])"
      ]
     },
     "execution_count": 57,
     "metadata": {},
     "output_type": "execute_result"
    }
   ],
   "source": [
    "parmsets[:,0] + parmsets[:,1] + parmsets[:,2] + parmsets[:,3]"
   ]
  },
  {
   "cell_type": "code",
   "execution_count": 58,
   "metadata": {},
   "outputs": [
    {
     "data": {
      "text/plain": [
       "array([  5.00000000e+00,   5.00000000e-01,   5.00000000e+03,\n",
       "         5.00000000e+01])"
      ]
     },
     "execution_count": 58,
     "metadata": {},
     "output_type": "execute_result"
    }
   ],
   "source": [
    "parmsets[0]"
   ]
  },
  {
   "cell_type": "code",
   "execution_count": 59,
   "metadata": {},
   "outputs": [
    {
     "data": {
      "text/plain": [
       "array([   5. ,    0.5,  500. ,   50. ])"
      ]
     },
     "execution_count": 59,
     "metadata": {},
     "output_type": "execute_result"
    }
   ],
   "source": [
    "parmsets[3]"
   ]
  },
  {
   "cell_type": "code",
   "execution_count": 39,
   "metadata": {},
   "outputs": [
    {
     "name": "stdout",
     "output_type": "stream",
     "text": [
      "CPU times: user 21min 42s, sys: 4.73 s, total: 21min 46s\n",
      "Wall time: 21min 50s\n"
     ]
    }
   ],
   "source": [
    "#%time lowtrunc_full_wt_REAL = [np.array([fit_wym_wt(parmsets[j],lb.models.wymfunc,low[j].meanset[i],low[j].ligs,low[j].rtot,lsbnds) for i in range(1000)]) for j in range(len(low))]"
   ]
  },
  {
   "cell_type": "code",
   "execution_count": 40,
   "metadata": {},
   "outputs": [
    {
     "name": "stdout",
     "output_type": "stream",
     "text": [
      "CPU times: user 29min 52s, sys: 5.6 s, total: 29min 58s\n",
      "Wall time: 30min\n"
     ]
    }
   ],
   "source": [
    "#%time lowtrunc_fix_wt_REAL = [np.array([fit_wym_wt(parmsets_fix[j],wymfunc_fix,low[j].meanset[i],low[j].ligs,low[j].rtot,lsbnds_fix) for i in range(1000)]) for j in range(len(low))]"
   ]
  },
  {
   "cell_type": "code",
   "execution_count": 60,
   "metadata": {
    "collapsed": true
   },
   "outputs": [],
   "source": [
    "#low_full = np.array(lowtrunc_full_wt_REAL)"
   ]
  },
  {
   "cell_type": "code",
   "execution_count": 61,
   "metadata": {
    "collapsed": true
   },
   "outputs": [],
   "source": [
    "#low_fix = np.array(lowtrunc_fix_wt_REAL)"
   ]
  },
  {
   "cell_type": "code",
   "execution_count": 62,
   "metadata": {},
   "outputs": [
    {
     "name": "stdout",
     "output_type": "stream",
     "text": [
      "Stored 'low_full' (ndarray)\n"
     ]
    }
   ],
   "source": [
    "#%store low_full"
   ]
  },
  {
   "cell_type": "code",
   "execution_count": 63,
   "metadata": {},
   "outputs": [
    {
     "name": "stdout",
     "output_type": "stream",
     "text": [
      "Stored 'low_fix' (ndarray)\n"
     ]
    }
   ],
   "source": [
    "#%store low_fix"
   ]
  },
  {
   "cell_type": "code",
   "execution_count": 64,
   "metadata": {
    "collapsed": true
   },
   "outputs": [],
   "source": [
    "ps_low = np.array([np.array([ftest(low_fix[j][i],low_full[j][i])[-1] for i in range(1000)]) for j in range(63)])"
   ]
  },
  {
   "cell_type": "code",
   "execution_count": 66,
   "metadata": {
    "collapsed": true
   },
   "outputs": [],
   "source": [
    "sigs_low = np.array([np.sum(ps_low[i] < 0.05) for i in range(63)])"
   ]
  },
  {
   "cell_type": "code",
   "execution_count": 67,
   "metadata": {},
   "outputs": [
    {
     "data": {
      "text/plain": [
       "array([1000, 1000, 1000, 1000, 1000, 1000, 1000, 1000, 1000,   40,  128,\n",
       "        643,   15,   15,   32,   19,    9,   37, 1000, 1000, 1000, 1000,\n",
       "       1000, 1000, 1000, 1000, 1000,  573,  997, 1000,  936, 1000, 1000,\n",
       "        959, 1000, 1000, 1000, 1000, 1000, 1000, 1000, 1000, 1000, 1000,\n",
       "       1000, 1000, 1000, 1000, 1000, 1000, 1000, 1000, 1000, 1000,   57,\n",
       "         66,   19,   49,   30,   51,   59,   19,   42])"
      ]
     },
     "execution_count": 67,
     "metadata": {},
     "output_type": "execute_result"
    }
   ],
   "source": [
    "sigs_low"
   ]
  },
  {
   "cell_type": "code",
   "execution_count": 69,
   "metadata": {},
   "outputs": [
    {
     "data": {
      "text/plain": [
       "[<matplotlib.lines.Line2D at 0x1469a4240>]"
      ]
     },
     "execution_count": 69,
     "metadata": {},
     "output_type": "execute_result"
    },
    {
     "data": {
      "image/png": "[encoded data removed]",
      "text/plain": [
       "<matplotlib.figure.Figure at 0x1469a4668>"
      ]
     },
     "metadata": {},
     "output_type": "display_data"
    }
   ],
   "source": [
    "plt.plot(sigs_low)\n",
    "plt.plot(sigs)"
   ]
  },
  {
   "cell_type": "code",
   "execution_count": null,
   "metadata": {
    "collapsed": true
   },
   "outputs": [],
   "source": []
  }
 ],
 "metadata": {
  "anaconda-cloud": {},
  "kernelspec": {
   "display_name": "Python [conda env:fitter]",
   "language": "python",
   "name": "conda-env-fitter-py"
  },
  "language_info": {
   "codemirror_mode": {
    "name": "ipython",
    "version": 3
   },
   "file_extension": ".py",
   "mimetype": "text/x-python",
   "name": "python",
   "nbconvert_exporter": "python",
   "pygments_lexer": "ipython3",
   "version": "3.5.3"
  }
 },
 "nbformat": 4,
 "nbformat_minor": 2
}

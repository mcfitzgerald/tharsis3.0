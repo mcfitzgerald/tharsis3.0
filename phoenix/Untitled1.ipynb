{
 "cells": [
  {
   "cell_type": "code",
   "execution_count": 2,
   "metadata": {},
   "outputs": [],
   "source": [
    "import numpy as np\n",
    "import scipy as sp\n",
    "from scipy import optimize\n",
    "from scipy import stats\n",
    "import matplotlib.pyplot as plt\n",
    "import sys, copy, emcee, corner"
   ]
  },
  {
   "cell_type": "code",
   "execution_count": 3,
   "metadata": {
    "collapsed": true
   },
   "outputs": [],
   "source": [
    "def dilser(low=0.001, limit=100., dilfactor=2.):\n",
    "    '''returns a numpy array dilution series from low to limit by dilfactor'''\n",
    "    #replace this with a generator/iterator someday\n",
    "    a = [low]\n",
    "    while a[-1] <= limit:\n",
    "        a.append(a[len(a)-1]*dilfactor)\n",
    "    return np.array(a)\n",
    "\n",
    "def k1mod(params,ligs,noise=None):\n",
    "    '''\n",
    "    theoretical model for single binding site\n",
    "    \n",
    "    returns tuple of ligand concentrations, saturation, params\n",
    "\n",
    "    params is array of binding constants\n",
    "    ligs is array of ligand concentrations\n",
    "    noise is relative percent of gaussian noise (e.g., 0.0-1.) applied to data\n",
    "    '''\n",
    "\n",
    "    k1 = params[0]\n",
    "    sat = (k1*ligs)/(1 + k1*ligs)\n",
    "\n",
    "    if noise is None:\n",
    "        return (ligs,sat)\n",
    "    else:\n",
    "        noised = np.random.normal(sat,noise*sat)\n",
    "        return (ligs,noised,params)\n",
    "\n",
    "def k2mod(params,ligs,noise=None):\n",
    "    '''\n",
    "    theoretical model for a two-site receptor\n",
    "    \n",
    "    returns tuple of ligand concentrations, saturation, params\n",
    "\n",
    "    params is array of binding constants\n",
    "    ligs is array of ligand concentrations\n",
    "    noise is relative percent of gaussian noise (e.g., 0.0-1.) applied to data\n",
    "    '''\n",
    "\n",
    "    k1 = params[0]\n",
    "    k2 = params[1]\n",
    "    sat = (1/2)*((k1*ligs + 2*k1*k2*(ligs**2))/(1 + k1*ligs + k1*k2*(ligs**2)))\n",
    "\n",
    "    if noise is None:\n",
    "        return (ligs,sat)\n",
    "    else:\n",
    "        noised = np.random.normal(sat,noise*sat)\n",
    "        return (ligs,noised,params)\n",
    "\n",
    "def k2mod_fix(params,ligs,noise=None):\n",
    "    '''\n",
    "    returns tuple of ligand concentrations, saturation, params\n",
    "\n",
    "    params is array of binding constants\n",
    "    ligs is array of ligand concentrations\n",
    "    noise is relative percent of gaussian noise (e.g., 0.0-1.) applied to data\n",
    "    '''\n",
    "\n",
    "    k1 = params[0]\n",
    "    k2 = params[0]/4\n",
    "    sat = (1/2)*((k1*ligs + 2*k1*k2*(ligs**2))/(1 + k1*ligs + k1*k2*(ligs**2)))\n",
    "\n",
    "    if noise is None:\n",
    "        return (ligs,sat)\n",
    "    else:\n",
    "        noised = np.random.normal(sat,noise*sat)\n",
    "        return (ligs,noised,params)\n",
    "\n",
    "def obj(guess,model,data):\n",
    "    return model(guess,data[0])[1] - data[1]\n",
    "\n",
    "def obj_wt(guess,model,data,wt):\n",
    "    return (model(guess,data[0])[1] - data[1])/(wt*data[1])\n",
    "\n",
    "def fit(data,model,guess):\n",
    "        return sp.optimize.least_squares(obj,guess,args=(model,data),ftol=1e-14,gtol=1e-14,xtol=1e-14)\n",
    "    \n",
    "def fit_wt(data,model,guess,wt):\n",
    "        return sp.optimize.least_squares(obj_wt,guess,args=(model,data,wt),ftol=1e-14,gtol=1e-14,xtol=1e-14)\n",
    "\n",
    "def ftest(fit1,fit2):\n",
    "    '''\n",
    "    fit1 is fit from simpler model\n",
    "    '''\n",
    "\n",
    "    SS1 = np.sum(np.square(fit1.fun))\n",
    "    SS2 = np.sum(np.square(fit2.fun))\n",
    "\n",
    "    DF1 = fit1.fun.shape[0] - fit1.x.shape[0]\n",
    "    DF2 = fit2.fun.shape[0] - fit2.x.shape[0]\n",
    "\n",
    "    F = ((SS1-SS2)/(DF1-DF2))/(SS2/DF2)\n",
    "\n",
    "    p = sp.stats.f.sf(F,(DF1-DF2),DF2)\n",
    "\n",
    "    return (SS1,SS2,DF1,DF2,F,p)"
   ]
  },
  {
   "cell_type": "code",
   "execution_count": 4,
   "metadata": {
    "collapsed": true
   },
   "outputs": [],
   "source": [
    "def lhood(guess,model,data):\n",
    "    '''\n",
    "    Gaussian likelihood function for simple binding models. Includes error as 'nuissance' parameter\n",
    "    guess must contain additional parameter at the last index of the array --- this is the noise parameter\n",
    "    '''\n",
    "    params = guess[:-1]\n",
    "    f = guess[-1] #noise\n",
    "    invsig2 = 1.0/((f*data[1])**2)\n",
    "    return -0.5*(np.sum((data[1] - model(params,data[0])[1])**2*invsig2 - np.log(invsig2)))\n",
    "\n",
    "def lnpri(guess,bounds):\n",
    "    assert len(bounds) == len(guess)\n",
    "    if all([bounds[i][0] <= guess[i] <= bounds[i][1] for i in range(len(bounds))]) is True:\n",
    "        return 0.0\n",
    "    else:\n",
    "        return -np.inf\n",
    "    \n",
    "def lnprob(guess,bounds,model,data):\n",
    "    lp = lnpri(guess,bounds)\n",
    "    if not np.isfinite(lp):\n",
    "        return -np.inf\n",
    "    return lp + lhood(guess,model,data)\n",
    "\n",
    "def lhood2(guess,model,data):\n",
    "    '''\n",
    "    Gaussian likelihood function for simple binding models. Includes error as 'nuissance' parameter\n",
    "    guess must contain additional parameter at the last index of the array --- this is the noise parameter\n",
    "    '''\n",
    "    params = guess[:-1]\n",
    "    f = guess[-1] #noise\n",
    "    invsig2 = 1.0/(data[1]**2 * np.exp(2*f))\n",
    "    return -0.5*(np.sum(((model(params,data[0])[1] - data[1])**2 * invsig2 - np.log(invsig2))))\n",
    "\n",
    "def lnprob2(guess,bounds,model,data):\n",
    "    lp = lnpri(guess,bounds)\n",
    "    if not np.isfinite(lp):\n",
    "        return -np.inf\n",
    "    return lp + lhood2(guess,model,data)"
   ]
  },
  {
   "cell_type": "code",
   "execution_count": 5,
   "metadata": {
    "collapsed": true
   },
   "outputs": [],
   "source": [
    "ligs = dilser()"
   ]
  },
  {
   "cell_type": "code",
   "execution_count": 31,
   "metadata": {
    "collapsed": true
   },
   "outputs": [],
   "source": [
    "k1parms = np.array([1.])\n",
    "k1datset = [k1mod(k1parms,ligs,noise=0.05) for i in range(1000)]"
   ]
  },
  {
   "cell_type": "code",
   "execution_count": 13,
   "metadata": {},
   "outputs": [
    {
     "data": {
      "text/plain": [
       "array([False, False, False, False, False, False, False, False, False,\n",
       "       False, False, False, False, False, False, False, False, False], dtype=bool)"
      ]
     },
     "execution_count": 13,
     "metadata": {},
     "output_type": "execute_result"
    }
   ],
   "source": [
    "k1datset[0][1] == k1datset[1][1]"
   ]
  },
  {
   "cell_type": "code",
   "execution_count": 14,
   "metadata": {
    "collapsed": true
   },
   "outputs": [],
   "source": [
    "nll = lambda *args: -lhood(*args)"
   ]
  },
  {
   "cell_type": "code",
   "execution_count": 56,
   "metadata": {
    "collapsed": true
   },
   "outputs": [],
   "source": [
    "guess_fork2fit = np.array([9.,9.,0.09])\n",
    "bnds_fork2fit = ((0.01,10.),(0.01,10.),(0.001,0.1))"
   ]
  },
  {
   "cell_type": "code",
   "execution_count": 47,
   "metadata": {},
   "outputs": [],
   "source": [
    "res = np.array([sp.optimize.minimize(nll,guess_fork2fit,args=(k2mod,i),method='L-BFGS-B',bounds=bnds_fork2fit,options={'ftol':1e-14,'gtol':1e-14}).x for i in k1datset]) "
   ]
  },
  {
   "cell_type": "code",
   "execution_count": 48,
   "metadata": {},
   "outputs": [
    {
     "data": {
      "text/plain": [
       "(array([  11.,   57.,  143.,  220.,  276.,  184.,   72.,   33.,    3.,    1.]),\n",
       " array([ 0.02274079,  0.02848114,  0.0342215 ,  0.03996185,  0.04570221,\n",
       "         0.05144256,  0.05718292,  0.06292327,  0.06866363,  0.07440399,\n",
       "         0.08014434]),\n",
       " <a list of 10 Patch objects>)"
      ]
     },
     "execution_count": 48,
     "metadata": {},
     "output_type": "execute_result"
    },
    {
     "data": {
      "image/png": "[encoded data removed]",
      "text/plain": [
       "<matplotlib.figure.Figure at 0x1116c50b8>"
      ]
     },
     "metadata": {},
     "output_type": "display_data"
    }
   ],
   "source": [
    "%matplotlib inline\n",
    "plt.hist(res[:,2])"
   ]
  },
  {
   "cell_type": "code",
   "execution_count": 49,
   "metadata": {},
   "outputs": [
    {
     "data": {
      "text/plain": [
       "0.0469160966949572"
      ]
     },
     "execution_count": 49,
     "metadata": {},
     "output_type": "execute_result"
    }
   ],
   "source": [
    "np.mean(res[:,2])"
   ]
  },
  {
   "cell_type": "code",
   "execution_count": 50,
   "metadata": {},
   "outputs": [
    {
     "data": {
      "text/plain": [
       "0"
      ]
     },
     "execution_count": 50,
     "metadata": {},
     "output_type": "execute_result"
    }
   ],
   "source": [
    "np.sum((res[:,0]/res[:,1]) < 2)"
   ]
  },
  {
   "cell_type": "code",
   "execution_count": 51,
   "metadata": {},
   "outputs": [
    {
     "data": {
      "text/plain": [
       "      fun: -80.684377493262275\n",
       " hess_inv: <3x3 LbfgsInvHessProduct with dtype=float64>\n",
       "      jac: array([  5.68434189e-06,   4.26325641e-06,   1.42108547e-05])\n",
       "  message: b'CONVERGENCE: REL_REDUCTION_OF_F_<=_FACTR*EPSMCH'\n",
       "     nfev: 112\n",
       "      nit: 18\n",
       "   status: 0\n",
       "  success: True\n",
       "        x: array([ 1.95660322,  0.50087143,  0.06502202])"
      ]
     },
     "execution_count": 51,
     "metadata": {},
     "output_type": "execute_result"
    }
   ],
   "source": [
    "sp.optimize.minimize(nll,guess_fork2fit,args=(k2mod,k1datset[0]),method='L-BFGS-B',bounds=bnds_fork2fit,options={'ftol':1e-14,'gtol':1e-14})"
   ]
  },
  {
   "cell_type": "code",
   "execution_count": 53,
   "metadata": {},
   "outputs": [],
   "source": [
    "def lnpri_EXP(guess):\n",
    "    k1 = guess[0]\n",
    "    k2 = guess[1]\n",
    "    f = guess[2]\n",
    "    \n",
    "    if 0.01 < k1 < 10. and 0.01 < k2 < 10. and 0.001 < f < 0.5:\n",
    "        return 0.0\n",
    "    else:\n",
    "        return -np.inf\n",
    "    "
   ]
  },
  {
   "cell_type": "code",
   "execution_count": 57,
   "metadata": {},
   "outputs": [
    {
     "data": {
      "text/plain": [
       "0.0"
      ]
     },
     "execution_count": 57,
     "metadata": {},
     "output_type": "execute_result"
    }
   ],
   "source": [
    "lnpri_EXP(guess_fork2fit)"
   ]
  },
  {
   "cell_type": "code",
   "execution_count": 61,
   "metadata": {
    "collapsed": true
   },
   "outputs": [],
   "source": [
    "def lnprob_EXP(guess,model,data):\n",
    "    lp = lnpri_EXP(guess)\n",
    "    if not np.isfinite(lp):\n",
    "        return -np.inf\n",
    "    return lp + lhood(guess,model,data)"
   ]
  },
  {
   "cell_type": "code",
   "execution_count": 62,
   "metadata": {},
   "outputs": [
    {
     "data": {
      "text/plain": [
       "-8529.0251466493301"
      ]
     },
     "execution_count": 62,
     "metadata": {},
     "output_type": "execute_result"
    }
   ],
   "source": [
    "lnprob_EXP(guess_fork2fit,k2mod,k1datset[0])"
   ]
  },
  {
   "cell_type": "code",
   "execution_count": 63,
   "metadata": {
    "collapsed": true
   },
   "outputs": [],
   "source": [
    "ndim, nwalkers = 3, 100"
   ]
  },
  {
   "cell_type": "code",
   "execution_count": 73,
   "metadata": {},
   "outputs": [],
   "source": [
    "pos = [guess_fork2fit + 1e-2*np.random.randn(ndim) for i in range(nwalkers)]"
   ]
  },
  {
   "cell_type": "code",
   "execution_count": null,
   "metadata": {},
   "outputs": [],
   "source": []
  },
  {
   "cell_type": "code",
   "execution_count": 74,
   "metadata": {
    "collapsed": true
   },
   "outputs": [],
   "source": [
    "sampler = emcee.EnsembleSampler(nwalkers, ndim, lnprob_EXP, args=(k2mod,k1datset[0]))"
   ]
  },
  {
   "cell_type": "code",
   "execution_count": 76,
   "metadata": {},
   "outputs": [
    {
     "data": {
      "text/plain": [
       "(array([[ 2.01378845,  0.47798529,  0.07895395],\n",
       "        [ 2.03704832,  0.5095325 ,  0.07740982],\n",
       "        [ 1.995084  ,  0.44238614,  0.07514855],\n",
       "        [ 1.98200506,  0.48938863,  0.09212412],\n",
       "        [ 1.9602852 ,  0.56018334,  0.08026256],\n",
       "        [ 1.89342074,  0.53996415,  0.07590459],\n",
       "        [ 1.96818603,  0.51700491,  0.05907619],\n",
       "        [ 1.95862669,  0.62665946,  0.06488236],\n",
       "        [ 2.00438744,  0.51136249,  0.06496152],\n",
       "        [ 1.9862383 ,  0.64144575,  0.0949781 ],\n",
       "        [ 2.00823899,  0.43774362,  0.07759489],\n",
       "        [ 1.98312953,  0.54013991,  0.07527612],\n",
       "        [ 1.92518137,  0.58717768,  0.05691721],\n",
       "        [ 1.76754003,  0.51948763,  0.09211425],\n",
       "        [ 1.93646151,  0.43636819,  0.06318815],\n",
       "        [ 1.90179467,  0.47419118,  0.08765827],\n",
       "        [ 2.03309326,  0.46755057,  0.05763201],\n",
       "        [ 2.00936734,  0.66075696,  0.07441287],\n",
       "        [ 1.92539104,  0.51824537,  0.05497643],\n",
       "        [ 1.92191017,  0.52720074,  0.07102489],\n",
       "        [ 1.9295709 ,  0.40793352,  0.07287735],\n",
       "        [ 1.92906844,  0.40864984,  0.06022383],\n",
       "        [ 1.92383788,  0.53174582,  0.06874912],\n",
       "        [ 1.99906304,  0.4441885 ,  0.07744068],\n",
       "        [ 1.99946635,  0.48652736,  0.12073974],\n",
       "        [ 1.9213199 ,  0.49239079,  0.07932631],\n",
       "        [ 1.93049578,  0.53842124,  0.07633518],\n",
       "        [ 1.91992852,  0.49496957,  0.06118818],\n",
       "        [ 1.96442027,  0.57023257,  0.05525981],\n",
       "        [ 2.00378497,  0.50087791,  0.07003723],\n",
       "        [ 1.97759365,  0.57203989,  0.06814469],\n",
       "        [ 1.86374178,  0.47138197,  0.07045307],\n",
       "        [ 1.89893663,  0.6776109 ,  0.07474864],\n",
       "        [ 1.96762163,  0.61299156,  0.06359594],\n",
       "        [ 1.9884447 ,  0.4749111 ,  0.10983929],\n",
       "        [ 1.86704099,  0.59023754,  0.08597641],\n",
       "        [ 2.004539  ,  0.48988155,  0.08175764],\n",
       "        [ 1.97268411,  0.50226473,  0.06605051],\n",
       "        [ 1.99188094,  0.54795911,  0.08398574],\n",
       "        [ 2.02863112,  0.32884513,  0.0857362 ],\n",
       "        [ 1.97860927,  0.50636891,  0.08046053],\n",
       "        [ 1.92601633,  0.43398796,  0.08644642],\n",
       "        [ 1.89381248,  0.6038611 ,  0.07739449],\n",
       "        [ 1.89746169,  0.53930088,  0.05887961],\n",
       "        [ 1.98540899,  0.50690443,  0.06666697],\n",
       "        [ 1.98515363,  0.46795916,  0.05409772],\n",
       "        [ 1.95751102,  0.46497633,  0.07225633],\n",
       "        [ 2.01609851,  0.42580311,  0.08000723],\n",
       "        [ 1.95662161,  0.75921697,  0.08916176],\n",
       "        [ 2.08131024,  0.41062177,  0.08599569],\n",
       "        [ 1.91251406,  0.60593883,  0.09997953],\n",
       "        [ 1.96302942,  0.46764748,  0.06588908],\n",
       "        [ 1.98842294,  0.51717273,  0.06976904],\n",
       "        [ 2.0468722 ,  0.47370186,  0.09220531],\n",
       "        [ 2.00692046,  0.50787876,  0.08164282],\n",
       "        [ 1.93843148,  0.4206217 ,  0.07693629],\n",
       "        [ 1.88811639,  0.5329604 ,  0.07131189],\n",
       "        [ 2.01718171,  0.48920752,  0.06172623],\n",
       "        [ 2.09845939,  0.45008733,  0.08233473],\n",
       "        [ 2.007002  ,  0.731213  ,  0.07508762],\n",
       "        [ 1.9460924 ,  0.42005283,  0.07245697],\n",
       "        [ 1.98594264,  0.48446873,  0.06634974],\n",
       "        [ 2.00201882,  0.44119663,  0.07733195],\n",
       "        [ 1.93116641,  0.54315448,  0.06164199],\n",
       "        [ 1.98381036,  0.4801932 ,  0.05964276],\n",
       "        [ 1.98951576,  0.50457019,  0.11379394],\n",
       "        [ 2.09403262,  0.44661753,  0.07103648],\n",
       "        [ 1.90080629,  0.63420202,  0.08290914],\n",
       "        [ 1.93619297,  0.56391357,  0.06381074],\n",
       "        [ 1.95384349,  0.46985919,  0.07146118],\n",
       "        [ 1.77556002,  0.63047117,  0.08857912],\n",
       "        [ 1.98816487,  0.57817881,  0.06899724],\n",
       "        [ 1.92794372,  0.54271325,  0.05912686],\n",
       "        [ 2.00957479,  0.51523007,  0.06790967],\n",
       "        [ 1.92266102,  0.5662683 ,  0.08362159],\n",
       "        [ 2.01542703,  0.52780296,  0.08049324],\n",
       "        [ 1.89840703,  0.59913695,  0.05442355],\n",
       "        [ 1.87453917,  0.51310583,  0.0806459 ],\n",
       "        [ 1.93250774,  0.46577159,  0.05601009],\n",
       "        [ 1.97971495,  0.39083931,  0.05702232],\n",
       "        [ 1.90975415,  0.45084506,  0.08602562],\n",
       "        [ 1.97829025,  0.41181484,  0.07569994],\n",
       "        [ 1.91394757,  0.59260313,  0.08008467],\n",
       "        [ 1.93665001,  0.55199319,  0.06222402],\n",
       "        [ 1.93703356,  0.52696493,  0.09026376],\n",
       "        [ 2.02847736,  0.53288134,  0.10120143],\n",
       "        [ 1.95651189,  0.62055404,  0.09047933],\n",
       "        [ 1.91030809,  0.42671779,  0.06353402],\n",
       "        [ 1.94458582,  0.50362842,  0.06275813],\n",
       "        [ 1.83842886,  0.69490547,  0.06738484],\n",
       "        [ 1.92582981,  0.40595113,  0.05042314],\n",
       "        [ 2.04025931,  0.5216323 ,  0.07736432],\n",
       "        [ 1.93788941,  0.55224814,  0.07883467],\n",
       "        [ 1.95455266,  0.40568415,  0.06202767],\n",
       "        [ 1.86550841,  0.61751885,  0.0820656 ],\n",
       "        [ 2.02412474,  0.44526343,  0.0749609 ],\n",
       "        [ 1.86000402,  0.53610377,  0.06996038],\n",
       "        [ 1.78416358,  0.65667593,  0.11858888],\n",
       "        [ 1.97871449,  0.54110699,  0.0512185 ],\n",
       "        [ 1.83810551,  0.62345202,  0.07339542]]),\n",
       " array([ 79.61487936,  79.03636437,  79.96393847,  78.86140526,\n",
       "         79.72818694,  79.67197008,  80.40783558,  79.10796842,\n",
       "         80.063358  ,  77.43491402,  79.66218222,  79.99461188,\n",
       "         79.44454375,  74.73715215,  79.87315068,  78.81577712,\n",
       "         78.82521636,  77.29895659,  79.8268951 ,  80.33296071,\n",
       "         79.22968904,  78.77025231,  80.41043622,  79.81446971,\n",
       "         75.81946106,  79.82687233,  80.12007191,  80.21419053,\n",
       "         79.35848118,  80.12780243,  79.91828359,  78.42944245,\n",
       "         78.44046309,  79.20070648,  77.01409381,  78.45427016,\n",
       "         79.5494177 ,  80.61677919,  79.24832186,  77.25037445,\n",
       "         79.88444717,  78.89658011,  79.29750476,  79.58588175,\n",
       "         80.46003582,  79.68584632,  80.3789241 ,  79.33397678,\n",
       "         76.15338308,  77.55272025,  77.69453816,  80.57102485,\n",
       "         80.30972064,  78.04914751,  79.46263788,  79.48162766,\n",
       "         79.71054183,  79.72869113,  77.15811156,  75.38235234,\n",
       "         79.73738696,  80.50210868,  79.77122978,  80.38357701,\n",
       "         80.34955448,  76.58159787,  77.20610587,  78.77595585,\n",
       "         80.29864573,  80.43167151,  75.49422743,  79.61838321,\n",
       "         80.21257393,  79.93089888,  79.43218549,  79.25578239,\n",
       "         78.42248737,  78.9567746 ,  79.72580247,  78.54214102,\n",
       "         78.87479265,  79.66023361,  79.44728844,  80.3715327 ,\n",
       "         79.05427431,  77.33852518,  78.3658351 ,  79.00639413,\n",
       "         80.6269333 ,  76.70967067,  76.46093656,  78.83675794,\n",
       "         79.92353262,  79.36379775,  78.49853717,  79.58002834,\n",
       "         78.8517587 ,  74.19581051,  78.84176082,  77.89870487]),\n",
       " ('MT19937', array([ 974269224,  806969575,   60635479, 3868108924, 2221636022,\n",
       "         4232475842, 3231697705, 3502566227, 2834214580, 3229978976,\n",
       "         1213130632,  208830705, 1637665794, 2627554498, 4286160647,\n",
       "         2926087520, 2137916901,  179645448, 1585262123, 2606415553,\n",
       "         3537403408, 4165269966, 2673677682, 2512186207, 3035150074,\n",
       "         3330801129, 2881122794, 1478140444,  240219708, 2141459510,\n",
       "         3462826640, 3073042105,  340518909, 3351445253, 2773897478,\n",
       "          537323291, 2212378609, 1605224065, 3697992960, 3928985675,\n",
       "         3637890758, 3418588235, 1087686300, 2932178170, 1228223244,\n",
       "         1800433182,  198850000, 2011297920, 1917149571,  651862913,\n",
       "         3111667311, 2495902492,  787374800,  931729914, 3720648782,\n",
       "         2703878331, 1992196242, 3389517039,  677084193,  715085867,\n",
       "         1374352607, 2106722318, 3378870995, 1934361778, 3761338957,\n",
       "         1668111775, 3097008503, 2692204216,  778063782, 2775030646,\n",
       "         2041153781, 1409595127, 2392638384, 2456281878, 1903901177,\n",
       "         3072966923, 3704572687, 1850543266, 2102085088,  594360971,\n",
       "          761279981, 2703367834, 1984146267,  874779008, 1803054206,\n",
       "         2775381512, 1479496565,  506032481, 3503245100, 1269381927,\n",
       "          233657991,  946619168, 4138829772, 3140519435, 1818274061,\n",
       "         3068752020, 4076612427, 3399481619, 2652043552, 2214025177,\n",
       "         1409901723, 1819058584, 2501355763, 2976577754, 2759163563,\n",
       "         3205976233, 1075785174, 2476531652,  288264212, 2788058916,\n",
       "         3719944345, 2721159698, 1339026816, 1270336566, 3415066804,\n",
       "         3770834792, 3788021664,  823745569, 3316089589, 2255025849,\n",
       "         2827577278, 2073324083,  263817961, 1460297418, 3906188094,\n",
       "         1405613051,  709077216, 1031512272, 3729661677, 4236871544,\n",
       "         1030205259, 1389165872,  165177553, 4133710913, 4064313734,\n",
       "          945684888, 2549215731,  382082057, 3607982551, 4077069587,\n",
       "         3297615232,   97735231,  273770878, 3421349085, 2254246965,\n",
       "          955730229, 2876502119, 1006718835,  891919541, 3071733180,\n",
       "         1663315434, 3293279321, 1381275362, 3525236800,  387337309,\n",
       "         1659184625, 3109157432, 3692904532, 1265876369, 3043345029,\n",
       "         3905140529, 3448891591,  438639133, 3487487534, 1571752548,\n",
       "         3380655487, 3780691086, 1776970227,  851403396, 4187914982,\n",
       "         2990054785, 3656866206, 3638304793, 3263657230, 2832574771,\n",
       "          842819678, 1487230452, 2023087268, 3095852946,  739701888,\n",
       "          456797214, 3398333221, 2587609974,  701278441, 3539542801,\n",
       "          173781002, 3313687757, 1555376209, 1373037157, 2753260603,\n",
       "          247795763, 2664685084, 2735383866, 3823059744,  581003460,\n",
       "         3702303237, 1306413999, 1630243599,  642407006, 1710020878,\n",
       "          744078754, 1008506431, 2835166989, 4252837474,  670175353,\n",
       "          493949302, 3525413507, 2972318949, 1483398921, 3842479071,\n",
       "         1509631485, 3864997504, 2189300627,  583943231, 3919185510,\n",
       "          874890204, 1051578847, 1966961818, 2819050261, 3448220370,\n",
       "         2608854114, 4193364806, 1212556170, 3687292287,  837904284,\n",
       "         1990875247, 2541662511,  492249262,  946895827, 1760066343,\n",
       "          360839123, 1534731118,  272234001, 4043676709, 3386807903,\n",
       "          475467336,  540391354, 1732999487, 1827930201, 1926685178,\n",
       "         1393635585, 2593765823, 3381555286, 3177201390, 1216450394,\n",
       "         1734638487, 3333835201, 2147745052, 2992316565, 3675188149,\n",
       "         2094017369, 3968311826, 2629958172, 1917331393, 3636201487,\n",
       "         3738513792,  891972564,  327358916, 1460616334, 1143467283,\n",
       "         2102502921, 2439878150,  466123400,  751572680, 3570219972,\n",
       "         3361717043, 1349579381, 3897415577,  152393639, 3841598595,\n",
       "         1424978722,   45687478, 2478251062,  397193541, 2991657506,\n",
       "         1533384373, 3873136360, 3302483635, 3198685459, 3267187345,\n",
       "         2850453524, 1546715195, 1677406564, 3478023132, 3457028859,\n",
       "          193977459,  626192989, 1008893112, 1640696531,   40310259,\n",
       "         3793983134, 3194800025, 1990880360, 3284080337, 1202903198,\n",
       "         2047187867, 3882241846, 3255847353, 3810079272, 1864413169,\n",
       "          699046442,   69130545, 2883137081, 2199633926, 1970824760,\n",
       "         2751188402, 3103540254, 1212013518, 3992581166, 3864915432,\n",
       "         3542196595, 2528676565, 4062014113, 1482006985, 1209220823,\n",
       "         1534866783,  226613984, 1537844626, 1966340224,  826400743,\n",
       "         1456134438, 1072316696,  431990849,  525763789, 3271278747,\n",
       "         1521410933, 1575076120, 1267488157, 2021582749, 2124660664,\n",
       "         1986262304,  902293937, 2413827135, 1383623276, 3079132573,\n",
       "          865921698, 3641977824, 1472863600, 4065455015, 3562335605,\n",
       "          711723649, 2197313399, 2911167691, 2359710685, 2863598046,\n",
       "         3492538347,  279166564,  848504809, 2085507805, 3986587633,\n",
       "          651421688, 3567153475, 2311337406, 1833600070, 2320008342,\n",
       "         1179014843, 2864025252,  676447301, 3041336661, 1652084844,\n",
       "         1898970078,  909327247, 3966973665, 1531740313, 3849953744,\n",
       "          423203031, 3040986377, 3901661384, 1638052077, 1625062494,\n",
       "         1989288368,  877264549, 4205207020, 3294405685,  845733109,\n",
       "          757774704,  194820598, 1348991547,  221515077, 4202900914,\n",
       "         2977267209,  148091811,  290005395, 3716010754, 1672513782,\n",
       "           53120303,  409733516, 3452286974, 2721688141, 2449253794,\n",
       "         1039584926,  629509547,  204050865, 4271257352, 2456220324,\n",
       "         2384716638, 1868357041, 1776767439, 1208643081, 2119364342,\n",
       "         3392703937, 2516049983, 2844731750,  232891481, 3052149189,\n",
       "         1523602097, 2096747067, 4230253661,   11636338, 3522974890,\n",
       "           84856757, 1685584753, 2827808308, 1909845213, 3278366649,\n",
       "         1647124045, 3873075522, 2830320786, 1536362319, 1067102574,\n",
       "         4275358823,  121550782, 2129229361, 1220081000, 4048338669,\n",
       "          963208707,  990609986, 2012847446,  729433334, 3119353291,\n",
       "         2040819569, 2251693310,   56350366, 2142543441, 2592694051,\n",
       "         3474958846, 2370317486, 3814783493, 1215672819, 2879471344,\n",
       "         3064226500, 2336880140, 1183693514, 4047475648, 2349315885,\n",
       "         1850790920, 1207431479, 2680813455, 1794751403, 1490942253,\n",
       "         1615108414, 1576600359,  427805639, 4270115139, 1838956378,\n",
       "         1231413464,  731806760, 3020617174,  135476967,  383900180,\n",
       "         3231659817, 3491639134, 1263177166, 2512697652,  992051830,\n",
       "         2218951820, 3978668283, 3424853915, 2001606438, 4077823743,\n",
       "          298808507, 2621051307, 1683776449, 2183154372, 1220928513,\n",
       "         1157541486, 2593830211, 2379399875, 1494498654,  202281334,\n",
       "         1058734777,  983914982,  618732393, 3579700672,  364026801,\n",
       "          388545661, 4280803079, 3718821017, 1909204126, 3029821720,\n",
       "         2501720016, 1342073266,  752283728, 3009438814, 4193450241,\n",
       "         2892410723, 3959053282, 3769417155, 2155402797, 2531987550,\n",
       "          832152649, 3751254182, 3159825606, 1729316379, 1205494319,\n",
       "         1821211175, 3538868871,  900576752, 3171222433,  182039281,\n",
       "         1188846081, 1570272308, 1166235150, 2764929940, 1122586212,\n",
       "          389039995, 4279599454, 3624052837, 3347635027, 1257855566,\n",
       "         2842684670,  235530591, 3838544083, 4290199881, 1462978218,\n",
       "         3492599713, 1665969168, 3754211630, 2400014374, 2777072439,\n",
       "         1447778174, 2161541187, 1301222300, 3562351940, 2667063966,\n",
       "         3146078893, 2396254270,  113965995, 2609269458, 1209091612,\n",
       "         2448368764, 1368199816, 1582786749, 1032462577, 1645858915,\n",
       "          176856662, 1765652217, 2779940084, 3950434230, 3720848882,\n",
       "         1422719808,  897844086, 3507862469, 2149117186, 3910495123,\n",
       "         2653474026, 2720348868, 2194916310, 2760703741, 2356533429,\n",
       "         4016081916, 3664153509,  496098880,  319796048, 3421809048,\n",
       "         2611664161, 3076166017, 2218208232, 4090825342, 2290779598,\n",
       "          663166252, 1845142224, 3803739179, 1369265026,  278900231,\n",
       "         2274043712,  587732395, 1808490832, 2982863304, 2703511984,\n",
       "         3254067070, 4164280149, 1935484727, 1665777294, 3245326740,\n",
       "         3641444238, 3787391440, 1057898639, 2532179217, 3164992681,\n",
       "         4276839385, 1234625441, 2549280701,  877506153,   11728234,\n",
       "         1316272204, 1738111255,  958582507, 2304763698, 3947321763,\n",
       "          820217070, 1643596195,  822227963,   11191295, 3327433772,\n",
       "         2893780182, 3026921215,  575071781,  695291323, 4127276710,\n",
       "         1429451834, 2038126088, 2487369920, 4212456498, 1501241453,\n",
       "         4003279619, 3751841542,  912740963, 1610214990,   13052179,\n",
       "         1715738898, 1451979199, 3194875721, 1918224421], dtype=uint32), 25, 0, 0.0))"
      ]
     },
     "execution_count": 76,
     "metadata": {},
     "output_type": "execute_result"
    }
   ],
   "source": [
    "sampler.run_mcmc(pos, 500)"
   ]
  },
  {
   "cell_type": "code",
   "execution_count": 83,
   "metadata": {},
   "outputs": [
    {
     "data": {
      "text/plain": [
       "[<matplotlib.lines.Line2D at 0x1138f3390>,\n",
       " <matplotlib.lines.Line2D at 0x1150466d8>,\n",
       " <matplotlib.lines.Line2D at 0x115046a58>]"
      ]
     },
     "execution_count": 83,
     "metadata": {},
     "output_type": "execute_result"
    },
    {
     "data": {
      "image/png": "[encoded data removed]",
      "text/plain": [
       "<matplotlib.figure.Figure at 0x11428ceb8>"
      ]
     },
     "metadata": {},
     "output_type": "display_data"
    }
   ],
   "source": [
    "plt.plot(sampler.chain[:,1,:])"
   ]
  },
  {
   "cell_type": "code",
   "execution_count": 84,
   "metadata": {
    "collapsed": true
   },
   "outputs": [],
   "source": [
    "samples = sampler.chain[:, 50:, :].reshape((-1, ndim))"
   ]
  },
  {
   "cell_type": "code",
   "execution_count": 87,
   "metadata": {},
   "outputs": [
    {
     "data": {
      "text/plain": [
       "(array([ 80285.,   2933.,   1592.,   1136.,   1059.,    908.,   1019.,\n",
       "          1084.,   2374.,   2610.]),\n",
       " array([ 0.0279716 ,  1.02288652,  2.01780144,  3.01271636,  4.00763128,\n",
       "         5.0025462 ,  5.99746112,  6.99237604,  7.98729096,  8.98220588,\n",
       "         9.97712081]),\n",
       " <a list of 10 Patch objects>)"
      ]
     },
     "execution_count": 87,
     "metadata": {},
     "output_type": "execute_result"
    },
    {
     "data": {
      "image/png": "[encoded data removed]",
      "text/plain": [
       "<matplotlib.figure.Figure at 0x11500c4e0>"
      ]
     },
     "metadata": {},
     "output_type": "display_data"
    }
   ],
   "source": [
    "plt.hist(samples[:,1])"
   ]
  },
  {
   "cell_type": "code",
   "execution_count": 91,
   "metadata": {},
   "outputs": [
    {
     "ename": "NameError",
     "evalue": "name 'MaxNLocator' is not defined",
     "output_type": "error",
     "traceback": [
      "\u001b[0;31m---------------------------------------------------------------------------\u001b[0m",
      "\u001b[0;31mNameError\u001b[0m                                 Traceback (most recent call last)",
      "\u001b[0;32m<ipython-input-91-2179d23ceae0>\u001b[0m in \u001b[0;36m<module>\u001b[0;34m()\u001b[0m\n\u001b[1;32m      2\u001b[0m \u001b[0mfig\u001b[0m\u001b[0;34m,\u001b[0m \u001b[0maxes\u001b[0m \u001b[0;34m=\u001b[0m \u001b[0mplt\u001b[0m\u001b[0;34m.\u001b[0m\u001b[0msubplots\u001b[0m\u001b[0;34m(\u001b[0m\u001b[0;36m3\u001b[0m\u001b[0;34m,\u001b[0m \u001b[0;36m1\u001b[0m\u001b[0;34m,\u001b[0m \u001b[0msharex\u001b[0m\u001b[0;34m=\u001b[0m\u001b[0;32mTrue\u001b[0m\u001b[0;34m,\u001b[0m \u001b[0mfigsize\u001b[0m\u001b[0;34m=\u001b[0m\u001b[0;34m(\u001b[0m\u001b[0;36m8\u001b[0m\u001b[0;34m,\u001b[0m \u001b[0;36m9\u001b[0m\u001b[0;34m)\u001b[0m\u001b[0;34m)\u001b[0m\u001b[0;34m\u001b[0m\u001b[0m\n\u001b[1;32m      3\u001b[0m \u001b[0maxes\u001b[0m\u001b[0;34m[\u001b[0m\u001b[0;36m0\u001b[0m\u001b[0;34m]\u001b[0m\u001b[0;34m.\u001b[0m\u001b[0mplot\u001b[0m\u001b[0;34m(\u001b[0m\u001b[0msampler\u001b[0m\u001b[0;34m.\u001b[0m\u001b[0mchain\u001b[0m\u001b[0;34m[\u001b[0m\u001b[0;34m:\u001b[0m\u001b[0;34m,\u001b[0m \u001b[0;34m:\u001b[0m\u001b[0;34m,\u001b[0m \u001b[0;36m0\u001b[0m\u001b[0;34m]\u001b[0m\u001b[0;34m.\u001b[0m\u001b[0mT\u001b[0m\u001b[0;34m,\u001b[0m \u001b[0mcolor\u001b[0m\u001b[0;34m=\u001b[0m\u001b[0;34m\"k\"\u001b[0m\u001b[0;34m,\u001b[0m \u001b[0malpha\u001b[0m\u001b[0;34m=\u001b[0m\u001b[0;36m0.4\u001b[0m\u001b[0;34m)\u001b[0m\u001b[0;34m\u001b[0m\u001b[0m\n\u001b[0;32m----> 4\u001b[0;31m \u001b[0maxes\u001b[0m\u001b[0;34m[\u001b[0m\u001b[0;36m0\u001b[0m\u001b[0;34m]\u001b[0m\u001b[0;34m.\u001b[0m\u001b[0myaxis\u001b[0m\u001b[0;34m.\u001b[0m\u001b[0mset_major_locator\u001b[0m\u001b[0;34m(\u001b[0m\u001b[0mMaxNLocator\u001b[0m\u001b[0;34m(\u001b[0m\u001b[0;36m5\u001b[0m\u001b[0;34m)\u001b[0m\u001b[0;34m)\u001b[0m\u001b[0;34m\u001b[0m\u001b[0m\n\u001b[0m\u001b[1;32m      5\u001b[0m \u001b[0maxes\u001b[0m\u001b[0;34m[\u001b[0m\u001b[0;36m0\u001b[0m\u001b[0;34m]\u001b[0m\u001b[0;34m.\u001b[0m\u001b[0maxhline\u001b[0m\u001b[0;34m(\u001b[0m\u001b[0mm_true\u001b[0m\u001b[0;34m,\u001b[0m \u001b[0mcolor\u001b[0m\u001b[0;34m=\u001b[0m\u001b[0;34m\"#888888\"\u001b[0m\u001b[0;34m,\u001b[0m \u001b[0mlw\u001b[0m\u001b[0;34m=\u001b[0m\u001b[0;36m2\u001b[0m\u001b[0;34m)\u001b[0m\u001b[0;34m\u001b[0m\u001b[0m\n\u001b[1;32m      6\u001b[0m \u001b[0maxes\u001b[0m\u001b[0;34m[\u001b[0m\u001b[0;36m0\u001b[0m\u001b[0;34m]\u001b[0m\u001b[0;34m.\u001b[0m\u001b[0mset_ylabel\u001b[0m\u001b[0;34m(\u001b[0m\u001b[0;34m\"$m$\"\u001b[0m\u001b[0;34m)\u001b[0m\u001b[0;34m\u001b[0m\u001b[0m\n",
      "\u001b[0;31mNameError\u001b[0m: name 'MaxNLocator' is not defined"
     ]
    },
    {
     "data": {
      "text/plain": [
       "<matplotlib.figure.Figure at 0x115c71b00>"
      ]
     },
     "metadata": {},
     "output_type": "display_data"
    },
    {
     "data": {
      "image/png": "[encoded data removed]",
      "text/plain": [
       "<matplotlib.figure.Figure at 0x115c71ac8>"
      ]
     },
     "metadata": {},
     "output_type": "display_data"
    }
   ],
   "source": [
    "plt.clf()\n",
    "fig, axes = plt.subplots(3, 1, sharex=True, figsize=(8, 9))\n",
    "axes[0].plot(sampler.chain[:, :, 0].T, color=\"k\", alpha=0.4)\n",
    "axes[0].yaxis.set_major_locator(MaxNLocator(5))\n",
    "axes[0].axhline(m_true, color=\"#888888\", lw=2)\n",
    "axes[0].set_ylabel(\"$m$\")\n",
    "\n",
    "axes[1].pltot(samplter.chain[:, :, 1].T, color=\"k\", alpha=0.4)\n",
    "axes[1].yaxis.set_major_locator(MaxNLocator(5))\n",
    "axes[1].axhline(b_true, color=\"#888888\", lw=2)\n",
    "axes[1].set_ylabel(\"$b$\")\n",
    "\n",
    "axes[2].pltot(np.exp(samplter.chain[:, :, 2]).T, color=\"k\", alpha=0.4)\n",
    "axes[2].yaxis.set_major_locator(MaxNLocator(5))\n",
    "axes[2].axhline(f_true, color=\"#888888\", lw=2)\n",
    "axes[2].set_ylabel(\"$f$\")\n",
    "axes[2].set_xlabel(\"step number\")"
   ]
  },
  {
   "cell_type": "code",
   "execution_count": null,
   "metadata": {
    "collapsed": true
   },
   "outputs": [],
   "source": []
  }
 ],
 "metadata": {
  "anaconda-cloud": {},
  "kernelspec": {
   "display_name": "Python [conda env:fitter]",
   "language": "python",
   "name": "conda-env-fitter-py"
  },
  "language_info": {
   "codemirror_mode": {
    "name": "ipython",
    "version": 3
   },
   "file_extension": ".py",
   "mimetype": "text/x-python",
   "name": "python",
   "nbconvert_exporter": "python",
   "pygments_lexer": "ipython3",
   "version": "3.5.3"
  }
 },
 "nbformat": 4,
 "nbformat_minor": 2
}

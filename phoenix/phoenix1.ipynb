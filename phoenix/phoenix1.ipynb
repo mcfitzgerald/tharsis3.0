{
 "cells": [
  {
   "cell_type": "code",
   "execution_count": 1,
   "metadata": {
    "collapsed": true
   },
   "outputs": [],
   "source": [
    "import numpy as np\n",
    "import scipy as sp\n",
    "import matplotlib.pyplot as plt\n",
    "import sys, copy, emcee, corner\n",
    "\n",
    "%matplotlib inline\n",
    "%load_ext autoreload\n",
    "\n",
    "sys.path.append('./ligbind/')\n",
    "import ligbind as lb"
   ]
  },
  {
   "cell_type": "code",
   "execution_count": 2,
   "metadata": {
    "collapsed": true
   },
   "outputs": [],
   "source": [
    "sim = lb.WymSim(sets=1,reps=1)"
   ]
  },
  {
   "cell_type": "code",
   "execution_count": 3,
   "metadata": {},
   "outputs": [
    {
     "data": {
      "image/png": "[encoded data removed]",
      "text/plain": [
       "<matplotlib.figure.Figure at 0x10b832c50>"
      ]
     },
     "metadata": {},
     "output_type": "display_data"
    }
   ],
   "source": [
    "lb.semlog(sim.ligs,sim.meanset[0],'.')"
   ]
  },
  {
   "cell_type": "code",
   "execution_count": 4,
   "metadata": {
    "collapsed": true
   },
   "outputs": [],
   "source": [
    "def klotz1(k1,lig):\n",
    "    return (k1*lig)/(1 + k1*lig)"
   ]
  },
  {
   "cell_type": "code",
   "execution_count": 5,
   "metadata": {},
   "outputs": [
    {
     "data": {
      "text/plain": [
       "[<matplotlib.lines.Line2D at 0x116ccf278>]"
      ]
     },
     "execution_count": 5,
     "metadata": {},
     "output_type": "execute_result"
    },
    {
     "data": {
      "image/png": "[encoded data removed]",
      "text/plain": [
       "<matplotlib.figure.Figure at 0x116a1aac8>"
      ]
     },
     "metadata": {},
     "output_type": "display_data"
    }
   ],
   "source": [
    "plt.semilogx(sim.ligs[0],klotz1(1.,sim.ligs[0]),'.')"
   ]
  },
  {
   "cell_type": "code",
   "execution_count": 33,
   "metadata": {
    "collapsed": true
   },
   "outputs": [],
   "source": [
    "def klotz2(parms,lig):\n",
    "    k1 = parms[0]\n",
    "    k2 = parms[1]\n",
    "    return (1/2)*((k1*lig + 2*k1*k2*(lig**2))/(1 + k1*lig + k1*k2*(lig**2)))"
   ]
  },
  {
   "cell_type": "code",
   "execution_count": 34,
   "metadata": {},
   "outputs": [
    {
     "data": {
      "text/plain": [
       "array([  5.09485420e-04,   1.03788272e-03,   2.15105163e-03,\n",
       "         4.60025381e-03,   1.03675778e-02,   2.51765428e-02,\n",
       "         6.60295395e-02,   1.76368591e-01,   4.09844299e-01,\n",
       "         6.96136874e-01,   8.79134372e-01,   9.55013265e-01,\n",
       "         9.82368066e-01,   9.92508974e-01,   9.96597746e-01,\n",
       "         9.98386064e-01,   9.99214994e-01,   9.99613007e-01])"
      ]
     },
     "execution_count": 34,
     "metadata": {},
     "output_type": "execute_result"
    }
   ],
   "source": [
    "klotz2(np.array([1.,10.]),sim.ligs[0])"
   ]
  },
  {
   "cell_type": "code",
   "execution_count": 8,
   "metadata": {},
   "outputs": [
    {
     "data": {
      "text/plain": [
       "[<matplotlib.lines.Line2D at 0x116ea6e48>]"
      ]
     },
     "execution_count": 8,
     "metadata": {},
     "output_type": "execute_result"
    },
    {
     "data": {
      "image/png": "[encoded data removed]",
      "text/plain": [
       "<matplotlib.figure.Figure at 0x116ea6c50>"
      ]
     },
     "metadata": {},
     "output_type": "display_data"
    }
   ],
   "source": [
    "plt.semilogx(sim.ligs[0],klotz1(1.,sim.ligs[0]),'.')\n",
    "plt.semilogx(sim.ligs[0],klotz2(2.,0.5,sim.ligs[0]),'*')"
   ]
  },
  {
   "cell_type": "code",
   "execution_count": 19,
   "metadata": {},
   "outputs": [
    {
     "data": {
      "text/plain": [
       "array([  2.16840434e-19,  -4.33680869e-19,  -8.67361738e-19,\n",
       "         0.00000000e+00,   0.00000000e+00,   0.00000000e+00,\n",
       "         6.93889390e-18,  -1.38777878e-17,   2.77555756e-17,\n",
       "         5.55111512e-17,   0.00000000e+00,  -1.11022302e-16,\n",
       "         0.00000000e+00,   1.11022302e-16,  -1.11022302e-16,\n",
       "         1.11022302e-16,   1.11022302e-16,   0.00000000e+00])"
      ]
     },
     "execution_count": 19,
     "metadata": {},
     "output_type": "execute_result"
    }
   ],
   "source": [
    "klotz1(1.,sim.ligs[0]) - klotz2(2.,0.5,sim.ligs[0])"
   ]
  },
  {
   "cell_type": "code",
   "execution_count": 9,
   "metadata": {
    "collapsed": true
   },
   "outputs": [],
   "source": [
    "def ls_obj_k1(k1,ligs,data):\n",
    "    return(data - klotz1(k1,ligs))"
   ]
  },
  {
   "cell_type": "code",
   "execution_count": 14,
   "metadata": {
    "collapsed": true
   },
   "outputs": [],
   "source": [
    "ligs = sim.ligs[0]\n",
    "dat = klotz1(1.,ligs)"
   ]
  },
  {
   "cell_type": "code",
   "execution_count": 15,
   "metadata": {},
   "outputs": [
    {
     "data": {
      "text/plain": [
       "array([ 0.000999  ,  0.00199601,  0.00398406,  0.00793651,  0.01574803,\n",
       "        0.03100775,  0.06015038,  0.11347518,  0.20382166,  0.33862434,\n",
       "        0.50592885,  0.67191601,  0.80376766,  0.89120975,  0.94247584,\n",
       "        0.97038616,  0.98497054,  0.99242837])"
      ]
     },
     "execution_count": 15,
     "metadata": {},
     "output_type": "execute_result"
    }
   ],
   "source": [
    "dat"
   ]
  },
  {
   "cell_type": "code",
   "execution_count": 23,
   "metadata": {
    "collapsed": true
   },
   "outputs": [],
   "source": [
    "datnoise = np.abs(np.random.normal(dat,0.05*dat))"
   ]
  },
  {
   "cell_type": "code",
   "execution_count": 28,
   "metadata": {},
   "outputs": [
    {
     "data": {
      "text/plain": [
       "array([  6.67082692e-06,   7.63323427e-06,  -2.73581986e-04,\n",
       "         4.78324750e-04,  -1.60919508e-03,   2.60573301e-03,\n",
       "         2.27012248e-03,  -1.83740613e-03,   1.68593032e-02,\n",
       "         2.48160058e-04,  -3.54288079e-02,   9.94560838e-03,\n",
       "        -5.60563821e-02,   5.13118039e-02,  -3.89789861e-02,\n",
       "         1.74140897e-03,   3.33191538e-02,  -8.78180336e-02])"
      ]
     },
     "execution_count": 28,
     "metadata": {},
     "output_type": "execute_result"
    }
   ],
   "source": [
    "ls_obj_k1(1.,ligs,datnoise)"
   ]
  },
  {
   "cell_type": "code",
   "execution_count": 27,
   "metadata": {},
   "outputs": [
    {
     "data": {
      "text/plain": [
       "[<matplotlib.lines.Line2D at 0x117800f28>]"
      ]
     },
     "execution_count": 27,
     "metadata": {},
     "output_type": "execute_result"
    },
    {
     "data": {
      "image/png": "[encoded data removed]",
      "text/plain": [
       "<matplotlib.figure.Figure at 0x117555cf8>"
      ]
     },
     "metadata": {},
     "output_type": "display_data"
    }
   ],
   "source": [
    "plt.semilogx(ligs,datnoise,'.')"
   ]
  },
  {
   "cell_type": "code",
   "execution_count": 30,
   "metadata": {},
   "outputs": [
    {
     "data": {
      "text/plain": [
       " active_mask: array([ 0.])\n",
       "        cost: 0.0086776496708916573\n",
       "         fun: array([  4.79493450e-05,   9.00289659e-05,  -1.09432910e-04,\n",
       "         8.04075789e-04,  -9.67705161e-04,   3.85002474e-03,\n",
       "         4.61409654e-03,   2.34291009e-03,   2.36281017e-02,\n",
       "         9.64249644e-03,  -2.48694563e-02,   1.93236957e-02,\n",
       "        -4.93086435e-02,   5.54752674e-02,  -3.66457295e-02,\n",
       "         2.97964440e-03,   3.39574225e-02,  -8.74939440e-02])\n",
       "        grad: array([ -9.57228474e-09])\n",
       "         jac: array([[-0.00099809],\n",
       "       [-0.00199235],\n",
       "       [-0.0039695 ],\n",
       "       [-0.00787869],\n",
       "       [-0.01552024],\n",
       "       [-0.03012349],\n",
       "       [-0.05681464],\n",
       "       [-0.10154952],\n",
       "       [-0.16504937],\n",
       "       [-0.23036538],\n",
       "       [-0.26076359],\n",
       "       [-0.23322758],\n",
       "       [-0.16875894],\n",
       "       [-0.10451798],\n",
       "       [-0.05870241],\n",
       "       [-0.03119024],\n",
       "       [-0.01608763],\n",
       "       [-0.00817133]])\n",
       "     message: '`gtol` termination condition is satisfied.'\n",
       "        nfev: 4\n",
       "        njev: 4\n",
       "  optimality: 9.5722847420895082e-09\n",
       "      status: 1\n",
       "     success: True\n",
       "           x: array([ 0.95864059])"
      ]
     },
     "execution_count": 30,
     "metadata": {},
     "output_type": "execute_result"
    }
   ],
   "source": [
    "sp.optimize.least_squares(ls_obj_k1,1.,args=(ligs,datnoise))"
   ]
  },
  {
   "cell_type": "code",
   "execution_count": 35,
   "metadata": {
    "collapsed": true
   },
   "outputs": [],
   "source": [
    "def ls_obj_k2(parms,ligs,data):\n",
    "    return(data - klotz2(parms,ligs))"
   ]
  },
  {
   "cell_type": "code",
   "execution_count": 36,
   "metadata": {},
   "outputs": [
    {
     "data": {
      "text/plain": [
       "array([  6.67082692e-06,   7.63323427e-06,  -2.73581986e-04,\n",
       "         4.78324750e-04,  -1.60919508e-03,   2.60573301e-03,\n",
       "         2.27012248e-03,  -1.83740613e-03,   1.68593032e-02,\n",
       "         2.48160058e-04,  -3.54288079e-02,   9.94560838e-03,\n",
       "        -5.60563821e-02,   5.13118039e-02,  -3.89789861e-02,\n",
       "         1.74140897e-03,   3.33191538e-02,  -8.78180336e-02])"
      ]
     },
     "execution_count": 36,
     "metadata": {},
     "output_type": "execute_result"
    }
   ],
   "source": [
    "ls_obj_k2(np.array([2.,0.5]),ligs,datnoise)"
   ]
  },
  {
   "cell_type": "code",
   "execution_count": 40,
   "metadata": {},
   "outputs": [
    {
     "data": {
      "text/plain": [
       "0.016960421220272724"
      ]
     },
     "execution_count": 40,
     "metadata": {},
     "output_type": "execute_result"
    }
   ],
   "source": [
    "np.sum(np.square(sp.optimize.least_squares(ls_obj_k2,np.array([1.,1.]),args=(ligs,datnoise)).fun))"
   ]
  },
  {
   "cell_type": "code",
   "execution_count": 42,
   "metadata": {},
   "outputs": [
    {
     "data": {
      "text/plain": [
       "(18,)"
      ]
     },
     "execution_count": 42,
     "metadata": {},
     "output_type": "execute_result"
    }
   ],
   "source": [
    "datnoise.shape"
   ]
  },
  {
   "cell_type": "code",
   "execution_count": 43,
   "metadata": {
    "collapsed": true
   },
   "outputs": [],
   "source": [
    "datset = (ligs,datnoise)"
   ]
  },
  {
   "cell_type": "code",
   "execution_count": 45,
   "metadata": {},
   "outputs": [
    {
     "data": {
      "text/plain": [
       "[<matplotlib.lines.Line2D at 0x117acb278>]"
      ]
     },
     "execution_count": 45,
     "metadata": {},
     "output_type": "execute_result"
    },
    {
     "data": {
      "image/png": "[encoded data removed]",
      "text/plain": [
       "<matplotlib.figure.Figure at 0x117aa7cf8>"
      ]
     },
     "metadata": {},
     "output_type": "display_data"
    }
   ],
   "source": [
    "plt.semilogx(datset[0],datset[1],'.')"
   ]
  },
  {
   "cell_type": "code",
   "execution_count": 47,
   "metadata": {
    "collapsed": true
   },
   "outputs": [],
   "source": [
    "fit_klotz1 = sp.optimize.least_squares(ls_obj_k1,1.,args=(datset[0],datset[1]),ftol=1e-14)"
   ]
  },
  {
   "cell_type": "code",
   "execution_count": 49,
   "metadata": {
    "collapsed": true
   },
   "outputs": [],
   "source": [
    "fit_klotz2 = sp.optimize.least_squares(ls_obj_k2,np.array([1.,1.]),args=(datset[0],datset[1]),ftol=1e-14)"
   ]
  },
  {
   "cell_type": "code",
   "execution_count": 50,
   "metadata": {},
   "outputs": [
    {
     "data": {
      "text/plain": [
       "array([ 0.95864059])"
      ]
     },
     "execution_count": 50,
     "metadata": {},
     "output_type": "execute_result"
    }
   ],
   "source": [
    "fit_klotz1.x"
   ]
  },
  {
   "cell_type": "code",
   "execution_count": 51,
   "metadata": {},
   "outputs": [
    {
     "data": {
      "text/plain": [
       "array([ 2.09694958,  0.43890226])"
      ]
     },
     "execution_count": 51,
     "metadata": {},
     "output_type": "execute_result"
    }
   ],
   "source": [
    "fit_klotz2.x"
   ]
  },
  {
   "cell_type": "code",
   "execution_count": 53,
   "metadata": {},
   "outputs": [
    {
     "data": {
      "text/plain": [
       "(array([ 1.91728119]), array([ 0.4793203]))"
      ]
     },
     "execution_count": 53,
     "metadata": {},
     "output_type": "execute_result"
    }
   ],
   "source": [
    "(fit_klotz1.x*2, fit_klotz1.x/2)"
   ]
  },
  {
   "cell_type": "code",
   "execution_count": 56,
   "metadata": {
    "collapsed": true
   },
   "outputs": [],
   "source": [
    "SSnull = np.sum(np.square(fit_klotz1.fun))"
   ]
  },
  {
   "cell_type": "code",
   "execution_count": 57,
   "metadata": {
    "collapsed": true
   },
   "outputs": [],
   "source": [
    "SSalt = np.sum(np.square(fit_klotz2.fun))"
   ]
  },
  {
   "cell_type": "code",
   "execution_count": 58,
   "metadata": {
    "collapsed": true
   },
   "outputs": [],
   "source": [
    "DFnull = 17\n",
    "DFalt = 16"
   ]
  },
  {
   "cell_type": "code",
   "execution_count": 59,
   "metadata": {},
   "outputs": [
    {
     "data": {
      "text/plain": [
       "0.37251727785024097"
      ]
     },
     "execution_count": 59,
     "metadata": {},
     "output_type": "execute_result"
    }
   ],
   "source": [
    "((SSnull-SSalt)/SSalt)/((DFnull-DFalt)/DFalt)"
   ]
  },
  {
   "cell_type": "code",
   "execution_count": 60,
   "metadata": {},
   "outputs": [
    {
     "data": {
      "text/plain": [
       "-2.4706071680812243e-05"
      ]
     },
     "execution_count": 60,
     "metadata": {},
     "output_type": "execute_result"
    }
   ],
   "source": [
    "((SSnull-SSalt)/(DFnull-DFalt))/(SSalt-DFalt)"
   ]
  },
  {
   "cell_type": "code",
   "execution_count": 61,
   "metadata": {},
   "outputs": [
    {
     "data": {
      "text/plain": [
       "17"
      ]
     },
     "execution_count": 61,
     "metadata": {},
     "output_type": "execute_result"
    }
   ],
   "source": [
    "DFnull"
   ]
  },
  {
   "cell_type": "code",
   "execution_count": 62,
   "metadata": {},
   "outputs": [
    {
     "data": {
      "text/plain": [
       "16"
      ]
     },
     "execution_count": 62,
     "metadata": {},
     "output_type": "execute_result"
    }
   ],
   "source": [
    "DFalt"
   ]
  },
  {
   "cell_type": "code",
   "execution_count": 63,
   "metadata": {},
   "outputs": [
    {
     "data": {
      "text/plain": [
       "0.017355299341783315"
      ]
     },
     "execution_count": 63,
     "metadata": {},
     "output_type": "execute_result"
    }
   ],
   "source": [
    "SSnull"
   ]
  },
  {
   "cell_type": "code",
   "execution_count": 64,
   "metadata": {},
   "outputs": [
    {
     "data": {
      "text/plain": [
       "0.016960421220272724"
      ]
     },
     "execution_count": 64,
     "metadata": {},
     "output_type": "execute_result"
    }
   ],
   "source": [
    "SSalt"
   ]
  },
  {
   "cell_type": "code",
   "execution_count": 65,
   "metadata": {},
   "outputs": [
    {
     "data": {
      "text/plain": [
       "0.00039487812151059107"
      ]
     },
     "execution_count": 65,
     "metadata": {},
     "output_type": "execute_result"
    }
   ],
   "source": [
    "SSnull-SSalt"
   ]
  },
  {
   "cell_type": "code",
   "execution_count": 70,
   "metadata": {},
   "outputs": [
    {
     "data": {
      "text/plain": [
       "0.37251727785024097"
      ]
     },
     "execution_count": 70,
     "metadata": {},
     "output_type": "execute_result"
    }
   ],
   "source": [
    "(SSnull-SSalt)/(SSalt/DFalt)"
   ]
  },
  {
   "cell_type": "code",
   "execution_count": 74,
   "metadata": {
    "collapsed": true
   },
   "outputs": [],
   "source": [
    "from scipy import stats"
   ]
  },
  {
   "cell_type": "code",
   "execution_count": 80,
   "metadata": {},
   "outputs": [
    {
     "data": {
      "text/plain": [
       "0.55020704311728008"
      ]
     },
     "execution_count": 80,
     "metadata": {},
     "output_type": "execute_result"
    }
   ],
   "source": [
    "stats.f.sf(0.372517277,1,16)"
   ]
  },
  {
   "cell_type": "code",
   "execution_count": 82,
   "metadata": {},
   "outputs": [
    {
     "data": {
      "text/plain": [
       "array([  1.00000000e-03,   2.00000000e-03,   4.00000000e-03,\n",
       "         8.00000000e-03,   1.60000000e-02,   3.20000000e-02,\n",
       "         6.40000000e-02,   1.28000000e-01,   2.56000000e-01,\n",
       "         5.12000000e-01,   1.02400000e+00,   2.04800000e+00,\n",
       "         4.09600000e+00,   8.19200000e+00,   1.63840000e+01,\n",
       "         3.27680000e+01,   6.55360000e+01,   1.31072000e+02])"
      ]
     },
     "execution_count": 82,
     "metadata": {},
     "output_type": "execute_result"
    }
   ],
   "source": [
    "lb.dilser()"
   ]
  },
  {
   "cell_type": "code",
   "execution_count": 114,
   "metadata": {
    "collapsed": true
   },
   "outputs": [],
   "source": [
    "def k1mod(params,ligs,noise=None):\n",
    "    '''\n",
    "    returns tuple of ligand concentrations, saturation, params\n",
    "    \n",
    "    params is array of binding constants\n",
    "    ligs is array of ligand concentrations\n",
    "    noise is relative percent of gaussian noise (e.g., 0.0-1.) applied to data\n",
    "    '''\n",
    "    \n",
    "    k1 = params[0]\n",
    "    sat = (k1*ligs)/(1 + k1*ligs)\n",
    "    \n",
    "    if noise is None:\n",
    "        return (ligs,sat)\n",
    "    else:\n",
    "        noised = np.random.normal(sat,noise*sat)\n",
    "        return (ligs,noised,params)"
   ]
  },
  {
   "cell_type": "code",
   "execution_count": 106,
   "metadata": {
    "collapsed": true
   },
   "outputs": [],
   "source": [
    "ligset = lb.dilser()"
   ]
  },
  {
   "cell_type": "code",
   "execution_count": 107,
   "metadata": {},
   "outputs": [
    {
     "data": {
      "text/plain": [
       "(array([  1.00000000e-03,   2.00000000e-03,   4.00000000e-03,\n",
       "          8.00000000e-03,   1.60000000e-02,   3.20000000e-02,\n",
       "          6.40000000e-02,   1.28000000e-01,   2.56000000e-01,\n",
       "          5.12000000e-01,   1.02400000e+00,   2.04800000e+00,\n",
       "          4.09600000e+00,   8.19200000e+00,   1.63840000e+01,\n",
       "          3.27680000e+01,   6.55360000e+01,   1.31072000e+02]),\n",
       " array([  9.51713629e-04,   1.91152792e-03,   4.11128184e-03,\n",
       "          7.00564112e-03,   1.68193518e-02,   3.17893718e-02,\n",
       "          5.98707723e-02,   1.03105691e-01,   1.93125927e-01,\n",
       "          3.07959581e-01,   4.98864446e-01,   6.73099526e-01,\n",
       "          8.26889350e-01,   8.71622949e-01,   9.56594420e-01,\n",
       "          1.06377323e+00,   9.97044548e-01,   9.89505321e-01]),\n",
       " array([1]))"
      ]
     },
     "execution_count": 107,
     "metadata": {},
     "output_type": "execute_result"
    }
   ],
   "source": [
    "k1mod(np.array([1]),ligset,0.05)"
   ]
  },
  {
   "cell_type": "code",
   "execution_count": 113,
   "metadata": {
    "collapsed": true
   },
   "outputs": [],
   "source": [
    "def k2mod(params,ligs,noise=None):\n",
    "    '''\n",
    "    returns tuple of ligand concentrations, saturation, params\n",
    "    \n",
    "    params is array of binding constants\n",
    "    ligs is array of ligand concentrations\n",
    "    noise is relative percent of gaussian noise (e.g., 0.0-1.) applied to data\n",
    "    '''\n",
    "    \n",
    "    k1 = params[0]\n",
    "    k2 = params[1]\n",
    "    sat = (1/2)*((k1*ligs + 2*k1*k2*(ligs**2))/(1 + k1*ligs + k1*k2*(ligs**2)))\n",
    "    \n",
    "    if noise is None:\n",
    "        return (ligs,sat)\n",
    "    else:\n",
    "        noised = np.random.normal(sat,noise*sat)\n",
    "        return (ligs,noised,params)"
   ]
  },
  {
   "cell_type": "code",
   "execution_count": 104,
   "metadata": {},
   "outputs": [
    {
     "data": {
      "text/plain": [
       "(array([  1.00000000e-03,   2.00000000e-03,   4.00000000e-03,\n",
       "          8.00000000e-03,   1.60000000e-02,   3.20000000e-02,\n",
       "          6.40000000e-02,   1.28000000e-01,   2.56000000e-01,\n",
       "          5.12000000e-01,   1.02400000e+00,   2.04800000e+00,\n",
       "          4.09600000e+00,   8.19200000e+00,   1.63840000e+01,\n",
       "          3.27680000e+01,   6.55360000e+01,   1.31072000e+02]),\n",
       " array([  1.00886791e-03,   1.95514968e-03,   3.88070916e-03,\n",
       "          7.43906188e-03,   1.61043270e-02,   3.11128474e-02,\n",
       "          6.55123009e-02,   1.10057927e-01,   1.98768641e-01,\n",
       "          3.44796484e-01,   4.85458363e-01,   7.25403013e-01,\n",
       "          7.11380627e-01,   9.12044309e-01,   1.01303476e+00,\n",
       "          1.05459346e+00,   9.90490385e-01,   9.52146157e-01]),\n",
       " array([ 2. ,  0.5]))"
      ]
     },
     "execution_count": 104,
     "metadata": {},
     "output_type": "execute_result"
    }
   ],
   "source": [
    "k2mod(np.array([2.,.5]),ligset,0.05)"
   ]
  },
  {
   "cell_type": "code",
   "execution_count": 100,
   "metadata": {},
   "outputs": [
    {
     "data": {
      "text/plain": [
       "array([ -2.16840434e-19,   4.33680869e-19,   8.67361738e-19,\n",
       "         0.00000000e+00,   0.00000000e+00,   0.00000000e+00,\n",
       "        -6.93889390e-18,   1.38777878e-17,  -2.77555756e-17,\n",
       "        -5.55111512e-17,   0.00000000e+00,   1.11022302e-16,\n",
       "         0.00000000e+00,  -1.11022302e-16,   1.11022302e-16,\n",
       "        -1.11022302e-16,  -1.11022302e-16,   0.00000000e+00])"
      ]
     },
     "execution_count": 100,
     "metadata": {},
     "output_type": "execute_result"
    }
   ],
   "source": [
    "k2mod(np.array([2.,.5]),ligset)[1] - k1mod(np.array([1.]),ligset)[1]"
   ]
  },
  {
   "cell_type": "code",
   "execution_count": 125,
   "metadata": {
    "collapsed": true
   },
   "outputs": [],
   "source": [
    "def obj(guess,model,data):\n",
    "    return model(guess,data[0])[1] - data[1]"
   ]
  },
  {
   "cell_type": "code",
   "execution_count": 126,
   "metadata": {
    "collapsed": true
   },
   "outputs": [],
   "source": [
    "datk2 = k2mod(np.array([2.,.5]),ligset,0.05)"
   ]
  },
  {
   "cell_type": "code",
   "execution_count": 127,
   "metadata": {},
   "outputs": [
    {
     "data": {
      "text/plain": [
       "array([  1.81407676e-06,  -6.24778130e-06,   3.53775447e-07,\n",
       "        -4.81135428e-04,  -2.08601617e-04,   5.44025369e-04,\n",
       "        -2.47046544e-03,  -7.82293460e-03,  -8.01826058e-03,\n",
       "         2.54745177e-04,   2.39861586e-02,  -1.76201271e-02,\n",
       "         6.98322502e-02,   5.61857622e-02,  -9.00549070e-02,\n",
       "        -3.31911854e-02,   5.22744113e-02,   5.50557843e-02])"
      ]
     },
     "execution_count": 127,
     "metadata": {},
     "output_type": "execute_result"
    }
   ],
   "source": [
    "obj(datk2[2],k2mod,datk2)"
   ]
  },
  {
   "cell_type": "code",
   "execution_count": 135,
   "metadata": {
    "collapsed": true
   },
   "outputs": [],
   "source": [
    "def fit(data,model,guess):\n",
    "        return sp.optimize.least_squares(obj,guess,args=(model,data),ftol=1e-14,gtol=1e-14,xtol=1e-14)"
   ]
  },
  {
   "cell_type": "code",
   "execution_count": 136,
   "metadata": {},
   "outputs": [
    {
     "data": {
      "text/plain": [
       " active_mask: array([ 0.,  0.])\n",
       "        cost: 0.011207819861956984\n",
       "         fun: array([  9.56318745e-05,   1.80414352e-04,   3.69814295e-04,\n",
       "         2.42567995e-04,   1.17978035e-03,   3.09864501e-03,\n",
       "         1.85019218e-03,  -1.68808816e-03,  -2.26530488e-03,\n",
       "        -1.59097422e-04,   1.19017928e-02,  -3.89487265e-02,\n",
       "         4.79886012e-02,   3.98373067e-02,  -1.00218333e-01,\n",
       "        -3.88855445e-02,   4.92563550e-02,   5.35015699e-02])\n",
       "        grad: array([  1.01165842e-09,   6.89328726e-10])\n",
       "         jac: array([[  4.98229108e-04,   2.18143396e-06],\n",
       "       [  9.92934250e-04,   8.69727228e-06],\n",
       "       [  1.97187814e-03,   3.45623121e-05],\n",
       "       [  3.88862771e-03,   1.36461225e-04],\n",
       "       [  7.56320314e-03,   5.31933736e-04],\n",
       "       [  1.43188930e-02,   2.02240888e-03],\n",
       "       [  2.57545774e-02,   7.33238645e-03],\n",
       "       [  4.22028181e-02,   2.43785167e-02],\n",
       "       [  5.91251158e-02,   7.00023379e-02],\n",
       "       [  6.55441260e-02,   1.61044125e-01],\n",
       "       [  5.38582555e-02,   2.77258169e-01],\n",
       "       [  3.20462429e-02,   3.45786706e-01],\n",
       "       [  1.42115622e-02,   3.18524934e-01],\n",
       "       [  5.02000308e-03,   2.30820373e-01],\n",
       "       [  1.52324343e-03,   1.42199002e-01],\n",
       "       [  4.22242231e-04,   7.94850215e-02],\n",
       "       [  1.11346074e-04,   4.21047211e-02],\n",
       "       [  2.86126865e-05,   2.16804594e-02]])\n",
       "     message: '`ftol` termination condition is satisfied.'\n",
       "        nfev: 9\n",
       "        njev: 8\n",
       "  optimality: 1.0116584206638912e-09\n",
       "      status: 2\n",
       "     success: True\n",
       "           x: array([ 2.18861412,  0.41326878])"
      ]
     },
     "execution_count": 136,
     "metadata": {},
     "output_type": "execute_result"
    }
   ],
   "source": [
    "fit(datk2,k2mod,np.array([1.,1.]))"
   ]
  },
  {
   "cell_type": "code",
   "execution_count": 137,
   "metadata": {},
   "outputs": [
    {
     "data": {
      "text/plain": [
       " active_mask: array([ 0.])\n",
       "        cost: 0.011716870898387395\n",
       "         fun: array([ -4.72477083e-05,  -1.04180394e-04,  -1.94750956e-04,\n",
       "        -8.68329379e-04,  -9.71135370e-04,  -9.35230296e-04,\n",
       "        -5.25769625e-03,  -1.27958525e-02,  -1.60762031e-02,\n",
       "        -1.09408358e-02,   1.13851098e-02,  -2.88268100e-02,\n",
       "         6.17599186e-02,   5.12013295e-02,  -9.28494608e-02,\n",
       "        -3.46745793e-02,   5.15096765e-02,   5.46674551e-02])\n",
       "        grad: array([  1.31511605e-09])\n",
       "         jac: array([[ 0.0009981 ],\n",
       "       [ 0.00199241],\n",
       "       [ 0.00396975],\n",
       "       [ 0.00787967],\n",
       "       [ 0.01552406],\n",
       "       [ 0.03013808],\n",
       "       [ 0.05686811],\n",
       "       [ 0.10173033],\n",
       "       [ 0.16557978],\n",
       "       [ 0.23160426],\n",
       "       [ 0.26287791],\n",
       "       [ 0.23576199],\n",
       "       [ 0.17096867],\n",
       "       [ 0.1060428 ],\n",
       "       [ 0.05961067],\n",
       "       [ 0.03168788],\n",
       "       [ 0.01634838],\n",
       "       [ 0.00830484]])\n",
       "     message: '`ftol` termination condition is satisfied.'\n",
       "        nfev: 6\n",
       "        njev: 6\n",
       "  optimality: 1.3151160465534398e-09\n",
       "      status: 2\n",
       "     success: True\n",
       "           x: array([ 0.95084246])"
      ]
     },
     "execution_count": 137,
     "metadata": {},
     "output_type": "execute_result"
    }
   ],
   "source": [
    "fit(datk2,k1mod,np.array([1.]))"
   ]
  },
  {
   "cell_type": "code",
   "execution_count": 138,
   "metadata": {
    "collapsed": true
   },
   "outputs": [],
   "source": [
    "fittest = fit(datk2,k1mod,np.array([1.]))"
   ]
  },
  {
   "cell_type": "code",
   "execution_count": 143,
   "metadata": {},
   "outputs": [
    {
     "data": {
      "text/plain": [
       "1"
      ]
     },
     "execution_count": 143,
     "metadata": {},
     "output_type": "execute_result"
    }
   ],
   "source": [
    "fittest.x.shape[0]"
   ]
  },
  {
   "cell_type": "code",
   "execution_count": 157,
   "metadata": {
    "collapsed": true
   },
   "outputs": [],
   "source": [
    "def ftest(fit1,fit2):\n",
    "    '''\n",
    "    fit1 is fit from simpler model\n",
    "    '''\n",
    "    \n",
    "    SS1 = np.sum(np.square(fit1.fun))\n",
    "    SS2 = np.sum(np.square(fit2.fun))\n",
    "    \n",
    "    DF1 = fit1.fun.shape[0] - fit1.x.shape[0]\n",
    "    DF2 = fit2.fun.shape[0] - fit2.x.shape[0]\n",
    "    \n",
    "    F = ((SS1-SS2)/(DF1-DF2))/(SS2/DF2)\n",
    "    \n",
    "    p = sp.stats.f.sf(F,(DF1-DF2),DF2)\n",
    "    \n",
    "    print(SS1,SS2,DF1,DF2,F,p)\n",
    "        "
   ]
  },
  {
   "cell_type": "code",
   "execution_count": 147,
   "metadata": {
    "collapsed": true
   },
   "outputs": [],
   "source": [
    "fita = fit(datk2,k1mod,np.array([1.]))\n",
    "fitb = fit(datk2,k2mod,np.array([1.,1.]))"
   ]
  },
  {
   "cell_type": "code",
   "execution_count": 148,
   "metadata": {},
   "outputs": [
    {
     "data": {
      "text/plain": [
       "array([ 0.95084246])"
      ]
     },
     "execution_count": 148,
     "metadata": {},
     "output_type": "execute_result"
    }
   ],
   "source": [
    "fita.x"
   ]
  },
  {
   "cell_type": "code",
   "execution_count": 149,
   "metadata": {},
   "outputs": [
    {
     "data": {
      "text/plain": [
       "array([ 2.18861412,  0.41326878])"
      ]
     },
     "execution_count": 149,
     "metadata": {},
     "output_type": "execute_result"
    }
   ],
   "source": [
    "fitb.x"
   ]
  },
  {
   "cell_type": "code",
   "execution_count": 158,
   "metadata": {},
   "outputs": [
    {
     "name": "stdout",
     "output_type": "stream",
     "text": [
      "0.0234337417968 0.0224156397239 17 16 0.726708377116 0.406532384267\n"
     ]
    }
   ],
   "source": [
    "ftest(fita,fitb)"
   ]
  },
  {
   "cell_type": "code",
   "execution_count": 155,
   "metadata": {
    "collapsed": true
   },
   "outputs": [],
   "source": [
    "import scipy as sp"
   ]
  },
  {
   "cell_type": "code",
   "execution_count": 156,
   "metadata": {},
   "outputs": [
    {
     "data": {
      "text/plain": [
       "<module 'scipy.stats' from '/Users/michael/miniconda3/envs/fitter/lib/python3.5/site-packages/scipy/stats/__init__.py'>"
      ]
     },
     "execution_count": 156,
     "metadata": {},
     "output_type": "execute_result"
    }
   ],
   "source": [
    "sp.stats"
   ]
  },
  {
   "cell_type": "code",
   "execution_count": 168,
   "metadata": {
    "collapsed": true
   },
   "outputs": [],
   "source": [
    "datk2 = k1mod(np.array([12.]),ligset,0.1)\n",
    "fita = fit(datk2,k1mod,np.array([1.]))\n",
    "fitb = fit(datk2,k2mod,np.array([1.,1.]))"
   ]
  },
  {
   "cell_type": "code",
   "execution_count": 169,
   "metadata": {},
   "outputs": [
    {
     "name": "stdout",
     "output_type": "stream",
     "text": [
      "0.0989169112123 0.0988749242103 17 16 0.00679436205554 0.935328826885\n"
     ]
    }
   ],
   "source": [
    "ftest(fita,fitb)"
   ]
  },
  {
   "cell_type": "code",
   "execution_count": 170,
   "metadata": {},
   "outputs": [
    {
     "data": {
      "text/plain": [
       "array([ 11.98436145])"
      ]
     },
     "execution_count": 170,
     "metadata": {},
     "output_type": "execute_result"
    }
   ],
   "source": [
    "fita.x"
   ]
  },
  {
   "cell_type": "code",
   "execution_count": 171,
   "metadata": {},
   "outputs": [
    {
     "data": {
      "text/plain": [
       "array([ 23.27031876,   6.18266542])"
      ]
     },
     "execution_count": 171,
     "metadata": {},
     "output_type": "execute_result"
    }
   ],
   "source": [
    "fitb.x"
   ]
  },
  {
   "cell_type": "code",
   "execution_count": 172,
   "metadata": {},
   "outputs": [
    {
     "data": {
      "text/plain": [
       "3.7638004289605109"
      ]
     },
     "execution_count": 172,
     "metadata": {},
     "output_type": "execute_result"
    }
   ],
   "source": [
    "fitb.x[0]/fitb.x[1]"
   ]
  },
  {
   "cell_type": "code",
   "execution_count": 179,
   "metadata": {},
   "outputs": [
    {
     "data": {
      "text/plain": [
       "[<matplotlib.lines.Line2D at 0x117346390>]"
      ]
     },
     "execution_count": 179,
     "metadata": {},
     "output_type": "execute_result"
    },
    {
     "data": {
      "image/png": "[encoded data removed]",
      "text/plain": [
       "<matplotlib.figure.Figure at 0x1175b5550>"
      ]
     },
     "metadata": {},
     "output_type": "display_data"
    }
   ],
   "source": [
    "pfita = k1mod(fita.x,ligs)\n",
    "pfitb = k2mod(fitb.x,ligs)\n",
    "\n",
    "\n",
    "plt.semilogx(datk2[0],datk2[1],'.')\n",
    "plt.semilogx(pfita[0],pfita[1],'--')\n",
    "plt.semilogx(pfitb[0],pfitb[1],':')"
   ]
  },
  {
   "cell_type": "code",
   "execution_count": 182,
   "metadata": {},
   "outputs": [
    {
     "data": {
      "text/plain": [
       "[<matplotlib.lines.Line2D at 0x11a62ebe0>]"
      ]
     },
     "execution_count": 182,
     "metadata": {},
     "output_type": "execute_result"
    },
    {
     "data": {
      "image/png": "[encoded data removed]",
      "text/plain": [
       "<matplotlib.figure.Figure at 0x11a559668>"
      ]
     },
     "metadata": {},
     "output_type": "display_data"
    }
   ],
   "source": [
    "plt.plot(datk2[0],fitb.fun,'.')"
   ]
  },
  {
   "cell_type": "code",
   "execution_count": 185,
   "metadata": {
    "collapsed": true
   },
   "outputs": [],
   "source": [
    "datk1 = k1mod(np.array([1.]),ligs,0.05)"
   ]
  },
  {
   "cell_type": "code",
   "execution_count": 186,
   "metadata": {},
   "outputs": [
    {
     "data": {
      "text/plain": [
       "[<matplotlib.lines.Line2D at 0x1176e0048>]"
      ]
     },
     "execution_count": 186,
     "metadata": {},
     "output_type": "execute_result"
    },
    {
     "data": {
      "image/png": "[encoded data removed]",
      "text/plain": [
       "<matplotlib.figure.Figure at 0x1176e6390>"
      ]
     },
     "metadata": {},
     "output_type": "display_data"
    }
   ],
   "source": [
    "plt.semilogx(datk1[0],datk1[1],'.')"
   ]
  },
  {
   "cell_type": "code",
   "execution_count": 195,
   "metadata": {
    "collapsed": true
   },
   "outputs": [],
   "source": [
    "fitted = fit(datk1,k1mod,np.array([3.]))"
   ]
  },
  {
   "cell_type": "code",
   "execution_count": 196,
   "metadata": {},
   "outputs": [
    {
     "data": {
      "text/plain": [
       " active_mask: array([ 0.])\n",
       "        cost: 0.0037216650565040006\n",
       "         fun: array([  1.06649282e-04,  -5.27407627e-05,  -2.23271285e-04,\n",
       "        -9.07892208e-05,  -9.90218790e-04,  -9.91102959e-04,\n",
       "         1.69464786e-03,   8.24709373e-03,   3.93340533e-03,\n",
       "        -2.30509567e-02,   5.72186454e-04,  -2.61134986e-02,\n",
       "         3.33093103e-02,   2.15602306e-02,   6.46755490e-03,\n",
       "         5.35813739e-02,  -2.10918540e-02,   3.47754982e-02])\n",
       "        grad: array([  2.02047575e-11])\n",
       "         jac: array([[ 0.00099803],\n",
       "       [ 0.00199214],\n",
       "       [ 0.00396864],\n",
       "       [ 0.00787531],\n",
       "       [ 0.01550704],\n",
       "       [ 0.03007303],\n",
       "       [ 0.05663003],\n",
       "       [ 0.10092698],\n",
       "       [ 0.16323183],\n",
       "       [ 0.22615036],\n",
       "       [ 0.25363421],\n",
       "       [ 0.22475814],\n",
       "       [ 0.16142749],\n",
       "       [ 0.09948317],\n",
       "       [ 0.05571187],\n",
       "       [ 0.0295542 ],\n",
       "       [ 0.01523108],\n",
       "       [ 0.00773298]])\n",
       "     message: '`ftol` termination condition is satisfied.'\n",
       "        nfev: 10\n",
       "        njev: 9\n",
       "  optimality: 2.0204757517679889e-11\n",
       "      status: 2\n",
       "     success: True\n",
       "           x: array([ 0.98565027])"
      ]
     },
     "execution_count": 196,
     "metadata": {},
     "output_type": "execute_result"
    }
   ],
   "source": [
    "fitted"
   ]
  },
  {
   "cell_type": "code",
   "execution_count": 206,
   "metadata": {},
   "outputs": [
    {
     "data": {
      "text/plain": [
       "[<matplotlib.lines.Line2D at 0x11a727048>]"
      ]
     },
     "execution_count": 206,
     "metadata": {},
     "output_type": "execute_result"
    },
    {
     "data": {
      "image/png": "[encoded data removed]",
      "text/plain": [
       "<matplotlib.figure.Figure at 0x11a9dbb00>"
      ]
     },
     "metadata": {},
     "output_type": "display_data"
    }
   ],
   "source": [
    "plt.semilogx(datk1[0],fitted.fun/datk1[1],'.')"
   ]
  },
  {
   "cell_type": "code",
   "execution_count": 209,
   "metadata": {},
   "outputs": [
    {
     "data": {
      "text/plain": [
       "[<matplotlib.lines.Line2D at 0x11a9db2e8>]"
      ]
     },
     "execution_count": 209,
     "metadata": {},
     "output_type": "execute_result"
    },
    {
     "data": {
      "image/png": "[encoded data removed]",
      "text/plain": [
       "<matplotlib.figure.Figure at 0x10b2cbcf8>"
      ]
     },
     "metadata": {},
     "output_type": "display_data"
    }
   ],
   "source": [
    "plt.plot(k1mod(fita.x,ligs)[1],fitted.fun/datk1[1],'.')"
   ]
  },
  {
   "cell_type": "code",
   "execution_count": 224,
   "metadata": {},
   "outputs": [
    {
     "data": {
      "image/png": "[encoded data removed]",
      "text/plain": [
       "<matplotlib.figure.Figure at 0x11bb876d8>"
      ]
     },
     "metadata": {},
     "output_type": "display_data"
    }
   ],
   "source": [
    "pp = sp.stats.probplot(fitted.fun/datk1[1],plot=plt)"
   ]
  },
  {
   "cell_type": "code",
   "execution_count": 221,
   "metadata": {},
   "outputs": [
    {
     "data": {
      "text/plain": [
       "[<matplotlib.lines.Line2D at 0x11b7dd390>]"
      ]
     },
     "execution_count": 221,
     "metadata": {},
     "output_type": "execute_result"
    },
    {
     "data": {
      "image/png": "[encoded data removed]",
      "text/plain": [
       "<matplotlib.figure.Figure at 0x11b6c7748>"
      ]
     },
     "metadata": {},
     "output_type": "display_data"
    }
   ],
   "source": [
    "plt.plot(pp[0][0],pp[0][1],'.')"
   ]
  },
  {
   "cell_type": "code",
   "execution_count": 215,
   "metadata": {},
   "outputs": [
    {
     "data": {
      "text/plain": [
       "array([ -2.61134986e-02,  -2.30509567e-02,  -2.10918540e-02,\n",
       "        -9.91102959e-04,  -9.90218790e-04,  -2.23271285e-04,\n",
       "        -9.07892208e-05,  -5.27407627e-05,   1.06649282e-04,\n",
       "         5.72186454e-04,   1.69464786e-03,   3.93340533e-03,\n",
       "         6.46755490e-03,   8.24709373e-03,   2.15602306e-02,\n",
       "         3.33093103e-02,   3.47754982e-02,   5.35813739e-02])"
      ]
     },
     "execution_count": 215,
     "metadata": {},
     "output_type": "execute_result"
    }
   ],
   "source": [
    "pp[0][1]"
   ]
  },
  {
   "cell_type": "code",
   "execution_count": 225,
   "metadata": {
    "collapsed": true
   },
   "outputs": [],
   "source": [
    "fitted2 = fit(datk1,k2mod,np.array([3.,1.]))"
   ]
  },
  {
   "cell_type": "code",
   "execution_count": 226,
   "metadata": {},
   "outputs": [
    {
     "data": {
      "text/plain": [
       " active_mask: array([ 0.,  0.])\n",
       "        cost: 0.0034271763416231179\n",
       "         fun: array([ 0.0002166 ,  0.00016623,  0.000211  ,  0.00076328,  0.00066165,\n",
       "        0.00210009,  0.00711679,  0.01663753,  0.01412503, -0.01566429,\n",
       "       -0.0002996 , -0.03500282,  0.02211446,  0.01260056,  0.00074699,\n",
       "        0.05033853, -0.02281997,  0.03388324])\n",
       "        grad: array([ -4.35159789e-10,  -1.24445889e-09])\n",
       "         jac: array([[  4.98252565e-04,   2.18494097e-06],\n",
       "       [  9.93027423e-04,   8.71115481e-06],\n",
       "       [  1.97224591e-03,   3.46169691e-05],\n",
       "       [  3.89005954e-03,   1.36673334e-04],\n",
       "       [  7.56863232e-03,   5.32728387e-04],\n",
       "       [  1.43384293e-02,   2.02510366e-03],\n",
       "       [  2.58180857e-02,   7.33883958e-03],\n",
       "       [  4.23730417e-02,   2.43679490e-02],\n",
       "       [  5.94432408e-02,   6.97175786e-02],\n",
       "       [  6.58274831e-02,   1.58990383e-01],\n",
       "       [  5.37340697e-02,   2.69198589e-01],\n",
       "       [  3.15559417e-02,   3.27892460e-01],\n",
       "       [  1.37727150e-02,   2.94660293e-01],\n",
       "       [  4.79815419e-03,   2.09322542e-01],\n",
       "       [  1.44214422e-03,   1.27270505e-01],\n",
       "       [  3.97508948e-04,   7.05969557e-02],\n",
       "       [  1.04509411e-04,   3.72413173e-02],\n",
       "       [  2.68062611e-05,   1.91346630e-02]])\n",
       "     message: '`ftol` termination condition is satisfied.'\n",
       "        nfev: 14\n",
       "        njev: 11\n",
       "  optimality: 1.2444588866344919e-09\n",
       "      status: 2\n",
       "     success: True\n",
       "           x: array([ 2.19212701,  0.44039341])"
      ]
     },
     "execution_count": 226,
     "metadata": {},
     "output_type": "execute_result"
    }
   ],
   "source": [
    "fitted2"
   ]
  },
  {
   "cell_type": "code",
   "execution_count": 228,
   "metadata": {},
   "outputs": [
    {
     "data": {
      "text/plain": [
       "[<matplotlib.lines.Line2D at 0x11b94bba8>]"
      ]
     },
     "execution_count": 228,
     "metadata": {},
     "output_type": "execute_result"
    },
    {
     "data": {
      "image/png": "[encoded data removed]",
      "text/plain": [
       "<matplotlib.figure.Figure at 0x11b94bdd8>"
      ]
     },
     "metadata": {},
     "output_type": "display_data"
    }
   ],
   "source": [
    "plt.semilogx(datk1[0],fitted.fun/datk1[1],'.')\n",
    "plt.semilogx(datk1[0],fitted2.fun/datk1[1],'.',color='red')"
   ]
  },
  {
   "cell_type": "code",
   "execution_count": 233,
   "metadata": {},
   "outputs": [
    {
     "data": {
      "text/plain": [
       "((array([-1.77709673, -1.33087857, -1.05345661, -0.83977496, -0.6589352 ,\n",
       "         -0.49749478, -0.34812942, -0.20618578, -0.06829777,  0.06829777,\n",
       "          0.20618578,  0.34812942,  0.49749478,  0.6589352 ,  0.83977496,\n",
       "          1.05345661,  1.33087857,  1.77709673]),\n",
       "  array([ -2.61134986e-02,  -2.30509567e-02,  -2.10918540e-02,\n",
       "          -9.91102959e-04,  -9.90218790e-04,  -2.23271285e-04,\n",
       "          -9.07892208e-05,  -5.27407627e-05,   1.06649282e-04,\n",
       "           5.72186454e-04,   1.69464786e-03,   3.93340533e-03,\n",
       "           6.46755490e-03,   8.24709373e-03,   2.15602306e-02,\n",
       "           3.33093103e-02,   3.47754982e-02,   5.35813739e-02])),\n",
       " (0.020149216504496678, 0.0050913065655377281, 0.94014026435412901))"
      ]
     },
     "execution_count": 233,
     "metadata": {},
     "output_type": "execute_result"
    },
    {
     "data": {
      "image/png": "[encoded data removed]",
      "text/plain": [
       "<matplotlib.figure.Figure at 0x11b910ba8>"
      ]
     },
     "metadata": {},
     "output_type": "display_data"
    }
   ],
   "source": [
    "sp.stats.probplot(fitted2.fun,plot=plt)\n",
    "sp.stats.probplot(fitted.fun,plot=plt)"
   ]
  },
  {
   "cell_type": "code",
   "execution_count": 234,
   "metadata": {
    "collapsed": true
   },
   "outputs": [],
   "source": [
    "def k2mod_fix(params,ligs,noise=None):\n",
    "    '''\n",
    "    returns tuple of ligand concentrations, saturation, params\n",
    "    \n",
    "    params is array of binding constants\n",
    "    ligs is array of ligand concentrations\n",
    "    noise is relative percent of gaussian noise (e.g., 0.0-1.) applied to data\n",
    "    '''\n",
    "    \n",
    "    k1 = params[0]\n",
    "    k2 = params[0]/4\n",
    "    sat = (1/2)*((k1*ligs + 2*k1*k2*(ligs**2))/(1 + k1*ligs + k1*k2*(ligs**2)))\n",
    "    \n",
    "    if noise is None:\n",
    "        return (ligs,sat)\n",
    "    else:\n",
    "        noised = np.random.normal(sat,noise*sat)\n",
    "        return (ligs,noised,params)"
   ]
  },
  {
   "cell_type": "code",
   "execution_count": 241,
   "metadata": {
    "collapsed": true
   },
   "outputs": [],
   "source": [
    "fitted = fit(datk1,k1mod,np.array([3.]))\n",
    "fitted2 = fit(datk1,k2mod_fix,np.array([3.]))\n",
    "fitted3 = fit(datk1,k2mod,np.array([3.,3.]))"
   ]
  },
  {
   "cell_type": "code",
   "execution_count": 242,
   "metadata": {},
   "outputs": [
    {
     "data": {
      "text/plain": [
       "array([ 0.98565027])"
      ]
     },
     "execution_count": 242,
     "metadata": {},
     "output_type": "execute_result"
    }
   ],
   "source": [
    "fitted.x"
   ]
  },
  {
   "cell_type": "code",
   "execution_count": 245,
   "metadata": {},
   "outputs": [
    {
     "data": {
      "text/plain": [
       "array([ 0.98565027])"
      ]
     },
     "execution_count": 245,
     "metadata": {},
     "output_type": "execute_result"
    }
   ],
   "source": [
    "fitted2.x/2"
   ]
  },
  {
   "cell_type": "code",
   "execution_count": 244,
   "metadata": {},
   "outputs": [
    {
     "data": {
      "text/plain": [
       "array([ 2.19212713,  0.4403934 ])"
      ]
     },
     "execution_count": 244,
     "metadata": {},
     "output_type": "execute_result"
    }
   ],
   "source": [
    "fitted3.x"
   ]
  },
  {
   "cell_type": "code",
   "execution_count": null,
   "metadata": {
    "collapsed": true
   },
   "outputs": [],
   "source": []
  }
 ],
 "metadata": {
  "anaconda-cloud": {},
  "kernelspec": {
   "display_name": "Python [conda env:fitter]",
   "language": "python",
   "name": "conda-env-fitter-py"
  },
  "language_info": {
   "codemirror_mode": {
    "name": "ipython",
    "version": 3
   },
   "file_extension": ".py",
   "mimetype": "text/x-python",
   "name": "python",
   "nbconvert_exporter": "python",
   "pygments_lexer": "ipython3",
   "version": "3.5.3"
  }
 },
 "nbformat": 4,
 "nbformat_minor": 2
}

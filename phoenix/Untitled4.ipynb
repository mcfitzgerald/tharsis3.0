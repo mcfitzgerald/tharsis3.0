{
 "cells": [
  {
   "cell_type": "code",
   "execution_count": 1,
   "metadata": {
    "collapsed": true
   },
   "outputs": [],
   "source": [
    "import numpy as np\n",
    "import scipy as sp\n",
    "from scipy import optimize\n",
    "from scipy import stats\n",
    "import matplotlib.pyplot as plt\n",
    "import sys, copy, emcee, corner\n",
    "%matplotlib inline"
   ]
  },
  {
   "cell_type": "code",
   "execution_count": 2,
   "metadata": {
    "collapsed": true
   },
   "outputs": [],
   "source": [
    "def dilser(low=0.001, limit=100., dilfactor=2.):\n",
    "    '''returns a numpy array dilution series from low to limit by dilfactor'''\n",
    "    #replace this with a generator/iterator someday\n",
    "    a = [low]\n",
    "    while a[-1] <= limit:\n",
    "        a.append(a[len(a)-1]*dilfactor)\n",
    "    return np.array(a)\n",
    "\n",
    "def k1mod(params,ligs,noise=None):\n",
    "    '''\n",
    "    theoretical model for single binding site\n",
    "    \n",
    "    returns tuple of ligand concentrations, saturation, params\n",
    "\n",
    "    params is array of binding constants\n",
    "    ligs is array of ligand concentrations\n",
    "    noise is relative percent of gaussian noise (e.g., 0.0-1.) applied to data\n",
    "    '''\n",
    "\n",
    "    k1 = params[0]\n",
    "    sat = (k1*ligs)/(1 + k1*ligs)\n",
    "\n",
    "    if noise is None:\n",
    "        return (ligs,sat)\n",
    "    else:\n",
    "        noised = np.random.normal(sat,noise*sat)\n",
    "        return (ligs,noised,params)\n",
    "\n",
    "def k2mod(params,ligs,noise=None):\n",
    "    '''\n",
    "    theoretical model for a two-site receptor\n",
    "    \n",
    "    returns tuple of ligand concentrations, saturation, params\n",
    "\n",
    "    params is array of binding constants\n",
    "    ligs is array of ligand concentrations\n",
    "    noise is relative percent of gaussian noise (e.g., 0.0-1.) applied to data\n",
    "    '''\n",
    "\n",
    "    k1 = params[0]\n",
    "    k2 = params[1]\n",
    "    sat = (1/2)*((k1*ligs + 2*k1*k2*(ligs**2))/(1 + k1*ligs + k1*k2*(ligs**2)))\n",
    "\n",
    "    if noise is None:\n",
    "        return (ligs,sat)\n",
    "    else:\n",
    "        noised = np.random.normal(sat,noise*sat)\n",
    "        return (ligs,noised,params)\n",
    "\n",
    "def k2mod_fix(params,ligs,noise=None):\n",
    "    '''\n",
    "    returns tuple of ligand concentrations, saturation, params\n",
    "\n",
    "    params is array of binding constants\n",
    "    ligs is array of ligand concentrations\n",
    "    noise is relative percent of gaussian noise (e.g., 0.0-1.) applied to data\n",
    "    '''\n",
    "\n",
    "    k1 = params[0]\n",
    "    k2 = params[0]/4\n",
    "    sat = (1/2)*((k1*ligs + 2*k1*k2*(ligs**2))/(1 + k1*ligs + k1*k2*(ligs**2)))\n",
    "\n",
    "    if noise is None:\n",
    "        return (ligs,sat)\n",
    "    else:\n",
    "        noised = np.random.normal(sat,noise*sat)\n",
    "        return (ligs,noised,params)\n",
    "\n",
    "def obj(guess,model,data):\n",
    "    return model(guess,data[0])[1] - data[1]\n",
    "\n",
    "#removed proportionality constant\n",
    "def obj_wt(guess,model,data):\n",
    "    return (model(guess,data[0])[1] - data[1])/(data[1])\n",
    "\n",
    "def fit(data,model,guess):\n",
    "        return sp.optimize.least_squares(obj,guess,args=(model,data),ftol=1e-14,gtol=1e-14,xtol=1e-14)\n",
    "\n",
    "#removed proportionality constant    \n",
    "def fit_wt(data,model,guess):\n",
    "        return sp.optimize.least_squares(obj_wt,guess,args=(model,data),ftol=1e-14,gtol=1e-14,xtol=1e-14)\n",
    "\n",
    "def ftest(fit1,fit2):\n",
    "    '''\n",
    "    fit1 is fit from simpler model\n",
    "    '''\n",
    "\n",
    "    SS1 = np.sum(np.square(fit1.fun))\n",
    "    SS2 = np.sum(np.square(fit2.fun))\n",
    "\n",
    "    DF1 = fit1.fun.shape[0] - fit1.x.shape[0]\n",
    "    DF2 = fit2.fun.shape[0] - fit2.x.shape[0]\n",
    "\n",
    "    F = ((SS1-SS2)/(DF1-DF2))/(SS2/DF2)\n",
    "\n",
    "    p = sp.stats.f.sf(F,(DF1-DF2),DF2)\n",
    "\n",
    "    return (SS1,SS2,DF1,DF2,F,p)"
   ]
  },
  {
   "cell_type": "code",
   "execution_count": 3,
   "metadata": {
    "collapsed": true
   },
   "outputs": [],
   "source": [
    "ligs = dilser()"
   ]
  },
  {
   "cell_type": "code",
   "execution_count": 4,
   "metadata": {
    "collapsed": true
   },
   "outputs": [],
   "source": [
    "k1parm = np.array([1.])"
   ]
  },
  {
   "cell_type": "code",
   "execution_count": 5,
   "metadata": {
    "collapsed": true
   },
   "outputs": [],
   "source": [
    "k1datset = [k1mod(k1parm,ligs,0.1) for i in range(10000)]"
   ]
  },
  {
   "cell_type": "code",
   "execution_count": 7,
   "metadata": {
    "collapsed": true
   },
   "outputs": [],
   "source": [
    "guess_1_param = np.array([2.,0.5])\n",
    "guess_2_param = np.array([2.])"
   ]
  },
  {
   "cell_type": "code",
   "execution_count": 8,
   "metadata": {
    "collapsed": true
   },
   "outputs": [],
   "source": [
    "k2fits = [fit(i,k2mod,k2guess) for i in k1datset]"
   ]
  },
  {
   "cell_type": "code",
   "execution_count": 36,
   "metadata": {
    "collapsed": true
   },
   "outputs": [],
   "source": [
    "k1fits_nested = [fit(i,k2mod_fix,k2fixguess) for i in k1datset]"
   ]
  },
  {
   "cell_type": "code",
   "execution_count": 12,
   "metadata": {
    "collapsed": true
   },
   "outputs": [],
   "source": [
    "ps = np.array([ftest(k1fits_nested[i],k2fits[i])[-1] for i in range(10000)])"
   ]
  },
  {
   "cell_type": "code",
   "execution_count": 15,
   "metadata": {},
   "outputs": [
    {
     "data": {
      "text/plain": [
       "713"
      ]
     },
     "execution_count": 15,
     "metadata": {},
     "output_type": "execute_result"
    }
   ],
   "source": [
    "np.sum(ps<0.05)"
   ]
  },
  {
   "cell_type": "code",
   "execution_count": 20,
   "metadata": {},
   "outputs": [],
   "source": [
    "ratios_k2 = np.array([i.x[0]/i.x[1] for i in k2fits])\n",
    "k1s = np.array([i.x[0] for i in k1fits_nested])"
   ]
  },
  {
   "cell_type": "code",
   "execution_count": 53,
   "metadata": {},
   "outputs": [],
   "source": [
    "sigfits = ratios_k2[(ps<0.05)]"
   ]
  },
  {
   "cell_type": "code",
   "execution_count": 55,
   "metadata": {},
   "outputs": [],
   "source": [
    "negs = sigfits[(sigfits>4)]\n",
    "pos = sigfits[(sigfits<4)]"
   ]
  },
  {
   "cell_type": "code",
   "execution_count": 57,
   "metadata": {},
   "outputs": [
    {
     "data": {
      "text/plain": [
       "(array([ 14.,  34.,  52.,  53.,  68.,  31.,  23.,  12.,   5.,   3.]),\n",
       " array([ 0.33275076,  0.57640507,  0.82005937,  1.06371367,  1.30736797,\n",
       "         1.55102227,  1.79467657,  2.03833088,  2.28198518,  2.52563948,\n",
       "         2.76929378]),\n",
       " <a list of 10 Patch objects>)"
      ]
     },
     "execution_count": 57,
     "metadata": {},
     "output_type": "execute_result"
    },
    {
     "data": {
      "image/png": "[encoded data removed]",
      "text/plain": [
       "<matplotlib.figure.Figure at 0x1128d3240>"
      ]
     },
     "metadata": {},
     "output_type": "display_data"
    }
   ],
   "source": [
    "plt.hist(negs)\n",
    "plt.hist(pos)"
   ]
  },
  {
   "cell_type": "code",
   "execution_count": 33,
   "metadata": {
    "collapsed": true
   },
   "outputs": [],
   "source": [
    "k2fits_wt = [fit_wt(i,k2mod,k2guess) for i in k1datset]"
   ]
  },
  {
   "cell_type": "code",
   "execution_count": 35,
   "metadata": {
    "collapsed": true
   },
   "outputs": [],
   "source": [
    "k1fits_nested_wt = [fit_wt(i,k2mod_fix,k2fixguess) for i in k1datset]"
   ]
  },
  {
   "cell_type": "code",
   "execution_count": 38,
   "metadata": {
    "collapsed": true
   },
   "outputs": [],
   "source": [
    "k1s_mod2 = np.array([i.x[0] for i in k2fits])\n",
    "k1s_nest = np.array([i.x[0] for i in k1fits_nested])"
   ]
  },
  {
   "cell_type": "code",
   "execution_count": 39,
   "metadata": {},
   "outputs": [
    {
     "data": {
      "text/plain": [
       "(array([   10.,   125.,   635.,  1662.,  2778.,  2614.,  1459.,   559.,\n",
       "          138.,    20.]),\n",
       " array([ 1.19998376,  1.3619498 ,  1.52391584,  1.68588188,  1.84784792,\n",
       "         2.00981396,  2.17178   ,  2.33374604,  2.49571208,  2.65767812,\n",
       "         2.81964416]),\n",
       " <a list of 10 Patch objects>)"
      ]
     },
     "execution_count": 39,
     "metadata": {},
     "output_type": "execute_result"
    },
    {
     "data": {
      "image/png": "[encoded data removed]",
      "text/plain": [
       "<matplotlib.figure.Figure at 0x1127a9cf8>"
      ]
     },
     "metadata": {},
     "output_type": "display_data"
    }
   ],
   "source": [
    "plt.hist(k1s_mod2)\n",
    "plt.hist(k1s_nest)"
   ]
  },
  {
   "cell_type": "code",
   "execution_count": 40,
   "metadata": {
    "collapsed": true
   },
   "outputs": [],
   "source": [
    "k1s_mod2_wt = np.array([i.x[0] for i in k2fits_wt])\n",
    "k1s_nest_wt = np.array([i.x[0] for i in k1fits_nested_wt])"
   ]
  },
  {
   "cell_type": "code",
   "execution_count": 41,
   "metadata": {},
   "outputs": [
    {
     "data": {
      "text/plain": [
       "(array([  3.40000000e+01,   1.99000000e+02,   8.74000000e+02,\n",
       "          2.18900000e+03,   3.06200000e+03,   2.35400000e+03,\n",
       "          1.02000000e+03,   2.37000000e+02,   2.80000000e+01,\n",
       "          3.00000000e+00]),\n",
       " array([ 1.70788041,  1.76268421,  1.81748802,  1.87229183,  1.92709564,\n",
       "         1.98189944,  2.03670325,  2.09150706,  2.14631087,  2.20111467,\n",
       "         2.25591848]),\n",
       " <a list of 10 Patch objects>)"
      ]
     },
     "execution_count": 41,
     "metadata": {},
     "output_type": "execute_result"
    },
    {
     "data": {
      "image/png": "[encoded data removed]",
      "text/plain": [
       "<matplotlib.figure.Figure at 0x11055fb70>"
      ]
     },
     "metadata": {},
     "output_type": "display_data"
    }
   ],
   "source": [
    "plt.hist(k1s_mod2)\n",
    "plt.hist(k1s_nest)\n",
    "plt.hist(k1s_mod2_wt)\n",
    "plt.hist(k1s_nest_wt)"
   ]
  },
  {
   "cell_type": "code",
   "execution_count": 42,
   "metadata": {},
   "outputs": [
    {
     "data": {
      "text/plain": [
       "{'boxes': [<matplotlib.lines.Line2D at 0x11020ea20>,\n",
       "  <matplotlib.lines.Line2D at 0x111b902b0>,\n",
       "  <matplotlib.lines.Line2D at 0x111662208>,\n",
       "  <matplotlib.lines.Line2D at 0x111ba8278>],\n",
       " 'caps': [<matplotlib.lines.Line2D at 0x111667c88>,\n",
       "  <matplotlib.lines.Line2D at 0x111bafef0>,\n",
       "  <matplotlib.lines.Line2D at 0x111bac550>,\n",
       "  <matplotlib.lines.Line2D at 0x111bac390>,\n",
       "  <matplotlib.lines.Line2D at 0x1101fe320>,\n",
       "  <matplotlib.lines.Line2D at 0x11020e6d8>,\n",
       "  <matplotlib.lines.Line2D at 0x1034accc0>,\n",
       "  <matplotlib.lines.Line2D at 0x1034b0f28>],\n",
       " 'fliers': [<matplotlib.lines.Line2D at 0x111b9ea90>,\n",
       "  <matplotlib.lines.Line2D at 0x111b8e908>,\n",
       "  <matplotlib.lines.Line2D at 0x111ba8208>,\n",
       "  <matplotlib.lines.Line2D at 0x1034a4ac8>],\n",
       " 'means': [],\n",
       " 'medians': [<matplotlib.lines.Line2D at 0x111b9e0b8>,\n",
       "  <matplotlib.lines.Line2D at 0x111ba56a0>,\n",
       "  <matplotlib.lines.Line2D at 0x110492b70>,\n",
       "  <matplotlib.lines.Line2D at 0x1034a40f0>],\n",
       " 'whiskers': [<matplotlib.lines.Line2D at 0x111688fd0>,\n",
       "  <matplotlib.lines.Line2D at 0x111667b00>,\n",
       "  <matplotlib.lines.Line2D at 0x111b90470>,\n",
       "  <matplotlib.lines.Line2D at 0x111b9ffd0>,\n",
       "  <matplotlib.lines.Line2D at 0x11021c7f0>,\n",
       "  <matplotlib.lines.Line2D at 0x110203128>,\n",
       "  <matplotlib.lines.Line2D at 0x1034728d0>,\n",
       "  <matplotlib.lines.Line2D at 0x1034acb38>]}"
      ]
     },
     "execution_count": 42,
     "metadata": {},
     "output_type": "execute_result"
    },
    {
     "data": {
      "image/png": "[encoded data removed]",
      "text/plain": [
       "<matplotlib.figure.Figure at 0x10347a518>"
      ]
     },
     "metadata": {},
     "output_type": "display_data"
    }
   ],
   "source": [
    "plt.boxplot([k1s_mod2,k1s_nest,k1s_mod2_wt,k1s_nest_wt])"
   ]
  },
  {
   "cell_type": "code",
   "execution_count": 43,
   "metadata": {
    "collapsed": true
   },
   "outputs": [],
   "source": [
    "ps_wt = np.array([ftest(k1fits_nested_wt[i],k2fits_wt[i])[-1] for i in range(10000)])"
   ]
  },
  {
   "cell_type": "code",
   "execution_count": 46,
   "metadata": {},
   "outputs": [
    {
     "data": {
      "text/plain": [
       "678"
      ]
     },
     "execution_count": 46,
     "metadata": {},
     "output_type": "execute_result"
    }
   ],
   "source": [
    "np.sum(ps_wt<0.05)"
   ]
  },
  {
   "cell_type": "code",
   "execution_count": 47,
   "metadata": {
    "collapsed": true
   },
   "outputs": [],
   "source": [
    "k2fits_wt_ratios = np.array([i.x[0]/i.x[1] for i in k2fits_wt])"
   ]
  },
  {
   "cell_type": "code",
   "execution_count": 49,
   "metadata": {},
   "outputs": [],
   "source": [
    "sigfits_wt = k2fits_wt_ratios[(ps_wt<0.05)]"
   ]
  },
  {
   "cell_type": "code",
   "execution_count": 51,
   "metadata": {},
   "outputs": [
    {
     "data": {
      "text/plain": [
       "172"
      ]
     },
     "execution_count": 51,
     "metadata": {},
     "output_type": "execute_result"
    }
   ],
   "source": [
    "np.sum(sigfits_wt < 4)"
   ]
  },
  {
   "cell_type": "code",
   "execution_count": 60,
   "metadata": {},
   "outputs": [
    {
     "data": {
      "text/plain": [
       "(array([  67.,  170.,   97.,   45.,   20.,   13.,    4.,    0.,    0.,    2.]),\n",
       " array([  5.89250866,   8.65664945,  11.42079024,  14.18493103,\n",
       "         16.94907182,  19.71321262,  22.47735341,  25.2414942 ,\n",
       "         28.00563499,  30.76977578,  33.53391658]),\n",
       " <a list of 10 Patch objects>)"
      ]
     },
     "execution_count": 60,
     "metadata": {},
     "output_type": "execute_result"
    },
    {
     "data": {
      "image/png": "[encoded data removed]",
      "text/plain": [
       "<matplotlib.figure.Figure at 0x110694ef0>"
      ]
     },
     "metadata": {},
     "output_type": "display_data"
    }
   ],
   "source": [
    "plt.hist(sigfits_wt[sigfits_wt>4])\n",
    "plt.hist(sigfits[sigfits>4])"
   ]
  },
  {
   "cell_type": "code",
   "execution_count": 62,
   "metadata": {},
   "outputs": [
    {
     "data": {
      "text/plain": [
       "(7.3016067867244745, 11.783348294826004)"
      ]
     },
     "execution_count": 62,
     "metadata": {},
     "output_type": "execute_result"
    }
   ],
   "source": [
    "np.mean(sigfits_wt[sigfits_wt>4]) , np.mean(sigfits[sigfits>4])"
   ]
  },
  {
   "cell_type": "code",
   "execution_count": 65,
   "metadata": {},
   "outputs": [
    {
     "data": {
      "text/plain": [
       "(678,)"
      ]
     },
     "execution_count": 65,
     "metadata": {},
     "output_type": "execute_result"
    }
   ],
   "source": [
    "sigfits_wt.shape"
   ]
  },
  {
   "cell_type": "code",
   "execution_count": null,
   "metadata": {
    "collapsed": true
   },
   "outputs": [],
   "source": []
  }
 ],
 "metadata": {
  "anaconda-cloud": {},
  "kernelspec": {
   "display_name": "Python [conda env:fitter]",
   "language": "python",
   "name": "conda-env-fitter-py"
  },
  "language_info": {
   "codemirror_mode": {
    "name": "ipython",
    "version": 3
   },
   "file_extension": ".py",
   "mimetype": "text/x-python",
   "name": "python",
   "nbconvert_exporter": "python",
   "pygments_lexer": "ipython3",
   "version": "3.5.3"
  }
 },
 "nbformat": 4,
 "nbformat_minor": 2
}

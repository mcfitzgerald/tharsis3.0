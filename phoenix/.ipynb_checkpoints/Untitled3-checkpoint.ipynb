{
 "cells": [
  {
   "cell_type": "code",
   "execution_count": 1,
   "metadata": {
    "collapsed": true
   },
   "outputs": [],
   "source": [
    "import numpy as np\n",
    "import scipy as sp\n",
    "from scipy import optimize\n",
    "from scipy import stats\n",
    "import matplotlib.pyplot as plt\n",
    "import sys, copy, emcee, corner\n",
    "%matplotlib inline"
   ]
  },
  {
   "cell_type": "code",
   "execution_count": 2,
   "metadata": {
    "collapsed": true
   },
   "outputs": [],
   "source": [
    "def dilser(low=0.001, limit=100., dilfactor=2.):\n",
    "    '''returns a numpy array dilution series from low to limit by dilfactor'''\n",
    "    #replace this with a generator/iterator someday\n",
    "    a = [low]\n",
    "    while a[-1] <= limit:\n",
    "        a.append(a[len(a)-1]*dilfactor)\n",
    "    return np.array(a)\n",
    "\n",
    "def k1mod(params,ligs,noise=None):\n",
    "    '''\n",
    "    theoretical model for single binding site\n",
    "    \n",
    "    returns tuple of ligand concentrations, saturation, params\n",
    "\n",
    "    params is array of binding constants\n",
    "    ligs is array of ligand concentrations\n",
    "    noise is relative percent of gaussian noise (e.g., 0.0-1.) applied to data\n",
    "    '''\n",
    "\n",
    "    k1 = params[0]\n",
    "    sat = (k1*ligs)/(1 + k1*ligs)\n",
    "\n",
    "    if noise is None:\n",
    "        return (ligs,sat)\n",
    "    else:\n",
    "        noised = np.random.normal(sat,noise*sat)\n",
    "        return (ligs,noised,params)\n",
    "\n",
    "def k2mod(params,ligs,noise=None):\n",
    "    '''\n",
    "    theoretical model for a two-site receptor\n",
    "    \n",
    "    returns tuple of ligand concentrations, saturation, params\n",
    "\n",
    "    params is array of binding constants\n",
    "    ligs is array of ligand concentrations\n",
    "    noise is relative percent of gaussian noise (e.g., 0.0-1.) applied to data\n",
    "    '''\n",
    "\n",
    "    k1 = params[0]\n",
    "    k2 = params[1]\n",
    "    sat = (1/2)*((k1*ligs + 2*k1*k2*(ligs**2))/(1 + k1*ligs + k1*k2*(ligs**2)))\n",
    "\n",
    "    if noise is None:\n",
    "        return (ligs,sat)\n",
    "    else:\n",
    "        noised = np.random.normal(sat,noise*sat)\n",
    "        return (ligs,noised,params)\n",
    "\n",
    "def k2mod_fix(params,ligs,noise=None):\n",
    "    '''\n",
    "    returns tuple of ligand concentrations, saturation, params\n",
    "\n",
    "    params is array of binding constants\n",
    "    ligs is array of ligand concentrations\n",
    "    noise is relative percent of gaussian noise (e.g., 0.0-1.) applied to data\n",
    "    '''\n",
    "\n",
    "    k1 = params[0]\n",
    "    k2 = params[0]/4\n",
    "    sat = (1/2)*((k1*ligs + 2*k1*k2*(ligs**2))/(1 + k1*ligs + k1*k2*(ligs**2)))\n",
    "\n",
    "    if noise is None:\n",
    "        return (ligs,sat)\n",
    "    else:\n",
    "        noised = np.random.normal(sat,noise*sat)\n",
    "        return (ligs,noised,params)\n",
    "\n",
    "def obj(guess,model,data):\n",
    "    return model(guess,data[0])[1] - data[1]\n",
    "\n",
    "#removed proportionality constant\n",
    "def obj_wt(guess,model,data):\n",
    "    return (model(guess,data[0])[1] - data[1])/(data[1])\n",
    "\n",
    "def fit(data,model,guess):\n",
    "        return sp.optimize.least_squares(obj,guess,args=(model,data),ftol=1e-14,gtol=1e-14,xtol=1e-14)\n",
    "\n",
    "#removed proportionality constant    \n",
    "def fit_wt(data,model,guess):\n",
    "        return sp.optimize.least_squares(obj_wt,guess,args=(model,data),ftol=1e-14,gtol=1e-14,xtol=1e-14)\n",
    "\n",
    "def ftest(fit1,fit2):\n",
    "    '''\n",
    "    fit1 is fit from simpler model\n",
    "    '''\n",
    "\n",
    "    SS1 = np.sum(np.square(fit1.fun))\n",
    "    SS2 = np.sum(np.square(fit2.fun))\n",
    "\n",
    "    DF1 = fit1.fun.shape[0] - fit1.x.shape[0]\n",
    "    DF2 = fit2.fun.shape[0] - fit2.x.shape[0]\n",
    "\n",
    "    F = ((SS1-SS2)/(DF1-DF2))/(SS2/DF2)\n",
    "\n",
    "    p = sp.stats.f.sf(F,(DF1-DF2),DF2)\n",
    "\n",
    "    return (SS1,SS2,DF1,DF2,F,p)"
   ]
  },
  {
   "cell_type": "code",
   "execution_count": 4,
   "metadata": {
    "collapsed": true
   },
   "outputs": [],
   "source": [
    "ligs = dilser()"
   ]
  },
  {
   "cell_type": "code",
   "execution_count": 5,
   "metadata": {
    "collapsed": true
   },
   "outputs": [],
   "source": [
    "k1parm = np.array([1.])"
   ]
  },
  {
   "cell_type": "code",
   "execution_count": 6,
   "metadata": {
    "collapsed": true
   },
   "outputs": [],
   "source": [
    "k1datset = [k1mod(k1parm,ligs,0.05) for i in range(1000)]"
   ]
  },
  {
   "cell_type": "code",
   "execution_count": 7,
   "metadata": {
    "collapsed": true
   },
   "outputs": [],
   "source": [
    "k2guess = np.array([2.,0.5])\n",
    "k2fixguess = np.array([2.])"
   ]
  },
  {
   "cell_type": "code",
   "execution_count": 10,
   "metadata": {
    "collapsed": true
   },
   "outputs": [],
   "source": [
    "k2fits = [fit(i,k2mod,k2guess).x for i in k1datset]"
   ]
  },
  {
   "cell_type": "code",
   "execution_count": 11,
   "metadata": {
    "collapsed": true
   },
   "outputs": [],
   "source": [
    "k2fixfits = [fit(i,k2mod_fix,k2fixguess).x for i in k1datset]"
   ]
  },
  {
   "cell_type": "code",
   "execution_count": 17,
   "metadata": {},
   "outputs": [
    {
     "data": {
      "text/plain": [
       "64"
      ]
     },
     "execution_count": 17,
     "metadata": {},
     "output_type": "execute_result"
    }
   ],
   "source": [
    "np.sum(np.array([i[0]/i[1] for i in k2fits]) > 6)"
   ]
  }
 ],
 "metadata": {
  "anaconda-cloud": {},
  "kernelspec": {
   "display_name": "Python [conda env:fitter]",
   "language": "python",
   "name": "conda-env-fitter-py"
  },
  "language_info": {
   "codemirror_mode": {
    "name": "ipython",
    "version": 3
   },
   "file_extension": ".py",
   "mimetype": "text/x-python",
   "name": "python",
   "nbconvert_exporter": "python",
   "pygments_lexer": "ipython3",
   "version": "3.5.3"
  }
 },
 "nbformat": 4,
 "nbformat_minor": 2
}

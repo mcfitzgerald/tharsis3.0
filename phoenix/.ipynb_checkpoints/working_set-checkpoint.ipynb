{
 "cells": [
  {
   "cell_type": "code",
   "execution_count": null,
   "metadata": {
    "collapsed": true
   },
   "outputs": [],
   "source": [
    "# RESTORE STORED VARIABLES FIRST \n",
    "\n",
    "%store -r"
   ]
  },
  {
   "cell_type": "code",
   "execution_count": 1,
   "metadata": {
    "collapsed": true
   },
   "outputs": [],
   "source": [
    "import numpy as np\n",
    "import scipy as sp\n",
    "from scipy import optimize\n",
    "from scipy import stats\n",
    "import matplotlib.pyplot as plt\n",
    "import sys, copy, emcee, corner\n",
    "%matplotlib inline"
   ]
  },
  {
   "cell_type": "code",
   "execution_count": 2,
   "metadata": {
    "collapsed": true
   },
   "outputs": [],
   "source": [
    "sys.path.append('./ligbind/')\n",
    "import ligbind as lb"
   ]
  },
  {
   "cell_type": "code",
   "execution_count": 3,
   "metadata": {
    "collapsed": true
   },
   "outputs": [],
   "source": [
    "def wym_obj(guess,model,data,ligs,rtot):\n",
    "    datac = np.concatenate(data)\n",
    "    return (model(guess,ligs,rtot)-datac)\n",
    "\n",
    "def fit_wym(guess,model,data,ligs,rtot,bnds):\n",
    "        return sp.optimize.least_squares(wym_obj,guess,args=(model,data,ligs,rtot),bounds=bnds,method='trf',ftol=1e-14,gtol=1e-14,xtol=1e-14)\n",
    "    \n",
    "def wym_obj_wt(guess,model,data,ligs,rtot):\n",
    "    datac = np.concatenate(data)\n",
    "    return (model(guess,ligs,rtot)-datac)/datac\n",
    "\n",
    "def fit_wym_wt(guess,model,data,ligs,rtot,bnds):\n",
    "        return sp.optimize.least_squares(wym_obj_wt,guess,args=(model,data,ligs,rtot),bounds=bnds,method='trf',ftol=1e-14,gtol=1e-14,xtol=1e-14)"
   ]
  },
  {
   "cell_type": "code",
   "execution_count": 4,
   "metadata": {
    "collapsed": true
   },
   "outputs": [],
   "source": [
    "def wymfunc_fix(parm,lig,rtot):\n",
    "    '''\n",
    "    Model function for dimerizing, single-site receptors as derived in\n",
    "    (Wyman and Gill, Binding and Linkage, 1990) and used by\n",
    "    (Macdonald and Pike, ...EGF-binding...negative cooperativity...aggregating system, 2008).\n",
    "    Takes numpy array of parameters [k11,k21,k22,l20], numpy array of free ligand concentrations,\n",
    "    and total receptor concentration. Returns the fraction of receptor bound to ligand.\n",
    "\n",
    "    To generate a data set, iterate over an array of desired receptor concentrations, e.g.:\n",
    "    [wymfunc(parm,lig,i) for i in array_of_rtots]\n",
    "\n",
    "    For use in curve fitting an objective function for use with scipy.optimize.least_squares\n",
    "    is readily constructed as: (wymfun(parm_guess,lig,rtot) - actual_data)\n",
    "    '''\n",
    "\n",
    "    #ensure dimension/broadcasting compatibility of inputs\n",
    "    if ((rtot.ndim > 0) and (rtot.ndim != lig.ndim)):\n",
    "        rtot = rtot[:,None] #adds dimension so that it can be broadcast\n",
    "    else:\n",
    "        rtot = rtot\n",
    "\n",
    "    #unpack parameters\n",
    "    k11 = parm[0]\n",
    "    k21 = parm[1]\n",
    "    k22 = k21/4.\n",
    "    l20 = parm[2]\n",
    "\n",
    "    ### START MODEL FUNCTION ###\n",
    "\n",
    "    #calculate concentration of free (unoccupied) receptor\n",
    "    rfree = (((-1 - k11*lig)) + \\\n",
    "    ((np.square((1 + k11*lig)) + \\\n",
    "    8.*l20*rtot*(1 + k21*lig + k21*k22*(np.square(lig)))))**0.5) \\\n",
    "    / (4*l20*(1 + k21*lig + k21*k22*(np.square(lig))))\n",
    "\n",
    "    #calculate bound fraction\n",
    "    bfrac = (k11*lig + l20*k21*rfree*lig + \\\n",
    "    2*l20*k21*k22*rfree*(np.square(lig))) \\\n",
    "    / (1 + 2*l20*rfree + k11*lig + \\\n",
    "    2*l20*k21*rfree*lig + 2*l20*k21*k22*rfree*(np.square(lig)))\n",
    "\n",
    "    ### END MODEL FUNCTION ###\n",
    "\n",
    "    #flatten output\n",
    "    if ((rtot.ndim > 0) and (rtot.ndim != lig.ndim)):\n",
    "        return bfrac.flatten()\n",
    "    elif (rtot.ndim == 0):\n",
    "        return bfrac.flatten()\n",
    "    else:\n",
    "        return np.concatenate(bfrac)"
   ]
  },
  {
   "cell_type": "code",
   "execution_count": 5,
   "metadata": {
    "collapsed": true
   },
   "outputs": [],
   "source": [
    "from itertools import product\n",
    "\n",
    "def parmsetter(k1):\n",
    "    base = np.array([k1,])\n",
    "    k2s = np.array([0.1,1.,10.])*base\n",
    "    k21s = np.array([1000.,100.,10.,0.1,0.01,0.001])*base\n",
    "    ls = np.array([10.,100.,1000.])*base\n",
    "    \n",
    "    things = [base,k2s,k21s,ls]\n",
    "    \n",
    "    b = list(product(*things))\n",
    "    \n",
    "    c = np.array(b)\n",
    "    \n",
    "    c[:,2]=c[:,1]/4.\n",
    "    \n",
    "    neuts = np.array(list(set([tuple(i.tolist()) for i in c])))\n",
    "    \n",
    "    all_sets = np.concatenate([b,neuts])\n",
    "    \n",
    "    return all_sets"
   ]
  },
  {
   "cell_type": "code",
   "execution_count": 6,
   "metadata": {
    "collapsed": true
   },
   "outputs": [],
   "source": [
    "parmsets = parmsetter(5)"
   ]
  },
  {
   "cell_type": "code",
   "execution_count": 7,
   "metadata": {
    "collapsed": true
   },
   "outputs": [],
   "source": [
    "#sim_n05_pre = [lb.WymSimSubset(sets=1000,reps=1,parms=i,noise=0.05) for i in parmsets]"
   ]
  },
  {
   "cell_type": "code",
   "execution_count": 8,
   "metadata": {},
   "outputs": [
    {
     "name": "stdout",
     "output_type": "stream",
     "text": [
      "Stored 'sim_n05_pre' (list)\n"
     ]
    }
   ],
   "source": [
    "#%store sim_n05_pre"
   ]
  },
  {
   "cell_type": "code",
   "execution_count": 8,
   "metadata": {
    "collapsed": true
   },
   "outputs": [],
   "source": [
    "low = copy.deepcopy(sim_n05_pre)\n",
    "mid = copy.deepcopy(sim_n05_pre)\n",
    "hi = copy.deepcopy(sim_n05_pre)\n",
    "\n",
    "[i.subset(0,9) for i in low];\n",
    "[i.subset(4,14) for i in mid];\n",
    "[i.subset(9,18) for i in hi];"
   ]
  },
  {
   "cell_type": "code",
   "execution_count": 9,
   "metadata": {},
   "outputs": [
    {
     "data": {
      "image/png": "[encoded data removed]",
      "text/plain": [
       "<matplotlib.figure.Figure at 0x131770208>"
      ]
     },
     "metadata": {},
     "output_type": "display_data"
    }
   ],
   "source": [
    "for i in range(6):\n",
    "    plt.semilogx(low[0].ligs[i],low[0].meanset[0][i],'o')"
   ]
  },
  {
   "cell_type": "code",
   "execution_count": 10,
   "metadata": {},
   "outputs": [
    {
     "data": {
      "image/png": "[encoded data removed]",
      "text/plain": [
       "<matplotlib.figure.Figure at 0x12d908cc0>"
      ]
     },
     "metadata": {},
     "output_type": "display_data"
    }
   ],
   "source": [
    "for i in range(6):\n",
    "    plt.semilogx(mid[0].ligs[i],mid[0].meanset[0][i],'o')"
   ]
  },
  {
   "cell_type": "code",
   "execution_count": 11,
   "metadata": {},
   "outputs": [
    {
     "data": {
      "image/png": "[encoded data removed]",
      "text/plain": [
       "<matplotlib.figure.Figure at 0x12ecd3978>"
      ]
     },
     "metadata": {},
     "output_type": "display_data"
    }
   ],
   "source": [
    "for i in range(6):\n",
    "    plt.semilogx(hi[0].ligs[i],hi[0].meanset[0][i],'o')"
   ]
  },
  {
   "cell_type": "code",
   "execution_count": 12,
   "metadata": {
    "collapsed": true
   },
   "outputs": [],
   "source": [
    "parmsets_fix = np.array([np.append(i[0:2],i[-1]) for i in parmsets])"
   ]
  },
  {
   "cell_type": "code",
   "execution_count": 13,
   "metadata": {
    "collapsed": true
   },
   "outputs": [],
   "source": [
    "lsbnds = (tuple(1e-5 for i in range(4)),tuple(1e4 for i in range(4)))\n",
    "lsbnds_fix = (tuple(1e-5 for i in range(3)),tuple(1e4 for i in range(3)))"
   ]
  },
  {
   "cell_type": "code",
   "execution_count": 15,
   "metadata": {
    "collapsed": true
   },
   "outputs": [],
   "source": [
    "#lowtrunc_full_wt_REAL = [np.array([fit_wym_wt(parmsets[j],lb.models.wymfunc,low[j].meanset[i],low[j].ligs,low[j].rtot,lsbnds) for i in range(1000)]) for j in range(len(low))]"
   ]
  },
  {
   "cell_type": "code",
   "execution_count": 17,
   "metadata": {
    "collapsed": true
   },
   "outputs": [],
   "source": [
    "#lowtrunc_fix_wt_REAL = [np.array([fit_wym_wt(parmsets_fix[j],wymfunc_fix,low[j].meanset[i],low[j].ligs,low[j].rtot,lsbnds_fix) for i in range(1000)]) for j in range(len(low))]"
   ]
  },
  {
   "cell_type": "code",
   "execution_count": 18,
   "metadata": {
    "collapsed": true
   },
   "outputs": [],
   "source": [
    "#low_full = np.array(lowtrunc_full_wt_REAL)\n",
    "#low_fix = np.array(lowtrunc_fix_wt_REAL)"
   ]
  },
  {
   "cell_type": "code",
   "execution_count": 19,
   "metadata": {},
   "outputs": [
    {
     "name": "stdout",
     "output_type": "stream",
     "text": [
      "Stored 'low_full' (ndarray)\n",
      "Stored 'low_fix' (ndarray)\n"
     ]
    }
   ],
   "source": [
    "#%store low_full\n",
    "#%store low_fix"
   ]
  },
  {
   "cell_type": "code",
   "execution_count": 20,
   "metadata": {
    "collapsed": true
   },
   "outputs": [],
   "source": [
    "#midtrunc_full_wt_REAL = [np.array([fit_wym_wt(parmsets[j],lb.models.wymfunc,mid[j].meanset[i],mid[j].ligs,mid[j].rtot,lsbnds) for i in range(1000)]) for j in range(len(mid))]\n",
    "#hitrunc_full_wt_REAL = [np.array([fit_wym_wt(parmsets[j],lb.models.wymfunc,hi[j].meanset[i],hi[j].ligs,hi[j].rtot,lsbnds) for i in range(1000)]) for j in range(len(hi))]\n",
    "#midtrunc_fix_wt_REAL = [np.array([fit_wym_wt(parmsets_fix[j],wymfunc_fix,mid[j].meanset[i],mid[j].ligs,mid[j].rtot,lsbnds_fix) for i in range(1000)]) for j in range(len(mid))]\n",
    "#hitrunc_fix_wt_REAL = [np.array([fit_wym_wt(parmsets_fix[j],wymfunc_fix,hi[j].meanset[i],hi[j].ligs,hi[j].rtot,lsbnds_fix) for i in range(1000)]) for j in range(len(hi))]"
   ]
  },
  {
   "cell_type": "code",
   "execution_count": 22,
   "metadata": {
    "collapsed": true
   },
   "outputs": [],
   "source": [
    "#mid_fix = np.array(midtrunc_fix_wt_REAL)\n",
    "#mid_full = np.array(midtrunc_full_wt_REAL)\n",
    "#hi_fix = np.array(hitrunc_fix_wt_REAL)\n",
    "#hi_full = np.array(hitrunc_full_wt_REAL)"
   ]
  },
  {
   "cell_type": "code",
   "execution_count": 23,
   "metadata": {},
   "outputs": [
    {
     "name": "stdout",
     "output_type": "stream",
     "text": [
      "Stored 'mid_fix' (ndarray)\n",
      "Stored 'mid_full' (ndarray)\n",
      "Stored 'hi_fix' (ndarray)\n",
      "Stored 'hi_full' (ndarray)\n"
     ]
    }
   ],
   "source": [
    "#%store mid_fix\n",
    "#%store mid_full\n",
    "#%store hi_fix\n",
    "#%store hi_full"
   ]
  },
  {
   "cell_type": "code",
   "execution_count": 64,
   "metadata": {
    "collapsed": true
   },
   "outputs": [],
   "source": [
    "np.set_printoptions(precision=5,suppress=True)"
   ]
  },
  {
   "cell_type": "code",
   "execution_count": 35,
   "metadata": {},
   "outputs": [
    {
     "data": {
      "text/plain": [
       "array([[    5.  ,     0.5 ,  5000.  ,    50.  ],\n",
       "       [    5.  ,     0.5 ,  5000.  ,   500.  ],\n",
       "       [    5.  ,     0.5 ,  5000.  ,  5000.  ],\n",
       "       [    5.  ,     0.5 ,   500.  ,    50.  ],\n",
       "       [    5.  ,     0.5 ,   500.  ,   500.  ],\n",
       "       [    5.  ,     0.5 ,   500.  ,  5000.  ],\n",
       "       [    5.  ,     0.5 ,    50.  ,    50.  ],\n",
       "       [    5.  ,     0.5 ,    50.  ,   500.  ],\n",
       "       [    5.  ,     0.5 ,    50.  ,  5000.  ],\n",
       "       [    5.  ,     0.5 ,     0.5 ,    50.  ],\n",
       "       [    5.  ,     0.5 ,     0.5 ,   500.  ],\n",
       "       [    5.  ,     0.5 ,     0.5 ,  5000.  ],\n",
       "       [    5.  ,     0.5 ,     0.05,    50.  ],\n",
       "       [    5.  ,     0.5 ,     0.05,   500.  ],\n",
       "       [    5.  ,     0.5 ,     0.05,  5000.  ],\n",
       "       [    5.  ,     0.5 ,     0.01,    50.  ],\n",
       "       [    5.  ,     0.5 ,     0.01,   500.  ],\n",
       "       [    5.  ,     0.5 ,     0.01,  5000.  ],\n",
       "       [    5.  ,     5.  ,  5000.  ,    50.  ],\n",
       "       [    5.  ,     5.  ,  5000.  ,   500.  ],\n",
       "       [    5.  ,     5.  ,  5000.  ,  5000.  ],\n",
       "       [    5.  ,     5.  ,   500.  ,    50.  ],\n",
       "       [    5.  ,     5.  ,   500.  ,   500.  ],\n",
       "       [    5.  ,     5.  ,   500.  ,  5000.  ],\n",
       "       [    5.  ,     5.  ,    50.  ,    50.  ],\n",
       "       [    5.  ,     5.  ,    50.  ,   500.  ],\n",
       "       [    5.  ,     5.  ,    50.  ,  5000.  ],\n",
       "       [    5.  ,     5.  ,     0.5 ,    50.  ],\n",
       "       [    5.  ,     5.  ,     0.5 ,   500.  ],\n",
       "       [    5.  ,     5.  ,     0.5 ,  5000.  ],\n",
       "       [    5.  ,     5.  ,     0.05,    50.  ],\n",
       "       [    5.  ,     5.  ,     0.05,   500.  ],\n",
       "       [    5.  ,     5.  ,     0.05,  5000.  ],\n",
       "       [    5.  ,     5.  ,     0.01,    50.  ],\n",
       "       [    5.  ,     5.  ,     0.01,   500.  ],\n",
       "       [    5.  ,     5.  ,     0.01,  5000.  ],\n",
       "       [    5.  ,    50.  ,  5000.  ,    50.  ],\n",
       "       [    5.  ,    50.  ,  5000.  ,   500.  ],\n",
       "       [    5.  ,    50.  ,  5000.  ,  5000.  ],\n",
       "       [    5.  ,    50.  ,   500.  ,    50.  ],\n",
       "       [    5.  ,    50.  ,   500.  ,   500.  ],\n",
       "       [    5.  ,    50.  ,   500.  ,  5000.  ],\n",
       "       [    5.  ,    50.  ,    50.  ,    50.  ],\n",
       "       [    5.  ,    50.  ,    50.  ,   500.  ],\n",
       "       [    5.  ,    50.  ,    50.  ,  5000.  ],\n",
       "       [    5.  ,    50.  ,     0.5 ,    50.  ],\n",
       "       [    5.  ,    50.  ,     0.5 ,   500.  ],\n",
       "       [    5.  ,    50.  ,     0.5 ,  5000.  ],\n",
       "       [    5.  ,    50.  ,     0.05,    50.  ],\n",
       "       [    5.  ,    50.  ,     0.05,   500.  ],\n",
       "       [    5.  ,    50.  ,     0.05,  5000.  ],\n",
       "       [    5.  ,    50.  ,     0.01,    50.  ],\n",
       "       [    5.  ,    50.  ,     0.01,   500.  ],\n",
       "       [    5.  ,    50.  ,     0.01,  5000.  ],\n",
       "       [    5.  ,    50.  ,    12.5 ,   500.  ],\n",
       "       [    5.  ,    50.  ,    12.5 ,  5000.  ],\n",
       "       [    5.  ,     0.5 ,     0.12,    50.  ],\n",
       "       [    5.  ,    50.  ,    12.5 ,    50.  ],\n",
       "       [    5.  ,     0.5 ,     0.12,  5000.  ],\n",
       "       [    5.  ,     5.  ,     1.25,   500.  ],\n",
       "       [    5.  ,     5.  ,     1.25,  5000.  ],\n",
       "       [    5.  ,     0.5 ,     0.12,   500.  ],\n",
       "       [    5.  ,     5.  ,     1.25,    50.  ]])"
      ]
     },
     "execution_count": 35,
     "metadata": {},
     "output_type": "execute_result"
    }
   ],
   "source": [
    "parmsets"
   ]
  },
  {
   "cell_type": "code",
   "execution_count": 46,
   "metadata": {},
   "outputs": [
    {
     "data": {
      "text/plain": [
       "array([False, False, False, False, False, False, False, False, False,\n",
       "       False, False, False, False, False, False, False, False, False,\n",
       "       False, False, False, False, False, False, False, False, False,\n",
       "       False, False, False, False, False, False, False, False, False,\n",
       "       False, False, False, False, False, False, False, False, False,\n",
       "       False, False, False, False, False, False, False, False, False,\n",
       "        True,  True,  True,  True,  True,  True,  True,  True,  True], dtype=bool)"
      ]
     },
     "execution_count": 46,
     "metadata": {},
     "output_type": "execute_result"
    }
   ],
   "source": [
    "parmsets[:,1]/parmsets[:,2] == 4."
   ]
  },
  {
   "cell_type": "code",
   "execution_count": 43,
   "metadata": {
    "collapsed": true
   },
   "outputs": [],
   "source": [
    "def ftest(fit1,fit2):\n",
    "    '''\n",
    "    fit1 is fit from simpler model\n",
    "    '''\n",
    "\n",
    "    SS1 = np.sum(np.square(fit1.fun))\n",
    "    SS2 = np.sum(np.square(fit2.fun))\n",
    "\n",
    "    DF1 = fit1.fun.shape[0] - fit1.x.shape[0]\n",
    "    DF2 = fit2.fun.shape[0] - fit2.x.shape[0]\n",
    "\n",
    "    F = ((SS1-SS2)/(DF1-DF2))/(SS2/DF2)\n",
    "\n",
    "    p = sp.stats.f.sf(F,(DF1-DF2),DF2)\n",
    "\n",
    "    return (SS1,SS2,DF1,DF2,F,p)"
   ]
  },
  {
   "cell_type": "code",
   "execution_count": 47,
   "metadata": {
    "collapsed": true
   },
   "outputs": [],
   "source": [
    "ps_low= np.array([np.array([ftest(low_fix[j][i],low_full[j][i])[-1] for i in range(1000)]) for j in range(63)])"
   ]
  },
  {
   "cell_type": "code",
   "execution_count": 48,
   "metadata": {
    "collapsed": true
   },
   "outputs": [],
   "source": [
    "ps_mid = np.array([np.array([ftest(mid_fix[j][i],mid_full[j][i])[-1] for i in range(1000)]) for j in range(63)])\n",
    "ps_hi = np.array([np.array([ftest(hi_fix[j][i],hi_full[j][i])[-1] for i in range(1000)]) for j in range(63)])"
   ]
  },
  {
   "cell_type": "code",
   "execution_count": 50,
   "metadata": {},
   "outputs": [
    {
     "data": {
      "text/plain": [
       "array([[ True,  True,  True, ...,  True,  True,  True],\n",
       "       [ True,  True,  True, ...,  True,  True,  True],\n",
       "       [ True,  True,  True, ...,  True,  True,  True],\n",
       "       ..., \n",
       "       [False, False, False, ..., False, False, False],\n",
       "       [False, False, False, ..., False, False, False],\n",
       "       [False, False, False, ...,  True, False, False]], dtype=bool)"
      ]
     },
     "execution_count": 50,
     "metadata": {},
     "output_type": "execute_result"
    }
   ],
   "source": [
    "ps_low < 0.05"
   ]
  },
  {
   "cell_type": "code",
   "execution_count": 51,
   "metadata": {
    "collapsed": true
   },
   "outputs": [],
   "source": [
    "sigs_low = np.array([np.sum(ps_low[i] < 0.05) for i in range(63)])\n",
    "sigs_mid = np.array([np.sum(ps_mid[i] < 0.05) for i in range(63)])\n",
    "sigs_hi = np.array([np.sum(ps_hi[i] < 0.05) for i in range(63)])"
   ]
  },
  {
   "cell_type": "code",
   "execution_count": 81,
   "metadata": {},
   "outputs": [
    {
     "data": {
      "text/plain": [
       "array([  22,   14,   24,   13,   13,   38,  577,  996, 1000,  950, 1000,\n",
       "       1000,  955, 1000, 1000, 1000, 1000, 1000, 1000, 1000, 1000, 1000,\n",
       "       1000, 1000])"
      ]
     },
     "execution_count": 81,
     "metadata": {},
     "output_type": "execute_result"
    }
   ],
   "source": [
    "sigs_low[parmsets[:,1]/parmsets[:,2] > 4.]"
   ]
  },
  {
   "cell_type": "code",
   "execution_count": 82,
   "metadata": {},
   "outputs": [
    {
     "data": {
      "text/plain": [
       "array([  11,   57,  852,   14,  119,  999,  836, 1000, 1000, 1000, 1000,\n",
       "       1000, 1000, 1000, 1000, 1000, 1000, 1000, 1000, 1000, 1000, 1000,\n",
       "       1000, 1000])"
      ]
     },
     "execution_count": 82,
     "metadata": {},
     "output_type": "execute_result"
    }
   ],
   "source": [
    "sigs_mid[parmsets[:,1]/parmsets[:,2] > 4.]"
   ]
  },
  {
   "cell_type": "code",
   "execution_count": 83,
   "metadata": {},
   "outputs": [
    {
     "data": {
      "text/plain": [
       "array([  27,   33,  689,   21,   36,  995,  155,  592,  937,  512, 1000,\n",
       "       1000,  585, 1000, 1000,  974, 1000, 1000, 1000, 1000, 1000, 1000,\n",
       "       1000, 1000])"
      ]
     },
     "execution_count": 83,
     "metadata": {},
     "output_type": "execute_result"
    }
   ],
   "source": [
    "sigs_hi[parmsets[:,1]/parmsets[:,2] > 4.]"
   ]
  },
  {
   "cell_type": "code",
   "execution_count": 66,
   "metadata": {},
   "outputs": [
    {
     "data": {
      "text/plain": [
       "array([    10.,     10.,     10.,    100.,    100.,    100.,     10.,\n",
       "           10.,     10.,    100.,    100.,    100.,   1000.,   1000.,\n",
       "         1000.,    100.,    100.,    100.,   1000.,   1000.,   1000.,\n",
       "        10000.,  10000.,  10000.])"
      ]
     },
     "execution_count": 66,
     "metadata": {},
     "output_type": "execute_result"
    }
   ],
   "source": [
    "(parmsets[:,1]/parmsets[:,2])[parmsets[:,1]/parmsets[:,2] > 4.]"
   ]
  },
  {
   "cell_type": "code",
   "execution_count": 68,
   "metadata": {},
   "outputs": [
    {
     "data": {
      "text/plain": [
       "array([    1000.,    10000.,   100000.,    10000.,   100000.,  1000000.,\n",
       "            100.,     1000.,    10000.,     1000.,    10000.,   100000.,\n",
       "          10000.,   100000.,  1000000.,      100.,     1000.,    10000.,\n",
       "           1000.,    10000.,   100000.,    10000.,   100000.,  1000000.])"
      ]
     },
     "execution_count": 68,
     "metadata": {},
     "output_type": "execute_result"
    }
   ],
   "source": [
    "(parmsets[:,3]/parmsets[:,2])[parmsets[:,1]/parmsets[:,2] > 4.]"
   ]
  },
  {
   "cell_type": "code",
   "execution_count": 80,
   "metadata": {},
   "outputs": [
    {
     "data": {
      "text/plain": [
       "[<matplotlib.lines.Line2D at 0x12a708b38>]"
      ]
     },
     "execution_count": 80,
     "metadata": {},
     "output_type": "execute_result"
    },
    {
     "data": {
      "image/png": "[encoded data removed]",
      "text/plain": [
       "<matplotlib.figure.Figure at 0x12ab668d0>"
      ]
     },
     "metadata": {},
     "output_type": "display_data"
    }
   ],
   "source": [
    "plt.plot(a)\n",
    "plt.plot(b)\n",
    "plt.plot(c)"
   ]
  },
  {
   "cell_type": "code",
   "execution_count": 84,
   "metadata": {
    "collapsed": true
   },
   "outputs": [],
   "source": [
    "#full_full_wt_REAL = [np.array([fit_wym_wt(parmsets[j],lb.models.wymfunc,sim_n05_pre[j].meanset[i],sim_n05_pre[j].ligs,sim_n05_pre[j].rtot,lsbnds) for i in range(1000)]) for j in range(len(sim_n05_pre))]\n",
    "#full_fix_wt_REAL = [np.array([fit_wym_wt(parmsets_fix[j],wymfunc_fix,sim_n05_pre[j].meanset[i],sim_n05_pre[j].ligs,sim_n05_pre[j].rtot,lsbnds_fix) for i in range(1000)]) for j in range(len(sim_n05_pre))]"
   ]
  },
  {
   "cell_type": "code",
   "execution_count": 85,
   "metadata": {
    "collapsed": true
   },
   "outputs": [],
   "source": [
    "#full_full = np.array(full_full_wt_REAL)\n",
    "#full_fix = np.array(full_fix_wt_REAL)"
   ]
  },
  {
   "cell_type": "code",
   "execution_count": 86,
   "metadata": {},
   "outputs": [
    {
     "name": "stdout",
     "output_type": "stream",
     "text": [
      "Stored 'full_full' (ndarray)\n",
      "Stored 'full_fix' (ndarray)\n"
     ]
    }
   ],
   "source": [
    "#%store full_full\n",
    "#%store full_fix"
   ]
  },
  {
   "cell_type": "code",
   "execution_count": null,
   "metadata": {
    "collapsed": true
   },
   "outputs": [],
   "source": []
  }
 ],
 "metadata": {
  "anaconda-cloud": {},
  "kernelspec": {
   "display_name": "Python [conda env:fitter]",
   "language": "python",
   "name": "conda-env-fitter-py"
  },
  "language_info": {
   "codemirror_mode": {
    "name": "ipython",
    "version": 3
   },
   "file_extension": ".py",
   "mimetype": "text/x-python",
   "name": "python",
   "nbconvert_exporter": "python",
   "pygments_lexer": "ipython3",
   "version": "3.5.3"
  }
 },
 "nbformat": 4,
 "nbformat_minor": 2
}

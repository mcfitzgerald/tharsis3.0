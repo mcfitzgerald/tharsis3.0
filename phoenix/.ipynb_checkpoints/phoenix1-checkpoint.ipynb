{
 "cells": [
  {
   "cell_type": "code",
   "execution_count": 1,
   "metadata": {},
   "outputs": [],
   "source": [
    "import numpy as np\n",
    "import scipy as sp\n",
    "import matplotlib.pyplot as plt\n",
    "import sys, copy, emcee, corner\n",
    "\n",
    "%matplotlib inline\n",
    "%load_ext autoreload\n",
    "\n",
    "sys.path.append('./ligbind/')\n",
    "import ligbind as lb"
   ]
  },
  {
   "cell_type": "code",
   "execution_count": 2,
   "metadata": {
    "collapsed": true
   },
   "outputs": [],
   "source": [
    "sim = lb.WymSim(sets=1,reps=1)"
   ]
  },
  {
   "cell_type": "code",
   "execution_count": 3,
   "metadata": {},
   "outputs": [
    {
     "data": {
      "image/png": "[encoded data removed]",
      "text/plain": [
       "<matplotlib.figure.Figure at 0x10b832c50>"
      ]
     },
     "metadata": {},
     "output_type": "display_data"
    }
   ],
   "source": [
    "lb.semlog(sim.ligs,sim.meanset[0],'.')"
   ]
  },
  {
   "cell_type": "code",
   "execution_count": 4,
   "metadata": {
    "collapsed": true
   },
   "outputs": [],
   "source": [
    "def klotz1(k1,lig):\n",
    "    return (k1*lig)/(1 + k1*lig)"
   ]
  },
  {
   "cell_type": "code",
   "execution_count": 5,
   "metadata": {},
   "outputs": [
    {
     "data": {
      "text/plain": [
       "[<matplotlib.lines.Line2D at 0x116ccf278>]"
      ]
     },
     "execution_count": 5,
     "metadata": {},
     "output_type": "execute_result"
    },
    {
     "data": {
      "image/png": "[encoded data removed]",
      "text/plain": [
       "<matplotlib.figure.Figure at 0x116a1aac8>"
      ]
     },
     "metadata": {},
     "output_type": "display_data"
    }
   ],
   "source": [
    "plt.semilogx(sim.ligs[0],klotz1(1.,sim.ligs[0]),'.')"
   ]
  },
  {
   "cell_type": "code",
   "execution_count": 33,
   "metadata": {
    "collapsed": true
   },
   "outputs": [],
   "source": [
    "def klotz2(parms,lig):\n",
    "    k1 = parms[0]\n",
    "    k2 = parms[1]\n",
    "    return (1/2)*((k1*lig + 2*k1*k2*(lig**2))/(1 + k1*lig + k1*k2*(lig**2)))"
   ]
  },
  {
   "cell_type": "code",
   "execution_count": 34,
   "metadata": {},
   "outputs": [
    {
     "data": {
      "text/plain": [
       "array([  5.09485420e-04,   1.03788272e-03,   2.15105163e-03,\n",
       "         4.60025381e-03,   1.03675778e-02,   2.51765428e-02,\n",
       "         6.60295395e-02,   1.76368591e-01,   4.09844299e-01,\n",
       "         6.96136874e-01,   8.79134372e-01,   9.55013265e-01,\n",
       "         9.82368066e-01,   9.92508974e-01,   9.96597746e-01,\n",
       "         9.98386064e-01,   9.99214994e-01,   9.99613007e-01])"
      ]
     },
     "execution_count": 34,
     "metadata": {},
     "output_type": "execute_result"
    }
   ],
   "source": [
    "klotz2(np.array([1.,10.]),sim.ligs[0])"
   ]
  },
  {
   "cell_type": "code",
   "execution_count": 8,
   "metadata": {},
   "outputs": [
    {
     "data": {
      "text/plain": [
       "[<matplotlib.lines.Line2D at 0x116ea6e48>]"
      ]
     },
     "execution_count": 8,
     "metadata": {},
     "output_type": "execute_result"
    },
    {
     "data": {
      "image/png": "[encoded data removed]",
      "text/plain": [
       "<matplotlib.figure.Figure at 0x116ea6c50>"
      ]
     },
     "metadata": {},
     "output_type": "display_data"
    }
   ],
   "source": [
    "plt.semilogx(sim.ligs[0],klotz1(1.,sim.ligs[0]),'.')\n",
    "plt.semilogx(sim.ligs[0],klotz2(2.,0.5,sim.ligs[0]),'*')"
   ]
  },
  {
   "cell_type": "code",
   "execution_count": 19,
   "metadata": {},
   "outputs": [
    {
     "data": {
      "text/plain": [
       "array([  2.16840434e-19,  -4.33680869e-19,  -8.67361738e-19,\n",
       "         0.00000000e+00,   0.00000000e+00,   0.00000000e+00,\n",
       "         6.93889390e-18,  -1.38777878e-17,   2.77555756e-17,\n",
       "         5.55111512e-17,   0.00000000e+00,  -1.11022302e-16,\n",
       "         0.00000000e+00,   1.11022302e-16,  -1.11022302e-16,\n",
       "         1.11022302e-16,   1.11022302e-16,   0.00000000e+00])"
      ]
     },
     "execution_count": 19,
     "metadata": {},
     "output_type": "execute_result"
    }
   ],
   "source": [
    "klotz1(1.,sim.ligs[0]) - klotz2(2.,0.5,sim.ligs[0])"
   ]
  },
  {
   "cell_type": "code",
   "execution_count": 9,
   "metadata": {
    "collapsed": true
   },
   "outputs": [],
   "source": [
    "def ls_obj_k1(k1,ligs,data):\n",
    "    return(data - klotz1(k1,ligs))"
   ]
  },
  {
   "cell_type": "code",
   "execution_count": 14,
   "metadata": {},
   "outputs": [],
   "source": [
    "ligs = sim.ligs[0]\n",
    "dat = klotz1(1.,ligs)"
   ]
  },
  {
   "cell_type": "code",
   "execution_count": 15,
   "metadata": {},
   "outputs": [
    {
     "data": {
      "text/plain": [
       "array([ 0.000999  ,  0.00199601,  0.00398406,  0.00793651,  0.01574803,\n",
       "        0.03100775,  0.06015038,  0.11347518,  0.20382166,  0.33862434,\n",
       "        0.50592885,  0.67191601,  0.80376766,  0.89120975,  0.94247584,\n",
       "        0.97038616,  0.98497054,  0.99242837])"
      ]
     },
     "execution_count": 15,
     "metadata": {},
     "output_type": "execute_result"
    }
   ],
   "source": [
    "dat"
   ]
  },
  {
   "cell_type": "code",
   "execution_count": 23,
   "metadata": {},
   "outputs": [],
   "source": [
    "datnoise = np.abs(np.random.normal(dat,0.05*dat))"
   ]
  },
  {
   "cell_type": "code",
   "execution_count": 28,
   "metadata": {},
   "outputs": [
    {
     "data": {
      "text/plain": [
       "array([  6.67082692e-06,   7.63323427e-06,  -2.73581986e-04,\n",
       "         4.78324750e-04,  -1.60919508e-03,   2.60573301e-03,\n",
       "         2.27012248e-03,  -1.83740613e-03,   1.68593032e-02,\n",
       "         2.48160058e-04,  -3.54288079e-02,   9.94560838e-03,\n",
       "        -5.60563821e-02,   5.13118039e-02,  -3.89789861e-02,\n",
       "         1.74140897e-03,   3.33191538e-02,  -8.78180336e-02])"
      ]
     },
     "execution_count": 28,
     "metadata": {},
     "output_type": "execute_result"
    }
   ],
   "source": [
    "ls_obj_k1(1.,ligs,datnoise)"
   ]
  },
  {
   "cell_type": "code",
   "execution_count": 27,
   "metadata": {},
   "outputs": [
    {
     "data": {
      "text/plain": [
       "[<matplotlib.lines.Line2D at 0x117800f28>]"
      ]
     },
     "execution_count": 27,
     "metadata": {},
     "output_type": "execute_result"
    },
    {
     "data": {
      "image/png": "[encoded data removed]",
      "text/plain": [
       "<matplotlib.figure.Figure at 0x117555cf8>"
      ]
     },
     "metadata": {},
     "output_type": "display_data"
    }
   ],
   "source": [
    "plt.semilogx(ligs,datnoise,'.')"
   ]
  },
  {
   "cell_type": "code",
   "execution_count": 30,
   "metadata": {},
   "outputs": [
    {
     "data": {
      "text/plain": [
       " active_mask: array([ 0.])\n",
       "        cost: 0.0086776496708916573\n",
       "         fun: array([  4.79493450e-05,   9.00289659e-05,  -1.09432910e-04,\n",
       "         8.04075789e-04,  -9.67705161e-04,   3.85002474e-03,\n",
       "         4.61409654e-03,   2.34291009e-03,   2.36281017e-02,\n",
       "         9.64249644e-03,  -2.48694563e-02,   1.93236957e-02,\n",
       "        -4.93086435e-02,   5.54752674e-02,  -3.66457295e-02,\n",
       "         2.97964440e-03,   3.39574225e-02,  -8.74939440e-02])\n",
       "        grad: array([ -9.57228474e-09])\n",
       "         jac: array([[-0.00099809],\n",
       "       [-0.00199235],\n",
       "       [-0.0039695 ],\n",
       "       [-0.00787869],\n",
       "       [-0.01552024],\n",
       "       [-0.03012349],\n",
       "       [-0.05681464],\n",
       "       [-0.10154952],\n",
       "       [-0.16504937],\n",
       "       [-0.23036538],\n",
       "       [-0.26076359],\n",
       "       [-0.23322758],\n",
       "       [-0.16875894],\n",
       "       [-0.10451798],\n",
       "       [-0.05870241],\n",
       "       [-0.03119024],\n",
       "       [-0.01608763],\n",
       "       [-0.00817133]])\n",
       "     message: '`gtol` termination condition is satisfied.'\n",
       "        nfev: 4\n",
       "        njev: 4\n",
       "  optimality: 9.5722847420895082e-09\n",
       "      status: 1\n",
       "     success: True\n",
       "           x: array([ 0.95864059])"
      ]
     },
     "execution_count": 30,
     "metadata": {},
     "output_type": "execute_result"
    }
   ],
   "source": [
    "sp.optimize.least_squares(ls_obj_k1,1.,args=(ligs,datnoise))"
   ]
  },
  {
   "cell_type": "code",
   "execution_count": 35,
   "metadata": {
    "collapsed": true
   },
   "outputs": [],
   "source": [
    "def ls_obj_k2(parms,ligs,data):\n",
    "    return(data - klotz2(parms,ligs))"
   ]
  },
  {
   "cell_type": "code",
   "execution_count": 36,
   "metadata": {},
   "outputs": [
    {
     "data": {
      "text/plain": [
       "array([  6.67082692e-06,   7.63323427e-06,  -2.73581986e-04,\n",
       "         4.78324750e-04,  -1.60919508e-03,   2.60573301e-03,\n",
       "         2.27012248e-03,  -1.83740613e-03,   1.68593032e-02,\n",
       "         2.48160058e-04,  -3.54288079e-02,   9.94560838e-03,\n",
       "        -5.60563821e-02,   5.13118039e-02,  -3.89789861e-02,\n",
       "         1.74140897e-03,   3.33191538e-02,  -8.78180336e-02])"
      ]
     },
     "execution_count": 36,
     "metadata": {},
     "output_type": "execute_result"
    }
   ],
   "source": [
    "ls_obj_k2(np.array([2.,0.5]),ligs,datnoise)"
   ]
  },
  {
   "cell_type": "code",
   "execution_count": 40,
   "metadata": {},
   "outputs": [
    {
     "data": {
      "text/plain": [
       "0.016960421220272724"
      ]
     },
     "execution_count": 40,
     "metadata": {},
     "output_type": "execute_result"
    }
   ],
   "source": [
    "np.sum(np.square(sp.optimize.least_squares(ls_obj_k2,np.array([1.,1.]),args=(ligs,datnoise)).fun))"
   ]
  },
  {
   "cell_type": "code",
   "execution_count": 42,
   "metadata": {},
   "outputs": [
    {
     "data": {
      "text/plain": [
       "(18,)"
      ]
     },
     "execution_count": 42,
     "metadata": {},
     "output_type": "execute_result"
    }
   ],
   "source": [
    "datnoise.shape"
   ]
  },
  {
   "cell_type": "code",
   "execution_count": 43,
   "metadata": {
    "collapsed": true
   },
   "outputs": [],
   "source": [
    "datset = (ligs,datnoise)"
   ]
  },
  {
   "cell_type": "code",
   "execution_count": 45,
   "metadata": {},
   "outputs": [
    {
     "data": {
      "text/plain": [
       "[<matplotlib.lines.Line2D at 0x117acb278>]"
      ]
     },
     "execution_count": 45,
     "metadata": {},
     "output_type": "execute_result"
    },
    {
     "data": {
      "image/png": "[encoded data removed]",
      "text/plain": [
       "<matplotlib.figure.Figure at 0x117aa7cf8>"
      ]
     },
     "metadata": {},
     "output_type": "display_data"
    }
   ],
   "source": [
    "plt.semilogx(datset[0],datset[1],'.')"
   ]
  },
  {
   "cell_type": "code",
   "execution_count": 47,
   "metadata": {
    "collapsed": true
   },
   "outputs": [],
   "source": [
    "fit_klotz1 = sp.optimize.least_squares(ls_obj_k1,1.,args=(datset[0],datset[1]),ftol=1e-14)"
   ]
  },
  {
   "cell_type": "code",
   "execution_count": 49,
   "metadata": {
    "collapsed": true
   },
   "outputs": [],
   "source": [
    "fit_klotz2 = sp.optimize.least_squares(ls_obj_k2,np.array([1.,1.]),args=(datset[0],datset[1]),ftol=1e-14)"
   ]
  },
  {
   "cell_type": "code",
   "execution_count": 50,
   "metadata": {},
   "outputs": [
    {
     "data": {
      "text/plain": [
       "array([ 0.95864059])"
      ]
     },
     "execution_count": 50,
     "metadata": {},
     "output_type": "execute_result"
    }
   ],
   "source": [
    "fit_klotz1.x"
   ]
  },
  {
   "cell_type": "code",
   "execution_count": 51,
   "metadata": {},
   "outputs": [
    {
     "data": {
      "text/plain": [
       "array([ 2.09694958,  0.43890226])"
      ]
     },
     "execution_count": 51,
     "metadata": {},
     "output_type": "execute_result"
    }
   ],
   "source": [
    "fit_klotz2.x"
   ]
  },
  {
   "cell_type": "code",
   "execution_count": 53,
   "metadata": {},
   "outputs": [
    {
     "data": {
      "text/plain": [
       "(array([ 1.91728119]), array([ 0.4793203]))"
      ]
     },
     "execution_count": 53,
     "metadata": {},
     "output_type": "execute_result"
    }
   ],
   "source": [
    "(fit_klotz1.x*2, fit_klotz1.x/2)"
   ]
  },
  {
   "cell_type": "code",
   "execution_count": 56,
   "metadata": {},
   "outputs": [],
   "source": [
    "SSnull = np.sum(np.square(fit_klotz1.fun))"
   ]
  },
  {
   "cell_type": "code",
   "execution_count": 57,
   "metadata": {},
   "outputs": [],
   "source": [
    "SSalt = np.sum(np.square(fit_klotz2.fun))"
   ]
  },
  {
   "cell_type": "code",
   "execution_count": 58,
   "metadata": {
    "collapsed": true
   },
   "outputs": [],
   "source": [
    "DFnull = 17\n",
    "DFalt = 16"
   ]
  },
  {
   "cell_type": "code",
   "execution_count": 59,
   "metadata": {},
   "outputs": [
    {
     "data": {
      "text/plain": [
       "0.37251727785024097"
      ]
     },
     "execution_count": 59,
     "metadata": {},
     "output_type": "execute_result"
    }
   ],
   "source": [
    "((SSnull-SSalt)/SSalt)/((DFnull-DFalt)/DFalt)"
   ]
  },
  {
   "cell_type": "code",
   "execution_count": 60,
   "metadata": {},
   "outputs": [
    {
     "data": {
      "text/plain": [
       "-2.4706071680812243e-05"
      ]
     },
     "execution_count": 60,
     "metadata": {},
     "output_type": "execute_result"
    }
   ],
   "source": [
    "((SSnull-SSalt)/(DFnull-DFalt))/(SSalt-DFalt)"
   ]
  },
  {
   "cell_type": "code",
   "execution_count": 61,
   "metadata": {},
   "outputs": [
    {
     "data": {
      "text/plain": [
       "17"
      ]
     },
     "execution_count": 61,
     "metadata": {},
     "output_type": "execute_result"
    }
   ],
   "source": [
    "DFnull"
   ]
  },
  {
   "cell_type": "code",
   "execution_count": 62,
   "metadata": {},
   "outputs": [
    {
     "data": {
      "text/plain": [
       "16"
      ]
     },
     "execution_count": 62,
     "metadata": {},
     "output_type": "execute_result"
    }
   ],
   "source": [
    "DFalt"
   ]
  },
  {
   "cell_type": "code",
   "execution_count": 63,
   "metadata": {},
   "outputs": [
    {
     "data": {
      "text/plain": [
       "0.017355299341783315"
      ]
     },
     "execution_count": 63,
     "metadata": {},
     "output_type": "execute_result"
    }
   ],
   "source": [
    "SSnull"
   ]
  },
  {
   "cell_type": "code",
   "execution_count": 64,
   "metadata": {},
   "outputs": [
    {
     "data": {
      "text/plain": [
       "0.016960421220272724"
      ]
     },
     "execution_count": 64,
     "metadata": {},
     "output_type": "execute_result"
    }
   ],
   "source": [
    "SSalt"
   ]
  },
  {
   "cell_type": "code",
   "execution_count": 65,
   "metadata": {},
   "outputs": [
    {
     "data": {
      "text/plain": [
       "0.00039487812151059107"
      ]
     },
     "execution_count": 65,
     "metadata": {},
     "output_type": "execute_result"
    }
   ],
   "source": [
    "SSnull-SSalt"
   ]
  },
  {
   "cell_type": "code",
   "execution_count": 70,
   "metadata": {},
   "outputs": [
    {
     "data": {
      "text/plain": [
       "0.37251727785024097"
      ]
     },
     "execution_count": 70,
     "metadata": {},
     "output_type": "execute_result"
    }
   ],
   "source": [
    "(SSnull-SSalt)/(SSalt/DFalt)"
   ]
  },
  {
   "cell_type": "code",
   "execution_count": 74,
   "metadata": {},
   "outputs": [],
   "source": [
    "from scipy import stats"
   ]
  },
  {
   "cell_type": "code",
   "execution_count": 80,
   "metadata": {},
   "outputs": [
    {
     "data": {
      "text/plain": [
       "0.55020704311728008"
      ]
     },
     "execution_count": 80,
     "metadata": {},
     "output_type": "execute_result"
    }
   ],
   "source": [
    "stats.f.sf(0.372517277,1,16)"
   ]
  },
  {
   "cell_type": "code",
   "execution_count": 82,
   "metadata": {},
   "outputs": [
    {
     "data": {
      "text/plain": [
       "array([  1.00000000e-03,   2.00000000e-03,   4.00000000e-03,\n",
       "         8.00000000e-03,   1.60000000e-02,   3.20000000e-02,\n",
       "         6.40000000e-02,   1.28000000e-01,   2.56000000e-01,\n",
       "         5.12000000e-01,   1.02400000e+00,   2.04800000e+00,\n",
       "         4.09600000e+00,   8.19200000e+00,   1.63840000e+01,\n",
       "         3.27680000e+01,   6.55360000e+01,   1.31072000e+02])"
      ]
     },
     "execution_count": 82,
     "metadata": {},
     "output_type": "execute_result"
    }
   ],
   "source": [
    "lb.dilser()"
   ]
  },
  {
   "cell_type": "code",
   "execution_count": 114,
   "metadata": {},
   "outputs": [],
   "source": [
    "def k1mod(params,ligs,noise=None):\n",
    "    '''\n",
    "    returns tuple of ligand concentrations, saturation, params\n",
    "    \n",
    "    params is array of binding constants\n",
    "    ligs is array of ligand concentrations\n",
    "    noise is relative percent of gaussian noise (e.g., 0.0-1.) applied to data\n",
    "    '''\n",
    "    \n",
    "    k1 = params[0]\n",
    "    sat = (k1*ligs)/(1 + k1*ligs)\n",
    "    \n",
    "    if noise is None:\n",
    "        return (ligs,sat)\n",
    "    else:\n",
    "        noised = np.random.normal(sat,noise*sat)\n",
    "        return (ligs,noised,params)"
   ]
  },
  {
   "cell_type": "code",
   "execution_count": 106,
   "metadata": {},
   "outputs": [],
   "source": [
    "ligset = lb.dilser()"
   ]
  },
  {
   "cell_type": "code",
   "execution_count": 107,
   "metadata": {},
   "outputs": [
    {
     "data": {
      "text/plain": [
       "(array([  1.00000000e-03,   2.00000000e-03,   4.00000000e-03,\n",
       "          8.00000000e-03,   1.60000000e-02,   3.20000000e-02,\n",
       "          6.40000000e-02,   1.28000000e-01,   2.56000000e-01,\n",
       "          5.12000000e-01,   1.02400000e+00,   2.04800000e+00,\n",
       "          4.09600000e+00,   8.19200000e+00,   1.63840000e+01,\n",
       "          3.27680000e+01,   6.55360000e+01,   1.31072000e+02]),\n",
       " array([  9.51713629e-04,   1.91152792e-03,   4.11128184e-03,\n",
       "          7.00564112e-03,   1.68193518e-02,   3.17893718e-02,\n",
       "          5.98707723e-02,   1.03105691e-01,   1.93125927e-01,\n",
       "          3.07959581e-01,   4.98864446e-01,   6.73099526e-01,\n",
       "          8.26889350e-01,   8.71622949e-01,   9.56594420e-01,\n",
       "          1.06377323e+00,   9.97044548e-01,   9.89505321e-01]),\n",
       " array([1]))"
      ]
     },
     "execution_count": 107,
     "metadata": {},
     "output_type": "execute_result"
    }
   ],
   "source": [
    "k1mod(np.array([1]),ligset,0.05)"
   ]
  },
  {
   "cell_type": "code",
   "execution_count": 113,
   "metadata": {
    "collapsed": true
   },
   "outputs": [],
   "source": [
    "def k2mod(params,ligs,noise=None):\n",
    "    '''\n",
    "    returns tuple of ligand concentrations, saturation, params\n",
    "    \n",
    "    params is array of binding constants\n",
    "    ligs is array of ligand concentrations\n",
    "    noise is relative percent of gaussian noise (e.g., 0.0-1.) applied to data\n",
    "    '''\n",
    "    \n",
    "    k1 = params[0]\n",
    "    k2 = params[1]\n",
    "    sat = (1/2)*((k1*ligs + 2*k1*k2*(ligs**2))/(1 + k1*ligs + k1*k2*(ligs**2)))\n",
    "    \n",
    "    if noise is None:\n",
    "        return (ligs,sat)\n",
    "    else:\n",
    "        noised = np.random.normal(sat,noise*sat)\n",
    "        return (ligs,noised,params)"
   ]
  },
  {
   "cell_type": "code",
   "execution_count": 104,
   "metadata": {},
   "outputs": [
    {
     "data": {
      "text/plain": [
       "(array([  1.00000000e-03,   2.00000000e-03,   4.00000000e-03,\n",
       "          8.00000000e-03,   1.60000000e-02,   3.20000000e-02,\n",
       "          6.40000000e-02,   1.28000000e-01,   2.56000000e-01,\n",
       "          5.12000000e-01,   1.02400000e+00,   2.04800000e+00,\n",
       "          4.09600000e+00,   8.19200000e+00,   1.63840000e+01,\n",
       "          3.27680000e+01,   6.55360000e+01,   1.31072000e+02]),\n",
       " array([  1.00886791e-03,   1.95514968e-03,   3.88070916e-03,\n",
       "          7.43906188e-03,   1.61043270e-02,   3.11128474e-02,\n",
       "          6.55123009e-02,   1.10057927e-01,   1.98768641e-01,\n",
       "          3.44796484e-01,   4.85458363e-01,   7.25403013e-01,\n",
       "          7.11380627e-01,   9.12044309e-01,   1.01303476e+00,\n",
       "          1.05459346e+00,   9.90490385e-01,   9.52146157e-01]),\n",
       " array([ 2. ,  0.5]))"
      ]
     },
     "execution_count": 104,
     "metadata": {},
     "output_type": "execute_result"
    }
   ],
   "source": [
    "k2mod(np.array([2.,.5]),ligset,0.05)"
   ]
  },
  {
   "cell_type": "code",
   "execution_count": 100,
   "metadata": {},
   "outputs": [
    {
     "data": {
      "text/plain": [
       "array([ -2.16840434e-19,   4.33680869e-19,   8.67361738e-19,\n",
       "         0.00000000e+00,   0.00000000e+00,   0.00000000e+00,\n",
       "        -6.93889390e-18,   1.38777878e-17,  -2.77555756e-17,\n",
       "        -5.55111512e-17,   0.00000000e+00,   1.11022302e-16,\n",
       "         0.00000000e+00,  -1.11022302e-16,   1.11022302e-16,\n",
       "        -1.11022302e-16,  -1.11022302e-16,   0.00000000e+00])"
      ]
     },
     "execution_count": 100,
     "metadata": {},
     "output_type": "execute_result"
    }
   ],
   "source": [
    "k2mod(np.array([2.,.5]),ligset)[1] - k1mod(np.array([1.]),ligset)[1]"
   ]
  },
  {
   "cell_type": "code",
   "execution_count": 125,
   "metadata": {
    "collapsed": true
   },
   "outputs": [],
   "source": [
    "def obj(guess,model,data):\n",
    "    return model(guess,data[0])[1] - data[1]"
   ]
  },
  {
   "cell_type": "code",
   "execution_count": 126,
   "metadata": {
    "collapsed": true
   },
   "outputs": [],
   "source": [
    "datk2 = k2mod(np.array([2.,.5]),ligset,0.05)"
   ]
  },
  {
   "cell_type": "code",
   "execution_count": 127,
   "metadata": {},
   "outputs": [
    {
     "data": {
      "text/plain": [
       "array([  1.81407676e-06,  -6.24778130e-06,   3.53775447e-07,\n",
       "        -4.81135428e-04,  -2.08601617e-04,   5.44025369e-04,\n",
       "        -2.47046544e-03,  -7.82293460e-03,  -8.01826058e-03,\n",
       "         2.54745177e-04,   2.39861586e-02,  -1.76201271e-02,\n",
       "         6.98322502e-02,   5.61857622e-02,  -9.00549070e-02,\n",
       "        -3.31911854e-02,   5.22744113e-02,   5.50557843e-02])"
      ]
     },
     "execution_count": 127,
     "metadata": {},
     "output_type": "execute_result"
    }
   ],
   "source": [
    "obj(datk2[2],k2mod,datk2)"
   ]
  },
  {
   "cell_type": "code",
   "execution_count": 135,
   "metadata": {},
   "outputs": [],
   "source": [
    "def fit(data,model,guess):\n",
    "        return sp.optimize.least_squares(obj,guess,args=(model,data),ftol=1e-14,gtol=1e-14,xtol=1e-14)"
   ]
  },
  {
   "cell_type": "code",
   "execution_count": 136,
   "metadata": {},
   "outputs": [
    {
     "data": {
      "text/plain": [
       " active_mask: array([ 0.,  0.])\n",
       "        cost: 0.011207819861956984\n",
       "         fun: array([  9.56318745e-05,   1.80414352e-04,   3.69814295e-04,\n",
       "         2.42567995e-04,   1.17978035e-03,   3.09864501e-03,\n",
       "         1.85019218e-03,  -1.68808816e-03,  -2.26530488e-03,\n",
       "        -1.59097422e-04,   1.19017928e-02,  -3.89487265e-02,\n",
       "         4.79886012e-02,   3.98373067e-02,  -1.00218333e-01,\n",
       "        -3.88855445e-02,   4.92563550e-02,   5.35015699e-02])\n",
       "        grad: array([  1.01165842e-09,   6.89328726e-10])\n",
       "         jac: array([[  4.98229108e-04,   2.18143396e-06],\n",
       "       [  9.92934250e-04,   8.69727228e-06],\n",
       "       [  1.97187814e-03,   3.45623121e-05],\n",
       "       [  3.88862771e-03,   1.36461225e-04],\n",
       "       [  7.56320314e-03,   5.31933736e-04],\n",
       "       [  1.43188930e-02,   2.02240888e-03],\n",
       "       [  2.57545774e-02,   7.33238645e-03],\n",
       "       [  4.22028181e-02,   2.43785167e-02],\n",
       "       [  5.91251158e-02,   7.00023379e-02],\n",
       "       [  6.55441260e-02,   1.61044125e-01],\n",
       "       [  5.38582555e-02,   2.77258169e-01],\n",
       "       [  3.20462429e-02,   3.45786706e-01],\n",
       "       [  1.42115622e-02,   3.18524934e-01],\n",
       "       [  5.02000308e-03,   2.30820373e-01],\n",
       "       [  1.52324343e-03,   1.42199002e-01],\n",
       "       [  4.22242231e-04,   7.94850215e-02],\n",
       "       [  1.11346074e-04,   4.21047211e-02],\n",
       "       [  2.86126865e-05,   2.16804594e-02]])\n",
       "     message: '`ftol` termination condition is satisfied.'\n",
       "        nfev: 9\n",
       "        njev: 8\n",
       "  optimality: 1.0116584206638912e-09\n",
       "      status: 2\n",
       "     success: True\n",
       "           x: array([ 2.18861412,  0.41326878])"
      ]
     },
     "execution_count": 136,
     "metadata": {},
     "output_type": "execute_result"
    }
   ],
   "source": [
    "fit(datk2,k2mod,np.array([1.,1.]))"
   ]
  },
  {
   "cell_type": "code",
   "execution_count": 137,
   "metadata": {},
   "outputs": [
    {
     "data": {
      "text/plain": [
       " active_mask: array([ 0.])\n",
       "        cost: 0.011716870898387395\n",
       "         fun: array([ -4.72477083e-05,  -1.04180394e-04,  -1.94750956e-04,\n",
       "        -8.68329379e-04,  -9.71135370e-04,  -9.35230296e-04,\n",
       "        -5.25769625e-03,  -1.27958525e-02,  -1.60762031e-02,\n",
       "        -1.09408358e-02,   1.13851098e-02,  -2.88268100e-02,\n",
       "         6.17599186e-02,   5.12013295e-02,  -9.28494608e-02,\n",
       "        -3.46745793e-02,   5.15096765e-02,   5.46674551e-02])\n",
       "        grad: array([  1.31511605e-09])\n",
       "         jac: array([[ 0.0009981 ],\n",
       "       [ 0.00199241],\n",
       "       [ 0.00396975],\n",
       "       [ 0.00787967],\n",
       "       [ 0.01552406],\n",
       "       [ 0.03013808],\n",
       "       [ 0.05686811],\n",
       "       [ 0.10173033],\n",
       "       [ 0.16557978],\n",
       "       [ 0.23160426],\n",
       "       [ 0.26287791],\n",
       "       [ 0.23576199],\n",
       "       [ 0.17096867],\n",
       "       [ 0.1060428 ],\n",
       "       [ 0.05961067],\n",
       "       [ 0.03168788],\n",
       "       [ 0.01634838],\n",
       "       [ 0.00830484]])\n",
       "     message: '`ftol` termination condition is satisfied.'\n",
       "        nfev: 6\n",
       "        njev: 6\n",
       "  optimality: 1.3151160465534398e-09\n",
       "      status: 2\n",
       "     success: True\n",
       "           x: array([ 0.95084246])"
      ]
     },
     "execution_count": 137,
     "metadata": {},
     "output_type": "execute_result"
    }
   ],
   "source": [
    "fit(datk2,k1mod,np.array([1.]))"
   ]
  },
  {
   "cell_type": "code",
   "execution_count": 138,
   "metadata": {
    "collapsed": true
   },
   "outputs": [],
   "source": [
    "fittest = fit(datk2,k1mod,np.array([1.]))"
   ]
  },
  {
   "cell_type": "code",
   "execution_count": 143,
   "metadata": {},
   "outputs": [
    {
     "data": {
      "text/plain": [
       "1"
      ]
     },
     "execution_count": 143,
     "metadata": {},
     "output_type": "execute_result"
    }
   ],
   "source": [
    "fittest.x.shape[0]"
   ]
  },
  {
   "cell_type": "code",
   "execution_count": 157,
   "metadata": {
    "collapsed": true
   },
   "outputs": [],
   "source": [
    "def ftest(fit1,fit2):\n",
    "    '''\n",
    "    fit1 is fit from simpler model\n",
    "    '''\n",
    "    \n",
    "    SS1 = np.sum(np.square(fit1.fun))\n",
    "    SS2 = np.sum(np.square(fit2.fun))\n",
    "    \n",
    "    DF1 = fit1.fun.shape[0] - fit1.x.shape[0]\n",
    "    DF2 = fit2.fun.shape[0] - fit2.x.shape[0]\n",
    "    \n",
    "    F = ((SS1-SS2)/(DF1-DF2))/(SS2/DF2)\n",
    "    \n",
    "    p = sp.stats.f.sf(F,(DF1-DF2),DF2)\n",
    "    \n",
    "    print(SS1,SS2,DF1,DF2,F,p)\n",
    "        "
   ]
  },
  {
   "cell_type": "code",
   "execution_count": 147,
   "metadata": {},
   "outputs": [],
   "source": [
    "fita = fit(datk2,k1mod,np.array([1.]))\n",
    "fitb = fit(datk2,k2mod,np.array([1.,1.]))"
   ]
  },
  {
   "cell_type": "code",
   "execution_count": 148,
   "metadata": {},
   "outputs": [
    {
     "data": {
      "text/plain": [
       "array([ 0.95084246])"
      ]
     },
     "execution_count": 148,
     "metadata": {},
     "output_type": "execute_result"
    }
   ],
   "source": [
    "fita.x"
   ]
  },
  {
   "cell_type": "code",
   "execution_count": 149,
   "metadata": {},
   "outputs": [
    {
     "data": {
      "text/plain": [
       "array([ 2.18861412,  0.41326878])"
      ]
     },
     "execution_count": 149,
     "metadata": {},
     "output_type": "execute_result"
    }
   ],
   "source": [
    "fitb.x"
   ]
  },
  {
   "cell_type": "code",
   "execution_count": 158,
   "metadata": {},
   "outputs": [
    {
     "name": "stdout",
     "output_type": "stream",
     "text": [
      "0.0234337417968 0.0224156397239 17 16 0.726708377116 0.406532384267\n"
     ]
    }
   ],
   "source": [
    "ftest(fita,fitb)"
   ]
  },
  {
   "cell_type": "code",
   "execution_count": 155,
   "metadata": {
    "collapsed": true
   },
   "outputs": [],
   "source": [
    "import scipy as sp"
   ]
  },
  {
   "cell_type": "code",
   "execution_count": 156,
   "metadata": {},
   "outputs": [
    {
     "data": {
      "text/plain": [
       "<module 'scipy.stats' from '/Users/michael/miniconda3/envs/fitter/lib/python3.5/site-packages/scipy/stats/__init__.py'>"
      ]
     },
     "execution_count": 156,
     "metadata": {},
     "output_type": "execute_result"
    }
   ],
   "source": [
    "sp.stats"
   ]
  },
  {
   "cell_type": "code",
   "execution_count": null,
   "metadata": {
    "collapsed": true
   },
   "outputs": [],
   "source": []
  }
 ],
 "metadata": {
  "anaconda-cloud": {},
  "kernelspec": {
   "display_name": "Python [conda env:fitter]",
   "language": "python",
   "name": "conda-env-fitter-py"
  },
  "language_info": {
   "codemirror_mode": {
    "name": "ipython",
    "version": 3
   },
   "file_extension": ".py",
   "mimetype": "text/x-python",
   "name": "python",
   "nbconvert_exporter": "python",
   "pygments_lexer": "ipython3",
   "version": "3.5.3"
  }
 },
 "nbformat": 4,
 "nbformat_minor": 2
}

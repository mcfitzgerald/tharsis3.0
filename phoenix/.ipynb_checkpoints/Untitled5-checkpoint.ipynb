{
 "cells": [
  {
   "cell_type": "code",
   "execution_count": 1,
   "metadata": {
    "collapsed": true
   },
   "outputs": [],
   "source": [
    "import numpy as np\n",
    "import scipy as sp\n",
    "from scipy import optimize\n",
    "from scipy import stats\n",
    "import matplotlib.pyplot as plt\n",
    "import sys, copy, emcee, corner\n",
    "%matplotlib inline"
   ]
  },
  {
   "cell_type": "code",
   "execution_count": 2,
   "metadata": {
    "collapsed": true
   },
   "outputs": [],
   "source": [
    "sys.path.append('./ligbind/')\n",
    "import ligbind as lb"
   ]
  },
  {
   "cell_type": "code",
   "execution_count": 177,
   "metadata": {
    "collapsed": true
   },
   "outputs": [],
   "source": [
    "sim = lb.WymSim(sets=1000,reps=1,parms=np.array([5.,2.,0.5,500.]))"
   ]
  },
  {
   "cell_type": "code",
   "execution_count": 178,
   "metadata": {},
   "outputs": [
    {
     "data": {
      "text/plain": [
       "array([[[ 0.00349354,  0.00751017,  0.0144825 , ...,  0.9118414 ,\n",
       "          1.01762878,  1.02721448],\n",
       "        [ 0.00281139,  0.00551922,  0.01083328, ...,  0.96733952,\n",
       "          0.89221453,  0.94658028],\n",
       "        [ 0.00248445,  0.00441029,  0.01019585, ...,  0.96193108,\n",
       "          1.01162142,  0.96235216],\n",
       "        [ 0.00205045,  0.00374886,  0.00828006, ...,  0.88831199,\n",
       "          1.05763491,  1.00647236],\n",
       "        [ 0.00171414,  0.00336377,  0.00736159, ...,  0.9504558 ,\n",
       "          1.07374555,  1.10784327],\n",
       "        [ 0.00151314,  0.00287926,  0.00569384, ...,  0.91480546,\n",
       "          0.94095071,  0.99982769]],\n",
       "\n",
       "       [[ 0.00366257,  0.00683303,  0.01383038, ...,  0.94084744,\n",
       "          1.00987122,  1.05154651],\n",
       "        [ 0.00285523,  0.00547219,  0.01053942, ...,  0.97377184,\n",
       "          1.03337885,  0.98646648],\n",
       "        [ 0.00251359,  0.00511175,  0.01030706, ...,  0.98726294,\n",
       "          1.0230132 ,  0.93571628],\n",
       "        [ 0.00198777,  0.00432097,  0.00761627, ...,  0.82810988,\n",
       "          0.93005334,  0.92640553],\n",
       "        [ 0.00174447,  0.00373243,  0.00723897, ...,  1.02377378,\n",
       "          0.92603712,  0.9997142 ],\n",
       "        [ 0.00172592,  0.00298004,  0.0060666 , ...,  0.98915217,\n",
       "          0.92616   ,  1.06862739]],\n",
       "\n",
       "       [[ 0.00363747,  0.00697682,  0.01418218, ...,  0.96614987,\n",
       "          1.00651437,  1.05877258],\n",
       "        [ 0.00274545,  0.00591686,  0.01143484, ...,  1.04608766,\n",
       "          0.95613932,  0.91480936],\n",
       "        [ 0.00240581,  0.00485883,  0.00966127, ...,  0.97721764,\n",
       "          0.92648302,  1.0550809 ],\n",
       "        [ 0.00209147,  0.00422119,  0.0074674 , ...,  0.94663752,\n",
       "          0.92629937,  1.04308901],\n",
       "        [ 0.00167988,  0.00351314,  0.00567052, ...,  0.99863082,\n",
       "          0.9342614 ,  1.00350061],\n",
       "        [ 0.00163666,  0.00270625,  0.0060176 , ...,  0.96769042,\n",
       "          0.98603479,  1.05553393]],\n",
       "\n",
       "       ..., \n",
       "       [[ 0.00334642,  0.00702709,  0.01319091, ...,  0.86552379,\n",
       "          0.96518681,  0.99259379],\n",
       "        [ 0.00271279,  0.00596034,  0.01062941, ...,  0.89976335,\n",
       "          1.10189952,  0.95050181],\n",
       "        [ 0.0023746 ,  0.00466484,  0.00942842, ...,  1.04573823,\n",
       "          0.9958999 ,  1.02545038],\n",
       "        [ 0.00223982,  0.00432332,  0.00850048, ...,  1.0435455 ,\n",
       "          1.03248688,  0.90012849],\n",
       "        [ 0.00178574,  0.00345784,  0.00765732, ...,  1.01722024,\n",
       "          0.99901407,  0.93842131],\n",
       "        [ 0.00151152,  0.00307878,  0.00593902, ...,  1.0683915 ,\n",
       "          1.01381442,  0.99285339]],\n",
       "\n",
       "       [[ 0.00355675,  0.00666679,  0.01299985, ...,  1.01799033,\n",
       "          0.93071164,  1.01114393],\n",
       "        [ 0.00346684,  0.00561249,  0.01158157, ...,  0.92111998,\n",
       "          0.97393627,  0.99566285],\n",
       "        [ 0.00256223,  0.00451882,  0.01003331, ...,  1.07931678,\n",
       "          1.04055947,  0.99252105],\n",
       "        [ 0.00201026,  0.00396587,  0.00848923, ...,  1.03865876,\n",
       "          1.01888839,  1.01794107],\n",
       "        [ 0.00164193,  0.00359951,  0.00687608, ...,  1.12492499,\n",
       "          0.93776939,  1.00375175],\n",
       "        [ 0.00156831,  0.00296745,  0.00596233, ...,  1.05362059,\n",
       "          1.01077444,  1.03318848]],\n",
       "\n",
       "       [[ 0.00368652,  0.00703154,  0.01416544, ...,  1.08891459,\n",
       "          0.97924932,  1.02563149],\n",
       "        [ 0.00303061,  0.00590797,  0.01154449, ...,  0.95896347,\n",
       "          1.01504086,  1.04006223],\n",
       "        [ 0.0023138 ,  0.00503848,  0.00990241, ...,  1.00581483,\n",
       "          1.00631282,  1.08240156],\n",
       "        [ 0.00234449,  0.00407115,  0.00869152, ...,  1.00040417,\n",
       "          1.0081437 ,  0.98744027],\n",
       "        [ 0.00163984,  0.00361702,  0.00724216, ...,  1.07321436,\n",
       "          0.98453454,  1.0063207 ],\n",
       "        [ 0.00149016,  0.00280371,  0.00637457, ...,  0.90734011,\n",
       "          0.96968758,  0.9692315 ]]])"
      ]
     },
     "execution_count": 178,
     "metadata": {},
     "output_type": "execute_result"
    }
   ],
   "source": [
    "sim.meanset"
   ]
  },
  {
   "cell_type": "code",
   "execution_count": 39,
   "metadata": {
    "collapsed": true
   },
   "outputs": [],
   "source": [
    "def obj(guess,model,data):\n",
    "    return model(guess,data[0])[1] - data[1]\n",
    "\n",
    "#removed proportionality constant\n",
    "def obj_wt(guess,model,data):\n",
    "    return (model(guess,data[0])[1] - data[1])/(data[1])\n",
    "\n",
    "def fit(data,model,guess):\n",
    "        return sp.optimize.least_squares(obj,guess,args=(model,data),ftol=1e-14,gtol=1e-14,xtol=1e-14)\n",
    "\n",
    "#removed proportionality constant    \n",
    "def fit_wt(data,model,guess):\n",
    "        return sp.optimize.least_squares(obj_wt,guess,args=(model,data),method='L-BFGS-B',ftol=1e-14,gtol=1e-14,xtol=1e-14)"
   ]
  },
  {
   "cell_type": "code",
   "execution_count": 40,
   "metadata": {},
   "outputs": [
    {
     "data": {
      "text/plain": [
       "array([   3. ,    2. ,    0.1,  100. ])"
      ]
     },
     "execution_count": 40,
     "metadata": {},
     "output_type": "execute_result"
    }
   ],
   "source": [
    "sim.parms"
   ]
  },
  {
   "cell_type": "code",
   "execution_count": 41,
   "metadata": {},
   "outputs": [
    {
     "data": {
      "text/plain": [
       "array([ 0.00270114,  0.00538823,  0.01072068,  0.02122155,  0.04158962,\n",
       "        0.07995809,  0.14838883,  0.25922436,  0.41318706,  0.58652335,\n",
       "        0.74071453,  0.85171564,  0.92017061,  0.95850362,  0.97883397,\n",
       "        0.98930956,  0.99462754,  0.99730691,  0.00245828,  0.00490498,\n",
       "        0.00976393,  0.01934623,  0.03798528,  0.07328746,  0.1368788 ,\n",
       "        0.24163521,  0.39089596,  0.5643122 ,  0.72336186,  0.84051004,\n",
       "        0.91375548,  0.95506705,  0.97705513,  0.98840459,  0.99417112,\n",
       "        0.99707771,  0.0022312 ,  0.00445269,  0.0088668 ,  0.01758129,\n",
       "        0.03456848,  0.06687522,  0.12552496,  0.22348911,  0.36624904,\n",
       "        0.53744654,  0.70032845,  0.82445614,  0.90407663,  0.94972034,\n",
       "        0.97424055,  0.98695999,  0.99343923,  0.99670934,  0.00199594,\n",
       "        0.0039838 ,  0.00793546,  0.01574391,  0.03099184,  0.06009095,\n",
       "        0.11326691,  0.20317096,  0.33694389,  0.50263769,  0.66730939,\n",
       "        0.79914398,  0.88766661,  0.94021959,  0.96910167,  0.98428349,\n",
       "        0.99207283,  0.99601891,  0.00171326,  0.00342004,  0.00681432,\n",
       "        0.01352675,  0.02665525,  0.05178786,  0.09799311,  0.17700229,\n",
       "        0.29698425,  0.45079722,  0.61205236,  0.75104444,  0.85276486,\n",
       "        0.9182719 ,  0.95659371,  0.97757164,  0.98859096,  0.99424488,\n",
       "        0.00153748,  0.00306934,  0.00611626,  0.01214392,  0.02394136,\n",
       "        0.04655704,  0.08824681,  0.15990017,  0.26974677,  0.41298363,\n",
       "        0.56767905,  0.70766657,  0.81741406,  0.89380902,  0.94169589,\n",
       "        0.9692484 ,  0.98417501,  0.99196799])"
      ]
     },
     "execution_count": 41,
     "metadata": {},
     "output_type": "execute_result"
    }
   ],
   "source": [
    "lb.models.wymfunc(sim.parms,sim.ligs,sim.rtot)"
   ]
  },
  {
   "cell_type": "code",
   "execution_count": 92,
   "metadata": {
    "collapsed": true
   },
   "outputs": [],
   "source": [
    "def wym_obj(guess,model,data,ligs,rtot):\n",
    "    datac = np.concatenate(data)\n",
    "    return (model(guess,ligs,rtot)-datac)\n",
    "\n",
    "def fit_wym(guess,model,data,ligs,rtot,bnds):\n",
    "        return sp.optimize.least_squares(wym_obj,guess,args=(model,data,ligs,rtot),bounds=bnds,method='trf',ftol=1e-14,gtol=1e-14,xtol=1e-14)\n",
    "    \n",
    "def wym_obj_wt(guess,model,data,ligs,rtot):\n",
    "    datac = np.concatenate(data)\n",
    "    return (model(guess,ligs,rtot)-datac)/datac\n",
    "\n",
    "def fit_wym_wt(guess,model,data,ligs,rtot,bnds):\n",
    "        return sp.optimize.least_squares(wym_obj_wt,guess,args=(model,data,ligs,rtot),bounds=bnds,method='trf',ftol=1e-14,gtol=1e-14,xtol=1e-14)"
   ]
  },
  {
   "cell_type": "code",
   "execution_count": 57,
   "metadata": {},
   "outputs": [
    {
     "data": {
      "text/plain": [
       "array([ -3.96968966e-05,  -2.23085939e-04,  -5.40824955e-04,\n",
       "         2.10279067e-03,  -2.21504309e-03,  -1.11017659e-04,\n",
       "        -3.56526372e-03,   1.76933981e-02,  -7.15989238e-03,\n",
       "         9.04143573e-03,   7.90612686e-03,  -8.81201498e-03,\n",
       "         2.40453103e-02,   7.07431762e-02,  -3.19301728e-02,\n",
       "        -4.37692885e-02,   7.05517592e-02,  -1.12410166e-02,\n",
       "         2.46720619e-04,   2.26356851e-04,   9.40833361e-05,\n",
       "         5.14795789e-04,  -3.27456435e-03,  -5.62820805e-04,\n",
       "         1.14886940e-02,   2.45661250e-02,  -5.55911812e-03,\n",
       "        -6.52017017e-02,  -1.59458431e-02,   1.27277744e-01,\n",
       "         6.81626489e-03,   4.06590419e-03,  -1.18670354e-01,\n",
       "         1.12348491e-02,  -2.97877433e-02,   4.11234347e-02,\n",
       "        -1.37701406e-04,   7.21194964e-05,   7.19803484e-05,\n",
       "        -5.32688435e-04,  -3.26329488e-04,  -3.55109538e-03,\n",
       "         2.48866451e-03,   1.78414294e-02,   6.66555082e-03,\n",
       "         1.15549348e-02,   4.10641010e-02,  -1.14067201e-02,\n",
       "         1.07439288e-02,  -1.36523399e-02,  -4.24573967e-02,\n",
       "        -1.06943143e-02,  -7.97467409e-02,  -9.16427682e-02,\n",
       "        -3.28620587e-05,   7.06035406e-05,   2.41795881e-04,\n",
       "         1.76167672e-04,   1.45806081e-03,   8.59787276e-04,\n",
       "         7.90113536e-03,  -1.70029133e-02,   1.35469196e-02,\n",
       "        -4.26934849e-02,   3.15017597e-02,  -5.47952787e-02,\n",
       "         1.87374089e-02,   2.50046565e-02,  -8.35083343e-02,\n",
       "        -1.74595553e-03,  -6.79206400e-02,   6.83815632e-02,\n",
       "        -1.97340798e-05,  -9.81991274e-05,   2.01084186e-05,\n",
       "         1.43345509e-04,   2.59328467e-03,   4.97451767e-03,\n",
       "         5.47200548e-03,   6.80338157e-03,  -2.33348455e-02,\n",
       "        -7.41996968e-03,   3.43925104e-02,  -1.47938946e-02,\n",
       "        -4.11444555e-02,  -4.22139420e-02,  -4.59889193e-04,\n",
       "         1.80604881e-03,   2.82196186e-02,  -3.90137378e-02,\n",
       "        -6.13406699e-05,   2.10088128e-04,   1.55031253e-04,\n",
       "        -2.92580338e-04,  -1.21773651e-03,  -1.77077533e-03,\n",
       "        -1.62871315e-03,   2.11083274e-03,  -2.28679348e-04,\n",
       "        -2.40961078e-02,  -2.09718916e-02,   1.10824937e-02,\n",
       "         1.61888860e-02,   4.84212837e-03,  -3.54098690e-03,\n",
       "        -1.07086144e-02,   1.79238656e-02,  -1.23057328e-01])"
      ]
     },
     "execution_count": 57,
     "metadata": {},
     "output_type": "execute_result"
    }
   ],
   "source": [
    "wym_obj(sim.parms,lb.models.wymfunc,sim.meanset[0],sim.ligs,sim.rtot)"
   ]
  },
  {
   "cell_type": "code",
   "execution_count": 58,
   "metadata": {
    "collapsed": true
   },
   "outputs": [],
   "source": [
    "lsbnds = (tuple(1e-5 for i in range(4)),tuple(1e4 for i in range(4)))"
   ]
  },
  {
   "cell_type": "code",
   "execution_count": 59,
   "metadata": {},
   "outputs": [
    {
     "data": {
      "text/plain": [
       "((1e-05, 1e-05, 1e-05, 1e-05), (10000.0, 10000.0, 10000.0, 10000.0))"
      ]
     },
     "execution_count": 59,
     "metadata": {},
     "output_type": "execute_result"
    }
   ],
   "source": [
    "lsbnds"
   ]
  },
  {
   "cell_type": "code",
   "execution_count": 60,
   "metadata": {},
   "outputs": [
    {
     "data": {
      "text/plain": [
       "array([ 0.00270114,  0.00538823,  0.01072068,  0.02122155,  0.04158962,\n",
       "        0.07995809,  0.14838883,  0.25922436,  0.41318706,  0.58652335,\n",
       "        0.74071453,  0.85171564,  0.92017061,  0.95850362,  0.97883397,\n",
       "        0.98930956,  0.99462754,  0.99730691,  0.00245828,  0.00490498,\n",
       "        0.00976393,  0.01934623,  0.03798528,  0.07328746,  0.1368788 ,\n",
       "        0.24163521,  0.39089596,  0.5643122 ,  0.72336186,  0.84051004,\n",
       "        0.91375548,  0.95506705,  0.97705513,  0.98840459,  0.99417112,\n",
       "        0.99707771,  0.0022312 ,  0.00445269,  0.0088668 ,  0.01758129,\n",
       "        0.03456848,  0.06687522,  0.12552496,  0.22348911,  0.36624904,\n",
       "        0.53744654,  0.70032845,  0.82445614,  0.90407663,  0.94972034,\n",
       "        0.97424055,  0.98695999,  0.99343923,  0.99670934,  0.00199594,\n",
       "        0.0039838 ,  0.00793546,  0.01574391,  0.03099184,  0.06009095,\n",
       "        0.11326691,  0.20317096,  0.33694389,  0.50263769,  0.66730939,\n",
       "        0.79914398,  0.88766661,  0.94021959,  0.96910167,  0.98428349,\n",
       "        0.99207283,  0.99601891,  0.00171326,  0.00342004,  0.00681432,\n",
       "        0.01352675,  0.02665525,  0.05178786,  0.09799311,  0.17700229,\n",
       "        0.29698425,  0.45079722,  0.61205236,  0.75104444,  0.85276486,\n",
       "        0.9182719 ,  0.95659371,  0.97757164,  0.98859096,  0.99424488,\n",
       "        0.00153748,  0.00306934,  0.00611626,  0.01214392,  0.02394136,\n",
       "        0.04655704,  0.08824681,  0.15990017,  0.26974677,  0.41298363,\n",
       "        0.56767905,  0.70766657,  0.81741406,  0.89380902,  0.94169589,\n",
       "        0.9692484 ,  0.98417501,  0.99196799])"
      ]
     },
     "execution_count": 60,
     "metadata": {},
     "output_type": "execute_result"
    }
   ],
   "source": [
    "lb.models.wymfunc(sim.parms,sim.ligs,sim.rtot)"
   ]
  },
  {
   "cell_type": "code",
   "execution_count": 207,
   "metadata": {
    "collapsed": true
   },
   "outputs": [],
   "source": [
    "res = np.array([fit_wym(sim.parms,lb.models.wymfunc,i,sim.ligs,sim.rtot,lsbnds).x for i in sim.meanset])"
   ]
  },
  {
   "cell_type": "code",
   "execution_count": 180,
   "metadata": {},
   "outputs": [
    {
     "data": {
      "text/plain": [
       "(array([  22.,    0.,    0.,    0.,    0.,    0.,    0.,    0.,    0.,\n",
       "           0.,    0.,    0.,    0.,    0.,    0.,    0.,    0.,    0.,\n",
       "           0.,    0.,    0.,    0.,    0.,    0.,    0.,    0.,    0.,\n",
       "           0.,    0.,    0.,    0.,    0.,    0.,    0.,    0.,    0.,\n",
       "           0.,    0.,    0.,    0.,    0.,    0.,    0.,    0.,    0.,\n",
       "           0.,    0.,    0.,    0.,    0.,    0.,    0.,    0.,    1.,\n",
       "           0.,    0.,    0.,    0.,    0.,    0.,    0.,    0.,    0.,\n",
       "           1.,    0.,    0.,    0.,    0.,    0.,    0.,    0.,    0.,\n",
       "           1.,    1.,    1.,    0.,    2.,    0.,    2.,    3.,    1.,\n",
       "           3.,    4.,    4.,    4.,   11.,   15.,   23.,   31.,   27.,\n",
       "          52.,   79.,   87.,   94.,  148.,  157.,  126.,   71.,   21.,    8.]),\n",
       " array([-5.        , -4.95015193, -4.90030385, -4.85045578, -4.80060771,\n",
       "        -4.75075964, -4.70091156, -4.65106349, -4.60121542, -4.55136734,\n",
       "        -4.50151927, -4.4516712 , -4.40182312, -4.35197505, -4.30212698,\n",
       "        -4.25227891, -4.20243083, -4.15258276, -4.10273469, -4.05288661,\n",
       "        -4.00303854, -3.95319047, -3.90334239, -3.85349432, -3.80364625,\n",
       "        -3.75379818, -3.7039501 , -3.65410203, -3.60425396, -3.55440588,\n",
       "        -3.50455781, -3.45470974, -3.40486167, -3.35501359, -3.30516552,\n",
       "        -3.25531745, -3.20546937, -3.1556213 , -3.10577323, -3.05592515,\n",
       "        -3.00607708, -2.95622901, -2.90638094, -2.85653286, -2.80668479,\n",
       "        -2.75683672, -2.70698864, -2.65714057, -2.6072925 , -2.55744442,\n",
       "        -2.50759635, -2.45774828, -2.40790021, -2.35805213, -2.30820406,\n",
       "        -2.25835599, -2.20850791, -2.15865984, -2.10881177, -2.0589637 ,\n",
       "        -2.00911562, -1.95926755, -1.90941948, -1.8595714 , -1.80972333,\n",
       "        -1.75987526, -1.71002718, -1.66017911, -1.61033104, -1.56048297,\n",
       "        -1.51063489, -1.46078682, -1.41093875, -1.36109067, -1.3112426 ,\n",
       "        -1.26139453, -1.21154646, -1.16169838, -1.11185031, -1.06200224,\n",
       "        -1.01215416, -0.96230609, -0.91245802, -0.86260994, -0.81276187,\n",
       "        -0.7629138 , -0.71306573, -0.66321765, -0.61336958, -0.56352151,\n",
       "        -0.51367343, -0.46382536, -0.41397729, -0.36412921, -0.31428114,\n",
       "        -0.26443307, -0.214585  , -0.16473692, -0.11488885, -0.06504078,\n",
       "        -0.0151927 ]),\n",
       " <a list of 100 Patch objects>)"
      ]
     },
     "execution_count": 180,
     "metadata": {},
     "output_type": "execute_result"
    },
    {
     "data": {
      "image/png": "[encoded data removed]",
      "text/plain": [
       "<matplotlib.figure.Figure at 0x11f1c3eb8>"
      ]
     },
     "metadata": {},
     "output_type": "display_data"
    }
   ],
   "source": [
    "plt.hist(np.log10(res[:,2]),bins=100)"
   ]
  },
  {
   "cell_type": "code",
   "execution_count": 181,
   "metadata": {
    "collapsed": true
   },
   "outputs": [],
   "source": [
    "res_wt = np.array([fit_wym_wt(sim.parms,lb.models.wymfunc,i,sim.ligs,sim.rtot,lsbnds).x for i in sim.meanset])"
   ]
  },
  {
   "cell_type": "code",
   "execution_count": 146,
   "metadata": {},
   "outputs": [
    {
     "data": {
      "text/plain": [
       "(array([ 461.,    0.,    0.,    0.,    0.,    0.,    0.,    0.,    0.,\n",
       "           0.,    0.,    0.,    0.,    0.,    0.,    0.,    0.,    0.,\n",
       "           0.,    1.,    0.,    0.,    0.,    0.,    1.,    0.,    0.,\n",
       "           1.,    0.,    0.,    0.,    2.,    0.,    1.,    2.,    3.,\n",
       "           2.,    2.,    1.,    3.,    4.,    6.,    7.,    7.,    7.,\n",
       "          15.,   15.,   17.,   23.,   28.,   35.,   36.,   50.,   62.,\n",
       "          49.,   37.,   19.,    7.,    6.,    9.,    0.,    3.,    2.,\n",
       "           0.,    1.,    1.,    1.,    0.,    0.,    0.,    0.,    0.,\n",
       "           0.,    0.,    0.,    0.,    0.,    0.,    0.,    0.,    0.,\n",
       "           1.,    0.,    0.,    1.,    0.,    1.,    1.,    0.,    1.,\n",
       "           5.,    4.,    1.,    0.,    2.,    4.,    4.,    3.,    3.,   42.]),\n",
       " array([-5.  , -4.91, -4.82, -4.73, -4.64, -4.55, -4.46, -4.37, -4.28,\n",
       "        -4.19, -4.1 , -4.01, -3.92, -3.83, -3.74, -3.65, -3.56, -3.47,\n",
       "        -3.38, -3.29, -3.2 , -3.11, -3.02, -2.93, -2.84, -2.75, -2.66,\n",
       "        -2.57, -2.48, -2.39, -2.3 , -2.21, -2.12, -2.03, -1.94, -1.85,\n",
       "        -1.76, -1.67, -1.58, -1.49, -1.4 , -1.31, -1.22, -1.13, -1.04,\n",
       "        -0.95, -0.86, -0.77, -0.68, -0.59, -0.5 , -0.41, -0.32, -0.23,\n",
       "        -0.14, -0.05,  0.04,  0.13,  0.22,  0.31,  0.4 ,  0.49,  0.58,\n",
       "         0.67,  0.76,  0.85,  0.94,  1.03,  1.12,  1.21,  1.3 ,  1.39,\n",
       "         1.48,  1.57,  1.66,  1.75,  1.84,  1.93,  2.02,  2.11,  2.2 ,\n",
       "         2.29,  2.38,  2.47,  2.56,  2.65,  2.74,  2.83,  2.92,  3.01,\n",
       "         3.1 ,  3.19,  3.28,  3.37,  3.46,  3.55,  3.64,  3.73,  3.82,\n",
       "         3.91,  4.  ]),\n",
       " <a list of 100 Patch objects>)"
      ]
     },
     "execution_count": 146,
     "metadata": {},
     "output_type": "execute_result"
    },
    {
     "data": {
      "image/png": "[encoded data removed]",
      "text/plain": [
       "<matplotlib.figure.Figure at 0x11dbb9d68>"
      ]
     },
     "metadata": {},
     "output_type": "display_data"
    }
   ],
   "source": [
    "plt.hist(np.log10(res_wt[:,2]),bins=100,color='red')\n",
    "plt.hist(np.log10(res[:,2]),bins=100,color='green',alpha=0.5)"
   ]
  },
  {
   "cell_type": "code",
   "execution_count": 95,
   "metadata": {},
   "outputs": [
    {
     "data": {
      "text/plain": [
       "array([False, False, False, False, False, False, False, False, False,\n",
       "       False, False, False, False, False, False, False, False, False,\n",
       "       False,  True, False, False, False, False, False, False,  True,\n",
       "       False, False, False, False, False, False, False, False, False,\n",
       "       False, False, False, False, False, False, False, False, False,\n",
       "       False, False, False, False, False, False, False, False, False,\n",
       "       False, False, False, False, False, False, False, False, False,\n",
       "       False, False, False, False, False, False, False, False, False,\n",
       "       False, False, False, False, False, False, False, False, False,\n",
       "       False, False, False, False, False,  True, False, False, False,\n",
       "       False, False, False, False, False, False, False, False, False,\n",
       "       False, False, False, False, False,  True, False, False, False,\n",
       "       False, False, False, False,  True, False, False, False, False,\n",
       "       False, False, False, False, False,  True, False, False, False,\n",
       "       False, False, False, False, False, False, False, False, False,\n",
       "       False,  True, False, False, False,  True,  True, False, False,\n",
       "       False, False, False,  True, False, False, False, False, False,\n",
       "       False, False,  True,  True, False, False, False, False, False,\n",
       "       False, False, False,  True, False, False, False, False,  True,\n",
       "       False, False, False, False, False, False, False, False,  True,\n",
       "       False, False, False, False, False, False, False, False, False,\n",
       "       False, False, False, False, False, False, False, False, False,\n",
       "       False, False, False, False, False, False, False, False, False,\n",
       "       False, False, False, False, False, False, False, False, False,\n",
       "       False, False,  True, False, False, False,  True, False, False,\n",
       "       False, False, False, False, False, False, False, False, False,\n",
       "       False, False,  True, False, False, False, False,  True, False,\n",
       "       False, False, False, False, False, False, False,  True, False,\n",
       "       False, False, False, False, False, False, False, False, False,\n",
       "       False, False, False, False, False, False, False, False, False,\n",
       "       False, False, False, False, False, False, False,  True, False,\n",
       "       False, False, False, False, False, False, False, False, False,\n",
       "        True, False,  True, False, False, False,  True,  True, False,\n",
       "       False, False, False, False, False, False, False, False, False,\n",
       "       False, False, False, False, False, False, False, False,  True,\n",
       "        True, False, False, False, False, False, False, False, False,\n",
       "       False, False, False, False, False, False, False, False, False,\n",
       "       False, False, False, False, False, False, False, False, False,\n",
       "       False, False, False, False, False, False, False, False, False,\n",
       "       False, False, False, False, False, False, False, False, False,\n",
       "       False, False, False, False, False, False,  True, False, False,\n",
       "       False, False, False, False, False, False, False, False, False,\n",
       "       False, False, False, False, False, False, False, False, False,\n",
       "       False, False, False, False,  True, False, False, False, False,\n",
       "       False, False, False, False, False,  True, False, False, False,\n",
       "       False, False, False, False, False, False, False,  True, False,\n",
       "       False,  True, False, False, False, False, False, False, False,\n",
       "       False, False, False, False, False, False, False, False, False,\n",
       "       False, False, False, False, False, False, False, False, False,\n",
       "       False, False, False, False, False, False, False, False, False,\n",
       "       False, False, False, False,  True, False, False, False, False,\n",
       "       False, False,  True, False, False, False, False, False, False,\n",
       "        True, False, False, False, False, False, False, False, False,\n",
       "       False, False, False, False, False, False, False, False, False,\n",
       "       False, False, False, False, False, False, False, False, False,\n",
       "       False, False, False, False, False, False, False, False, False,\n",
       "       False, False, False, False, False,  True,  True, False,  True,\n",
       "       False, False, False, False, False, False, False, False, False,\n",
       "       False, False, False, False, False, False, False, False, False,\n",
       "       False, False, False, False, False, False, False, False, False,\n",
       "       False, False, False, False, False, False, False, False, False,\n",
       "       False, False, False, False,  True, False, False,  True, False,\n",
       "       False, False, False, False, False, False, False, False, False,\n",
       "       False, False, False, False, False, False, False, False, False,\n",
       "        True, False, False, False, False, False, False, False, False,\n",
       "       False, False, False, False, False, False, False, False, False,\n",
       "       False,  True, False, False, False, False, False, False, False,\n",
       "       False, False, False, False, False, False, False, False, False,\n",
       "       False, False, False, False, False, False, False,  True, False,\n",
       "       False, False, False, False, False, False, False, False, False,\n",
       "       False, False, False, False,  True, False, False, False, False,\n",
       "       False, False, False, False, False, False, False,  True, False,\n",
       "       False, False, False, False, False, False,  True, False, False,\n",
       "       False, False, False, False, False, False, False, False, False,\n",
       "       False, False, False,  True, False, False, False, False, False,\n",
       "       False, False, False, False, False, False, False, False, False,\n",
       "       False, False, False, False, False, False,  True, False, False,\n",
       "       False, False, False, False, False, False, False, False, False,\n",
       "       False,  True,  True, False, False, False, False, False, False,\n",
       "       False, False, False, False, False, False, False, False, False,\n",
       "       False, False, False, False, False, False, False, False, False,\n",
       "       False, False, False, False, False, False, False, False, False,\n",
       "       False, False, False, False, False, False, False, False, False,\n",
       "       False, False, False, False, False, False, False, False, False,\n",
       "       False, False, False, False, False, False, False, False, False,\n",
       "       False, False,  True, False, False, False, False, False, False,\n",
       "       False, False, False, False,  True, False, False,  True, False,\n",
       "        True, False,  True, False,  True, False, False, False, False,\n",
       "       False, False, False, False, False, False, False, False, False,\n",
       "       False, False, False, False, False, False, False, False, False,\n",
       "       False, False, False, False, False, False, False, False, False,\n",
       "       False, False, False, False, False,  True,  True, False, False,\n",
       "       False, False, False, False, False, False, False, False, False,\n",
       "       False,  True, False, False, False, False, False, False, False,\n",
       "       False, False, False, False, False, False, False, False, False,\n",
       "       False, False, False, False, False, False, False, False, False,\n",
       "        True, False, False, False, False, False, False, False, False,\n",
       "       False, False, False, False, False, False, False, False, False,\n",
       "       False, False, False, False, False, False, False, False, False,\n",
       "       False, False, False, False, False, False, False, False, False,\n",
       "       False, False, False, False, False, False, False, False, False,\n",
       "        True, False, False,  True, False, False, False, False, False,\n",
       "       False, False,  True, False, False, False, False, False, False,\n",
       "       False, False, False, False, False, False, False, False, False,\n",
       "       False, False, False,  True, False, False, False, False, False,\n",
       "       False, False, False, False, False,  True, False, False, False,\n",
       "       False, False, False, False, False, False, False, False, False,\n",
       "       False, False, False, False, False, False, False, False, False,\n",
       "        True, False, False, False, False, False, False, False, False,\n",
       "       False, False, False, False, False,  True, False, False, False,\n",
       "       False, False,  True, False, False, False, False, False, False, False], dtype=bool)"
      ]
     },
     "execution_count": 95,
     "metadata": {},
     "output_type": "execute_result"
    }
   ],
   "source": [
    "res_wt[:,2] == res[:,2]"
   ]
  },
  {
   "cell_type": "code",
   "execution_count": 102,
   "metadata": {},
   "outputs": [
    {
     "data": {
      "image/png": "[encoded data removed]",
      "text/plain": [
       "<matplotlib.figure.Figure at 0x119705828>"
      ]
     },
     "metadata": {},
     "output_type": "display_data"
    }
   ],
   "source": [
    "for i in range(6):\n",
    "    plt.semilogx(sim.ligs[i],sim.meanset[0][i],'o')"
   ]
  },
  {
   "cell_type": "code",
   "execution_count": 196,
   "metadata": {
    "collapsed": true
   },
   "outputs": [],
   "source": [
    "sim2= lb.WymSim(sets=1,reps=1,parms=np.array([5.,2.,0.5,500.]))"
   ]
  },
  {
   "cell_type": "code",
   "execution_count": 197,
   "metadata": {},
   "outputs": [
    {
     "data": {
      "image/png": "[encoded data removed]",
      "text/plain": [
       "<matplotlib.figure.Figure at 0x11ee619e8>"
      ]
     },
     "metadata": {},
     "output_type": "display_data"
    }
   ],
   "source": [
    "for i in range(6):\n",
    "    plt.semilogx(sim2.ligs[i],sim2.bfrac[i],'o')"
   ]
  },
  {
   "cell_type": "code",
   "execution_count": 112,
   "metadata": {},
   "outputs": [
    {
     "data": {
      "text/plain": [
       "array([[ 0.00347833,  0.00693473,  0.0137825 ,  0.02722309,  0.05312426,\n",
       "         0.10130132,  0.18518516,  0.31531738,  0.48394796,  0.6567314 ,\n",
       "         0.79560588,  0.88737442,  0.94073213,  0.96957944,  0.98458684,\n",
       "         0.99224191,  0.99610797,  0.99805073],\n",
       "       [ 0.00305417,  0.00609238,  0.0121214 ,  0.02399277,  0.04701211,\n",
       "         0.09033262,  0.16735116,  0.29089618,  0.45821532,  0.63704672,\n",
       "         0.78426767,  0.88184519,  0.93817347,  0.96838593,  0.98401695,\n",
       "         0.99196444,  0.99597121,  0.99798286],\n",
       "       [ 0.00265727,  0.0053029 ,  0.01055948,  0.02093572,  0.04115468,\n",
       "         0.07956604,  0.14906492,  0.26397187,  0.42679385,  0.61019116,\n",
       "         0.76738515,  0.87317197,  0.93405283,  0.96643943,  0.98308191,\n",
       "         0.99150786,  0.99574584,  0.99787092],\n",
       "       [ 0.00224589,  0.00448358,  0.00893454,  0.01773981,  0.03497203,\n",
       "         0.06798732,  0.12869375,  0.23204206,  0.38568593,  0.57041039,\n",
       "         0.73930657,  0.85755782,  0.92630289,  0.96269727,  0.98126484,\n",
       "         0.99061588,  0.9953044 ,  0.99765139],\n",
       "       [ 0.00175135,  0.0034976 ,  0.00697489,  0.01386919,  0.02742093,\n",
       "         0.05361017,  0.10257945,  0.18861407,  0.32381742,  0.5010134 ,\n",
       "         0.68143542,  0.82058661,  0.90624016,  0.95252084,  0.97619626,\n",
       "         0.98809564,  0.99404909,  0.99702512],\n",
       "       [ 0.00144373,  0.00288382,  0.00575317,  0.01144885,  0.02267087,\n",
       "         0.04445889,  0.08557085,  0.15906872,  0.27831145,  0.44321508,\n",
       "         0.62477269,  0.77809362,  0.88020935,  0.93828517,  0.96880356,\n",
       "         0.98433829,  0.99215648,  0.99607551]])"
      ]
     },
     "execution_count": 112,
     "metadata": {},
     "output_type": "execute_result"
    }
   ],
   "source": [
    "sim2.bfrac"
   ]
  },
  {
   "cell_type": "code",
   "execution_count": 145,
   "metadata": {},
   "outputs": [
    {
     "data": {
      "text/plain": [
       "(1000,)"
      ]
     },
     "execution_count": 145,
     "metadata": {},
     "output_type": "execute_result"
    }
   ],
   "source": [
    "res[:,3].shape"
   ]
  },
  {
   "cell_type": "code",
   "execution_count": 219,
   "metadata": {
    "collapsed": true
   },
   "outputs": [],
   "source": [
    "def wymfunc_fix(parm,lig,rtot):\n",
    "    '''\n",
    "    Model function for dimerizing, single-site receptors as derived in\n",
    "    (Wyman and Gill, Binding and Linkage, 1990) and used by\n",
    "    (Macdonald and Pike, ...EGF-binding...negative cooperativity...aggregating system, 2008).\n",
    "    Takes numpy array of parameters [k11,k21,k22,l20], numpy array of free ligand concentrations,\n",
    "    and total receptor concentration. Returns the fraction of receptor bound to ligand.\n",
    "\n",
    "    To generate a data set, iterate over an array of desired receptor concentrations, e.g.:\n",
    "    [wymfunc(parm,lig,i) for i in array_of_rtots]\n",
    "\n",
    "    For use in curve fitting an objective function for use with scipy.optimize.least_squares\n",
    "    is readily constructed as: (wymfun(parm_guess,lig,rtot) - actual_data)\n",
    "    '''\n",
    "\n",
    "    #ensure dimension/broadcasting compatibility of inputs\n",
    "    if ((rtot.ndim > 0) and (rtot.ndim != lig.ndim)):\n",
    "        rtot = rtot[:,None] #adds dimension so that it can be broadcast\n",
    "    else:\n",
    "        rtot = rtot\n",
    "\n",
    "    #unpack parameters\n",
    "    k11 = parm[0]\n",
    "    k21 = parm[1]\n",
    "    k22 = k21/4.\n",
    "    l20 = parm[2]\n",
    "\n",
    "    ### START MODEL FUNCTION ###\n",
    "\n",
    "    #calculate concentration of free (unoccupied) receptor\n",
    "    rfree = (((-1 - k11*lig)) + \\\n",
    "    ((np.square((1 + k11*lig)) + \\\n",
    "    8.*l20*rtot*(1 + k21*lig + k21*k22*(np.square(lig)))))**0.5) \\\n",
    "    / (4*l20*(1 + k21*lig + k21*k22*(np.square(lig))))\n",
    "\n",
    "    #calculate bound fraction\n",
    "    bfrac = (k11*lig + l20*k21*rfree*lig + \\\n",
    "    2*l20*k21*k22*rfree*(np.square(lig))) \\\n",
    "    / (1 + 2*l20*rfree + k11*lig + \\\n",
    "    2*l20*k21*rfree*lig + 2*l20*k21*k22*rfree*(np.square(lig)))\n",
    "\n",
    "    ### END MODEL FUNCTION ###\n",
    "\n",
    "    #flatten output\n",
    "    if ((rtot.ndim > 0) and (rtot.ndim != lig.ndim)):\n",
    "        return bfrac.flatten()\n",
    "    elif (rtot.ndim == 0):\n",
    "        return bfrac.flatten()\n",
    "    else:\n",
    "        return np.concatenate(bfrac)"
   ]
  },
  {
   "cell_type": "code",
   "execution_count": 220,
   "metadata": {
    "collapsed": true
   },
   "outputs": [],
   "source": [
    "parm_fix = np.array([5.,2.,500.])"
   ]
  },
  {
   "cell_type": "code",
   "execution_count": 226,
   "metadata": {
    "collapsed": true
   },
   "outputs": [],
   "source": [
    "lsbnds_fix = (tuple(1e-5 for i in range(3)),tuple(1e4 for i in range(3)))"
   ]
  },
  {
   "cell_type": "code",
   "execution_count": 221,
   "metadata": {},
   "outputs": [
    {
     "data": {
      "text/plain": [
       "array([ 0.0034618 ,  0.00690302,  0.01372442,  0.0271274 ,  0.05300848,\n",
       "        0.10132739,  0.18598294,  0.31843766,  0.4912778 ,  0.66774559,\n",
       "        0.80668263,  0.89563944,  0.94585343,  0.97244055,  0.98610038,\n",
       "        0.99302049,  0.99650286,  0.99824959,  0.00284637,  0.00567895,\n",
       "        0.01130308,  0.0223897 ,  0.04393535,  0.08466017,  0.15767188,\n",
       "        0.27657294,  0.44152454,  0.62314891,  0.77619873,  0.87828811,\n",
       "        0.93680604,  0.96786901,  0.9838108 ,  0.99187597,  0.99593083,\n",
       "        0.99796366,  0.00242792,  0.00484567,  0.00965087,  0.01914167,\n",
       "        0.03765727,  0.07291869,  0.13704384,  0.24419832,  0.3992847 ,\n",
       "        0.58046089,  0.74336515,  0.8578647 ,  0.92555681,  0.96201025,\n",
       "        0.98082971,  0.99037367,  0.99517691,  0.99758603,  0.0020768 ,\n",
       "        0.00414596,  0.00826153,  0.01640277,  0.03233391,  0.06285459,\n",
       "        0.11899464,  0.21479032,  0.35846086,  0.53544332,  0.70522488,\n",
       "        0.83211157,  0.91055955,  0.95393992,  0.97664993,  0.98824779,\n",
       "        0.99410503,  0.99704786,  0.00172126,  0.00343707,  0.00685244,\n",
       "        0.01361888,  0.0268998 ,  0.0524943 ,  0.1001122 ,  0.18309934,\n",
       "        0.31219949,  0.48050519,  0.65437659,  0.79484689,  0.88751308,\n",
       "        0.94106618,  0.96984123,  0.98474614,  0.99232934,  0.99615373,\n",
       "        0.0015249 ,  0.00304541,  0.00607334,  0.01207734,  0.02388185,\n",
       "        0.04670717,  0.08944733,  0.16483184,  0.28459007,  0.44596554,\n",
       "        0.62029334,  0.76827122,  0.8702763 ,  0.93113878,  0.96449797,\n",
       "        0.98197216,  0.99091577,  0.99544017])"
      ]
     },
     "execution_count": 221,
     "metadata": {},
     "output_type": "execute_result"
    }
   ],
   "source": [
    "wymfunc_fix(parm_fix,sim.ligs,sim.rtot)"
   ]
  },
  {
   "cell_type": "code",
   "execution_count": 203,
   "metadata": {
    "collapsed": true
   },
   "outputs": [],
   "source": [
    "res_fix = np.array([fit_wym(sim.parms,wymfunc_fix,i,sim.ligs,sim.rtot,lsbnds).x for i in sim.meanset])"
   ]
  },
  {
   "cell_type": "code",
   "execution_count": 205,
   "metadata": {},
   "outputs": [
    {
     "data": {
      "text/plain": [
       "array([   5. ,    2. ,    0.5,  500. ])"
      ]
     },
     "execution_count": 205,
     "metadata": {},
     "output_type": "execute_result"
    }
   ],
   "source": [
    "sim.parms"
   ]
  },
  {
   "cell_type": "code",
   "execution_count": 206,
   "metadata": {},
   "outputs": [
    {
     "data": {
      "text/plain": [
       "array([  5.28919275e+00,   2.33939499e+00,   5.00000000e-01,\n",
       "         6.83078233e+02])"
      ]
     },
     "execution_count": 206,
     "metadata": {},
     "output_type": "execute_result"
    }
   ],
   "source": [
    "res_fix[0]"
   ]
  },
  {
   "cell_type": "code",
   "execution_count": 208,
   "metadata": {},
   "outputs": [
    {
     "data": {
      "text/plain": [
       "array([  5.37360875e+00,   2.19255730e+00,   6.62734674e-01,\n",
       "         7.48388816e+02])"
      ]
     },
     "execution_count": 208,
     "metadata": {},
     "output_type": "execute_result"
    }
   ],
   "source": [
    "res[0]"
   ]
  },
  {
   "cell_type": "code",
   "execution_count": 223,
   "metadata": {
    "collapsed": true
   },
   "outputs": [],
   "source": [
    "res_full = np.array([fit_wym(sim.parms,lb.models.wymfunc,i,sim.ligs,sim.rtot,lsbnds) for i in sim.meanset])"
   ]
  },
  {
   "cell_type": "code",
   "execution_count": 227,
   "metadata": {
    "collapsed": true
   },
   "outputs": [],
   "source": [
    "res_fix_full = np.array([fit_wym(parm_fix,wymfunc_fix,i,sim.ligs,sim.rtot,lsbnds_fix) for i in sim.meanset])"
   ]
  },
  {
   "cell_type": "code",
   "execution_count": 228,
   "metadata": {},
   "outputs": [
    {
     "data": {
      "text/plain": [
       "array([  5.37360875e+00,   2.19255730e+00,   6.62734674e-01,\n",
       "         7.48388816e+02])"
      ]
     },
     "execution_count": 228,
     "metadata": {},
     "output_type": "execute_result"
    }
   ],
   "source": [
    "res_full[0].x"
   ]
  },
  {
   "cell_type": "code",
   "execution_count": 229,
   "metadata": {},
   "outputs": [
    {
     "data": {
      "text/plain": [
       "array([   5.28918909,    2.33939416,  683.07624417])"
      ]
     },
     "execution_count": 229,
     "metadata": {},
     "output_type": "execute_result"
    }
   ],
   "source": [
    "res_fix_full[0].x"
   ]
  },
  {
   "cell_type": "code",
   "execution_count": 218,
   "metadata": {
    "collapsed": true
   },
   "outputs": [],
   "source": [
    "def ftest(fit1,fit2):\n",
    "    '''\n",
    "    fit1 is fit from simpler model\n",
    "    '''\n",
    "\n",
    "    SS1 = np.sum(np.square(fit1.fun))\n",
    "    SS2 = np.sum(np.square(fit2.fun))\n",
    "\n",
    "    DF1 = fit1.fun.shape[0] - fit1.x.shape[0]\n",
    "    DF2 = fit2.fun.shape[0] - fit2.x.shape[0]\n",
    "\n",
    "    F = ((SS1-SS2)/(DF1-DF2))/(SS2/DF2)\n",
    "\n",
    "    p = sp.stats.f.sf(F,(DF1-DF2),DF2)\n",
    "\n",
    "    return (SS1,SS2,DF1,DF2,F,p)"
   ]
  },
  {
   "cell_type": "code",
   "execution_count": 234,
   "metadata": {
    "collapsed": true
   },
   "outputs": [],
   "source": [
    "ps = np.array([ftest(res_fix_full[i],res_full[i])[-1] for i in range(1000)])"
   ]
  },
  {
   "cell_type": "code",
   "execution_count": 238,
   "metadata": {
    "collapsed": true
   },
   "outputs": [],
   "source": [
    "sigres = np.array([i.x for i in res_full])[(ps < 0.05)]"
   ]
  },
  {
   "cell_type": "code",
   "execution_count": 240,
   "metadata": {},
   "outputs": [
    {
     "data": {
      "text/plain": [
       "(array([ 19.,  41.,   3.,   1.,   0.,   0.,   0.,   0.,   0.,  11.]),\n",
       " array([ 0.12971121,  0.64867608,  1.16764096,  1.68660583,  2.20557071,\n",
       "         2.72453558,  3.24350045,  3.76246533,  4.2814302 ,  4.80039508,\n",
       "         5.31935995]),\n",
       " <a list of 10 Patch objects>)"
      ]
     },
     "execution_count": 240,
     "metadata": {},
     "output_type": "execute_result"
    },
    {
     "data": {
      "image/png": "[encoded data removed]",
      "text/plain": [
       "<matplotlib.figure.Figure at 0x11f0de8d0>"
      ]
     },
     "metadata": {},
     "output_type": "display_data"
    }
   ],
   "source": [
    "plt.hist(np.log10(sigres[:,1]/sigres[:,2]))"
   ]
  },
  {
   "cell_type": "code",
   "execution_count": 241,
   "metadata": {
    "collapsed": true
   },
   "outputs": [],
   "source": [
    "coops = (sigres[:,1]/sigres[:,2])"
   ]
  },
  {
   "cell_type": "code",
   "execution_count": 242,
   "metadata": {},
   "outputs": [
    {
     "data": {
      "text/plain": [
       "19"
      ]
     },
     "execution_count": 242,
     "metadata": {},
     "output_type": "execute_result"
    }
   ],
   "source": [
    "np.sum(coops < 4.)"
   ]
  },
  {
   "cell_type": "code",
   "execution_count": 244,
   "metadata": {},
   "outputs": [
    {
     "data": {
      "text/plain": [
       "(array([ 11.,   0.,   0.,   0.,   0.,   0.,   1.,   2.,  26.,  35.]),\n",
       " array([-5.        , -4.50151927, -4.00303854, -3.50455781, -3.00607708,\n",
       "        -2.50759635, -2.00911562, -1.51063489, -1.01215416, -0.51367343,\n",
       "        -0.0151927 ]),\n",
       " <a list of 10 Patch objects>)"
      ]
     },
     "execution_count": 244,
     "metadata": {},
     "output_type": "execute_result"
    },
    {
     "data": {
      "image/png": "[encoded data removed]",
      "text/plain": [
       "<matplotlib.figure.Figure at 0x11f89ae10>"
      ]
     },
     "metadata": {},
     "output_type": "display_data"
    }
   ],
   "source": [
    "plt.hist(np.log10(sigres[:,2]))"
   ]
  },
  {
   "cell_type": "code",
   "execution_count": 245,
   "metadata": {},
   "outputs": [
    {
     "data": {
      "text/plain": [
       "75"
      ]
     },
     "execution_count": 245,
     "metadata": {},
     "output_type": "execute_result"
    }
   ],
   "source": [
    "np.sum(ps<0.05)"
   ]
  },
  {
   "cell_type": "code",
   "execution_count": 246,
   "metadata": {},
   "outputs": [
    {
     "data": {
      "text/plain": [
       "56"
      ]
     },
     "execution_count": 246,
     "metadata": {},
     "output_type": "execute_result"
    }
   ],
   "source": [
    "75- 19"
   ]
  },
  {
   "cell_type": "code",
   "execution_count": null,
   "metadata": {
    "collapsed": true
   },
   "outputs": [],
   "source": []
  }
 ],
 "metadata": {
  "anaconda-cloud": {},
  "kernelspec": {
   "display_name": "Python [conda env:fitter]",
   "language": "python",
   "name": "conda-env-fitter-py"
  },
  "language_info": {
   "codemirror_mode": {
    "name": "ipython",
    "version": 3
   },
   "file_extension": ".py",
   "mimetype": "text/x-python",
   "name": "python",
   "nbconvert_exporter": "python",
   "pygments_lexer": "ipython3",
   "version": "3.5.3"
  }
 },
 "nbformat": 4,
 "nbformat_minor": 2
}

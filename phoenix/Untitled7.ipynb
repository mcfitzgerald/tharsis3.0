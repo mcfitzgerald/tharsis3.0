{
 "cells": [
  {
   "cell_type": "code",
   "execution_count": 43,
   "metadata": {
    "collapsed": true
   },
   "outputs": [],
   "source": [
    "from itertools import product\n",
    "\n",
    "def parmsetter(k1):\n",
    "    base = np.array([k1,])\n",
    "    k2s = np.array([0.1,1.,10.])*base\n",
    "    k21s = np.array([1000.,100.,10.,0.1,0.01,0.001])*base\n",
    "    ls = np.array([10.,100.,1000.])*base\n",
    "    \n",
    "    things = [base,k2s,k21s,ls]\n",
    "    \n",
    "    b = list(product(*things))\n",
    "    \n",
    "    c = np.array(b)\n",
    "    \n",
    "    c[:,2]=c[:,1]/4.\n",
    "    \n",
    "    neuts = np.array(list(set([tuple(i.tolist()) for i in c])))\n",
    "    \n",
    "    all_sets = np.concatenate([b,neuts])\n",
    "    \n",
    "    return all_sets"
   ]
  },
  {
   "cell_type": "code",
   "execution_count": 2,
   "metadata": {
    "collapsed": true
   },
   "outputs": [],
   "source": [
    "k1 = 5."
   ]
  },
  {
   "cell_type": "code",
   "execution_count": 17,
   "metadata": {
    "collapsed": true
   },
   "outputs": [],
   "source": [
    "import numpy as np\n",
    "base = np.array([k1,])\n",
    "k2s = np.array([0.1,1.,10.])*base\n",
    "k21s = np.array([1000.,100.,10.,0.1,0.01,0.001])*base\n",
    "ls = np.array([10.,100.,1000.])*base"
   ]
  },
  {
   "cell_type": "code",
   "execution_count": 14,
   "metadata": {
    "collapsed": true
   },
   "outputs": [],
   "source": [
    "stuff = [[1,2],[7,8],[3,4,5]]"
   ]
  },
  {
   "cell_type": "code",
   "execution_count": 15,
   "metadata": {
    "collapsed": true
   },
   "outputs": [],
   "source": [
    "from itertools import product"
   ]
  },
  {
   "cell_type": "code",
   "execution_count": 16,
   "metadata": {},
   "outputs": [
    {
     "data": {
      "text/plain": [
       "[(1, 7, 3),\n",
       " (1, 7, 4),\n",
       " (1, 7, 5),\n",
       " (1, 8, 3),\n",
       " (1, 8, 4),\n",
       " (1, 8, 5),\n",
       " (2, 7, 3),\n",
       " (2, 7, 4),\n",
       " (2, 7, 5),\n",
       " (2, 8, 3),\n",
       " (2, 8, 4),\n",
       " (2, 8, 5)]"
      ]
     },
     "execution_count": 16,
     "metadata": {},
     "output_type": "execute_result"
    }
   ],
   "source": [
    "list(product(*stuff))"
   ]
  },
  {
   "cell_type": "code",
   "execution_count": 18,
   "metadata": {
    "collapsed": true
   },
   "outputs": [],
   "source": [
    "things = [base,k2s,k21s,ls]"
   ]
  },
  {
   "cell_type": "code",
   "execution_count": 21,
   "metadata": {},
   "outputs": [
    {
     "data": {
      "text/plain": [
       "54"
      ]
     },
     "execution_count": 21,
     "metadata": {},
     "output_type": "execute_result"
    }
   ],
   "source": [
    "len(set(list(product(*things))))"
   ]
  },
  {
   "cell_type": "code",
   "execution_count": 44,
   "metadata": {
    "collapsed": true
   },
   "outputs": [],
   "source": [
    "parmsets = parmsetter(5)"
   ]
  },
  {
   "cell_type": "code",
   "execution_count": 45,
   "metadata": {},
   "outputs": [
    {
     "data": {
      "text/plain": [
       "63"
      ]
     },
     "execution_count": 45,
     "metadata": {},
     "output_type": "execute_result"
    }
   ],
   "source": [
    "len(set([tuple(i) for i in parmsets]))"
   ]
  },
  {
   "cell_type": "code",
   "execution_count": null,
   "metadata": {
    "collapsed": true
   },
   "outputs": [],
   "source": []
  }
 ],
 "metadata": {
  "anaconda-cloud": {},
  "kernelspec": {
   "display_name": "Python [conda env:fitter]",
   "language": "python",
   "name": "conda-env-fitter-py"
  },
  "language_info": {
   "codemirror_mode": {
    "name": "ipython",
    "version": 3
   },
   "file_extension": ".py",
   "mimetype": "text/x-python",
   "name": "python",
   "nbconvert_exporter": "python",
   "pygments_lexer": "ipython3",
   "version": "3.5.3"
  }
 },
 "nbformat": 4,
 "nbformat_minor": 2
}

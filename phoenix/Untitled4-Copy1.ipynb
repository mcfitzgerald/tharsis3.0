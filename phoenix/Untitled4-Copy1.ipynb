{
 "cells": [
  {
   "cell_type": "code",
   "execution_count": 1,
   "metadata": {
    "collapsed": true
   },
   "outputs": [],
   "source": [
    "import numpy as np\n",
    "import scipy as sp\n",
    "from scipy import optimize\n",
    "from scipy import stats\n",
    "import matplotlib.pyplot as plt\n",
    "import sys, copy, emcee, corner\n",
    "%matplotlib inline"
   ]
  },
  {
   "cell_type": "code",
   "execution_count": 2,
   "metadata": {
    "collapsed": true
   },
   "outputs": [],
   "source": [
    "def dilser(low=0.001, limit=100., dilfactor=2.):\n",
    "    '''returns a numpy array dilution series from low to limit by dilfactor'''\n",
    "    #replace this with a generator/iterator someday\n",
    "    a = [low]\n",
    "    while a[-1] <= limit:\n",
    "        a.append(a[len(a)-1]*dilfactor)\n",
    "    return np.array(a)\n",
    "\n",
    "def k1mod(params,ligs,noise=None):\n",
    "    '''\n",
    "    theoretical model for single binding site\n",
    "    \n",
    "    returns tuple of ligand concentrations, saturation, params\n",
    "\n",
    "    params is array of binding constants\n",
    "    ligs is array of ligand concentrations\n",
    "    noise is relative percent of gaussian noise (e.g., 0.0-1.) applied to data\n",
    "    '''\n",
    "\n",
    "    k1 = params[0]\n",
    "    sat = (k1*ligs)/(1 + k1*ligs)\n",
    "\n",
    "    if noise is None:\n",
    "        return (ligs,sat)\n",
    "    else:\n",
    "        noised = np.random.normal(sat,noise*sat)\n",
    "        return (ligs,noised,params)\n",
    "\n",
    "def k2mod(params,ligs,noise=None):\n",
    "    '''\n",
    "    theoretical model for a two-site receptor\n",
    "    \n",
    "    returns tuple of ligand concentrations, saturation, params\n",
    "\n",
    "    params is array of binding constants\n",
    "    ligs is array of ligand concentrations\n",
    "    noise is relative percent of gaussian noise (e.g., 0.0-1.) applied to data\n",
    "    '''\n",
    "\n",
    "    k1 = params[0]\n",
    "    k2 = params[1]\n",
    "    sat = (1/2)*((k1*ligs + 2*k1*k2*(ligs**2))/(1 + k1*ligs + k1*k2*(ligs**2)))\n",
    "\n",
    "    if noise is None:\n",
    "        return (ligs,sat)\n",
    "    else:\n",
    "        noised = np.random.normal(sat,noise*sat)\n",
    "        return (ligs,noised,params)\n",
    "\n",
    "def k2mod_fix(params,ligs,noise=None):\n",
    "    '''\n",
    "    returns tuple of ligand concentrations, saturation, params\n",
    "\n",
    "    params is array of binding constants\n",
    "    ligs is array of ligand concentrations\n",
    "    noise is relative percent of gaussian noise (e.g., 0.0-1.) applied to data\n",
    "    '''\n",
    "\n",
    "    k1 = params[0]\n",
    "    k2 = params[0]/4\n",
    "    sat = (1/2)*((k1*ligs + 2*k1*k2*(ligs**2))/(1 + k1*ligs + k1*k2*(ligs**2)))\n",
    "\n",
    "    if noise is None:\n",
    "        return (ligs,sat)\n",
    "    else:\n",
    "        noised = np.random.normal(sat,noise*sat)\n",
    "        return (ligs,noised,params)\n",
    "\n",
    "def obj(guess,model,data):\n",
    "    return model(guess,data[0])[1] - data[1]\n",
    "\n",
    "#removed proportionality constant\n",
    "def obj_wt(guess,model,data):\n",
    "    return (model(guess,data[0])[1] - data[1])/(data[1])\n",
    "\n",
    "def fit(data,model,guess):\n",
    "        return sp.optimize.least_squares(obj,guess,args=(model,data),ftol=1e-14,gtol=1e-14,xtol=1e-14)\n",
    "\n",
    "#removed proportionality constant    \n",
    "def fit_wt(data,model,guess):\n",
    "        return sp.optimize.least_squares(obj_wt,guess,args=(model,data),ftol=1e-14,gtol=1e-14,xtol=1e-14)\n",
    "\n",
    "def ftest(fit1,fit2):\n",
    "    '''\n",
    "    fit1 is fit from simpler model\n",
    "    '''\n",
    "\n",
    "    SS1 = np.sum(np.square(fit1.fun))\n",
    "    SS2 = np.sum(np.square(fit2.fun))\n",
    "\n",
    "    DF1 = fit1.fun.shape[0] - fit1.x.shape[0]\n",
    "    DF2 = fit2.fun.shape[0] - fit2.x.shape[0]\n",
    "\n",
    "    F = ((SS1-SS2)/(DF1-DF2))/(SS2/DF2)\n",
    "\n",
    "    p = sp.stats.f.sf(F,(DF1-DF2),DF2)\n",
    "\n",
    "    return (SS1,SS2,DF1,DF2,F,p)"
   ]
  },
  {
   "cell_type": "code",
   "execution_count": 3,
   "metadata": {
    "collapsed": true
   },
   "outputs": [],
   "source": [
    "ligs = dilser()"
   ]
  },
  {
   "cell_type": "code",
   "execution_count": 4,
   "metadata": {
    "collapsed": true
   },
   "outputs": [],
   "source": [
    "k1parm = np.array([1.])"
   ]
  },
  {
   "cell_type": "code",
   "execution_count": 11,
   "metadata": {
    "collapsed": true
   },
   "outputs": [],
   "source": [
    "k1datset = [k1mod(k1parm,ligs,0.05) for i in range(10000)]"
   ]
  },
  {
   "cell_type": "code",
   "execution_count": 12,
   "metadata": {
    "collapsed": true
   },
   "outputs": [],
   "source": [
    "guess_2_param = np.array([2.,0.5])\n",
    "guess_1_param = np.array([2.])"
   ]
  },
  {
   "cell_type": "code",
   "execution_count": 13,
   "metadata": {},
   "outputs": [],
   "source": [
    "k2fits = [fit(i,k2mod,guess_2_param) for i in k1datset]"
   ]
  },
  {
   "cell_type": "code",
   "execution_count": 14,
   "metadata": {
    "collapsed": true
   },
   "outputs": [],
   "source": [
    "k1fits_nested = [fit(i,k2mod_fix,guess_1_param) for i in k1datset]"
   ]
  },
  {
   "cell_type": "code",
   "execution_count": 15,
   "metadata": {
    "collapsed": true
   },
   "outputs": [],
   "source": [
    "ps = np.array([ftest(k1fits_nested[i],k2fits[i])[-1] for i in range(10000)])"
   ]
  },
  {
   "cell_type": "code",
   "execution_count": 42,
   "metadata": {},
   "outputs": [
    {
     "data": {
      "text/plain": [
       "694"
      ]
     },
     "execution_count": 42,
     "metadata": {},
     "output_type": "execute_result"
    }
   ],
   "source": [
    "np.sum(ps<0.05)"
   ]
  },
  {
   "cell_type": "code",
   "execution_count": 17,
   "metadata": {
    "collapsed": true
   },
   "outputs": [],
   "source": [
    "ratios_k2 = np.array([i.x[0]/i.x[1] for i in k2fits])\n",
    "k1s = np.array([i.x[0] for i in k1fits_nested])"
   ]
  },
  {
   "cell_type": "code",
   "execution_count": 18,
   "metadata": {
    "collapsed": true
   },
   "outputs": [],
   "source": [
    "sigfits = ratios_k2[(ps<0.05)]"
   ]
  },
  {
   "cell_type": "code",
   "execution_count": 19,
   "metadata": {
    "collapsed": true
   },
   "outputs": [],
   "source": [
    "negs = sigfits[(sigfits>4)]\n",
    "pos = sigfits[(sigfits<4)]"
   ]
  },
  {
   "cell_type": "code",
   "execution_count": 20,
   "metadata": {},
   "outputs": [
    {
     "data": {
      "text/plain": [
       "(array([  9.,  17.,  36.,  52.,  58.,  69.,  41.,  21.,   6.,   1.]),\n",
       " array([ 1.41024386,  1.61000302,  1.80976217,  2.00952133,  2.20928048,\n",
       "         2.40903964,  2.6087988 ,  2.80855795,  3.00831711,  3.20807626,\n",
       "         3.40783542]),\n",
       " <a list of 10 Patch objects>)"
      ]
     },
     "execution_count": 20,
     "metadata": {},
     "output_type": "execute_result"
    },
    {
     "data": {
      "image/png": "[encoded data removed]",
      "text/plain": [
       "<matplotlib.figure.Figure at 0x116e0a438>"
      ]
     },
     "metadata": {},
     "output_type": "display_data"
    }
   ],
   "source": [
    "plt.hist(negs)\n",
    "plt.hist(pos)"
   ]
  },
  {
   "cell_type": "code",
   "execution_count": 22,
   "metadata": {},
   "outputs": [],
   "source": [
    "k2fits_wt = [fit_wt(i,k2mod,guess_2_param) for i in k1datset]"
   ]
  },
  {
   "cell_type": "code",
   "execution_count": 23,
   "metadata": {
    "collapsed": true
   },
   "outputs": [],
   "source": [
    "k1fits_nested_wt = [fit_wt(i,k2mod_fix,guess_1_param) for i in k1datset]"
   ]
  },
  {
   "cell_type": "code",
   "execution_count": 24,
   "metadata": {
    "collapsed": true
   },
   "outputs": [],
   "source": [
    "k1s_mod2 = np.array([i.x[0] for i in k2fits])\n",
    "k1s_nest = np.array([i.x[0] for i in k1fits_nested])"
   ]
  },
  {
   "cell_type": "code",
   "execution_count": 25,
   "metadata": {},
   "outputs": [
    {
     "data": {
      "text/plain": [
       "(array([   25.,   181.,   789.,  1915.,  2937.,  2421.,  1282.,   372.,\n",
       "           61.,    17.]),\n",
       " array([ 1.6036565 ,  1.68772135,  1.77178619,  1.85585103,  1.93991588,\n",
       "         2.02398072,  2.10804556,  2.19211041,  2.27617525,  2.36024009,\n",
       "         2.44430494]),\n",
       " <a list of 10 Patch objects>)"
      ]
     },
     "execution_count": 25,
     "metadata": {},
     "output_type": "execute_result"
    },
    {
     "data": {
      "image/png": "[encoded data removed]",
      "text/plain": [
       "<matplotlib.figure.Figure at 0x119dd3278>"
      ]
     },
     "metadata": {},
     "output_type": "display_data"
    }
   ],
   "source": [
    "plt.hist(k1s_mod2)\n",
    "plt.hist(k1s_nest)"
   ]
  },
  {
   "cell_type": "code",
   "execution_count": 26,
   "metadata": {
    "collapsed": true
   },
   "outputs": [],
   "source": [
    "k1s_mod2_wt = np.array([i.x[0] for i in k2fits_wt])\n",
    "k1s_nest_wt = np.array([i.x[0] for i in k1fits_nested_wt])"
   ]
  },
  {
   "cell_type": "code",
   "execution_count": 27,
   "metadata": {},
   "outputs": [
    {
     "data": {
      "text/plain": [
       "(array([   10.,   116.,   492.,  1556.,  2598.,  2740.,  1690.,   629.,\n",
       "          149.,    20.]),\n",
       " array([ 1.86383736,  1.88860123,  1.91336511,  1.93812898,  1.96289286,\n",
       "         1.98765673,  2.01242061,  2.03718448,  2.06194836,  2.08671223,\n",
       "         2.11147611]),\n",
       " <a list of 10 Patch objects>)"
      ]
     },
     "execution_count": 27,
     "metadata": {},
     "output_type": "execute_result"
    },
    {
     "data": {
      "image/png": "[encoded data removed]",
      "text/plain": [
       "<matplotlib.figure.Figure at 0x11aa61b00>"
      ]
     },
     "metadata": {},
     "output_type": "display_data"
    }
   ],
   "source": [
    "plt.hist(k1s_mod2)\n",
    "plt.hist(k1s_nest)\n",
    "plt.hist(k1s_mod2_wt)\n",
    "plt.hist(k1s_nest_wt)"
   ]
  },
  {
   "cell_type": "code",
   "execution_count": 28,
   "metadata": {},
   "outputs": [
    {
     "data": {
      "text/plain": [
       "{'boxes': [<matplotlib.lines.Line2D at 0x11ac697b8>,\n",
       "  <matplotlib.lines.Line2D at 0x11ac7d6d8>,\n",
       "  <matplotlib.lines.Line2D at 0x11ad6ccc0>,\n",
       "  <matplotlib.lines.Line2D at 0x11ad862b0>],\n",
       " 'caps': [<matplotlib.lines.Line2D at 0x11ac6ff28>,\n",
       "  <matplotlib.lines.Line2D at 0x11ac73940>,\n",
       "  <matplotlib.lines.Line2D at 0x11ad63da0>,\n",
       "  <matplotlib.lines.Line2D at 0x11ad63f28>,\n",
       "  <matplotlib.lines.Line2D at 0x11ad77b00>,\n",
       "  <matplotlib.lines.Line2D at 0x11ad7bd68>,\n",
       "  <matplotlib.lines.Line2D at 0x11ad90940>,\n",
       "  <matplotlib.lines.Line2D at 0x11ad90ac8>],\n",
       " 'fliers': [<matplotlib.lines.Line2D at 0x11ac78d30>,\n",
       "  <matplotlib.lines.Line2D at 0x11ad6cba8>,\n",
       "  <matplotlib.lines.Line2D at 0x11ad82908>,\n",
       "  <matplotlib.lines.Line2D at 0x11ad97eb8>],\n",
       " 'means': [],\n",
       " 'medians': [<matplotlib.lines.Line2D at 0x11ac78358>,\n",
       "  <matplotlib.lines.Line2D at 0x11ad67940>,\n",
       "  <matplotlib.lines.Line2D at 0x11ad7bef0>,\n",
       "  <matplotlib.lines.Line2D at 0x11ad974e0>],\n",
       " 'whiskers': [<matplotlib.lines.Line2D at 0x11ac69a58>,\n",
       "  <matplotlib.lines.Line2D at 0x11ac6fda0>,\n",
       "  <matplotlib.lines.Line2D at 0x11ac829b0>,\n",
       "  <matplotlib.lines.Line2D at 0x11ac82b38>,\n",
       "  <matplotlib.lines.Line2D at 0x11ad71f60>,\n",
       "  <matplotlib.lines.Line2D at 0x11ad77978>,\n",
       "  <matplotlib.lines.Line2D at 0x11ad86cc0>,\n",
       "  <matplotlib.lines.Line2D at 0x11ad8bf28>]}"
      ]
     },
     "execution_count": 28,
     "metadata": {},
     "output_type": "execute_result"
    },
    {
     "data": {
      "image/png": "[encoded data removed]",
      "text/plain": [
       "<matplotlib.figure.Figure at 0x119d145c0>"
      ]
     },
     "metadata": {},
     "output_type": "display_data"
    }
   ],
   "source": [
    "plt.boxplot([k1s_mod2,k1s_nest,k1s_mod2_wt,k1s_nest_wt])"
   ]
  },
  {
   "cell_type": "code",
   "execution_count": 29,
   "metadata": {
    "collapsed": true
   },
   "outputs": [],
   "source": [
    "ps_wt = np.array([ftest(k1fits_nested_wt[i],k2fits_wt[i])[-1] for i in range(10000)])"
   ]
  },
  {
   "cell_type": "code",
   "execution_count": 30,
   "metadata": {},
   "outputs": [
    {
     "data": {
      "text/plain": [
       "533"
      ]
     },
     "execution_count": 30,
     "metadata": {},
     "output_type": "execute_result"
    }
   ],
   "source": [
    "np.sum(ps_wt<0.05)"
   ]
  },
  {
   "cell_type": "code",
   "execution_count": 31,
   "metadata": {
    "collapsed": true
   },
   "outputs": [],
   "source": [
    "k2fits_wt_ratios = np.array([i.x[0]/i.x[1] for i in k2fits_wt])"
   ]
  },
  {
   "cell_type": "code",
   "execution_count": 32,
   "metadata": {
    "collapsed": true
   },
   "outputs": [],
   "source": [
    "sigfits_wt = k2fits_wt_ratios[(ps_wt<0.05)]"
   ]
  },
  {
   "cell_type": "code",
   "execution_count": 33,
   "metadata": {},
   "outputs": [
    {
     "data": {
      "text/plain": [
       "176"
      ]
     },
     "execution_count": 33,
     "metadata": {},
     "output_type": "execute_result"
    }
   ],
   "source": [
    "np.sum(sigfits_wt < 4)"
   ]
  },
  {
   "cell_type": "code",
   "execution_count": 34,
   "metadata": {},
   "outputs": [
    {
     "data": {
      "text/plain": [
       "(array([ 21.,  49.,  81.,  87.,  65.,  37.,  22.,  11.,   7.,   4.]),\n",
       " array([  4.9268707 ,   5.45605076,   5.98523082,   6.51441089,\n",
       "          7.04359095,   7.57277101,   8.10195108,   8.63113114,\n",
       "          9.1603112 ,   9.68949127,  10.21867133]),\n",
       " <a list of 10 Patch objects>)"
      ]
     },
     "execution_count": 34,
     "metadata": {},
     "output_type": "execute_result"
    },
    {
     "data": {
      "image/png": "[encoded data removed]",
      "text/plain": [
       "<matplotlib.figure.Figure at 0x11ab25b00>"
      ]
     },
     "metadata": {},
     "output_type": "display_data"
    }
   ],
   "source": [
    "plt.hist(sigfits_wt[sigfits_wt>4])\n",
    "plt.hist(sigfits[sigfits>4])"
   ]
  },
  {
   "cell_type": "code",
   "execution_count": 35,
   "metadata": {},
   "outputs": [
    {
     "data": {
      "text/plain": [
       "(5.2790120146471393, 6.8575196421308364)"
      ]
     },
     "execution_count": 35,
     "metadata": {},
     "output_type": "execute_result"
    }
   ],
   "source": [
    "np.mean(sigfits_wt[sigfits_wt>4]) , np.mean(sigfits[sigfits>4])"
   ]
  },
  {
   "cell_type": "code",
   "execution_count": 41,
   "metadata": {},
   "outputs": [
    {
     "data": {
      "text/plain": [
       "(533,)"
      ]
     },
     "execution_count": 41,
     "metadata": {},
     "output_type": "execute_result"
    }
   ],
   "source": [
    "sigfits_wt.shape"
   ]
  },
  {
   "cell_type": "code",
   "execution_count": null,
   "metadata": {
    "collapsed": true
   },
   "outputs": [],
   "source": []
  }
 ],
 "metadata": {
  "anaconda-cloud": {},
  "kernelspec": {
   "display_name": "Python [conda env:fitter]",
   "language": "python",
   "name": "conda-env-fitter-py"
  },
  "language_info": {
   "codemirror_mode": {
    "name": "ipython",
    "version": 3
   },
   "file_extension": ".py",
   "mimetype": "text/x-python",
   "name": "python",
   "nbconvert_exporter": "python",
   "pygments_lexer": "ipython3",
   "version": "3.5.3"
  }
 },
 "nbformat": 4,
 "nbformat_minor": 2
}

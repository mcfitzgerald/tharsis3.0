{
 "cells": [
  {
   "cell_type": "code",
   "execution_count": 1,
   "metadata": {
    "collapsed": true
   },
   "outputs": [],
   "source": [
    "import numpy as np"
   ]
  },
  {
   "cell_type": "code",
   "execution_count": 2,
   "metadata": {
    "collapsed": true
   },
   "outputs": [],
   "source": [
    "kratios = np.array([0.1,1.,10.])\n",
    "lratios = np.array([10.,100.,1000.])\n",
    "coopmags = np.array([10.,100.,1000.])"
   ]
  },
  {
   "cell_type": "code",
   "execution_count": 3,
   "metadata": {
    "collapsed": true
   },
   "outputs": [],
   "source": [
    "base = 5."
   ]
  },
  {
   "cell_type": "code",
   "execution_count": 4,
   "metadata": {},
   "outputs": [
    {
     "data": {
      "text/plain": [
       "[[5.0, 0.5, 0.125, 50.0], [5.0, 5.0, 1.25, 500.0], [5.0, 50.0, 12.5, 5000.0]]"
      ]
     },
     "execution_count": 4,
     "metadata": {},
     "output_type": "execute_result"
    }
   ],
   "source": [
    "[[base, base*kratios[i],(base*kratios[i])/4.,base*lratios[i]] for i in range(3)]"
   ]
  },
  {
   "cell_type": "code",
   "execution_count": 7,
   "metadata": {},
   "outputs": [
    {
     "data": {
      "text/plain": [
       "[[5.0, 0.5, 5.0, 50.0], [5.0, 5.0, 500.0, 500.0], [5.0, 50.0, 50000.0, 5000.0]]"
      ]
     },
     "execution_count": 7,
     "metadata": {},
     "output_type": "execute_result"
    }
   ],
   "source": [
    "[[base, base*kratios[i],(base*kratios[i])*coopmags[i],base*lratios[i]] for i in range(3)]"
   ]
  },
  {
   "cell_type": "code",
   "execution_count": 15,
   "metadata": {},
   "outputs": [],
   "source": [
    "terb = np.array([[base*i for i in kratios],[base for i in range(3)]])"
   ]
  },
  {
   "cell_type": "code",
   "execution_count": 16,
   "metadata": {},
   "outputs": [
    {
     "data": {
      "text/plain": [
       "array([[  0.5,   5. ,  50. ],\n",
       "       [  5. ,   5. ,   5. ]])"
      ]
     },
     "execution_count": 16,
     "metadata": {},
     "output_type": "execute_result"
    }
   ],
   "source": [
    "terb"
   ]
  },
  {
   "cell_type": "code",
   "execution_count": 17,
   "metadata": {},
   "outputs": [
    {
     "data": {
      "text/plain": [
       "array([  0.5,   5. ,  50. ])"
      ]
     },
     "execution_count": 17,
     "metadata": {},
     "output_type": "execute_result"
    }
   ],
   "source": [
    "terb[0]"
   ]
  },
  {
   "cell_type": "code",
   "execution_count": 18,
   "metadata": {},
   "outputs": [
    {
     "ename": "TypeError",
     "evalue": "'type' object is not iterable",
     "output_type": "error",
     "traceback": [
      "\u001b[0;31m---------------------------------------------------------------------------\u001b[0m",
      "\u001b[0;31mTypeError\u001b[0m                                 Traceback (most recent call last)",
      "\u001b[0;32m<ipython-input-18-3dd79a6fc1b2>\u001b[0m in \u001b[0;36m<module>\u001b[0;34m()\u001b[0m\n\u001b[1;32m      1\u001b[0m \u001b[0minds\u001b[0m \u001b[0;34m=\u001b[0m \u001b[0mrange\u001b[0m\u001b[0;34m(\u001b[0m\u001b[0;36m3\u001b[0m\u001b[0;34m)\u001b[0m\u001b[0;34m\u001b[0m\u001b[0m\n\u001b[0;32m----> 2\u001b[0;31m \u001b[0;34m[\u001b[0m\u001b[0;34m[\u001b[0m\u001b[0mbase\u001b[0m \u001b[0;32mfor\u001b[0m \u001b[0mi\u001b[0m \u001b[0;32min\u001b[0m \u001b[0mrange\u001b[0m\u001b[0;34m(\u001b[0m\u001b[0;36m3\u001b[0m\u001b[0;34m)\u001b[0m\u001b[0;34m]\u001b[0m\u001b[0;34m,\u001b[0m\u001b[0;34m[\u001b[0m\u001b[0mbase\u001b[0m\u001b[0;34m*\u001b[0m\u001b[0mkratio\u001b[0m\u001b[0;34m[\u001b[0m\u001b[0mi\u001b[0m\u001b[0;34m]\u001b[0m \u001b[0;32mfor\u001b[0m \u001b[0mi\u001b[0m \u001b[0;32min\u001b[0m \u001b[0mrange\u001b[0m\u001b[0;34m]\u001b[0m\u001b[0;34m]\u001b[0m\u001b[0;34m\u001b[0m\u001b[0m\n\u001b[0m",
      "\u001b[0;31mTypeError\u001b[0m: 'type' object is not iterable"
     ]
    }
   ],
   "source": [
    "inds = range(3)\n",
    "[[base for i in range(3)],[base*kratio[i] for i in range]]"
   ]
  },
  {
   "cell_type": "code",
   "execution_count": 19,
   "metadata": {
    "collapsed": true
   },
   "outputs": [],
   "source": [
    "def maker(base):\n",
    "    kratios = np.array([0.1,1.,10.])\n",
    "    lratios = np.array([10.,100.,1000.])\n",
    "    coopmags = np.array([10.,100.,1000.])\n",
    "    temp = np.array([base,base,base,base])\n",
    "    return temp*np.array([1.,1.,0.25,10.])"
   ]
  },
  {
   "cell_type": "code",
   "execution_count": 20,
   "metadata": {},
   "outputs": [
    {
     "data": {
      "text/plain": [
       "array([  5.  ,   5.  ,   1.25,  50.  ])"
      ]
     },
     "execution_count": 20,
     "metadata": {},
     "output_type": "execute_result"
    }
   ],
   "source": [
    "maker(5)"
   ]
  },
  {
   "cell_type": "code",
   "execution_count": 35,
   "metadata": {},
   "outputs": [],
   "source": [
    "hold = np.ones(shape=(5,4))"
   ]
  },
  {
   "cell_type": "code",
   "execution_count": 36,
   "metadata": {},
   "outputs": [
    {
     "data": {
      "text/plain": [
       "array([[ 1.,  1.,  1.,  1.],\n",
       "       [ 1.,  1.,  1.,  1.],\n",
       "       [ 1.,  1.,  1.,  1.],\n",
       "       [ 1.,  1.,  1.,  1.],\n",
       "       [ 1.,  1.,  1.,  1.]])"
      ]
     },
     "execution_count": 36,
     "metadata": {},
     "output_type": "execute_result"
    }
   ],
   "source": [
    "hold"
   ]
  },
  {
   "cell_type": "code",
   "execution_count": 37,
   "metadata": {},
   "outputs": [],
   "source": [
    "hold[:,0]=5"
   ]
  },
  {
   "cell_type": "code",
   "execution_count": 38,
   "metadata": {},
   "outputs": [
    {
     "data": {
      "text/plain": [
       "array([[ 5.,  1.,  1.,  1.],\n",
       "       [ 5.,  1.,  1.,  1.],\n",
       "       [ 5.,  1.,  1.,  1.],\n",
       "       [ 5.,  1.,  1.,  1.],\n",
       "       [ 5.,  1.,  1.,  1.]])"
      ]
     },
     "execution_count": 38,
     "metadata": {},
     "output_type": "execute_result"
    }
   ],
   "source": [
    "hold"
   ]
  },
  {
   "cell_type": "code",
   "execution_count": 39,
   "metadata": {},
   "outputs": [],
   "source": [
    "hold[:,1]=(5.*0.1)"
   ]
  },
  {
   "cell_type": "code",
   "execution_count": 41,
   "metadata": {},
   "outputs": [],
   "source": [
    "hold[:,2]=hold[:,1]/4."
   ]
  },
  {
   "cell_type": "code",
   "execution_count": null,
   "metadata": {
    "collapsed": true
   },
   "outputs": [],
   "source": []
  },
  {
   "cell_type": "code",
   "execution_count": 42,
   "metadata": {},
   "outputs": [
    {
     "data": {
      "text/plain": [
       "array([[ 5.   ,  0.5  ,  0.125,  1.   ],\n",
       "       [ 5.   ,  0.5  ,  0.125,  1.   ],\n",
       "       [ 5.   ,  0.5  ,  0.125,  1.   ],\n",
       "       [ 5.   ,  0.5  ,  0.125,  1.   ],\n",
       "       [ 5.   ,  0.5  ,  0.125,  1.   ]])"
      ]
     },
     "execution_count": 42,
     "metadata": {},
     "output_type": "execute_result"
    }
   ],
   "source": [
    "hold"
   ]
  },
  {
   "cell_type": "code",
   "execution_count": 43,
   "metadata": {
    "collapsed": true
   },
   "outputs": [],
   "source": [
    "from itertools import product"
   ]
  },
  {
   "cell_type": "code",
   "execution_count": 72,
   "metadata": {},
   "outputs": [],
   "source": [
    "arrays = [[5.,], [50.,5.,0.5], [5000,]]"
   ]
  },
  {
   "cell_type": "code",
   "execution_count": 73,
   "metadata": {},
   "outputs": [],
   "source": [
    "cp = list(product(*arrays))"
   ]
  },
  {
   "cell_type": "code",
   "execution_count": 74,
   "metadata": {},
   "outputs": [
    {
     "data": {
      "text/plain": [
       "[(5.0, 50.0, 5000), (5.0, 5.0, 5000), (5.0, 0.5, 5000)]"
      ]
     },
     "execution_count": 74,
     "metadata": {},
     "output_type": "execute_result"
    }
   ],
   "source": [
    "cp"
   ]
  },
  {
   "cell_type": "code",
   "execution_count": 75,
   "metadata": {},
   "outputs": [
    {
     "data": {
      "text/plain": [
       "array([[  5.00000000e+00,   5.00000000e+01,   5.00000000e+03],\n",
       "       [  5.00000000e+00,   5.00000000e+00,   5.00000000e+03],\n",
       "       [  5.00000000e+00,   5.00000000e-01,   5.00000000e+03]])"
      ]
     },
     "execution_count": 75,
     "metadata": {},
     "output_type": "execute_result"
    }
   ],
   "source": [
    "np.array(cp)"
   ]
  },
  {
   "cell_type": "code",
   "execution_count": 143,
   "metadata": {
    "collapsed": true
   },
   "outputs": [],
   "source": [
    "base = np.array([5.,])\n",
    "k2s = np.array([0.1,1.,10.])*base\n",
    "k21s = np.array([1000.,100.,10.,0.1,0.01,0.001])*base\n",
    "ls = np.array([10.,100.,1000.])*base"
   ]
  },
  {
   "cell_type": "code",
   "execution_count": 144,
   "metadata": {},
   "outputs": [],
   "source": [
    "things = [base,k2s,k21s,ls]"
   ]
  },
  {
   "cell_type": "code",
   "execution_count": 145,
   "metadata": {},
   "outputs": [],
   "source": [
    "b = list(product(*things))"
   ]
  },
  {
   "cell_type": "code",
   "execution_count": 146,
   "metadata": {},
   "outputs": [
    {
     "data": {
      "text/plain": [
       "54"
      ]
     },
     "execution_count": 146,
     "metadata": {},
     "output_type": "execute_result"
    }
   ],
   "source": [
    "len(b)"
   ]
  },
  {
   "cell_type": "code",
   "execution_count": 103,
   "metadata": {},
   "outputs": [],
   "source": [
    "a = set(b)"
   ]
  },
  {
   "cell_type": "code",
   "execution_count": 147,
   "metadata": {},
   "outputs": [
    {
     "data": {
      "text/plain": [
       "54"
      ]
     },
     "execution_count": 147,
     "metadata": {},
     "output_type": "execute_result"
    }
   ],
   "source": [
    "len(a)"
   ]
  },
  {
   "cell_type": "code",
   "execution_count": 148,
   "metadata": {},
   "outputs": [],
   "source": [
    "c = np.array(b)"
   ]
  },
  {
   "cell_type": "code",
   "execution_count": 149,
   "metadata": {},
   "outputs": [],
   "source": [
    "h = c.tolist()"
   ]
  },
  {
   "cell_type": "code",
   "execution_count": 118,
   "metadata": {},
   "outputs": [],
   "source": [
    "c[:,2]=c[:,1]/4."
   ]
  },
  {
   "cell_type": "code",
   "execution_count": 130,
   "metadata": {},
   "outputs": [],
   "source": [
    "neuts = np.array(list(set([tuple(i.tolist()) for i in c])))"
   ]
  },
  {
   "cell_type": "code",
   "execution_count": 125,
   "metadata": {},
   "outputs": [
    {
     "data": {
      "text/plain": [
       "[(5.0, 0.5, 0.125, 50.0),\n",
       " (5.0, 0.5, 0.125, 500.0),\n",
       " (5.0, 0.5, 0.125, 5000.0),\n",
       " (5.0, 0.5, 0.125, 50.0),\n",
       " (5.0, 0.5, 0.125, 500.0),\n",
       " (5.0, 0.5, 0.125, 5000.0),\n",
       " (5.0, 0.5, 0.125, 50.0),\n",
       " (5.0, 0.5, 0.125, 500.0),\n",
       " (5.0, 0.5, 0.125, 5000.0),\n",
       " (5.0, 0.5, 0.125, 50.0),\n",
       " (5.0, 0.5, 0.125, 500.0),\n",
       " (5.0, 0.5, 0.125, 5000.0),\n",
       " (5.0, 0.5, 0.125, 50.0),\n",
       " (5.0, 0.5, 0.125, 500.0),\n",
       " (5.0, 0.5, 0.125, 5000.0),\n",
       " (5.0, 0.5, 0.125, 50.0),\n",
       " (5.0, 0.5, 0.125, 500.0),\n",
       " (5.0, 0.5, 0.125, 5000.0),\n",
       " (5.0, 5.0, 1.25, 50.0),\n",
       " (5.0, 5.0, 1.25, 500.0),\n",
       " (5.0, 5.0, 1.25, 5000.0),\n",
       " (5.0, 5.0, 1.25, 50.0),\n",
       " (5.0, 5.0, 1.25, 500.0),\n",
       " (5.0, 5.0, 1.25, 5000.0),\n",
       " (5.0, 5.0, 1.25, 50.0),\n",
       " (5.0, 5.0, 1.25, 500.0),\n",
       " (5.0, 5.0, 1.25, 5000.0),\n",
       " (5.0, 5.0, 1.25, 50.0),\n",
       " (5.0, 5.0, 1.25, 500.0),\n",
       " (5.0, 5.0, 1.25, 5000.0),\n",
       " (5.0, 5.0, 1.25, 50.0),\n",
       " (5.0, 5.0, 1.25, 500.0),\n",
       " (5.0, 5.0, 1.25, 5000.0),\n",
       " (5.0, 5.0, 1.25, 50.0),\n",
       " (5.0, 5.0, 1.25, 500.0),\n",
       " (5.0, 5.0, 1.25, 5000.0),\n",
       " (5.0, 50.0, 12.5, 50.0),\n",
       " (5.0, 50.0, 12.5, 500.0),\n",
       " (5.0, 50.0, 12.5, 5000.0),\n",
       " (5.0, 50.0, 12.5, 50.0),\n",
       " (5.0, 50.0, 12.5, 500.0),\n",
       " (5.0, 50.0, 12.5, 5000.0),\n",
       " (5.0, 50.0, 12.5, 50.0),\n",
       " (5.0, 50.0, 12.5, 500.0),\n",
       " (5.0, 50.0, 12.5, 5000.0),\n",
       " (5.0, 50.0, 12.5, 50.0),\n",
       " (5.0, 50.0, 12.5, 500.0),\n",
       " (5.0, 50.0, 12.5, 5000.0),\n",
       " (5.0, 50.0, 12.5, 50.0),\n",
       " (5.0, 50.0, 12.5, 500.0),\n",
       " (5.0, 50.0, 12.5, 5000.0),\n",
       " (5.0, 50.0, 12.5, 50.0),\n",
       " (5.0, 50.0, 12.5, 500.0),\n",
       " (5.0, 50.0, 12.5, 5000.0)]"
      ]
     },
     "execution_count": 125,
     "metadata": {},
     "output_type": "execute_result"
    }
   ],
   "source": [
    "[tuple(i.tolist()) for i in c]"
   ]
  },
  {
   "cell_type": "code",
   "execution_count": 129,
   "metadata": {},
   "outputs": [
    {
     "data": {
      "text/plain": [
       "array([[  5.00000000e+00,   5.00000000e-01,   1.25000000e-01,\n",
       "          5.00000000e+01],\n",
       "       [  5.00000000e+00,   5.00000000e-01,   1.25000000e-01,\n",
       "          5.00000000e+02],\n",
       "       [  5.00000000e+00,   5.00000000e-01,   1.25000000e-01,\n",
       "          5.00000000e+03],\n",
       "       [  5.00000000e+00,   5.00000000e-01,   1.25000000e-01,\n",
       "          5.00000000e+01],\n",
       "       [  5.00000000e+00,   5.00000000e-01,   1.25000000e-01,\n",
       "          5.00000000e+02],\n",
       "       [  5.00000000e+00,   5.00000000e-01,   1.25000000e-01,\n",
       "          5.00000000e+03],\n",
       "       [  5.00000000e+00,   5.00000000e-01,   1.25000000e-01,\n",
       "          5.00000000e+01],\n",
       "       [  5.00000000e+00,   5.00000000e-01,   1.25000000e-01,\n",
       "          5.00000000e+02],\n",
       "       [  5.00000000e+00,   5.00000000e-01,   1.25000000e-01,\n",
       "          5.00000000e+03],\n",
       "       [  5.00000000e+00,   5.00000000e-01,   1.25000000e-01,\n",
       "          5.00000000e+01],\n",
       "       [  5.00000000e+00,   5.00000000e-01,   1.25000000e-01,\n",
       "          5.00000000e+02],\n",
       "       [  5.00000000e+00,   5.00000000e-01,   1.25000000e-01,\n",
       "          5.00000000e+03],\n",
       "       [  5.00000000e+00,   5.00000000e-01,   1.25000000e-01,\n",
       "          5.00000000e+01],\n",
       "       [  5.00000000e+00,   5.00000000e-01,   1.25000000e-01,\n",
       "          5.00000000e+02],\n",
       "       [  5.00000000e+00,   5.00000000e-01,   1.25000000e-01,\n",
       "          5.00000000e+03],\n",
       "       [  5.00000000e+00,   5.00000000e-01,   1.25000000e-01,\n",
       "          5.00000000e+01],\n",
       "       [  5.00000000e+00,   5.00000000e-01,   1.25000000e-01,\n",
       "          5.00000000e+02],\n",
       "       [  5.00000000e+00,   5.00000000e-01,   1.25000000e-01,\n",
       "          5.00000000e+03],\n",
       "       [  5.00000000e+00,   5.00000000e+00,   1.25000000e+00,\n",
       "          5.00000000e+01],\n",
       "       [  5.00000000e+00,   5.00000000e+00,   1.25000000e+00,\n",
       "          5.00000000e+02],\n",
       "       [  5.00000000e+00,   5.00000000e+00,   1.25000000e+00,\n",
       "          5.00000000e+03],\n",
       "       [  5.00000000e+00,   5.00000000e+00,   1.25000000e+00,\n",
       "          5.00000000e+01],\n",
       "       [  5.00000000e+00,   5.00000000e+00,   1.25000000e+00,\n",
       "          5.00000000e+02],\n",
       "       [  5.00000000e+00,   5.00000000e+00,   1.25000000e+00,\n",
       "          5.00000000e+03],\n",
       "       [  5.00000000e+00,   5.00000000e+00,   1.25000000e+00,\n",
       "          5.00000000e+01],\n",
       "       [  5.00000000e+00,   5.00000000e+00,   1.25000000e+00,\n",
       "          5.00000000e+02],\n",
       "       [  5.00000000e+00,   5.00000000e+00,   1.25000000e+00,\n",
       "          5.00000000e+03],\n",
       "       [  5.00000000e+00,   5.00000000e+00,   1.25000000e+00,\n",
       "          5.00000000e+01],\n",
       "       [  5.00000000e+00,   5.00000000e+00,   1.25000000e+00,\n",
       "          5.00000000e+02],\n",
       "       [  5.00000000e+00,   5.00000000e+00,   1.25000000e+00,\n",
       "          5.00000000e+03],\n",
       "       [  5.00000000e+00,   5.00000000e+00,   1.25000000e+00,\n",
       "          5.00000000e+01],\n",
       "       [  5.00000000e+00,   5.00000000e+00,   1.25000000e+00,\n",
       "          5.00000000e+02],\n",
       "       [  5.00000000e+00,   5.00000000e+00,   1.25000000e+00,\n",
       "          5.00000000e+03],\n",
       "       [  5.00000000e+00,   5.00000000e+00,   1.25000000e+00,\n",
       "          5.00000000e+01],\n",
       "       [  5.00000000e+00,   5.00000000e+00,   1.25000000e+00,\n",
       "          5.00000000e+02],\n",
       "       [  5.00000000e+00,   5.00000000e+00,   1.25000000e+00,\n",
       "          5.00000000e+03],\n",
       "       [  5.00000000e+00,   5.00000000e+01,   1.25000000e+01,\n",
       "          5.00000000e+01],\n",
       "       [  5.00000000e+00,   5.00000000e+01,   1.25000000e+01,\n",
       "          5.00000000e+02],\n",
       "       [  5.00000000e+00,   5.00000000e+01,   1.25000000e+01,\n",
       "          5.00000000e+03],\n",
       "       [  5.00000000e+00,   5.00000000e+01,   1.25000000e+01,\n",
       "          5.00000000e+01],\n",
       "       [  5.00000000e+00,   5.00000000e+01,   1.25000000e+01,\n",
       "          5.00000000e+02],\n",
       "       [  5.00000000e+00,   5.00000000e+01,   1.25000000e+01,\n",
       "          5.00000000e+03],\n",
       "       [  5.00000000e+00,   5.00000000e+01,   1.25000000e+01,\n",
       "          5.00000000e+01],\n",
       "       [  5.00000000e+00,   5.00000000e+01,   1.25000000e+01,\n",
       "          5.00000000e+02],\n",
       "       [  5.00000000e+00,   5.00000000e+01,   1.25000000e+01,\n",
       "          5.00000000e+03],\n",
       "       [  5.00000000e+00,   5.00000000e+01,   1.25000000e+01,\n",
       "          5.00000000e+01],\n",
       "       [  5.00000000e+00,   5.00000000e+01,   1.25000000e+01,\n",
       "          5.00000000e+02],\n",
       "       [  5.00000000e+00,   5.00000000e+01,   1.25000000e+01,\n",
       "          5.00000000e+03],\n",
       "       [  5.00000000e+00,   5.00000000e+01,   1.25000000e+01,\n",
       "          5.00000000e+01],\n",
       "       [  5.00000000e+00,   5.00000000e+01,   1.25000000e+01,\n",
       "          5.00000000e+02],\n",
       "       [  5.00000000e+00,   5.00000000e+01,   1.25000000e+01,\n",
       "          5.00000000e+03],\n",
       "       [  5.00000000e+00,   5.00000000e+01,   1.25000000e+01,\n",
       "          5.00000000e+01],\n",
       "       [  5.00000000e+00,   5.00000000e+01,   1.25000000e+01,\n",
       "          5.00000000e+02],\n",
       "       [  5.00000000e+00,   5.00000000e+01,   1.25000000e+01,\n",
       "          5.00000000e+03]])"
      ]
     },
     "execution_count": 129,
     "metadata": {},
     "output_type": "execute_result"
    }
   ],
   "source": [
    "c"
   ]
  },
  {
   "cell_type": "code",
   "execution_count": 137,
   "metadata": {},
   "outputs": [],
   "source": [
    "all_sets = np.concatenate([c,neuts])"
   ]
  },
  {
   "cell_type": "code",
   "execution_count": 133,
   "metadata": {},
   "outputs": [
    {
     "data": {
      "text/plain": [
       "numpy.ndarray"
      ]
     },
     "execution_count": 133,
     "metadata": {},
     "output_type": "execute_result"
    }
   ],
   "source": [
    "type(neuts)"
   ]
  },
  {
   "cell_type": "code",
   "execution_count": 134,
   "metadata": {},
   "outputs": [
    {
     "data": {
      "text/plain": [
       "numpy.ndarray"
      ]
     },
     "execution_count": 134,
     "metadata": {},
     "output_type": "execute_result"
    }
   ],
   "source": [
    "type(c)"
   ]
  },
  {
   "cell_type": "code",
   "execution_count": 142,
   "metadata": {},
   "outputs": [
    {
     "data": {
      "text/plain": [
       "(63, 4)"
      ]
     },
     "execution_count": 142,
     "metadata": {},
     "output_type": "execute_result"
    }
   ],
   "source": [
    "all_sets.shape"
   ]
  },
  {
   "cell_type": "code",
   "execution_count": 155,
   "metadata": {},
   "outputs": [
    {
     "name": "stdout",
     "output_type": "stream",
     "text": [
      "CPU times: user 445 ms, sys: 185 ms, total: 629 ms\n",
      "Wall time: 630 ms\n"
     ]
    }
   ],
   "source": [
    "%%time \n",
    "b = [i for i in range(10000000)]"
   ]
  },
  {
   "cell_type": "code",
   "execution_count": null,
   "metadata": {
    "collapsed": true
   },
   "outputs": [],
   "source": []
  }
 ],
 "metadata": {
  "kernelspec": {
   "display_name": "Python [conda env:fitter]",
   "language": "python",
   "name": "conda-env-fitter-py"
  },
  "language_info": {
   "codemirror_mode": {
    "name": "ipython",
    "version": 3
   },
   "file_extension": ".py",
   "mimetype": "text/x-python",
   "name": "python",
   "nbconvert_exporter": "python",
   "pygments_lexer": "ipython3",
   "version": "3.5.3"
  }
 },
 "nbformat": 4,
 "nbformat_minor": 2
}

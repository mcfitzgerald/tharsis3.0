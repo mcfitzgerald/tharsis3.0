{
 "cells": [
  {
   "cell_type": "code",
   "execution_count": 1,
   "metadata": {
    "collapsed": true
   },
   "outputs": [],
   "source": [
    "import numpy as np\n",
    "import scipy as sp\n",
    "from scipy import optimize\n",
    "from scipy import stats\n",
    "import matplotlib.pyplot as plt\n",
    "import sys, copy, emcee, corner\n",
    "%matplotlib inline"
   ]
  },
  {
   "cell_type": "code",
   "execution_count": 90,
   "metadata": {
    "collapsed": true
   },
   "outputs": [],
   "source": [
    "def dilser(low=0.001, limit=100., dilfactor=2.):\n",
    "    '''returns a numpy array dilution series from low to limit by dilfactor'''\n",
    "    #replace this with a generator/iterator someday\n",
    "    a = [low]\n",
    "    while a[-1] <= limit:\n",
    "        a.append(a[len(a)-1]*dilfactor)\n",
    "    return np.array(a)\n",
    "\n",
    "def k1mod(params,ligs,noise=None):\n",
    "    '''\n",
    "    theoretical model for single binding site\n",
    "    \n",
    "    returns tuple of ligand concentrations, saturation, params\n",
    "\n",
    "    params is array of binding constants\n",
    "    ligs is array of ligand concentrations\n",
    "    noise is relative percent of gaussian noise (e.g., 0.0-1.) applied to data\n",
    "    '''\n",
    "\n",
    "    k1 = params[0]\n",
    "    sat = (k1*ligs)/(1 + k1*ligs)\n",
    "\n",
    "    if noise is None:\n",
    "        return (ligs,sat)\n",
    "    else:\n",
    "        noised = np.random.normal(sat,noise*sat)\n",
    "        return (ligs,noised,params)\n",
    "\n",
    "def k2mod(params,ligs,noise=None):\n",
    "    '''\n",
    "    theoretical model for a two-site receptor\n",
    "    \n",
    "    returns tuple of ligand concentrations, saturation, params\n",
    "\n",
    "    params is array of binding constants\n",
    "    ligs is array of ligand concentrations\n",
    "    noise is relative percent of gaussian noise (e.g., 0.0-1.) applied to data\n",
    "    '''\n",
    "\n",
    "    k1 = params[0]\n",
    "    k2 = params[1]\n",
    "    sat = (1/2)*((k1*ligs + 2*k1*k2*(ligs**2))/(1 + k1*ligs + k1*k2*(ligs**2)))\n",
    "\n",
    "    if noise is None:\n",
    "        return (ligs,sat)\n",
    "    else:\n",
    "        noised = np.random.normal(sat,noise*sat)\n",
    "        return (ligs,noised,params)\n",
    "\n",
    "def k2mod_fix(params,ligs,noise=None):\n",
    "    '''\n",
    "    returns tuple of ligand concentrations, saturation, params\n",
    "\n",
    "    params is array of binding constants\n",
    "    ligs is array of ligand concentrations\n",
    "    noise is relative percent of gaussian noise (e.g., 0.0-1.) applied to data\n",
    "    '''\n",
    "\n",
    "    k1 = params[0]\n",
    "    k2 = params[0]/4\n",
    "    sat = (1/2)*((k1*ligs + 2*k1*k2*(ligs**2))/(1 + k1*ligs + k1*k2*(ligs**2)))\n",
    "\n",
    "    if noise is None:\n",
    "        return (ligs,sat)\n",
    "    else:\n",
    "        noised = np.random.normal(sat,noise*sat)\n",
    "        return (ligs,noised,params)\n",
    "\n",
    "def obj(guess,model,data):\n",
    "    return model(guess,data[0])[1] - data[1]\n",
    "\n",
    "#removed proportionality constant\n",
    "def obj_wt(guess,model,data):\n",
    "    return (model(guess,data[0])[1] - data[1])/(data[1])\n",
    "\n",
    "def fit(data,model,guess):\n",
    "        return sp.optimize.least_squares(obj,guess,args=(model,data),ftol=1e-14,gtol=1e-14,xtol=1e-14)\n",
    "\n",
    "#removed proportionality constant    \n",
    "def fit_wt(data,model,guess):\n",
    "        return sp.optimize.least_squares(obj_wt,guess,args=(model,data),ftol=1e-14,gtol=1e-14,xtol=1e-14)\n",
    "\n",
    "def ftest(fit1,fit2):\n",
    "    '''\n",
    "    fit1 is fit from simpler model\n",
    "    '''\n",
    "\n",
    "    SS1 = np.sum(np.square(fit1.fun))\n",
    "    SS2 = np.sum(np.square(fit2.fun))\n",
    "\n",
    "    DF1 = fit1.fun.shape[0] - fit1.x.shape[0]\n",
    "    DF2 = fit2.fun.shape[0] - fit2.x.shape[0]\n",
    "\n",
    "    F = ((SS1-SS2)/(DF1-DF2))/(SS2/DF2)\n",
    "\n",
    "    p = sp.stats.f.sf(F,(DF1-DF2),DF2)\n",
    "\n",
    "    return (SS1,SS2,DF1,DF2,F,p)"
   ]
  },
  {
   "cell_type": "code",
   "execution_count": 3,
   "metadata": {
    "collapsed": true
   },
   "outputs": [],
   "source": [
    "ligs = dilser()"
   ]
  },
  {
   "cell_type": "code",
   "execution_count": 4,
   "metadata": {
    "collapsed": true
   },
   "outputs": [],
   "source": [
    "k1parm = np.array([1.])"
   ]
  },
  {
   "cell_type": "code",
   "execution_count": 74,
   "metadata": {
    "collapsed": true
   },
   "outputs": [],
   "source": [
    "k1datset = [k1mod(k1parm,ligs,0.1) for i in range(10000)]"
   ]
  },
  {
   "cell_type": "code",
   "execution_count": 75,
   "metadata": {
    "collapsed": true
   },
   "outputs": [],
   "source": [
    "k2guess = np.array([2.,0.5])\n",
    "k2fixguess = np.array([2.])"
   ]
  },
  {
   "cell_type": "code",
   "execution_count": 76,
   "metadata": {
    "collapsed": true
   },
   "outputs": [],
   "source": [
    "k2fits = [fit(i,k2mod,k2guess) for i in k1datset]"
   ]
  },
  {
   "cell_type": "code",
   "execution_count": 77,
   "metadata": {
    "collapsed": true
   },
   "outputs": [],
   "source": [
    "k1fits_nested = [fit(i,k2mod_fix,k2fixguess) for i in k1datset]"
   ]
  },
  {
   "cell_type": "code",
   "execution_count": 78,
   "metadata": {},
   "outputs": [
    {
     "data": {
      "text/plain": [
       "2184"
      ]
     },
     "execution_count": 78,
     "metadata": {},
     "output_type": "execute_result"
    }
   ],
   "source": [
    "np.sum(np.array([i.x[0]/i.x[1] for i in k2fits]) > 6)"
   ]
  },
  {
   "cell_type": "code",
   "execution_count": 79,
   "metadata": {
    "collapsed": true
   },
   "outputs": [],
   "source": [
    "k2full = np.array([i.x[0] for i in k2fits])\n",
    "k2nest = np.array([i.x[0] for i in k1fits_nested])"
   ]
  },
  {
   "cell_type": "code",
   "execution_count": 80,
   "metadata": {},
   "outputs": [
    {
     "data": {
      "text/plain": [
       "(array([  3.80000000e+01,   3.06000000e+02,   1.33000000e+03,\n",
       "          2.64600000e+03,   2.91800000e+03,   1.86600000e+03,\n",
       "          7.12000000e+02,   1.64000000e+02,   1.90000000e+01,\n",
       "          1.00000000e+00]),\n",
       " array([ 1.24827343,  1.42604779,  1.60382216,  1.78159653,  1.95937089,\n",
       "         2.13714526,  2.31491963,  2.49269399,  2.67046836,  2.84824273,\n",
       "         3.02601709]),\n",
       " <a list of 10 Patch objects>)"
      ]
     },
     "execution_count": 80,
     "metadata": {},
     "output_type": "execute_result"
    },
    {
     "data": {
      "image/png": "[encoded data removed]",
      "text/plain": [
       "<matplotlib.figure.Figure at 0x11a628cc0>"
      ]
     },
     "metadata": {},
     "output_type": "display_data"
    }
   ],
   "source": [
    "plt.hist(k2full)\n",
    "plt.hist(k2nest,color='red')"
   ]
  },
  {
   "cell_type": "code",
   "execution_count": 93,
   "metadata": {},
   "outputs": [],
   "source": [
    "ps = np.array([ftest(k1fits_nested[i],k2fits[i])[-1] for i in range(10000)])"
   ]
  },
  {
   "cell_type": "code",
   "execution_count": 94,
   "metadata": {},
   "outputs": [
    {
     "data": {
      "text/plain": [
       "0.40220911298094542"
      ]
     },
     "execution_count": 94,
     "metadata": {},
     "output_type": "execute_result"
    }
   ],
   "source": [
    "ps[0]"
   ]
  },
  {
   "cell_type": "code",
   "execution_count": 83,
   "metadata": {},
   "outputs": [
    {
     "data": {
      "text/plain": [
       "0.47532876823248543"
      ]
     },
     "execution_count": 83,
     "metadata": {},
     "output_type": "execute_result"
    }
   ],
   "source": [
    "ps.mean()"
   ]
  },
  {
   "cell_type": "code",
   "execution_count": 95,
   "metadata": {},
   "outputs": [
    {
     "ename": "TypeError",
     "evalue": "only integer scalar arrays can be converted to a scalar index",
     "output_type": "error",
     "traceback": [
      "\u001b[0;31m---------------------------------------------------------------------------\u001b[0m",
      "\u001b[0;31mTypeError\u001b[0m                                 Traceback (most recent call last)",
      "\u001b[0;32m<ipython-input-95-361f569959c8>\u001b[0m in \u001b[0;36m<module>\u001b[0;34m()\u001b[0m\n\u001b[0;32m----> 1\u001b[0;31m \u001b[0mk2fits\u001b[0m\u001b[0;34m[\u001b[0m\u001b[0;34m(\u001b[0m\u001b[0mps\u001b[0m \u001b[0;34m<\u001b[0m \u001b[0;36m0.05\u001b[0m\u001b[0;34m)\u001b[0m\u001b[0;34m]\u001b[0m\u001b[0;34m\u001b[0m\u001b[0m\n\u001b[0m",
      "\u001b[0;31mTypeError\u001b[0m: only integer scalar arrays can be converted to a scalar index"
     ]
    }
   ],
   "source": [
    "k2fits[(ps < 0.05)]"
   ]
  },
  {
   "cell_type": "code",
   "execution_count": 96,
   "metadata": {},
   "outputs": [],
   "source": [
    "ftz = np.array(k2fits)"
   ]
  },
  {
   "cell_type": "code",
   "execution_count": 97,
   "metadata": {},
   "outputs": [],
   "source": [
    "wins = ftz[(ps < 0.05)]"
   ]
  },
  {
   "cell_type": "code",
   "execution_count": 98,
   "metadata": {},
   "outputs": [],
   "source": [
    "ratios = np.array([i.x[0]/i.x[1] for i in wins])"
   ]
  },
  {
   "cell_type": "code",
   "execution_count": 99,
   "metadata": {},
   "outputs": [
    {
     "data": {
      "text/plain": [
       "420"
      ]
     },
     "execution_count": 99,
     "metadata": {},
     "output_type": "execute_result"
    }
   ],
   "source": [
    "np.sum(ratios > 4)"
   ]
  },
  {
   "cell_type": "code",
   "execution_count": null,
   "metadata": {
    "collapsed": true
   },
   "outputs": [],
   "source": []
  }
 ],
 "metadata": {
  "anaconda-cloud": {},
  "kernelspec": {
   "display_name": "Python [conda env:fitter]",
   "language": "python",
   "name": "conda-env-fitter-py"
  },
  "language_info": {
   "codemirror_mode": {
    "name": "ipython",
    "version": 3
   },
   "file_extension": ".py",
   "mimetype": "text/x-python",
   "name": "python",
   "nbconvert_exporter": "python",
   "pygments_lexer": "ipython3",
   "version": "3.5.3"
  }
 },
 "nbformat": 4,
 "nbformat_minor": 2
}

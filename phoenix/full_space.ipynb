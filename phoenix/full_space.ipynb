{
 "cells": [
  {
   "cell_type": "code",
   "execution_count": 1,
   "metadata": {
    "collapsed": true
   },
   "outputs": [],
   "source": [
    "import numpy as np\n",
    "import scipy as sp\n",
    "from scipy import optimize\n",
    "from scipy import stats\n",
    "import matplotlib.pyplot as plt\n",
    "import sys, copy, emcee, corner\n",
    "%matplotlib inline"
   ]
  },
  {
   "cell_type": "code",
   "execution_count": 2,
   "metadata": {
    "collapsed": true
   },
   "outputs": [],
   "source": [
    "sys.path.append('./ligbind/')\n",
    "import ligbind as lb"
   ]
  },
  {
   "cell_type": "code",
   "execution_count": 3,
   "metadata": {
    "collapsed": true
   },
   "outputs": [],
   "source": [
    "def wym_obj(guess,model,data,ligs,rtot):\n",
    "    datac = np.concatenate(data)\n",
    "    return (model(guess,ligs,rtot)-datac)\n",
    "\n",
    "def fit_wym(guess,model,data,ligs,rtot,bnds):\n",
    "        return sp.optimize.least_squares(wym_obj,guess,args=(model,data,ligs,rtot),bounds=bnds,method='trf',ftol=1e-14,gtol=1e-14,xtol=1e-14)\n",
    "    \n",
    "def wym_obj_wt(guess,model,data,ligs,rtot):\n",
    "    datac = np.concatenate(data)\n",
    "    return (model(guess,ligs,rtot)-datac)/datac\n",
    "\n",
    "def fit_wym_wt(guess,model,data,ligs,rtot,bnds):\n",
    "        return sp.optimize.least_squares(wym_obj_wt,guess,args=(model,data,ligs,rtot),bounds=bnds,method='trf',ftol=1e-14,gtol=1e-14,xtol=1e-14)"
   ]
  },
  {
   "cell_type": "code",
   "execution_count": 4,
   "metadata": {
    "collapsed": true
   },
   "outputs": [],
   "source": [
    "def wymfunc_fix(parm,lig,rtot):\n",
    "    '''\n",
    "    Model function for dimerizing, single-site receptors as derived in\n",
    "    (Wyman and Gill, Binding and Linkage, 1990) and used by\n",
    "    (Macdonald and Pike, ...EGF-binding...negative cooperativity...aggregating system, 2008).\n",
    "    Takes numpy array of parameters [k11,k21,k22,l20], numpy array of free ligand concentrations,\n",
    "    and total receptor concentration. Returns the fraction of receptor bound to ligand.\n",
    "\n",
    "    To generate a data set, iterate over an array of desired receptor concentrations, e.g.:\n",
    "    [wymfunc(parm,lig,i) for i in array_of_rtots]\n",
    "\n",
    "    For use in curve fitting an objective function for use with scipy.optimize.least_squares\n",
    "    is readily constructed as: (wymfun(parm_guess,lig,rtot) - actual_data)\n",
    "    '''\n",
    "\n",
    "    #ensure dimension/broadcasting compatibility of inputs\n",
    "    if ((rtot.ndim > 0) and (rtot.ndim != lig.ndim)):\n",
    "        rtot = rtot[:,None] #adds dimension so that it can be broadcast\n",
    "    else:\n",
    "        rtot = rtot\n",
    "\n",
    "    #unpack parameters\n",
    "    k11 = parm[0]\n",
    "    k21 = parm[1]\n",
    "    k22 = k21/4.\n",
    "    l20 = parm[2]\n",
    "\n",
    "    ### START MODEL FUNCTION ###\n",
    "\n",
    "    #calculate concentration of free (unoccupied) receptor\n",
    "    rfree = (((-1 - k11*lig)) + \\\n",
    "    ((np.square((1 + k11*lig)) + \\\n",
    "    8.*l20*rtot*(1 + k21*lig + k21*k22*(np.square(lig)))))**0.5) \\\n",
    "    / (4*l20*(1 + k21*lig + k21*k22*(np.square(lig))))\n",
    "\n",
    "    #calculate bound fraction\n",
    "    bfrac = (k11*lig + l20*k21*rfree*lig + \\\n",
    "    2*l20*k21*k22*rfree*(np.square(lig))) \\\n",
    "    / (1 + 2*l20*rfree + k11*lig + \\\n",
    "    2*l20*k21*rfree*lig + 2*l20*k21*k22*rfree*(np.square(lig)))\n",
    "\n",
    "    ### END MODEL FUNCTION ###\n",
    "\n",
    "    #flatten output\n",
    "    if ((rtot.ndim > 0) and (rtot.ndim != lig.ndim)):\n",
    "        return bfrac.flatten()\n",
    "    elif (rtot.ndim == 0):\n",
    "        return bfrac.flatten()\n",
    "    else:\n",
    "        return np.concatenate(bfrac)"
   ]
  },
  {
   "cell_type": "code",
   "execution_count": 134,
   "metadata": {
    "collapsed": true
   },
   "outputs": [],
   "source": [
    "from itertools import product\n",
    "\n",
    "def parmsetter(k1):\n",
    "    base = np.array([k1,])\n",
    "    k2s = np.array([0.1,1.,10.])*base\n",
    "    k21s = np.array([1000.,100.,10.,0.1,0.01,0.001])*base\n",
    "    ls = np.array([10.,100.,1000.])*base\n",
    "    \n",
    "    things = [base,k2s,k21s,ls]\n",
    "    \n",
    "    b = list(product(*things))\n",
    "    \n",
    "    c = np.array(b)\n",
    "    \n",
    "    c[:,2]=c[:,1]/4.\n",
    "    \n",
    "    neuts = np.array(list(set([tuple(i.tolist()) for i in c])))\n",
    "    \n",
    "    all_sets = np.concatenate([b,neuts])\n",
    "    \n",
    "    return all_sets"
   ]
  },
  {
   "cell_type": "code",
   "execution_count": 135,
   "metadata": {
    "collapsed": true
   },
   "outputs": [],
   "source": [
    "parmsets = parmsetter(5)"
   ]
  },
  {
   "cell_type": "code",
   "execution_count": 136,
   "metadata": {
    "collapsed": true
   },
   "outputs": [],
   "source": [
    "sim_n05 = [lb.WymSim(sets=1000,reps=1,parms=i,noise=0.05) for i in parmsets]"
   ]
  },
  {
   "cell_type": "code",
   "execution_count": 8,
   "metadata": {
    "collapsed": true
   },
   "outputs": [],
   "source": [
    "guess = np.array([5.,2.,0.5,500.])\n",
    "guess_fix = np.array([5.,2.,500.])"
   ]
  },
  {
   "cell_type": "code",
   "execution_count": 9,
   "metadata": {
    "collapsed": true
   },
   "outputs": [],
   "source": [
    "lsbnds = (tuple(1e-5 for i in range(4)),tuple(1e4 for i in range(4)))\n",
    "lsbnds_fix = (tuple(1e-5 for i in range(3)),tuple(1e4 for i in range(3)))"
   ]
  },
  {
   "cell_type": "code",
   "execution_count": 42,
   "metadata": {
    "collapsed": true
   },
   "outputs": [],
   "source": [
    "#res05_full_wt = [np.array([fit_wym_wt(guess,lb.models.wymfunc,i,j.ligs,j.rtot,lsbnds) for i in j.meanset]) for j in sim_n05]"
   ]
  },
  {
   "cell_type": "code",
   "execution_count": 51,
   "metadata": {
    "collapsed": true
   },
   "outputs": [],
   "source": [
    "#res05_fix_wt = [np.array([fit_wym_wt(guess_fix,wymfunc_fix,i,j.ligs,j.rtot,lsbnds_fix) for i in j.meanset]) for j in sim_n05]"
   ]
  },
  {
   "cell_type": "code",
   "execution_count": 58,
   "metadata": {},
   "outputs": [
    {
     "name": "stdout",
     "output_type": "stream",
     "text": [
      "Stored 'lsbnds' (tuple)\n"
     ]
    }
   ],
   "source": [
    "%store lsbnds"
   ]
  },
  {
   "cell_type": "code",
   "execution_count": 60,
   "metadata": {
    "collapsed": true
   },
   "outputs": [],
   "source": [
    "t = np.array(res05_fix_wt)"
   ]
  },
  {
   "cell_type": "code",
   "execution_count": 61,
   "metadata": {},
   "outputs": [
    {
     "name": "stdout",
     "output_type": "stream",
     "text": [
      "Stored 't' (ndarray)\n"
     ]
    }
   ],
   "source": [
    "%store t"
   ]
  },
  {
   "cell_type": "code",
   "execution_count": 62,
   "metadata": {
    "collapsed": true
   },
   "outputs": [],
   "source": [
    "u = np.array(res05_full_wt)"
   ]
  },
  {
   "cell_type": "code",
   "execution_count": 63,
   "metadata": {},
   "outputs": [
    {
     "name": "stdout",
     "output_type": "stream",
     "text": [
      "Stored 'u' (ndarray)\n"
     ]
    }
   ],
   "source": [
    "%store u"
   ]
  },
  {
   "cell_type": "code",
   "execution_count": 10,
   "metadata": {
    "collapsed": true
   },
   "outputs": [],
   "source": [
    "%store -r t"
   ]
  },
  {
   "cell_type": "code",
   "execution_count": 14,
   "metadata": {},
   "outputs": [
    {
     "data": {
      "text/plain": [
       "array([  5.06221901,   0.91752248,  66.81683739])"
      ]
     },
     "execution_count": 14,
     "metadata": {},
     "output_type": "execute_result"
    }
   ],
   "source": [
    "t[0][0].x"
   ]
  },
  {
   "cell_type": "code",
   "execution_count": 15,
   "metadata": {
    "collapsed": true
   },
   "outputs": [],
   "source": [
    "%store -r u"
   ]
  },
  {
   "cell_type": "code",
   "execution_count": 23,
   "metadata": {},
   "outputs": [
    {
     "data": {
      "text/plain": [
       "(1000,)"
      ]
     },
     "execution_count": 23,
     "metadata": {},
     "output_type": "execute_result"
    }
   ],
   "source": [
    "u[0].shape"
   ]
  },
  {
   "cell_type": "code",
   "execution_count": 24,
   "metadata": {},
   "outputs": [
    {
     "data": {
      "text/plain": [
       "(63, 1000)"
      ]
     },
     "execution_count": 24,
     "metadata": {},
     "output_type": "execute_result"
    }
   ],
   "source": [
    "u.shape"
   ]
  },
  {
   "cell_type": "code",
   "execution_count": 25,
   "metadata": {
    "collapsed": true
   },
   "outputs": [],
   "source": [
    "def ftest(fit1,fit2):\n",
    "    '''\n",
    "    fit1 is fit from simpler model\n",
    "    '''\n",
    "\n",
    "    SS1 = np.sum(np.square(fit1.fun))\n",
    "    SS2 = np.sum(np.square(fit2.fun))\n",
    "\n",
    "    DF1 = fit1.fun.shape[0] - fit1.x.shape[0]\n",
    "    DF2 = fit2.fun.shape[0] - fit2.x.shape[0]\n",
    "\n",
    "    F = ((SS1-SS2)/(DF1-DF2))/(SS2/DF2)\n",
    "\n",
    "    p = sp.stats.f.sf(F,(DF1-DF2),DF2)\n",
    "\n",
    "    return (SS1,SS2,DF1,DF2,F,p)"
   ]
  },
  {
   "cell_type": "code",
   "execution_count": 30,
   "metadata": {
    "collapsed": true
   },
   "outputs": [],
   "source": [
    "ps = np.array([np.array([ftest(t[j][i],u[j][i])[-1] for i in range(1000)]) for j in range(63)])"
   ]
  },
  {
   "cell_type": "code",
   "execution_count": 36,
   "metadata": {
    "collapsed": true
   },
   "outputs": [],
   "source": [
    "sigs = np.array([np.sum(ps[i] < 0.05) for i in range(63)])"
   ]
  },
  {
   "cell_type": "code",
   "execution_count": 54,
   "metadata": {
    "collapsed": true
   },
   "outputs": [],
   "source": [
    "berb = np.array([i for i in enumerate(sigs)])"
   ]
  },
  {
   "cell_type": "code",
   "execution_count": 119,
   "metadata": {},
   "outputs": [
    {
     "data": {
      "text/plain": [
       "19.507594247065374"
      ]
     },
     "execution_count": 119,
     "metadata": {},
     "output_type": "execute_result"
    }
   ],
   "source": [
    "np.std(sigs)"
   ]
  },
  {
   "cell_type": "code",
   "execution_count": 56,
   "metadata": {},
   "outputs": [
    {
     "data": {
      "text/plain": [
       "array([[ 0,  6],\n",
       "       [ 1, 13],\n",
       "       [ 2, 15],\n",
       "       [ 3, 15],\n",
       "       [ 4, 16],\n",
       "       [ 5, 19],\n",
       "       [ 6, 21],\n",
       "       [ 7, 25],\n",
       "       [ 8, 32],\n",
       "       [ 9, 33],\n",
       "       [10, 33],\n",
       "       [11, 35],\n",
       "       [12, 37],\n",
       "       [13, 41],\n",
       "       [14, 52],\n",
       "       [15, 53],\n",
       "       [16, 54],\n",
       "       [17, 54],\n",
       "       [18, 57],\n",
       "       [19, 57],\n",
       "       [20, 59],\n",
       "       [21, 60],\n",
       "       [22, 60],\n",
       "       [23, 60],\n",
       "       [24, 60],\n",
       "       [25, 60],\n",
       "       [26, 61],\n",
       "       [27, 61],\n",
       "       [28, 61],\n",
       "       [29, 62],\n",
       "       [30, 62],\n",
       "       [31, 63],\n",
       "       [32, 63],\n",
       "       [33, 64],\n",
       "       [34, 64],\n",
       "       [35, 65],\n",
       "       [36, 66],\n",
       "       [37, 66],\n",
       "       [38, 66],\n",
       "       [39, 68],\n",
       "       [40, 68],\n",
       "       [41, 69],\n",
       "       [42, 69],\n",
       "       [43, 69],\n",
       "       [44, 70],\n",
       "       [45, 70],\n",
       "       [46, 70],\n",
       "       [47, 70],\n",
       "       [48, 71],\n",
       "       [49, 71],\n",
       "       [50, 73],\n",
       "       [51, 73],\n",
       "       [52, 74],\n",
       "       [53, 74],\n",
       "       [54, 74],\n",
       "       [55, 74],\n",
       "       [56, 75],\n",
       "       [57, 75],\n",
       "       [58, 75],\n",
       "       [59, 76],\n",
       "       [60, 78],\n",
       "       [61, 80],\n",
       "       [62, 91]])"
      ]
     },
     "execution_count": 56,
     "metadata": {},
     "output_type": "execute_result"
    }
   ],
   "source": [
    "np.sort(berb,axis=0)"
   ]
  },
  {
   "cell_type": "code",
   "execution_count": 74,
   "metadata": {},
   "outputs": [
    {
     "data": {
      "text/plain": [
       "array([[15,  6],\n",
       "       [56, 13],\n",
       "       [12, 15],\n",
       "       [ 3, 15],\n",
       "       [ 9, 16],\n",
       "       [ 0, 19],\n",
       "       [ 6, 21],\n",
       "       [13, 25],\n",
       "       [ 7, 32],\n",
       "       [61, 33],\n",
       "       [16, 33],\n",
       "       [ 1, 35],\n",
       "       [10, 37],\n",
       "       [ 4, 41],\n",
       "       [ 5, 52],\n",
       "       [51, 53],\n",
       "       [ 8, 54],\n",
       "       [22, 54],\n",
       "       [57, 57],\n",
       "       [48, 57],\n",
       "       [62, 59],\n",
       "       [40, 60],\n",
       "       [30, 60],\n",
       "       [39, 60],\n",
       "       [38, 60],\n",
       "       [58, 60],\n",
       "       [23, 61],\n",
       "       [53, 61],\n",
       "       [37, 61],\n",
       "       [45, 62],\n",
       "       [27, 62],\n",
       "       [ 2, 63],\n",
       "       [14, 63],\n",
       "       [36, 64],\n",
       "       [25, 64],\n",
       "       [50, 65],\n",
       "       [43, 66],\n",
       "       [52, 66],\n",
       "       [26, 66],\n",
       "       [42, 68],\n",
       "       [24, 68],\n",
       "       [18, 69],\n",
       "       [54, 69],\n",
       "       [31, 69],\n",
       "       [32, 70],\n",
       "       [28, 70],\n",
       "       [47, 70],\n",
       "       [34, 70],\n",
       "       [20, 71],\n",
       "       [11, 71],\n",
       "       [29, 73],\n",
       "       [17, 73],\n",
       "       [59, 74],\n",
       "       [21, 74],\n",
       "       [35, 74],\n",
       "       [19, 74],\n",
       "       [44, 75],\n",
       "       [49, 75],\n",
       "       [41, 75],\n",
       "       [60, 76],\n",
       "       [46, 78],\n",
       "       [55, 80],\n",
       "       [33, 91]])"
      ]
     },
     "execution_count": 74,
     "metadata": {},
     "output_type": "execute_result"
    }
   ],
   "source": [
    "berb[berb[:,1].argsort()]"
   ]
  },
  {
   "cell_type": "code",
   "execution_count": 61,
   "metadata": {},
   "outputs": [
    {
     "data": {
      "text/plain": [
       "array([  5.   ,   0.5  ,   0.125,  50.   ])"
      ]
     },
     "execution_count": 61,
     "metadata": {},
     "output_type": "execute_result"
    }
   ],
   "source": [
    "parmsets[15]"
   ]
  },
  {
   "cell_type": "code",
   "execution_count": 62,
   "metadata": {},
   "outputs": [
    {
     "data": {
      "text/plain": [
       "array([  5.  ,   5.  ,   1.25,  50.  ])"
      ]
     },
     "execution_count": 62,
     "metadata": {},
     "output_type": "execute_result"
    }
   ],
   "source": [
    "parmsets[33]"
   ]
  },
  {
   "cell_type": "code",
   "execution_count": 77,
   "metadata": {},
   "outputs": [
    {
     "data": {
      "text/plain": [
       "[<matplotlib.lines.Line2D at 0x139094588>,\n",
       " <matplotlib.lines.Line2D at 0x1391934e0>,\n",
       " <matplotlib.lines.Line2D at 0x139193668>,\n",
       " <matplotlib.lines.Line2D at 0x139193860>,\n",
       " <matplotlib.lines.Line2D at 0x139193a58>,\n",
       " <matplotlib.lines.Line2D at 0x139193c50>,\n",
       " <matplotlib.lines.Line2D at 0x139193e48>,\n",
       " <matplotlib.lines.Line2D at 0x13919a080>,\n",
       " <matplotlib.lines.Line2D at 0x13919a278>,\n",
       " <matplotlib.lines.Line2D at 0x13919a470>,\n",
       " <matplotlib.lines.Line2D at 0x13919a668>,\n",
       " <matplotlib.lines.Line2D at 0x13919a860>,\n",
       " <matplotlib.lines.Line2D at 0x13919aa58>,\n",
       " <matplotlib.lines.Line2D at 0x13919ac50>,\n",
       " <matplotlib.lines.Line2D at 0x13919ae48>,\n",
       " <matplotlib.lines.Line2D at 0x1391a1080>,\n",
       " <matplotlib.lines.Line2D at 0x1391a1278>,\n",
       " <matplotlib.lines.Line2D at 0x1391a1470>]"
      ]
     },
     "execution_count": 77,
     "metadata": {},
     "output_type": "execute_result"
    },
    {
     "data": {
      "image/png": "[encoded data removed]",
      "text/plain": [
       "<matplotlib.figure.Figure at 0x138f57320>"
      ]
     },
     "metadata": {},
     "output_type": "display_data"
    }
   ],
   "source": [
    "plt.semilogx(sim_n05[33].ligs, sim_n05[33].bfrac,'o',color='red',alpha=0.5)\n",
    "plt.semilogx(sim_n05[15].ligs, sim_n05[15].bfrac,'o',color='blue',alpha=0.5)\n",
    "plt.semilogx(sim_n05[2].ligs, sim_n05[2].bfrac,'o',color='green',alpha=0.5)"
   ]
  },
  {
   "cell_type": "code",
   "execution_count": 78,
   "metadata": {},
   "outputs": [
    {
     "data": {
      "text/plain": [
       "array([[  9.65810645e-01,   1.51676225e-01,   3.63257767e-01, ...,\n",
       "          3.15030151e-01,   2.79188265e-01,   4.34721238e-01],\n",
       "       [  3.88582811e-01,   5.81532414e-01,   3.13576715e-01, ...,\n",
       "          7.38953980e-01,   3.30469006e-01,   1.14204716e-01],\n",
       "       [  5.90967987e-01,   8.90974691e-01,   5.06455225e-01, ...,\n",
       "          3.73103624e-02,   2.56315908e-01,   4.49965167e-01],\n",
       "       ..., \n",
       "       [  4.59767547e-02,   9.19985051e-04,   6.10361176e-01, ...,\n",
       "          5.10447246e-01,   4.15439031e-01,   5.77626604e-02],\n",
       "       [  9.56623873e-01,   6.86563442e-01,   5.71915489e-01, ...,\n",
       "          6.22237045e-02,   3.58515958e-01,   6.98852984e-01],\n",
       "       [  6.25345837e-01,   7.95669082e-01,   5.01945871e-01, ...,\n",
       "          5.76680544e-01,   4.42684250e-01,   1.23998200e-02]])"
      ]
     },
     "execution_count": 78,
     "metadata": {},
     "output_type": "execute_result"
    }
   ],
   "source": [
    "ps"
   ]
  },
  {
   "cell_type": "code",
   "execution_count": 79,
   "metadata": {},
   "outputs": [
    {
     "data": {
      "text/plain": [
       "(63, 1000)"
      ]
     },
     "execution_count": 79,
     "metadata": {},
     "output_type": "execute_result"
    }
   ],
   "source": [
    "ps.shape"
   ]
  },
  {
   "cell_type": "code",
   "execution_count": 81,
   "metadata": {},
   "outputs": [
    {
     "data": {
      "text/plain": [
       "(63,)"
      ]
     },
     "execution_count": 81,
     "metadata": {},
     "output_type": "execute_result"
    }
   ],
   "source": [
    "sigs.shape"
   ]
  },
  {
   "cell_type": "code",
   "execution_count": 82,
   "metadata": {},
   "outputs": [
    {
     "data": {
      "text/plain": [
       "array([[  5.00000000e+00,   5.00000000e-01,   1.25000000e-01,\n",
       "          5.00000000e+01],\n",
       "       [  5.00000000e+00,   5.00000000e-01,   1.25000000e-01,\n",
       "          5.00000000e+02],\n",
       "       [  5.00000000e+00,   5.00000000e-01,   1.25000000e-01,\n",
       "          5.00000000e+03],\n",
       "       [  5.00000000e+00,   5.00000000e-01,   1.25000000e-01,\n",
       "          5.00000000e+01],\n",
       "       [  5.00000000e+00,   5.00000000e-01,   1.25000000e-01,\n",
       "          5.00000000e+02],\n",
       "       [  5.00000000e+00,   5.00000000e-01,   1.25000000e-01,\n",
       "          5.00000000e+03],\n",
       "       [  5.00000000e+00,   5.00000000e-01,   1.25000000e-01,\n",
       "          5.00000000e+01],\n",
       "       [  5.00000000e+00,   5.00000000e-01,   1.25000000e-01,\n",
       "          5.00000000e+02],\n",
       "       [  5.00000000e+00,   5.00000000e-01,   1.25000000e-01,\n",
       "          5.00000000e+03],\n",
       "       [  5.00000000e+00,   5.00000000e-01,   1.25000000e-01,\n",
       "          5.00000000e+01],\n",
       "       [  5.00000000e+00,   5.00000000e-01,   1.25000000e-01,\n",
       "          5.00000000e+02],\n",
       "       [  5.00000000e+00,   5.00000000e-01,   1.25000000e-01,\n",
       "          5.00000000e+03],\n",
       "       [  5.00000000e+00,   5.00000000e-01,   1.25000000e-01,\n",
       "          5.00000000e+01],\n",
       "       [  5.00000000e+00,   5.00000000e-01,   1.25000000e-01,\n",
       "          5.00000000e+02],\n",
       "       [  5.00000000e+00,   5.00000000e-01,   1.25000000e-01,\n",
       "          5.00000000e+03],\n",
       "       [  5.00000000e+00,   5.00000000e-01,   1.25000000e-01,\n",
       "          5.00000000e+01],\n",
       "       [  5.00000000e+00,   5.00000000e-01,   1.25000000e-01,\n",
       "          5.00000000e+02],\n",
       "       [  5.00000000e+00,   5.00000000e-01,   1.25000000e-01,\n",
       "          5.00000000e+03],\n",
       "       [  5.00000000e+00,   5.00000000e+00,   1.25000000e+00,\n",
       "          5.00000000e+01],\n",
       "       [  5.00000000e+00,   5.00000000e+00,   1.25000000e+00,\n",
       "          5.00000000e+02],\n",
       "       [  5.00000000e+00,   5.00000000e+00,   1.25000000e+00,\n",
       "          5.00000000e+03],\n",
       "       [  5.00000000e+00,   5.00000000e+00,   1.25000000e+00,\n",
       "          5.00000000e+01],\n",
       "       [  5.00000000e+00,   5.00000000e+00,   1.25000000e+00,\n",
       "          5.00000000e+02],\n",
       "       [  5.00000000e+00,   5.00000000e+00,   1.25000000e+00,\n",
       "          5.00000000e+03],\n",
       "       [  5.00000000e+00,   5.00000000e+00,   1.25000000e+00,\n",
       "          5.00000000e+01],\n",
       "       [  5.00000000e+00,   5.00000000e+00,   1.25000000e+00,\n",
       "          5.00000000e+02],\n",
       "       [  5.00000000e+00,   5.00000000e+00,   1.25000000e+00,\n",
       "          5.00000000e+03],\n",
       "       [  5.00000000e+00,   5.00000000e+00,   1.25000000e+00,\n",
       "          5.00000000e+01],\n",
       "       [  5.00000000e+00,   5.00000000e+00,   1.25000000e+00,\n",
       "          5.00000000e+02],\n",
       "       [  5.00000000e+00,   5.00000000e+00,   1.25000000e+00,\n",
       "          5.00000000e+03],\n",
       "       [  5.00000000e+00,   5.00000000e+00,   1.25000000e+00,\n",
       "          5.00000000e+01],\n",
       "       [  5.00000000e+00,   5.00000000e+00,   1.25000000e+00,\n",
       "          5.00000000e+02],\n",
       "       [  5.00000000e+00,   5.00000000e+00,   1.25000000e+00,\n",
       "          5.00000000e+03],\n",
       "       [  5.00000000e+00,   5.00000000e+00,   1.25000000e+00,\n",
       "          5.00000000e+01],\n",
       "       [  5.00000000e+00,   5.00000000e+00,   1.25000000e+00,\n",
       "          5.00000000e+02],\n",
       "       [  5.00000000e+00,   5.00000000e+00,   1.25000000e+00,\n",
       "          5.00000000e+03],\n",
       "       [  5.00000000e+00,   5.00000000e+01,   1.25000000e+01,\n",
       "          5.00000000e+01],\n",
       "       [  5.00000000e+00,   5.00000000e+01,   1.25000000e+01,\n",
       "          5.00000000e+02],\n",
       "       [  5.00000000e+00,   5.00000000e+01,   1.25000000e+01,\n",
       "          5.00000000e+03],\n",
       "       [  5.00000000e+00,   5.00000000e+01,   1.25000000e+01,\n",
       "          5.00000000e+01],\n",
       "       [  5.00000000e+00,   5.00000000e+01,   1.25000000e+01,\n",
       "          5.00000000e+02],\n",
       "       [  5.00000000e+00,   5.00000000e+01,   1.25000000e+01,\n",
       "          5.00000000e+03],\n",
       "       [  5.00000000e+00,   5.00000000e+01,   1.25000000e+01,\n",
       "          5.00000000e+01],\n",
       "       [  5.00000000e+00,   5.00000000e+01,   1.25000000e+01,\n",
       "          5.00000000e+02],\n",
       "       [  5.00000000e+00,   5.00000000e+01,   1.25000000e+01,\n",
       "          5.00000000e+03],\n",
       "       [  5.00000000e+00,   5.00000000e+01,   1.25000000e+01,\n",
       "          5.00000000e+01],\n",
       "       [  5.00000000e+00,   5.00000000e+01,   1.25000000e+01,\n",
       "          5.00000000e+02],\n",
       "       [  5.00000000e+00,   5.00000000e+01,   1.25000000e+01,\n",
       "          5.00000000e+03],\n",
       "       [  5.00000000e+00,   5.00000000e+01,   1.25000000e+01,\n",
       "          5.00000000e+01],\n",
       "       [  5.00000000e+00,   5.00000000e+01,   1.25000000e+01,\n",
       "          5.00000000e+02],\n",
       "       [  5.00000000e+00,   5.00000000e+01,   1.25000000e+01,\n",
       "          5.00000000e+03],\n",
       "       [  5.00000000e+00,   5.00000000e+01,   1.25000000e+01,\n",
       "          5.00000000e+01],\n",
       "       [  5.00000000e+00,   5.00000000e+01,   1.25000000e+01,\n",
       "          5.00000000e+02],\n",
       "       [  5.00000000e+00,   5.00000000e+01,   1.25000000e+01,\n",
       "          5.00000000e+03],\n",
       "       [  5.00000000e+00,   5.00000000e+01,   1.25000000e+01,\n",
       "          5.00000000e+02],\n",
       "       [  5.00000000e+00,   5.00000000e+01,   1.25000000e+01,\n",
       "          5.00000000e+03],\n",
       "       [  5.00000000e+00,   5.00000000e-01,   1.25000000e-01,\n",
       "          5.00000000e+01],\n",
       "       [  5.00000000e+00,   5.00000000e+01,   1.25000000e+01,\n",
       "          5.00000000e+01],\n",
       "       [  5.00000000e+00,   5.00000000e-01,   1.25000000e-01,\n",
       "          5.00000000e+03],\n",
       "       [  5.00000000e+00,   5.00000000e+00,   1.25000000e+00,\n",
       "          5.00000000e+02],\n",
       "       [  5.00000000e+00,   5.00000000e+00,   1.25000000e+00,\n",
       "          5.00000000e+03],\n",
       "       [  5.00000000e+00,   5.00000000e-01,   1.25000000e-01,\n",
       "          5.00000000e+02],\n",
       "       [  5.00000000e+00,   5.00000000e+00,   1.25000000e+00,\n",
       "          5.00000000e+01]])"
      ]
     },
     "execution_count": 82,
     "metadata": {},
     "output_type": "execute_result"
    }
   ],
   "source": [
    "parmsets"
   ]
  },
  {
   "cell_type": "code",
   "execution_count": 97,
   "metadata": {},
   "outputs": [
    {
     "data": {
      "image/png": "[encoded data removed]",
      "text/plain": [
       "<matplotlib.figure.Figure at 0x13a6b3940>"
      ]
     },
     "metadata": {},
     "output_type": "display_data"
    }
   ],
   "source": [
    "plt.semilogx(sim_n05[1].ligs, sim_n05[57].bfrac,'o',color='red',alpha=0.5);"
   ]
  },
  {
   "cell_type": "code",
   "execution_count": 98,
   "metadata": {
    "collapsed": true
   },
   "outputs": [],
   "source": [
    "a = lb.WymSimSubset()"
   ]
  },
  {
   "cell_type": "code",
   "execution_count": 100,
   "metadata": {},
   "outputs": [
    {
     "data": {
      "text/plain": [
       "array([[  1.00000000e-03,   2.00000000e-03,   4.00000000e-03,\n",
       "          8.00000000e-03,   1.60000000e-02,   3.20000000e-02,\n",
       "          6.40000000e-02,   1.28000000e-01,   2.56000000e-01,\n",
       "          5.12000000e-01,   1.02400000e+00,   2.04800000e+00,\n",
       "          4.09600000e+00,   8.19200000e+00,   1.63840000e+01,\n",
       "          3.27680000e+01,   6.55360000e+01,   1.31072000e+02],\n",
       "       [  1.00000000e-03,   2.00000000e-03,   4.00000000e-03,\n",
       "          8.00000000e-03,   1.60000000e-02,   3.20000000e-02,\n",
       "          6.40000000e-02,   1.28000000e-01,   2.56000000e-01,\n",
       "          5.12000000e-01,   1.02400000e+00,   2.04800000e+00,\n",
       "          4.09600000e+00,   8.19200000e+00,   1.63840000e+01,\n",
       "          3.27680000e+01,   6.55360000e+01,   1.31072000e+02],\n",
       "       [  1.00000000e-03,   2.00000000e-03,   4.00000000e-03,\n",
       "          8.00000000e-03,   1.60000000e-02,   3.20000000e-02,\n",
       "          6.40000000e-02,   1.28000000e-01,   2.56000000e-01,\n",
       "          5.12000000e-01,   1.02400000e+00,   2.04800000e+00,\n",
       "          4.09600000e+00,   8.19200000e+00,   1.63840000e+01,\n",
       "          3.27680000e+01,   6.55360000e+01,   1.31072000e+02],\n",
       "       [  1.00000000e-03,   2.00000000e-03,   4.00000000e-03,\n",
       "          8.00000000e-03,   1.60000000e-02,   3.20000000e-02,\n",
       "          6.40000000e-02,   1.28000000e-01,   2.56000000e-01,\n",
       "          5.12000000e-01,   1.02400000e+00,   2.04800000e+00,\n",
       "          4.09600000e+00,   8.19200000e+00,   1.63840000e+01,\n",
       "          3.27680000e+01,   6.55360000e+01,   1.31072000e+02],\n",
       "       [  1.00000000e-03,   2.00000000e-03,   4.00000000e-03,\n",
       "          8.00000000e-03,   1.60000000e-02,   3.20000000e-02,\n",
       "          6.40000000e-02,   1.28000000e-01,   2.56000000e-01,\n",
       "          5.12000000e-01,   1.02400000e+00,   2.04800000e+00,\n",
       "          4.09600000e+00,   8.19200000e+00,   1.63840000e+01,\n",
       "          3.27680000e+01,   6.55360000e+01,   1.31072000e+02],\n",
       "       [  1.00000000e-03,   2.00000000e-03,   4.00000000e-03,\n",
       "          8.00000000e-03,   1.60000000e-02,   3.20000000e-02,\n",
       "          6.40000000e-02,   1.28000000e-01,   2.56000000e-01,\n",
       "          5.12000000e-01,   1.02400000e+00,   2.04800000e+00,\n",
       "          4.09600000e+00,   8.19200000e+00,   1.63840000e+01,\n",
       "          3.27680000e+01,   6.55360000e+01,   1.31072000e+02]])"
      ]
     },
     "execution_count": 100,
     "metadata": {},
     "output_type": "execute_result"
    }
   ],
   "source": [
    "a.ligs"
   ]
  },
  {
   "cell_type": "code",
   "execution_count": 102,
   "metadata": {
    "collapsed": true
   },
   "outputs": [],
   "source": [
    "a.subset(0,7)"
   ]
  },
  {
   "cell_type": "code",
   "execution_count": 104,
   "metadata": {},
   "outputs": [
    {
     "data": {
      "text/plain": [
       "array([[[ 0.00287427,  0.00559022,  0.01093899, ...,  0.04084424,\n",
       "          0.08085992,  0.14953276],\n",
       "        [ 0.00247699,  0.00473858,  0.00908782, ...,  0.03997233,\n",
       "          0.07324313,  0.14118587],\n",
       "        [ 0.00226029,  0.00449576,  0.00860164, ...,  0.03409087,\n",
       "          0.06747441,  0.12095041],\n",
       "        [ 0.00200531,  0.00410486,  0.00782496, ...,  0.03046561,\n",
       "          0.06105856,  0.1109866 ],\n",
       "        [ 0.00177537,  0.00348527,  0.00684557, ...,  0.02639917,\n",
       "          0.05040694,  0.09542783],\n",
       "        [ 0.00150372,  0.00320088,  0.00591898, ...,  0.02442401,\n",
       "          0.04646277,  0.08220534]],\n",
       "\n",
       "       [[ 0.00272981,  0.00555536,  0.01095825, ...,  0.04292022,\n",
       "          0.07876249,  0.14734646],\n",
       "        [ 0.00238992,  0.00484733,  0.00967603, ...,  0.03734255,\n",
       "          0.07331235,  0.13799986],\n",
       "        [ 0.00217253,  0.00454356,  0.00877293, ...,  0.03556681,\n",
       "          0.06403407,  0.13113658],\n",
       "        [ 0.00190621,  0.00393526,  0.00801635, ...,  0.03225764,\n",
       "          0.05885339,  0.10565128],\n",
       "        [ 0.00161199,  0.00350384,  0.00692709, ...,  0.02607919,\n",
       "          0.05171389,  0.09546931],\n",
       "        [ 0.0015779 ,  0.00300733,  0.00602884, ...,  0.02233337,\n",
       "          0.04604764,  0.0898562 ]],\n",
       "\n",
       "       [[ 0.00279164,  0.00505191,  0.01067043, ...,  0.03912958,\n",
       "          0.07698819,  0.14477828],\n",
       "        [ 0.00238708,  0.00508743,  0.00964644, ...,  0.03739981,\n",
       "          0.06927597,  0.13773773],\n",
       "        [ 0.00216362,  0.00421572,  0.00859492, ...,  0.03640285,\n",
       "          0.06562975,  0.12315144],\n",
       "        [ 0.0019868 ,  0.00395052,  0.00755198, ...,  0.03142569,\n",
       "          0.05981783,  0.11239832],\n",
       "        [ 0.00173699,  0.00339923,  0.00679809, ...,  0.02596037,\n",
       "          0.05182858,  0.1012732 ],\n",
       "        [ 0.0015178 ,  0.00310684,  0.00609215, ...,  0.02513383,\n",
       "          0.04683736,  0.09085165]],\n",
       "\n",
       "       ..., \n",
       "       [[ 0.00264503,  0.00561327,  0.01064383, ...,  0.03962837,\n",
       "          0.07950478,  0.14800287],\n",
       "        [ 0.00245429,  0.00501482,  0.01000109, ...,  0.03783407,\n",
       "          0.06989229,  0.14456816],\n",
       "        [ 0.00214788,  0.00449352,  0.0089616 , ...,  0.03485927,\n",
       "          0.06958451,  0.11993808],\n",
       "        [ 0.00211736,  0.00408781,  0.0081006 , ...,  0.03292026,\n",
       "          0.06291675,  0.10962223],\n",
       "        [ 0.00171389,  0.00345696,  0.00663685, ...,  0.02658228,\n",
       "          0.05197184,  0.09845779],\n",
       "        [ 0.00150199,  0.00309675,  0.00600447, ...,  0.02396307,\n",
       "          0.04385796,  0.08768511]],\n",
       "\n",
       "       [[ 0.00264078,  0.00547483,  0.01063661, ...,  0.04144537,\n",
       "          0.08171041,  0.1445346 ],\n",
       "        [ 0.0024903 ,  0.00508154,  0.00965844, ...,  0.03742327,\n",
       "          0.07640082,  0.14127976],\n",
       "        [ 0.00222475,  0.00451186,  0.00909464, ...,  0.03249899,\n",
       "          0.06943533,  0.12641154],\n",
       "        [ 0.00195985,  0.00401734,  0.007752  , ...,  0.03160191,\n",
       "          0.06026095,  0.11084103],\n",
       "        [ 0.00169939,  0.00338594,  0.0065066 , ...,  0.02776884,\n",
       "          0.04952389,  0.10027479],\n",
       "        [ 0.001505  ,  0.00306747,  0.00594083, ...,  0.02366236,\n",
       "          0.04655329,  0.08938153]],\n",
       "\n",
       "       [[ 0.00274814,  0.00534038,  0.01098392, ...,  0.04190663,\n",
       "          0.08259942,  0.15245394],\n",
       "        [ 0.00244356,  0.0050466 ,  0.0098622 , ...,  0.03939336,\n",
       "          0.07060515,  0.13645573],\n",
       "        [ 0.00219784,  0.00458685,  0.00903198, ...,  0.03494721,\n",
       "          0.0681019 ,  0.12614918],\n",
       "        [ 0.00200912,  0.00413982,  0.00767002, ...,  0.0318809 ,\n",
       "          0.06057805,  0.11244015],\n",
       "        [ 0.00168899,  0.00320239,  0.0067522 , ...,  0.02621939,\n",
       "          0.05120212,  0.09576629],\n",
       "        [ 0.0015616 ,  0.00304145,  0.00624342, ...,  0.02433259,\n",
       "          0.04613239,  0.09140804]]])"
      ]
     },
     "execution_count": 104,
     "metadata": {},
     "output_type": "execute_result"
    }
   ],
   "source": [
    "a.meanset"
   ]
  },
  {
   "cell_type": "code",
   "execution_count": 114,
   "metadata": {
    "collapsed": true
   },
   "outputs": [],
   "source": [
    "b = lb.WymSimSubset()"
   ]
  },
  {
   "cell_type": "code",
   "execution_count": 116,
   "metadata": {},
   "outputs": [
    {
     "data": {
      "text/plain": [
       "(18,)"
      ]
     },
     "execution_count": 116,
     "metadata": {},
     "output_type": "execute_result"
    }
   ],
   "source": [
    "b.ligs[0].shape"
   ]
  },
  {
   "cell_type": "code",
   "execution_count": 133,
   "metadata": {},
   "outputs": [
    {
     "data": {
      "text/plain": [
       "[<matplotlib.lines.Line2D at 0x13d19abe0>]"
      ]
     },
     "execution_count": 133,
     "metadata": {},
     "output_type": "execute_result"
    },
    {
     "data": {
      "image/png": "[encoded data removed]",
      "text/plain": [
       "<matplotlib.figure.Figure at 0x13cfb2828>"
      ]
     },
     "metadata": {},
     "output_type": "display_data"
    }
   ],
   "source": [
    "plt.plot(berb[:,0],berb[:,1],':',sho)"
   ]
  },
  {
   "cell_type": "code",
   "execution_count": 123,
   "metadata": {},
   "outputs": [
    {
     "data": {
      "text/plain": [
       "array([19, 35, 63, 15, 41, 52, 21, 32, 54, 16, 37, 71, 15, 25, 63,  6, 33,\n",
       "       73, 69, 74, 71, 74, 54, 61, 68, 64, 66, 62, 70, 73, 60, 69, 70, 91,\n",
       "       70, 74, 64, 61, 60, 60, 60, 75, 68, 66, 75, 62, 78, 70, 57, 75, 65,\n",
       "       53, 66, 61, 69, 80, 13, 57, 60, 74, 76, 33, 59])"
      ]
     },
     "execution_count": 123,
     "metadata": {},
     "output_type": "execute_result"
    }
   ],
   "source": [
    "sigs"
   ]
  },
  {
   "cell_type": "code",
   "execution_count": null,
   "metadata": {
    "collapsed": true
   },
   "outputs": [],
   "source": []
  }
 ],
 "metadata": {
  "anaconda-cloud": {},
  "kernelspec": {
   "display_name": "Python [conda env:fitter]",
   "language": "python",
   "name": "conda-env-fitter-py"
  },
  "language_info": {
   "codemirror_mode": {
    "name": "ipython",
    "version": 3
   },
   "file_extension": ".py",
   "mimetype": "text/x-python",
   "name": "python",
   "nbconvert_exporter": "python",
   "pygments_lexer": "ipython3",
   "version": "3.5.3"
  }
 },
 "nbformat": 4,
 "nbformat_minor": 2
}

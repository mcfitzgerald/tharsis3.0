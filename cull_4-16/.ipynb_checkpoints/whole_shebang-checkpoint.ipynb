{
 "cells": [
  {
   "cell_type": "code",
   "execution_count": 1,
   "metadata": {
    "collapsed": true
   },
   "outputs": [],
   "source": [
    "import numpy as np\n",
    "import scipy as sp\n",
    "import matplotlib.pyplot as plt\n",
    "import sys, copy, emcee, corner\n",
    "\n",
    "%matplotlib inline\n",
    "%load_ext autoreload\n",
    "\n",
    "sys.path.append('./ligbind/')\n",
    "import ligbind as lb"
   ]
  },
  {
   "cell_type": "code",
   "execution_count": 2,
   "metadata": {
    "collapsed": false
   },
   "outputs": [
    {
     "name": "stdout",
     "output_type": "stream",
     "text": [
      "hootie hoo! the indices match!\n",
      "hootie hoo! the indices match!\n",
      "hootie hoo! the indices match!\n"
     ]
    }
   ],
   "source": [
    "WT_08_lbl, WT_08_rtot, WT_08_lig, WT_08_sat = lb.datprep('Data/EGFR_WT_08_Sat.csv','Data/EGFR_WT_08_Rtot.csv')\n",
    "WT_09_lbl, WT_09_rtot, WT_09_lig, WT_09_sat = lb.datprep('Data/EGFR_WT_09_Sat.csv','Data/EGFR_WT_09_Rtot.csv')\n",
    "WT_11_lbl, WT_11_rtot, WT_11_lig, WT_11_sat = lb.datprep('Data/EGFR_WT_11_Sat.csv','Data/EGFR_WT_11_Rtot.csv')"
   ]
  },
  {
   "cell_type": "code",
   "execution_count": 3,
   "metadata": {
    "collapsed": true
   },
   "outputs": [],
   "source": [
    "def rtot_objfun(guess,parm,lig,dat):\n",
    "    datac = np.concatenate(dat)\n",
    "    calc = lb.models.wymfunc(parm,lig,guess)\n",
    "    \n",
    "    return (calc-datac)\n",
    "    "
   ]
  },
  {
   "cell_type": "code",
   "execution_count": 6,
   "metadata": {
    "collapsed": false
   },
   "outputs": [],
   "source": [
    "guess = np.array([0.001,0.003,0.005,0.01,0.02,0.03])"
   ]
  },
  {
   "cell_type": "code",
   "execution_count": 9,
   "metadata": {
    "collapsed": false
   },
   "outputs": [],
   "source": [
    "parms = np.array([4.6,5.3,0.34,530.])"
   ]
  },
  {
   "cell_type": "code",
   "execution_count": 10,
   "metadata": {
    "collapsed": false
   },
   "outputs": [
    {
     "data": {
      "text/plain": [
       "array([-0.0164731 , -0.01895512, -0.00647369, -0.00612299,  0.01836136,\n",
       "       -0.00126613,  0.02603005,  0.07466845, -0.01253466, -0.028678  ,\n",
       "        0.00590562,  0.00553225,  0.03186777,  0.01713015, -0.01526264,\n",
       "       -0.0022922 , -0.00641707,  0.00243886,  0.00644122,  0.01103878,\n",
       "       -0.01484492, -0.0207233 , -0.03069195, -0.00204195,  0.01633407,\n",
       "       -0.01352036,  0.00581783, -0.01328738, -0.01068824,  0.01964022,\n",
       "        0.03023312,  0.00553165, -0.01489492, -0.00225757,  0.0014237 ,\n",
       "       -0.04222487, -0.03772394, -0.04308389,  0.00134986, -0.02185199,\n",
       "       -0.00199387, -0.01193571,  0.00547358,  0.00751177, -0.01913387,\n",
       "       -0.03247373, -0.04477795, -0.08669428, -0.06406837, -0.0833117 ,\n",
       "       -0.01738786, -0.03897044, -0.02901607,  0.01722956, -0.01416308,\n",
       "       -0.00240049,  0.01300474, -0.0168107 , -0.01791408, -0.00374973,\n",
       "       -0.01035836, -0.03640324, -0.01008158, -0.00174584, -0.04702937,\n",
       "       -0.01063256, -0.01438064, -0.00430402, -0.01462584, -0.00871087,\n",
       "       -0.01053801, -0.00031298, -0.01549594, -0.02469596, -0.01197582,\n",
       "        0.00117166,  0.00159861,  0.00214712,  0.00362896,  0.03035525,\n",
       "       -0.01252479])"
      ]
     },
     "execution_count": 10,
     "metadata": {},
     "output_type": "execute_result"
    }
   ],
   "source": [
    "rtot_objfun(guess,parms,WT_08_lig,WT_08_sat)"
   ]
  },
  {
   "cell_type": "code",
   "execution_count": 17,
   "metadata": {
    "collapsed": false
   },
   "outputs": [],
   "source": [
    "lsbnds = (tuple(1e-5 for i in range(6)),tuple(1e-1 for i in range(6)))"
   ]
  },
  {
   "cell_type": "code",
   "execution_count": 18,
   "metadata": {
    "collapsed": false
   },
   "outputs": [],
   "source": [
    "a = sp.optimize.least_squares(rtot_objfun,guess,args=(parms,WT_08_lig,WT_08_sat),bounds=lsbnds)"
   ]
  },
  {
   "cell_type": "code",
   "execution_count": 19,
   "metadata": {
    "collapsed": false
   },
   "outputs": [
    {
     "data": {
      "text/plain": [
       "array([ 0.00143878,  0.00242228,  0.00339179,  0.0027181 ,  0.01216361,\n",
       "        0.02594478])"
      ]
     },
     "execution_count": 19,
     "metadata": {},
     "output_type": "execute_result"
    }
   ],
   "source": [
    "a.x"
   ]
  },
  {
   "cell_type": "code",
   "execution_count": 20,
   "metadata": {
    "collapsed": false
   },
   "outputs": [
    {
     "data": {
      "text/plain": [
       "array([ 0.001439,  0.002422,  0.003392,  0.002718,  0.01216 ,  0.02594 ])"
      ]
     },
     "execution_count": 20,
     "metadata": {},
     "output_type": "execute_result"
    }
   ],
   "source": [
    "WT_08_rtot"
   ]
  },
  {
   "cell_type": "code",
   "execution_count": 21,
   "metadata": {
    "collapsed": false
   },
   "outputs": [
    {
     "data": {
      "text/plain": [
       "(5,)"
      ]
     },
     "execution_count": 21,
     "metadata": {},
     "output_type": "execute_result"
    }
   ],
   "source": [
    "WT_09_lig.shape"
   ]
  },
  {
   "cell_type": "code",
   "execution_count": 22,
   "metadata": {
    "collapsed": false
   },
   "outputs": [
    {
     "data": {
      "text/plain": [
       "(6,)"
      ]
     },
     "execution_count": 22,
     "metadata": {},
     "output_type": "execute_result"
    }
   ],
   "source": [
    "WT_11_rtot.shape"
   ]
  },
  {
   "cell_type": "code",
   "execution_count": 23,
   "metadata": {
    "collapsed": true
   },
   "outputs": [],
   "source": [
    "a = sp.optimize.least_squares(rtot_objfun,guess,args=(parms,WT_11_lig,WT_11_sat),bounds=lsbnds)"
   ]
  },
  {
   "cell_type": "code",
   "execution_count": 24,
   "metadata": {
    "collapsed": false
   },
   "outputs": [
    {
     "data": {
      "text/plain": [
       "array([ 0.00330977,  0.00679375,  0.01122675,  0.09999999,  0.1       ,\n",
       "        0.1       ])"
      ]
     },
     "execution_count": 24,
     "metadata": {},
     "output_type": "execute_result"
    }
   ],
   "source": [
    "a.x"
   ]
  },
  {
   "cell_type": "code",
   "execution_count": null,
   "metadata": {
    "collapsed": true
   },
   "outputs": [],
   "source": []
  }
 ],
 "metadata": {
  "anaconda-cloud": {},
  "kernelspec": {
   "display_name": "Python [conda env:fitter]",
   "language": "python",
   "name": "conda-env-fitter-py"
  },
  "language_info": {
   "codemirror_mode": {
    "name": "ipython",
    "version": 3
   },
   "file_extension": ".py",
   "mimetype": "text/x-python",
   "name": "python",
   "nbconvert_exporter": "python",
   "pygments_lexer": "ipython3",
   "version": "3.5.2"
  }
 },
 "nbformat": 4,
 "nbformat_minor": 1
}

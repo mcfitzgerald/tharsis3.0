{
 "cells": [
  {
   "cell_type": "code",
   "execution_count": 2,
   "metadata": {
    "collapsed": true
   },
   "outputs": [],
   "source": [
    "import numpy as np\n",
    "import scipy as sp\n",
    "import matplotlib.pyplot as plt\n",
    "import sys, copy, emcee, corner\n",
    "\n",
    "%matplotlib inline\n",
    "%load_ext autoreload\n",
    "\n",
    "sys.path.append('./ligbind/')\n",
    "import ligbind as lb"
   ]
  },
  {
   "cell_type": "code",
   "execution_count": 3,
   "metadata": {
    "collapsed": false
   },
   "outputs": [
    {
     "name": "stdout",
     "output_type": "stream",
     "text": [
      "hootie hoo! the indices match!\n",
      "hootie hoo! the indices match!\n",
      "hootie hoo! the indices match!\n"
     ]
    }
   ],
   "source": [
    "WT_08_lbl, WT_08_rtot, WT_08_lig, WT_08_sat = lb.datprep('Data/EGFR_WT_08_Sat.csv','Data/EGFR_WT_08_Rtot.csv')\n",
    "WT_09_lbl, WT_09_rtot, WT_09_lig, WT_09_sat = lb.datprep('Data/EGFR_WT_09_Sat.csv','Data/EGFR_WT_09_Rtot.csv')\n",
    "WT_11_lbl, WT_11_rtot, WT_11_lig, WT_11_sat = lb.datprep('Data/EGFR_WT_11_Sat.csv','Data/EGFR_WT_11_Rtot.csv')"
   ]
  },
  {
   "cell_type": "code",
   "execution_count": 4,
   "metadata": {
    "collapsed": true
   },
   "outputs": [],
   "source": [
    "def rtot_objfun(guess,parm,lig,dat):\n",
    "    datac = np.concatenate(dat)\n",
    "    calc = lb.models.wymfunc(parm,lig,guess)\n",
    "    \n",
    "    return (calc-datac)\n",
    "    "
   ]
  },
  {
   "cell_type": "code",
   "execution_count": 5,
   "metadata": {
    "collapsed": false
   },
   "outputs": [],
   "source": [
    "guess = np.array([0.001,0.003,0.005,0.01,0.02,0.03])"
   ]
  },
  {
   "cell_type": "code",
   "execution_count": 22,
   "metadata": {
    "collapsed": false
   },
   "outputs": [],
   "source": [
    "parm_set1 = np.array([4.6,5.3,0.34,530.])"
   ]
  },
  {
   "cell_type": "code",
   "execution_count": 25,
   "metadata": {
    "collapsed": false
   },
   "outputs": [
    {
     "data": {
      "text/plain": [
       "array([-0.0164731 , -0.01895512, -0.00647369, -0.00612299,  0.01836136,\n",
       "       -0.00126613,  0.02603005,  0.07466845, -0.01253466, -0.028678  ,\n",
       "        0.00590562,  0.00553225,  0.03186777,  0.01713015, -0.01526264,\n",
       "       -0.0022922 , -0.00641707,  0.00243886,  0.00644122,  0.01103878,\n",
       "       -0.01484492, -0.0207233 , -0.03069195, -0.00204195,  0.01633407,\n",
       "       -0.01352036,  0.00581783, -0.01328738, -0.01068824,  0.01964022,\n",
       "        0.03023312,  0.00553165, -0.01489492, -0.00225757,  0.0014237 ,\n",
       "       -0.04222487, -0.03772394, -0.04308389,  0.00134986, -0.02185199,\n",
       "       -0.00199387, -0.01193571,  0.00547358,  0.00751177, -0.01913387,\n",
       "       -0.03247373, -0.04477795, -0.08669428, -0.06406837, -0.0833117 ,\n",
       "       -0.01738786, -0.03897044, -0.02901607,  0.01722956, -0.01416308,\n",
       "       -0.00240049,  0.01300474, -0.0168107 , -0.01791408, -0.00374973,\n",
       "       -0.01035836, -0.03640324, -0.01008158, -0.00174584, -0.04702937,\n",
       "       -0.01063256, -0.01438064, -0.00430402, -0.01462584, -0.00871087,\n",
       "       -0.01053801, -0.00031298, -0.01549594, -0.02469596, -0.01197582,\n",
       "        0.00117166,  0.00159861,  0.00214712,  0.00362896,  0.03035525,\n",
       "       -0.01252479])"
      ]
     },
     "execution_count": 25,
     "metadata": {},
     "output_type": "execute_result"
    }
   ],
   "source": [
    "rtot_objfun(guess,parm_set1,WT_08_lig,WT_08_sat)"
   ]
  },
  {
   "cell_type": "code",
   "execution_count": 8,
   "metadata": {
    "collapsed": false
   },
   "outputs": [],
   "source": [
    "lsbnds = (tuple(1e-5 for i in range(6)),tuple(1e-1 for i in range(6)))"
   ]
  },
  {
   "cell_type": "code",
   "execution_count": 26,
   "metadata": {
    "collapsed": false
   },
   "outputs": [],
   "source": [
    "a = sp.optimize.least_squares(rtot_objfun,guess,args=(parm_set1,WT_08_lig,WT_08_sat),bounds=lsbnds)"
   ]
  },
  {
   "cell_type": "code",
   "execution_count": 27,
   "metadata": {
    "collapsed": false
   },
   "outputs": [
    {
     "data": {
      "text/plain": [
       "array([ 0.00143878,  0.00242228,  0.00339179,  0.0027181 ,  0.01216361,\n",
       "        0.02594478])"
      ]
     },
     "execution_count": 27,
     "metadata": {},
     "output_type": "execute_result"
    }
   ],
   "source": [
    "a.x"
   ]
  },
  {
   "cell_type": "code",
   "execution_count": 11,
   "metadata": {
    "collapsed": false
   },
   "outputs": [
    {
     "data": {
      "text/plain": [
       "array([ 0.001439,  0.002422,  0.003392,  0.002718,  0.01216 ,  0.02594 ])"
      ]
     },
     "execution_count": 11,
     "metadata": {},
     "output_type": "execute_result"
    }
   ],
   "source": [
    "WT_08_rtot"
   ]
  },
  {
   "cell_type": "code",
   "execution_count": 12,
   "metadata": {
    "collapsed": false
   },
   "outputs": [
    {
     "data": {
      "text/plain": [
       "(5,)"
      ]
     },
     "execution_count": 12,
     "metadata": {},
     "output_type": "execute_result"
    }
   ],
   "source": [
    "WT_09_lig.shape"
   ]
  },
  {
   "cell_type": "code",
   "execution_count": 13,
   "metadata": {
    "collapsed": false
   },
   "outputs": [
    {
     "data": {
      "text/plain": [
       "(6,)"
      ]
     },
     "execution_count": 13,
     "metadata": {},
     "output_type": "execute_result"
    }
   ],
   "source": [
    "WT_11_rtot.shape"
   ]
  },
  {
   "cell_type": "code",
   "execution_count": 14,
   "metadata": {
    "collapsed": true
   },
   "outputs": [],
   "source": [
    "a = sp.optimize.least_squares(rtot_objfun,guess,args=(parms,WT_11_lig,WT_11_sat),bounds=lsbnds)"
   ]
  },
  {
   "cell_type": "code",
   "execution_count": 15,
   "metadata": {
    "collapsed": false
   },
   "outputs": [
    {
     "data": {
      "text/plain": [
       "array([ 0.00330977,  0.00679375,  0.01122675,  0.09999999,  0.1       ,\n",
       "        0.1       ])"
      ]
     },
     "execution_count": 15,
     "metadata": {},
     "output_type": "execute_result"
    }
   ],
   "source": [
    "a.x"
   ]
  },
  {
   "cell_type": "code",
   "execution_count": 74,
   "metadata": {
    "collapsed": false
   },
   "outputs": [],
   "source": [
    "WT_08_parm = np.array([4.6,5.3,0.34,530.])\n",
    "WT_09_parm = np.array([4.2,2.0,0.19,860.])\n",
    "WT_11_parm = np.array([3.4,1.1,0.15,240.])\n",
    "\n",
    "KI_08_parm = np.array([0.36,48.,0.79,0.61])\n",
    "KI_09_parm = np.array([0.17,61.,1.9,1.0])\n",
    "KI_09c_parm = np.array([0.15,75.,0.56,3.7])"
   ]
  },
  {
   "cell_type": "code",
   "execution_count": 17,
   "metadata": {
    "collapsed": true
   },
   "outputs": [],
   "source": [
    "a = sp.optimize.least_squares(rtot_objfun,guess,args=(WT_08_parm,WT_08_lig,WT_08_sat),bounds=lsbnds)"
   ]
  },
  {
   "cell_type": "code",
   "execution_count": 18,
   "metadata": {
    "collapsed": false
   },
   "outputs": [
    {
     "data": {
      "text/plain": [
       "array([ 0.00143878,  0.00242228,  0.00339179,  0.0027181 ,  0.01216361,\n",
       "        0.02594478])"
      ]
     },
     "execution_count": 18,
     "metadata": {},
     "output_type": "execute_result"
    }
   ],
   "source": [
    "a.x"
   ]
  },
  {
   "cell_type": "code",
   "execution_count": 19,
   "metadata": {
    "collapsed": false
   },
   "outputs": [
    {
     "data": {
      "text/plain": [
       "array([ 0.001439,  0.002422,  0.003392,  0.002718,  0.01216 ,  0.02594 ])"
      ]
     },
     "execution_count": 19,
     "metadata": {},
     "output_type": "execute_result"
    }
   ],
   "source": [
    "WT_08_rtot"
   ]
  },
  {
   "cell_type": "code",
   "execution_count": 20,
   "metadata": {
    "collapsed": false
   },
   "outputs": [
    {
     "name": "stdout",
     "output_type": "stream",
     "text": [
      "hootie hoo! the indices match!\n",
      "hootie hoo! the indices match!\n",
      "hootie hoo! the indices match!\n"
     ]
    }
   ],
   "source": [
    "KI_08_lbl, KI_08_rtot, KI_08_lig, KI_08_sat = lb.datprep('Data/EGFR_KI_08_Sat.csv','Data/EGFR_KI_08_Rtot.csv')\n",
    "KI_09_lbl, KI_09_rtot, KI_09_lig, KI_09_sat = lb.datprep('Data/EGFR_KI_09_Sat.csv','Data/EGFR_KI_09_Rtot.csv')\n",
    "KI_09c_lbl, KI_09c_rtot, KI_09c_lig, KI_09c_sat = lb.datprep('Data/EGFR_KI_09c_Sat.csv','Data/EGFR_KI_09c_Rtot.csv')"
   ]
  },
  {
   "cell_type": "code",
   "execution_count": 38,
   "metadata": {
    "collapsed": true
   },
   "outputs": [],
   "source": [
    "sats = [WT_08_sat,WT_09_sat,WT_11_sat,KI_08_sat,KI_09_sat,KI_09c_sat]\n",
    "ligs = [WT_08_lig,WT_09_lig,WT_11_lig,KI_08_lig,KI_09_lig,KI_09c_lig]\n",
    "parms = [WT_08_parm,WT_09_parm,WT_11_parm,KI_08_parm,KI_09_parm,KI_09c_parm]\n",
    "rtots = [WT_08_rtot,WT_09_rtot,WT_11_rtot,KI_08_rtot,KI_09_rtot,KI_09c_rtot]\n",
    "guesses = [guess,guess[:-1],guess,guess,guess,guess]"
   ]
  },
  {
   "cell_type": "code",
   "execution_count": 40,
   "metadata": {
    "collapsed": false
   },
   "outputs": [
    {
     "name": "stdout",
     "output_type": "stream",
     "text": [
      "(6,)\n",
      "(5,)\n",
      "(6,)\n",
      "(6,)\n",
      "(6,)\n",
      "(6,)\n"
     ]
    }
   ],
   "source": [
    "for i in guesses:\n",
    "    print(i.shape)"
   ]
  },
  {
   "cell_type": "code",
   "execution_count": 34,
   "metadata": {
    "collapsed": false
   },
   "outputs": [
    {
     "data": {
      "text/plain": [
       "((1e-05, 1e-05, 1e-05, 1e-05, 1e-05, 1e-05), (0.1, 0.1, 0.1, 0.1, 0.1, 0.1))"
      ]
     },
     "execution_count": 34,
     "metadata": {},
     "output_type": "execute_result"
    }
   ],
   "source": [
    "lsbnds"
   ]
  },
  {
   "cell_type": "code",
   "execution_count": 41,
   "metadata": {
    "collapsed": false
   },
   "outputs": [
    {
     "ename": "ValueError",
     "evalue": "Inconsistent shapes between bounds and `x0`.",
     "output_type": "error",
     "traceback": [
      "\u001b[0;31m---------------------------------------------------------------------------\u001b[0m",
      "\u001b[0;31mValueError\u001b[0m                                Traceback (most recent call last)",
      "\u001b[0;32m<ipython-input-41-fa10c30df8d0>\u001b[0m in \u001b[0;36m<module>\u001b[0;34m()\u001b[0m\n\u001b[0;32m----> 1\u001b[0;31m \u001b[0;34m[\u001b[0m\u001b[0msp\u001b[0m\u001b[0;34m.\u001b[0m\u001b[0moptimize\u001b[0m\u001b[0;34m.\u001b[0m\u001b[0mleast_squares\u001b[0m\u001b[0;34m(\u001b[0m\u001b[0mrtot_objfun\u001b[0m\u001b[0;34m,\u001b[0m\u001b[0mguesses\u001b[0m\u001b[0;34m[\u001b[0m\u001b[0mi\u001b[0m\u001b[0;34m]\u001b[0m\u001b[0;34m,\u001b[0m\u001b[0margs\u001b[0m\u001b[0;34m=\u001b[0m\u001b[0;34m(\u001b[0m\u001b[0mparms\u001b[0m\u001b[0;34m[\u001b[0m\u001b[0mi\u001b[0m\u001b[0;34m]\u001b[0m\u001b[0;34m,\u001b[0m\u001b[0mligs\u001b[0m\u001b[0;34m[\u001b[0m\u001b[0mi\u001b[0m\u001b[0;34m]\u001b[0m\u001b[0;34m,\u001b[0m\u001b[0msats\u001b[0m\u001b[0;34m[\u001b[0m\u001b[0mi\u001b[0m\u001b[0;34m]\u001b[0m\u001b[0;34m)\u001b[0m\u001b[0;34m,\u001b[0m\u001b[0mbounds\u001b[0m\u001b[0;34m=\u001b[0m\u001b[0mlsbnds\u001b[0m\u001b[0;34m)\u001b[0m\u001b[0;34m.\u001b[0m\u001b[0mx\u001b[0m \u001b[0;32mfor\u001b[0m \u001b[0mi\u001b[0m \u001b[0;32min\u001b[0m \u001b[0mrange\u001b[0m\u001b[0;34m(\u001b[0m\u001b[0mlen\u001b[0m\u001b[0;34m(\u001b[0m\u001b[0msats\u001b[0m\u001b[0;34m)\u001b[0m\u001b[0;34m)\u001b[0m\u001b[0;34m]\u001b[0m\u001b[0;34m\u001b[0m\u001b[0m\n\u001b[0m",
      "\u001b[0;32m<ipython-input-41-fa10c30df8d0>\u001b[0m in \u001b[0;36m<listcomp>\u001b[0;34m(.0)\u001b[0m\n\u001b[0;32m----> 1\u001b[0;31m \u001b[0;34m[\u001b[0m\u001b[0msp\u001b[0m\u001b[0;34m.\u001b[0m\u001b[0moptimize\u001b[0m\u001b[0;34m.\u001b[0m\u001b[0mleast_squares\u001b[0m\u001b[0;34m(\u001b[0m\u001b[0mrtot_objfun\u001b[0m\u001b[0;34m,\u001b[0m\u001b[0mguesses\u001b[0m\u001b[0;34m[\u001b[0m\u001b[0mi\u001b[0m\u001b[0;34m]\u001b[0m\u001b[0;34m,\u001b[0m\u001b[0margs\u001b[0m\u001b[0;34m=\u001b[0m\u001b[0;34m(\u001b[0m\u001b[0mparms\u001b[0m\u001b[0;34m[\u001b[0m\u001b[0mi\u001b[0m\u001b[0;34m]\u001b[0m\u001b[0;34m,\u001b[0m\u001b[0mligs\u001b[0m\u001b[0;34m[\u001b[0m\u001b[0mi\u001b[0m\u001b[0;34m]\u001b[0m\u001b[0;34m,\u001b[0m\u001b[0msats\u001b[0m\u001b[0;34m[\u001b[0m\u001b[0mi\u001b[0m\u001b[0;34m]\u001b[0m\u001b[0;34m)\u001b[0m\u001b[0;34m,\u001b[0m\u001b[0mbounds\u001b[0m\u001b[0;34m=\u001b[0m\u001b[0mlsbnds\u001b[0m\u001b[0;34m)\u001b[0m\u001b[0;34m.\u001b[0m\u001b[0mx\u001b[0m \u001b[0;32mfor\u001b[0m \u001b[0mi\u001b[0m \u001b[0;32min\u001b[0m \u001b[0mrange\u001b[0m\u001b[0;34m(\u001b[0m\u001b[0mlen\u001b[0m\u001b[0;34m(\u001b[0m\u001b[0msats\u001b[0m\u001b[0;34m)\u001b[0m\u001b[0;34m)\u001b[0m\u001b[0;34m]\u001b[0m\u001b[0;34m\u001b[0m\u001b[0m\n\u001b[0m",
      "\u001b[0;32m/Users/michael/miniconda3/envs/fitter/lib/python3.5/site-packages/scipy/optimize/_lsq/least_squares.py\u001b[0m in \u001b[0;36mleast_squares\u001b[0;34m(fun, x0, jac, bounds, method, ftol, xtol, gtol, x_scale, loss, f_scale, diff_step, tr_solver, tr_options, jac_sparsity, max_nfev, verbose, args, kwargs)\u001b[0m\n\u001b[1;32m    748\u001b[0m \u001b[0;34m\u001b[0m\u001b[0m\n\u001b[1;32m    749\u001b[0m     \u001b[0;32mif\u001b[0m \u001b[0mlb\u001b[0m\u001b[0;34m.\u001b[0m\u001b[0mshape\u001b[0m \u001b[0;34m!=\u001b[0m \u001b[0mx0\u001b[0m\u001b[0;34m.\u001b[0m\u001b[0mshape\u001b[0m \u001b[0;32mor\u001b[0m \u001b[0mub\u001b[0m\u001b[0;34m.\u001b[0m\u001b[0mshape\u001b[0m \u001b[0;34m!=\u001b[0m \u001b[0mx0\u001b[0m\u001b[0;34m.\u001b[0m\u001b[0mshape\u001b[0m\u001b[0;34m:\u001b[0m\u001b[0;34m\u001b[0m\u001b[0m\n\u001b[0;32m--> 750\u001b[0;31m         \u001b[0;32mraise\u001b[0m \u001b[0mValueError\u001b[0m\u001b[0;34m(\u001b[0m\u001b[0;34m\"Inconsistent shapes between bounds and `x0`.\"\u001b[0m\u001b[0;34m)\u001b[0m\u001b[0;34m\u001b[0m\u001b[0m\n\u001b[0m\u001b[1;32m    751\u001b[0m \u001b[0;34m\u001b[0m\u001b[0m\n\u001b[1;32m    752\u001b[0m     \u001b[0;32mif\u001b[0m \u001b[0mnp\u001b[0m\u001b[0;34m.\u001b[0m\u001b[0many\u001b[0m\u001b[0;34m(\u001b[0m\u001b[0mlb\u001b[0m \u001b[0;34m>=\u001b[0m \u001b[0mub\u001b[0m\u001b[0;34m)\u001b[0m\u001b[0;34m:\u001b[0m\u001b[0;34m\u001b[0m\u001b[0m\n",
      "\u001b[0;31mValueError\u001b[0m: Inconsistent shapes between bounds and `x0`."
     ]
    }
   ],
   "source": [
    "[sp.optimize.least_squares(rtot_objfun,guesses[i],args=(parms[i],ligs[i],sats[i]),bounds=lsbnds[i]).x for i in range(len(sats))]"
   ]
  },
  {
   "cell_type": "code",
   "execution_count": 36,
   "metadata": {
    "collapsed": false
   },
   "outputs": [
    {
     "data": {
      "text/plain": [
       "array([  4.20000000e+00,   2.00000000e+00,   1.90000000e-01,\n",
       "         8.60000000e+02])"
      ]
     },
     "execution_count": 36,
     "metadata": {},
     "output_type": "execute_result"
    }
   ],
   "source": [
    "parms[1]"
   ]
  },
  {
   "cell_type": "code",
   "execution_count": 44,
   "metadata": {
    "collapsed": false
   },
   "outputs": [
    {
     "data": {
      "text/plain": [
       "((1e-05, 1e-05, 1e-05, 1e-05, 1e-05, 1e-05), (0.1, 0.1, 0.1, 0.1, 0.1, 0.1))"
      ]
     },
     "execution_count": 44,
     "metadata": {},
     "output_type": "execute_result"
    }
   ],
   "source": [
    "lsbnds"
   ]
  },
  {
   "cell_type": "code",
   "execution_count": 90,
   "metadata": {
    "collapsed": false
   },
   "outputs": [
    {
     "data": {
      "text/plain": [
       "((1e-05, 1e-05, 1e-05, 1e-05, 1e-05), (0.1, 0.1, 0.1, 0.1, 0.1))"
      ]
     },
     "execution_count": 90,
     "metadata": {},
     "output_type": "execute_result"
    }
   ],
   "source": [
    "(lsbnds[0][:-1],lsbnds[1][:-1])"
   ]
  },
  {
   "cell_type": "code",
   "execution_count": 45,
   "metadata": {
    "collapsed": true
   },
   "outputs": [],
   "source": [
    "lsbnds5 = ((1e-05, 1e-05, 1e-05, 1e-05, 1e-05), (0.1, 0.1, 0.1, 0.1, 0.1))"
   ]
  },
  {
   "cell_type": "code",
   "execution_count": 46,
   "metadata": {
    "collapsed": true
   },
   "outputs": [],
   "source": [
    "lsbnds6 = ((1e-05, 1e-05, 1e-05, 1e-05, 1e-05, 1e-05), (0.1, 0.1, 0.1, 0.1, 0.1, 0.1))"
   ]
  },
  {
   "cell_type": "code",
   "execution_count": 75,
   "metadata": {
    "collapsed": true
   },
   "outputs": [],
   "source": [
    "sats = [WT_08_sat,WT_09_sat,WT_11_sat,KI_08_sat,KI_09_sat,KI_09c_sat]\n",
    "ligs = [WT_08_lig,WT_09_lig,WT_11_lig,KI_08_lig,KI_09_lig,KI_09c_lig]\n",
    "parms = [WT_08_parm,WT_09_parm,WT_11_parm,KI_08_parm,KI_09_parm,KI_09c_parm]\n",
    "rtots = [WT_08_rtot,WT_09_rtot,WT_11_rtot,KI_08_rtot,KI_09_rtot,KI_09c_rtot]\n",
    "guesses = [guess,guess[:-1],guess,guess,guess,guess]\n",
    "bounds = [lsbnds6,lsbnds5,lsbnds6,lsbnds6,lsbnds6,lsbnds6]"
   ]
  },
  {
   "cell_type": "code",
   "execution_count": 76,
   "metadata": {
    "collapsed": false
   },
   "outputs": [],
   "source": [
    "a = [sp.optimize.least_squares(rtot_objfun,guesses[i],args=(parms[i],ligs[i],sats[i]),bounds=bounds[i],ftol=1e-14).x for i in range(len(sats))]"
   ]
  },
  {
   "cell_type": "code",
   "execution_count": 51,
   "metadata": {
    "collapsed": false
   },
   "outputs": [
    {
     "data": {
      "text/plain": [
       "((1e-05, 1e-05, 1e-05, 1e-05, 1e-05, 1e-05), (0.1, 0.1, 0.1, 0.1, 0.1, 0.1))"
      ]
     },
     "execution_count": 51,
     "metadata": {},
     "output_type": "execute_result"
    }
   ],
   "source": [
    "lsbnds"
   ]
  },
  {
   "cell_type": "code",
   "execution_count": 52,
   "metadata": {
    "collapsed": false
   },
   "outputs": [
    {
     "data": {
      "text/plain": [
       "((1e-05, 1e-05, 1e-05, 1e-05, 1e-05, 1e-05), (0.1, 0.1, 0.1, 0.1, 0.1, 0.1))"
      ]
     },
     "execution_count": 52,
     "metadata": {},
     "output_type": "execute_result"
    }
   ],
   "source": [
    "lsbnds6"
   ]
  },
  {
   "cell_type": "code",
   "execution_count": 53,
   "metadata": {
    "collapsed": false
   },
   "outputs": [
    {
     "data": {
      "text/plain": [
       "((1e-05, 1e-05, 1e-05, 1e-05, 1e-05), (0.1, 0.1, 0.1, 0.1, 0.1))"
      ]
     },
     "execution_count": 53,
     "metadata": {},
     "output_type": "execute_result"
    }
   ],
   "source": [
    "lsbnds5"
   ]
  },
  {
   "cell_type": "code",
   "execution_count": 77,
   "metadata": {
    "collapsed": false
   },
   "outputs": [
    {
     "data": {
      "text/plain": [
       "[array([ 0.00143878,  0.00242228,  0.00339179,  0.0027181 ,  0.01216361,\n",
       "         0.02594478]),\n",
       " array([ 0.00058892,  0.00254376,  0.00642976,  0.01263456,  0.05509229]),\n",
       " array([ 0.0011934 ,  0.00351278,  0.00608287,  0.01967875,  0.03012646,\n",
       "         0.09250149]),\n",
       " array([ 0.00119181,  0.00302457,  0.00653417,  0.00631584,  0.01723065,\n",
       "         0.02554929]),\n",
       " array([ 0.0005009 ,  0.00159331,  0.00328982,  0.00478844,  0.0154645 ,\n",
       "         0.01698975]),\n",
       " array([ 0.0003901 ,  0.00122332,  0.00239967,  0.00279824,  0.00689825,\n",
       "         0.01002052])]"
      ]
     },
     "execution_count": 77,
     "metadata": {},
     "output_type": "execute_result"
    }
   ],
   "source": [
    "a"
   ]
  },
  {
   "cell_type": "code",
   "execution_count": 78,
   "metadata": {
    "collapsed": false
   },
   "outputs": [
    {
     "name": "stdout",
     "output_type": "stream",
     "text": [
      "[ 0.001439  0.002422  0.003392  0.002718  0.01216   0.02594 ]\n",
      "[ 0.0005889  0.002544   0.00643    0.01263    0.05509  ]\n",
      "[ 0.001193  0.003513  0.006083  0.01968   0.03013   0.0925  ]\n",
      "[ 0.001192  0.003025  0.006534  0.006316  0.01723   0.02555 ]\n",
      "[ 0.0005009  0.001593   0.00329    0.004788   0.01546    0.01699  ]\n",
      "[ 0.0003901  0.001223   0.0024     0.002798   0.006898   0.01002  ]\n"
     ]
    }
   ],
   "source": []
  },
  {
   "cell_type": "code",
   "execution_count": 79,
   "metadata": {
    "collapsed": false
   },
   "outputs": [
    {
     "name": "stdout",
     "output_type": "stream",
     "text": [
      "[  4.60000000e+00   5.30000000e+00   3.40000000e-01   5.30000000e+02]\n",
      "[  4.20000000e+00   2.00000000e+00   1.90000000e-01   8.60000000e+02]\n",
      "[  3.40000000e+00   1.10000000e+00   1.50000000e-01   2.40000000e+02]\n",
      "[  0.36  48.     0.79   0.61]\n",
      "[  0.17  61.     1.9    1.  ]\n",
      "[  0.15  75.     0.56   3.7 ]\n"
     ]
    }
   ],
   "source": [
    "for i in parms:\n",
    "    print(i)"
   ]
  },
  {
   "cell_type": "code",
   "execution_count": 80,
   "metadata": {
    "collapsed": false
   },
   "outputs": [
    {
     "data": {
      "text/plain": [
       "array([ array([ -2.24325992e-07,   2.75357359e-07,  -2.07987439e-07,\n",
       "         1.03305348e-07,   3.60706337e-06,   4.78415024e-06]),\n",
       "       array([  1.79743241e-08,  -2.38545978e-07,  -2.36658803e-07,\n",
       "         4.55955724e-06,   2.28666452e-06]),\n",
       "       array([  4.03737609e-07,  -2.16147616e-07,  -1.31443791e-07,\n",
       "        -1.25037051e-06,  -3.54108417e-06,   1.48836808e-06]),\n",
       "       array([ -1.86949770e-07,  -4.27952029e-07,   1.66436653e-07,\n",
       "        -1.64069912e-07,   6.52384501e-07,  -7.07859732e-07]),\n",
       "       array([ -1.10957483e-09,   3.07645625e-07,  -1.76233117e-07,\n",
       "         4.37679281e-07,   4.49626022e-06,  -2.49850515e-07]),\n",
       "       array([ -3.16559882e-09,   3.20107881e-07,  -3.28587191e-07,\n",
       "         2.37769315e-07,   2.45118119e-07,   5.17540480e-07])], dtype=object)"
      ]
     },
     "execution_count": 80,
     "metadata": {},
     "output_type": "execute_result"
    }
   ],
   "source": [
    "np.array(a) - np.array(rtots)"
   ]
  },
  {
   "cell_type": "code",
   "execution_count": 81,
   "metadata": {
    "collapsed": true
   },
   "outputs": [],
   "source": [
    "res = sp.optimize.least_squares(rtot_objfun,KI_09_rtot,args=(KI_09_parm,KI_09_lig,KI_09_sat),bounds=lsbnds)"
   ]
  },
  {
   "cell_type": "code",
   "execution_count": 82,
   "metadata": {
    "collapsed": false
   },
   "outputs": [
    {
     "data": {
      "text/plain": [
       "array([ 0.0005009 ,  0.00159331,  0.00328982,  0.00478844,  0.0154645 ,\n",
       "        0.01698975])"
      ]
     },
     "execution_count": 82,
     "metadata": {},
     "output_type": "execute_result"
    }
   ],
   "source": [
    "res.x"
   ]
  },
  {
   "cell_type": "code",
   "execution_count": 83,
   "metadata": {
    "collapsed": false
   },
   "outputs": [
    {
     "data": {
      "text/plain": [
       "array([ 0.0005009,  0.001593 ,  0.00329  ,  0.004788 ,  0.01546  ,  0.01699  ])"
      ]
     },
     "execution_count": 83,
     "metadata": {},
     "output_type": "execute_result"
    }
   ],
   "source": [
    "KI_09_rtot"
   ]
  },
  {
   "cell_type": "code",
   "execution_count": 84,
   "metadata": {
    "collapsed": false
   },
   "outputs": [
    {
     "data": {
      "text/plain": [
       "array([ 0.0005889,  0.002544 ,  0.00643  ,  0.01263  ,  0.05509  ])"
      ]
     },
     "execution_count": 84,
     "metadata": {},
     "output_type": "execute_result"
    }
   ],
   "source": [
    "WT_09_rtot"
   ]
  },
  {
   "cell_type": "code",
   "execution_count": 85,
   "metadata": {
    "collapsed": false
   },
   "outputs": [
    {
     "data": {
      "text/plain": [
       "['22k', '57k', '103k', '150k', '361k', '485k']"
      ]
     },
     "execution_count": 85,
     "metadata": {},
     "output_type": "execute_result"
    }
   ],
   "source": [
    "KI_09_lbl"
   ]
  },
  {
   "cell_type": "code",
   "execution_count": 86,
   "metadata": {
    "collapsed": false
   },
   "outputs": [
    {
     "data": {
      "text/plain": [
       "['20k', '46k', '187k', '256k', '1200k']"
      ]
     },
     "execution_count": 86,
     "metadata": {},
     "output_type": "execute_result"
    }
   ],
   "source": [
    "WT_09_lbl"
   ]
  },
  {
   "cell_type": "code",
   "execution_count": 87,
   "metadata": {
    "collapsed": false
   },
   "outputs": [
    {
     "data": {
      "image/png": "[encoded data removed]",
      "text/plain": [
       "<matplotlib.figure.Figure at 0x11049f630>"
      ]
     },
     "metadata": {},
     "output_type": "display_data"
    }
   ],
   "source": [
    "lb.semlog(KI_09_lig,KI_09_sat,'o')"
   ]
  },
  {
   "cell_type": "code",
   "execution_count": 88,
   "metadata": {
    "collapsed": false
   },
   "outputs": [
    {
     "data": {
      "text/plain": [
       "[array([  4.60000000e+00,   5.30000000e+00,   3.40000000e-01,\n",
       "          5.30000000e+02]),\n",
       " array([  4.20000000e+00,   2.00000000e+00,   1.90000000e-01,\n",
       "          8.60000000e+02]),\n",
       " array([  3.40000000e+00,   1.10000000e+00,   1.50000000e-01,\n",
       "          2.40000000e+02]),\n",
       " array([  0.36,  48.  ,   0.79,   0.61]),\n",
       " array([  0.17,  61.  ,   1.9 ,   1.  ]),\n",
       " array([  0.15,  75.  ,   0.56,   3.7 ])]"
      ]
     },
     "execution_count": 88,
     "metadata": {},
     "output_type": "execute_result"
    }
   ],
   "source": [
    "parms"
   ]
  },
  {
   "cell_type": "code",
   "execution_count": null,
   "metadata": {
    "collapsed": true
   },
   "outputs": [],
   "source": []
  }
 ],
 "metadata": {
  "anaconda-cloud": {},
  "kernelspec": {
   "display_name": "Python [conda env:fitter]",
   "language": "python",
   "name": "conda-env-fitter-py"
  },
  "language_info": {
   "codemirror_mode": {
    "name": "ipython",
    "version": 3
   },
   "file_extension": ".py",
   "mimetype": "text/x-python",
   "name": "python",
   "nbconvert_exporter": "python",
   "pygments_lexer": "ipython3",
   "version": "3.5.2"
  }
 },
 "nbformat": 4,
 "nbformat_minor": 1
}

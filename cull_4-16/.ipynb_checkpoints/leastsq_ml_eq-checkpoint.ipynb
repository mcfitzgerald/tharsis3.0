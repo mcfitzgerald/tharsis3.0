{
 "cells": [
  {
   "cell_type": "code",
   "execution_count": 1,
   "metadata": {
    "collapsed": true
   },
   "outputs": [],
   "source": [
    "import sys\n",
    "import copy\n",
    "import emcee\n",
    "import corner\n",
    "import numpy as np\n",
    "import matplotlib.pyplot as plt\n",
    "from mods import prep, plotter\n",
    "from scipy import optimize\n",
    "%matplotlib inline\n",
    "%load_ext autoreload\n",
    "\n",
    "sys.path.append('./ligbind/')\n",
    "import ligbind"
   ]
  },
  {
   "cell_type": "code",
   "execution_count": 2,
   "metadata": {
    "collapsed": false
   },
   "outputs": [
    {
     "name": "stdout",
     "output_type": "stream",
     "text": [
      "hootie hoo! the indices match!\n"
     ]
    }
   ],
   "source": [
    "WT_08_lbl, WT_08_rtot, WT_08_lig, WT_08_sat = prep.datprep('data/EGFR_WT_08_Sat.csv','Data/EGFR_WT_08_Rtot.csv')"
   ]
  },
  {
   "cell_type": "code",
   "execution_count": 13,
   "metadata": {
    "collapsed": true
   },
   "outputs": [],
   "source": [
    "cellct = np.array([24.,43.,92.,120.,231.,447.])"
   ]
  },
  {
   "cell_type": "code",
   "execution_count": 3,
   "metadata": {
    "collapsed": true
   },
   "outputs": [],
   "source": [
    "#vary all Wym model parameters\n",
    "#variance weighted by y-value (not y squared)\n",
    "def lnlik(allfit,data,ligs):\n",
    "    datac = np.concatenate(data)\n",
    "    modparms = allfit[0:4]\n",
    "    rtots = allfit[4:-1]\n",
    "    f = allfit[-1]\n",
    "    model = ligbind.models.wymfunc(modparms,ligs,rtots)\n",
    "    invsig2 = 1.0/np.square(f * np.sqrt(model))\n",
    "    return -0.5*(np.sum((datac-model)**2*invsig2 - np.log(invsig2)))"
   ]
  },
  {
   "cell_type": "code",
   "execution_count": 4,
   "metadata": {
    "collapsed": true
   },
   "outputs": [],
   "source": [
    "#uniform prior based on bounds\n",
    "def lnpri(allfit,bounds):\n",
    "    assert len(bounds) == len(allfit)\n",
    "    if all([bounds[i][0] <= allfit[i] <= bounds[i][1] for i in range(len(bounds))]) is True:\n",
    "        return 0.0\n",
    "    else:\n",
    "        return -np.inf"
   ]
  },
  {
   "cell_type": "code",
   "execution_count": 5,
   "metadata": {
    "collapsed": true
   },
   "outputs": [],
   "source": [
    "def lnprob(allfit,bounds,data,ligs):\n",
    "    lp = lnpri(allfit,bounds)\n",
    "    if not np.isfinite(lp):\n",
    "        return -np.inf\n",
    "    return lp + lnlik(allfit,data,ligs)"
   ]
  },
  {
   "cell_type": "code",
   "execution_count": 6,
   "metadata": {
    "collapsed": true
   },
   "outputs": [],
   "source": [
    "bnds = ((4.6, 4.6),\n",
    "        (5.3, 5.3),\n",
    "        (0.34, 0.34),\n",
    "        (530.0, 530.0),\n",
    "        (0.0, 1.0),\n",
    "        (0.0, 1.0),\n",
    "        (0.0, 1.0),\n",
    "        (0.0, 1.0),\n",
    "        (0.0, 1.0),\n",
    "        (0.0, 1.0),\n",
    "        (0.0001, 0.1))"
   ]
  },
  {
   "cell_type": "code",
   "execution_count": 8,
   "metadata": {
    "collapsed": true
   },
   "outputs": [],
   "source": [
    "guess = np.array([4.60,\n",
    "                  5.30,\n",
    "                  3.40e-01,\n",
    "                  5.30e+02,\n",
    "                  5.70e-04,\n",
    "                  1.02e-03,\n",
    "                  2.18e-03,\n",
    "                  2.85e-03,\n",
    "                  5.48e-03,\n",
    "                  1.06e-02,\n",
    "                  0.02])"
   ]
  },
  {
   "cell_type": "code",
   "execution_count": 16,
   "metadata": {
    "collapsed": true
   },
   "outputs": [],
   "source": [
    "est = np.array([5.70E-04,\n",
    "                1.02E-03,\n",
    "                2.18E-03,\n",
    "                2.85E-03,\n",
    "                5.48E-03,\n",
    "                1.06E-02])"
   ]
  },
  {
   "cell_type": "code",
   "execution_count": 9,
   "metadata": {
    "collapsed": true
   },
   "outputs": [],
   "source": [
    "nll = lambda *args: -lnlik(*args)"
   ]
  },
  {
   "cell_type": "code",
   "execution_count": 11,
   "metadata": {
    "collapsed": true
   },
   "outputs": [],
   "source": [
    "nll_res = optimize.minimize(nll,guess,bounds=bnds,args=(WT_08_sat,WT_08_lig))"
   ]
  },
  {
   "cell_type": "code",
   "execution_count": 18,
   "metadata": {
    "collapsed": false
   },
   "outputs": [
    {
     "data": {
      "text/plain": [
       "[<matplotlib.lines.Line2D at 0x10f5d3668>]"
      ]
     },
     "execution_count": 18,
     "metadata": {},
     "output_type": "execute_result"
    },
    {
     "data": {
      "image/png": "[encoded data removed]",
      "text/plain": [
       "<matplotlib.figure.Figure at 0x10f5d36a0>"
      ]
     },
     "metadata": {},
     "output_type": "display_data"
    }
   ],
   "source": [
    "plt.plot(cellct,est,'.') #envelope\n",
    "plt.plot(cellct,nll_res.x[4:-1],'*') #ml with noise --- all data"
   ]
  },
  {
   "cell_type": "code",
   "execution_count": 19,
   "metadata": {
    "collapsed": true
   },
   "outputs": [],
   "source": [
    "WT_08_lig_ed = np.delete(WT_08_lig,3)\n",
    "WT_08_rtot_ed = np.delete(WT_08_rtot,3)\n",
    "WT_08_sat_ed = np.delete(WT_08_sat,3)\n",
    "cellct_ed = np.delete(cellct,3)\n",
    "\n",
    "guess_ed = np.array([4.60,\n",
    "                     5.30,\n",
    "                     3.40e-01,\n",
    "                     5.30e+02,\n",
    "                     5.70e-04,\n",
    "                     1.02e-03,\n",
    "                     2.18e-03,\n",
    "                     5.48e-03,\n",
    "                     1.06e-02,\n",
    "                     0.02])\n",
    "\n",
    "bnds_ed = ((4.6, 4.6),\n",
    "           (5.3, 5.3),\n",
    "           (0.34, 0.34),\n",
    "           (530.0, 530.0),\n",
    "           (0.0, 1.0),\n",
    "           (0.0, 1.0),\n",
    "           (0.0, 1.0),\n",
    "           (0.0, 1.0),\n",
    "           (0.0, 1.0),\n",
    "           (0.0001, 0.1))"
   ]
  },
  {
   "cell_type": "code",
   "execution_count": 20,
   "metadata": {
    "collapsed": true
   },
   "outputs": [],
   "source": [
    "nll_res_ed = optimize.minimize(nll,guess_ed,bounds=bnds_ed,args=(WT_08_sat_ed,WT_08_lig_ed))"
   ]
  },
  {
   "cell_type": "code",
   "execution_count": 22,
   "metadata": {
    "collapsed": false
   },
   "outputs": [
    {
     "data": {
      "text/plain": [
       "[<matplotlib.lines.Line2D at 0x10fdc9710>]"
      ]
     },
     "execution_count": 22,
     "metadata": {},
     "output_type": "execute_result"
    },
    {
     "data": {
      "image/png": "[encoded data removed]",
      "text/plain": [
       "<matplotlib.figure.Figure at 0x10f635320>"
      ]
     },
     "metadata": {},
     "output_type": "display_data"
    }
   ],
   "source": [
    "plt.plot(cellct,est,'.') #envelope\n",
    "plt.plot(cellct,nll_res.x[4:-1],'*') #ml with noise --- all data\n",
    "plt.plot(cellct_ed,nll_res_ed.x[4:-1],'x') #ml with noise --- ed data"
   ]
  },
  {
   "cell_type": "code",
   "execution_count": 23,
   "metadata": {
    "collapsed": true
   },
   "outputs": [],
   "source": [
    "def lsfit(allfit,data,ligs):\n",
    "    datac = np.concatenate(data)\n",
    "    modparms = allfit[0:4]\n",
    "    rtots = allfit[4:]\n",
    "    calc = ligbind.models.wymfunc(modparms,ligs,rtots)\n",
    "    return (calc-datac)"
   ]
  },
  {
   "cell_type": "code",
   "execution_count": 24,
   "metadata": {
    "collapsed": true
   },
   "outputs": [],
   "source": [
    "lsbnds = tuple([i[0] for i in bnds][:-1]), tuple([i[1] for i in bnds][:-1])"
   ]
  },
  {
   "cell_type": "code",
   "execution_count": 26,
   "metadata": {
    "collapsed": false
   },
   "outputs": [
    {
     "data": {
      "text/plain": [
       "((4.6, 5.3, 0.34, 530.0, 0.0, 0.0, 0.0, 0.0, 0.0, 0.0),\n",
       " (4.6, 5.3, 0.34, 530.0, 1.0, 1.0, 1.0, 1.0, 1.0, 1.0))"
      ]
     },
     "execution_count": 26,
     "metadata": {},
     "output_type": "execute_result"
    }
   ],
   "source": [
    "lsbnds"
   ]
  },
  {
   "cell_type": "code",
   "execution_count": 44,
   "metadata": {
    "collapsed": true
   },
   "outputs": [],
   "source": [
    "lsbnds = ((4.59, 5.29, 0.339, 529.0, 0.0, 0.0, 0.0, 0.0, 0.0, 0.0),\n",
    "          (4.6, 5.3, 0.34, 530.0, 1.0, 1.0, 1.0, 1.0, 1.0, 1.0))"
   ]
  },
  {
   "cell_type": "code",
   "execution_count": 28,
   "metadata": {
    "collapsed": false
   },
   "outputs": [],
   "source": [
    "ls_res = optimize.least_squares(lsfit,guess[:-1],bounds=lsbnds,args=(WT_08_sat,WT_08_lig))"
   ]
  },
  {
   "cell_type": "code",
   "execution_count": 29,
   "metadata": {
    "collapsed": false
   },
   "outputs": [
    {
     "data": {
      "text/plain": [
       "[<matplotlib.lines.Line2D at 0x1100dbb00>]"
      ]
     },
     "execution_count": 29,
     "metadata": {},
     "output_type": "execute_result"
    },
    {
     "data": {
      "image/png": "[encoded data removed]",
      "text/plain": [
       "<matplotlib.figure.Figure at 0x10fd80160>"
      ]
     },
     "metadata": {},
     "output_type": "display_data"
    }
   ],
   "source": [
    "plt.plot(cellct,est,'.') #envelope\n",
    "plt.plot(cellct,nll_res.x[4:-1],'*') #ml with noise --- all data\n",
    "plt.plot(cellct_ed,nll_res_ed.x[4:-1],'x') #ml with noise --- ed data\n",
    "plt.plot(cellct,ls_res.x[4:],'o') #ls fit"
   ]
  },
  {
   "cell_type": "code",
   "execution_count": 37,
   "metadata": {
    "collapsed": true
   },
   "outputs": [],
   "source": [
    "def lsfit_wtsqrt(allfit,data,ligs):\n",
    "    datac = np.concatenate(data)\n",
    "    modparms = allfit[0:4]\n",
    "    rtots = allfit[4:]\n",
    "    calc = ligbind.models.wymfunc(modparms,ligs,rtots)\n",
    "    return (calc-datac)/np.sqrt(calc)"
   ]
  },
  {
   "cell_type": "code",
   "execution_count": 35,
   "metadata": {
    "collapsed": true
   },
   "outputs": [],
   "source": [
    "ls_res_wt = optimize.least_squares(lsfit_wt,guess[:-1],bounds=lsbnds,args=(WT_08_sat,WT_08_lig))"
   ]
  },
  {
   "cell_type": "code",
   "execution_count": 41,
   "metadata": {
    "collapsed": false
   },
   "outputs": [
    {
     "data": {
      "text/plain": [
       "[<matplotlib.lines.Line2D at 0x1106d9c18>]"
      ]
     },
     "execution_count": 41,
     "metadata": {},
     "output_type": "execute_result"
    },
    {
     "data": {
      "image/png": "[encoded data removed]",
      "text/plain": [
       "<matplotlib.figure.Figure at 0x1104aea90>"
      ]
     },
     "metadata": {},
     "output_type": "display_data"
    }
   ],
   "source": [
    "plt.plot(cellct,est,'.') #envelope\n",
    "plt.plot(cellct,nll_res.x[4:-1],'*') #ml with noise --- all data\n",
    "plt.plot(cellct_ed,nll_res_ed.x[4:-1],'x') #ml with noise --- ed data\n",
    "#plt.plot(cellct,ls_res.x[4:],'o') #ls fit\n",
    "plt.plot(cellct,ls_res_wt.x[4:],'<')"
   ]
  },
  {
   "cell_type": "code",
   "execution_count": 43,
   "metadata": {
    "collapsed": true
   },
   "outputs": [],
   "source": [
    "lsbnds_ed = ((4.59, 5.29, 0.339, 529.0, 0.0, 0.0, 0.0, 0.0, 0.0),\n",
    "          (4.6, 5.3, 0.34, 530.0, 1.0, 1.0, 1.0, 1.0, 1.0))"
   ]
  },
  {
   "cell_type": "code",
   "execution_count": 45,
   "metadata": {
    "collapsed": true
   },
   "outputs": [],
   "source": [
    "ls_res_wt_ed = optimize.least_squares(lsfit_wt,guess_ed[:-1],bounds=lsbnds_ed,args=(WT_08_sat_ed,WT_08_lig_ed))"
   ]
  },
  {
   "cell_type": "code",
   "execution_count": 49,
   "metadata": {
    "collapsed": false
   },
   "outputs": [
    {
     "data": {
      "text/plain": [
       "[<matplotlib.lines.Line2D at 0x110da2da0>]"
      ]
     },
     "execution_count": 49,
     "metadata": {},
     "output_type": "execute_result"
    },
    {
     "data": {
      "image/png": "[encoded data removed]",
      "text/plain": [
       "<matplotlib.figure.Figure at 0x1109713c8>"
      ]
     },
     "metadata": {},
     "output_type": "display_data"
    }
   ],
   "source": [
    "plt.plot(cellct,est,'.') #envelope\n",
    "plt.plot(cellct,nll_res.x[4:-1],'*') #ml with noise --- all data\n",
    "#plt.plot(cellct_ed,nll_res_ed.x[4:-1],'x') #ml with noise --- ed data\n",
    "#plt.plot(cellct,ls_res.x[4:],'o') #ls fit\n",
    "plt.plot(cellct,ls_res_wt.x[4:],'<')\n",
    "plt.plot(cellct_ed,ls_res_wt_ed.x[4:],'>')"
   ]
  },
  {
   "cell_type": "code",
   "execution_count": 54,
   "metadata": {
    "collapsed": false
   },
   "outputs": [],
   "source": [
    "ml_est = nll_res_ed.x[4:-1]"
   ]
  },
  {
   "cell_type": "code",
   "execution_count": 52,
   "metadata": {
    "collapsed": false
   },
   "outputs": [],
   "source": [
    "est_ed = np.delete(est,3)"
   ]
  },
  {
   "cell_type": "code",
   "execution_count": 53,
   "metadata": {
    "collapsed": false
   },
   "outputs": [
    {
     "data": {
      "text/plain": [
       "array([ 0.00057,  0.00102,  0.00218,  0.00548,  0.0106 ])"
      ]
     },
     "execution_count": 53,
     "metadata": {},
     "output_type": "execute_result"
    }
   ],
   "source": [
    "est_ed"
   ]
  },
  {
   "cell_type": "code",
   "execution_count": 55,
   "metadata": {
    "collapsed": false
   },
   "outputs": [
    {
     "data": {
      "text/plain": [
       "array([ 2.0265114 ,  2.40729003,  1.91306926,  2.28949274,  1.91111865])"
      ]
     },
     "execution_count": 55,
     "metadata": {},
     "output_type": "execute_result"
    }
   ],
   "source": [
    "ml_est/est_ed"
   ]
  },
  {
   "cell_type": "code",
   "execution_count": 58,
   "metadata": {
    "collapsed": false
   },
   "outputs": [
    {
     "data": {
      "text/plain": [
       "array([ 0.20265114,  0.240729  ,  0.19130693,  0.22894927,  0.19111186])"
      ]
     },
     "execution_count": 58,
     "metadata": {},
     "output_type": "execute_result"
    }
   ],
   "source": [
    "ml_est/(est_ed * 10)"
   ]
  },
  {
   "cell_type": "code",
   "execution_count": 59,
   "metadata": {
    "collapsed": false
   },
   "outputs": [
    {
     "data": {
      "text/plain": [
       "array([ 0.00115429,  0.00245393,  0.0041683 ,  0.0031405 ,  0.0125395 ,\n",
       "        0.02024187])"
      ]
     },
     "execution_count": 59,
     "metadata": {},
     "output_type": "execute_result"
    }
   ],
   "source": [
    "nll_res.x[4:-1]"
   ]
  },
  {
   "cell_type": "code",
   "execution_count": null,
   "metadata": {
    "collapsed": true
   },
   "outputs": [],
   "source": [
    "ndim, nwalkser ="
   ]
  }
 ],
 "metadata": {
  "anaconda-cloud": {},
  "kernelspec": {
   "display_name": "Python [conda env:fitter]",
   "language": "python",
   "name": "conda-env-fitter-py"
  },
  "language_info": {
   "codemirror_mode": {
    "name": "ipython",
    "version": 3
   },
   "file_extension": ".py",
   "mimetype": "text/x-python",
   "name": "python",
   "nbconvert_exporter": "python",
   "pygments_lexer": "ipython3",
   "version": "3.5.2"
  }
 },
 "nbformat": 4,
 "nbformat_minor": 1
}

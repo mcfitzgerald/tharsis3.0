{
 "cells": [
  {
   "cell_type": "code",
   "execution_count": 1,
   "metadata": {
    "collapsed": true
   },
   "outputs": [],
   "source": [
    "import sys\n",
    "import copy\n",
    "import emcee\n",
    "import corner\n",
    "import numpy as np\n",
    "import matplotlib.pyplot as plt\n",
    "from mods import prep, plotter\n",
    "from scipy import optimize\n",
    "%matplotlib inline\n",
    "%load_ext autoreload\n",
    "\n",
    "sys.path.append('./ligbind/')\n",
    "import ligbind"
   ]
  },
  {
   "cell_type": "code",
   "execution_count": 2,
   "metadata": {
    "collapsed": false
   },
   "outputs": [
    {
     "name": "stdout",
     "output_type": "stream",
     "text": [
      "hootie hoo! the indices match!\n"
     ]
    }
   ],
   "source": [
    "WT_08_lbl, WT_08_rtot, WT_08_lig, WT_08_sat = prep.datprep('data/EGFR_WT_08_Sat.csv','Data/EGFR_WT_08_Rtot.csv')"
   ]
  },
  {
   "cell_type": "code",
   "execution_count": 3,
   "metadata": {
    "collapsed": true
   },
   "outputs": [],
   "source": [
    "wt08_litparms = np.array([4.6,5.3,0.34,530.])"
   ]
  },
  {
   "cell_type": "code",
   "execution_count": 57,
   "metadata": {
    "collapsed": true
   },
   "outputs": [],
   "source": [
    "#vary all Wym model parameters\n",
    "#variance weighted by y-value (not y squared)\n",
    "def lnlik(allfit,data,ligs):\n",
    "    datac = np.concatenate(data)\n",
    "    modparms = allfit[0:4]\n",
    "    rtots = allfit[4:-1]\n",
    "    lnf = allfit[-1]\n",
    "    model = ligbind.models.wymfunc(modparms,ligs,rtots)\n",
    "    #print((model-datac))\n",
    "    invsig2 = 1.0/(model*np.exp(2*lnf))\n",
    "    return -0.5*(np.sum((datac-model)**2*invsig2 - np.log(invsig2)))"
   ]
  },
  {
   "cell_type": "code",
   "execution_count": 58,
   "metadata": {
    "collapsed": true
   },
   "outputs": [],
   "source": [
    "#uniform prior based on bounds\n",
    "def lnpri(allfit,bounds):\n",
    "    assert len(bounds) == len(allfit)\n",
    "    if all([bounds[i][0] <= allfit[i] <= bounds[i][1] for i in range(len(bounds))]) is True:\n",
    "        return 0.0\n",
    "    else:\n",
    "        return -np.inf"
   ]
  },
  {
   "cell_type": "code",
   "execution_count": 59,
   "metadata": {
    "collapsed": true
   },
   "outputs": [],
   "source": [
    "def lnprob(allfit,bounds,data,ligs):\n",
    "    lp = lnpri(allfit,bounds)\n",
    "    if not np.isfinite(lp):\n",
    "        return -np.inf\n",
    "    return lp + lnlik(allfit,data,ligs)"
   ]
  },
  {
   "cell_type": "code",
   "execution_count": 99,
   "metadata": {
    "collapsed": true
   },
   "outputs": [],
   "source": [
    "bnds = ((4.6,4.6),(5.3,5.3),(0.34,0.34),(530.,530.),(0.0, 1.0),(0., 1.0) ,(0.0, 1.0), (0.0, 1.0), (0.0, 1.0), (0.0, 1.0), (-10.0, -1.0))"
   ]
  },
  {
   "cell_type": "code",
   "execution_count": 61,
   "metadata": {
    "collapsed": true
   },
   "outputs": [],
   "source": [
    "guess = np.array([4.6,\n",
    "                 5.3,\n",
    "                 0.34,\n",
    "                 530.,\n",
    "                 5.70E-04,\n",
    "                 1.02E-03,\n",
    "                 2.18E-03,\n",
    "                 2.85E-03,\n",
    "                 5.48E-03,\n",
    "                 1.06E-02,\n",
    "                 -3.])"
   ]
  },
  {
   "cell_type": "code",
   "execution_count": 62,
   "metadata": {
    "collapsed": false
   },
   "outputs": [
    {
     "data": {
      "text/plain": [
       "0.0"
      ]
     },
     "execution_count": 62,
     "metadata": {},
     "output_type": "execute_result"
    }
   ],
   "source": [
    "lnpri(guess,bnds)"
   ]
  },
  {
   "cell_type": "code",
   "execution_count": 63,
   "metadata": {
    "collapsed": true
   },
   "outputs": [],
   "source": [
    "nll = lambda *args: -lnlik(*args)"
   ]
  },
  {
   "cell_type": "code",
   "execution_count": 64,
   "metadata": {
    "collapsed": false
   },
   "outputs": [],
   "source": [
    "res = optimize.minimize(nll,guess,bounds=bnds,args=(WT_08_sat,WT_08_lig))"
   ]
  },
  {
   "cell_type": "code",
   "execution_count": 65,
   "metadata": {
    "collapsed": false
   },
   "outputs": [
    {
     "data": {
      "text/plain": [
       "array([  4.60000000e+00,   5.30000000e+00,   3.40000000e-01,\n",
       "         5.30000000e+02,   1.15429372e-03,   2.45392890e-03,\n",
       "         4.16830116e-03,   3.14051911e-03,   1.25391893e-02,\n",
       "         2.02420320e-02,  -3.41269651e+00])"
      ]
     },
     "execution_count": 65,
     "metadata": {},
     "output_type": "execute_result"
    }
   ],
   "source": [
    "res.x"
   ]
  },
  {
   "cell_type": "code",
   "execution_count": 66,
   "metadata": {
    "collapsed": false
   },
   "outputs": [
    {
     "data": {
      "text/plain": [
       "array([ 0.00115429,  0.00245393,  0.0041683 ,  0.00314052,  0.01253919,\n",
       "        0.02024203])"
      ]
     },
     "execution_count": 66,
     "metadata": {},
     "output_type": "execute_result"
    }
   ],
   "source": [
    "res.x[4:-1]"
   ]
  },
  {
   "cell_type": "code",
   "execution_count": 67,
   "metadata": {
    "collapsed": false
   },
   "outputs": [
    {
     "data": {
      "text/plain": [
       "['24k', '43k', '92k', '120k', '231k', '447k']"
      ]
     },
     "execution_count": 67,
     "metadata": {},
     "output_type": "execute_result"
    }
   ],
   "source": [
    "WT_08_lbl"
   ]
  },
  {
   "cell_type": "code",
   "execution_count": 68,
   "metadata": {
    "collapsed": true
   },
   "outputs": [],
   "source": [
    "cellct = np.array([24.,43.,92.,120.,231.,447.])"
   ]
  },
  {
   "cell_type": "code",
   "execution_count": 69,
   "metadata": {
    "collapsed": false
   },
   "outputs": [],
   "source": [
    "est = np.array([5.70E-04,\n",
    "                1.02E-03,\n",
    "                2.18E-03,\n",
    "                2.85E-03,\n",
    "                5.48E-03,\n",
    "                1.06E-02])"
   ]
  },
  {
   "cell_type": "code",
   "execution_count": 70,
   "metadata": {
    "collapsed": false
   },
   "outputs": [
    {
     "data": {
      "text/plain": [
       "[<matplotlib.lines.Line2D at 0x1105c7c50>]"
      ]
     },
     "execution_count": 70,
     "metadata": {},
     "output_type": "execute_result"
    },
    {
     "data": {
      "image/png": "[encoded data removed]",
      "text/plain": [
       "<matplotlib.figure.Figure at 0x1105c71d0>"
      ]
     },
     "metadata": {},
     "output_type": "display_data"
    }
   ],
   "source": [
    "plt.plot(cellct,est,'.')\n",
    "plt.plot(cellct,res.x[4:-1],'x')"
   ]
  },
  {
   "cell_type": "code",
   "execution_count": 71,
   "metadata": {
    "collapsed": false
   },
   "outputs": [],
   "source": [
    "bnds_ed = bnds = ((4.6,4.6),(5.3,5.3),(0.34,0.34),(530.,530.),(0.0, 1.0) ,(0.0, 1.0), (0.0, 1.0), (0.0, 1.0), (0.0, 1.0), (-10.0, -1.0))"
   ]
  },
  {
   "cell_type": "code",
   "execution_count": 72,
   "metadata": {
    "collapsed": true
   },
   "outputs": [],
   "source": [
    "guess_ed = np.array([4.6,\n",
    "                 5.3,\n",
    "                 0.34,\n",
    "                 530.,\n",
    "                 5.70E-04,\n",
    "                 1.02E-03,\n",
    "                 2.18E-03,\n",
    "                 5.48E-03,\n",
    "                 1.06E-02,\n",
    "                 -3.])"
   ]
  },
  {
   "cell_type": "code",
   "execution_count": 73,
   "metadata": {
    "collapsed": true
   },
   "outputs": [],
   "source": [
    "cellct_ed = np.delete(cellct,3)"
   ]
  },
  {
   "cell_type": "code",
   "execution_count": 74,
   "metadata": {
    "collapsed": true
   },
   "outputs": [],
   "source": [
    "WT_08_lig_ed = np.delete(WT_08_lig,3)\n",
    "WT_08_rtot_ed = np.delete(WT_08_rtot,3)\n",
    "WT_08_sat_ed = np.delete(WT_08_sat,3)"
   ]
  },
  {
   "cell_type": "code",
   "execution_count": 75,
   "metadata": {
    "collapsed": true
   },
   "outputs": [],
   "source": [
    "res_ed = optimize.minimize(nll,guess_ed,bounds=bnds_ed,args=(WT_08_sat_ed,WT_08_lig_ed))"
   ]
  },
  {
   "cell_type": "code",
   "execution_count": 76,
   "metadata": {
    "collapsed": false
   },
   "outputs": [
    {
     "data": {
      "text/plain": [
       "[<matplotlib.lines.Line2D at 0x110971c88>]"
      ]
     },
     "execution_count": 76,
     "metadata": {},
     "output_type": "execute_result"
    },
    {
     "data": {
      "image/png": "[encoded data removed]",
      "text/plain": [
       "<matplotlib.figure.Figure at 0x110929ef0>"
      ]
     },
     "metadata": {},
     "output_type": "display_data"
    }
   ],
   "source": [
    "plt.plot(cellct,est,'.')\n",
    "plt.plot(cellct,res.x[4:-1],'x')\n",
    "plt.plot(cellct_ed,res_ed.x[4:-1],'*')"
   ]
  },
  {
   "cell_type": "code",
   "execution_count": 50,
   "metadata": {
    "collapsed": false
   },
   "outputs": [
    {
     "data": {
      "text/plain": [
       "array([ 0.00057,  0.00102,  0.00218,  0.00285,  0.00548,  0.0106 ])"
      ]
     },
     "execution_count": 50,
     "metadata": {},
     "output_type": "execute_result"
    }
   ],
   "source": [
    "est"
   ]
  },
  {
   "cell_type": "code",
   "execution_count": 52,
   "metadata": {
    "collapsed": false
   },
   "outputs": [
    {
     "data": {
      "text/plain": [
       "array([ 0.00115429,  0.00245393,  0.0041683 ,  0.00314052,  0.01253919,\n",
       "        0.02024203])"
      ]
     },
     "execution_count": 52,
     "metadata": {},
     "output_type": "execute_result"
    }
   ],
   "source": [
    "res.x[4:-1]"
   ]
  },
  {
   "cell_type": "code",
   "execution_count": 56,
   "metadata": {
    "collapsed": false
   },
   "outputs": [
    {
     "data": {
      "text/plain": [
       "1.9404482550980429"
      ]
     },
     "execution_count": 56,
     "metadata": {},
     "output_type": "execute_result"
    }
   ],
   "source": [
    "np.average(res.x[4:-1]/est)"
   ]
  },
  {
   "cell_type": "code",
   "execution_count": 84,
   "metadata": {
    "collapsed": true
   },
   "outputs": [],
   "source": [
    "def lsfit(allfit,data,ligs):\n",
    "    datac = np.concatenate(data)\n",
    "    modparms = allfit[0:4]\n",
    "    rtots = allfit[4:]\n",
    "    return (ligbind.models.wymfunc(modparms,ligs,rtots)-datac)"
   ]
  },
  {
   "cell_type": "code",
   "execution_count": 85,
   "metadata": {
    "collapsed": false
   },
   "outputs": [
    {
     "data": {
      "text/plain": [
       "array([ -1.50676163e-02,  -1.63990249e-02,  -1.57000294e-03,\n",
       "         2.34615825e-03,   2.98495742e-02,   1.32448614e-02,\n",
       "         4.38742277e-02,   9.40864479e-02,   6.20816860e-03,\n",
       "        -1.22449204e-02,   1.85513369e-02,   1.56732147e-02,\n",
       "         3.90316989e-02,   2.12491310e-02,  -1.30464868e-02,\n",
       "         5.58416960e-04,  -1.07465999e-03,   1.23357848e-02,\n",
       "         2.43293442e-02,   3.48633502e-02,   1.61311967e-02,\n",
       "         1.89047721e-02,   1.42875282e-02,   4.46117593e-02,\n",
       "         5.25086016e-02,   1.68713651e-02,   2.51734674e-02,\n",
       "        -6.64191837e-05,  -8.21257474e-03,   2.88776176e-02,\n",
       "         4.33262590e-02,   2.94320118e-02,   1.64682106e-02,\n",
       "         3.45829557e-02,   4.00175786e-02,  -6.15170370e-03,\n",
       "        -7.80705835e-03,  -1.79083882e-02,   2.02716492e-02,\n",
       "        -1.05838995e-02,   5.39858665e-03,  -5.45723553e-03,\n",
       "         1.80306255e-02,   2.53949416e-02,   1.18018002e-02,\n",
       "         8.85762021e-03,   5.73390181e-03,  -3.33827206e-02,\n",
       "        -6.92778391e-03,  -3.18448772e-02,   2.78129901e-02,\n",
       "        -3.13904986e-03,  -6.71430437e-03,   3.00119638e-02,\n",
       "        -6.59278643e-03,   1.18760010e-02,   3.35907942e-02,\n",
       "         1.01016079e-02,   1.92136555e-02,   4.21269087e-02,\n",
       "         4.31859313e-02,   1.87347966e-02,   4.13780043e-02,\n",
       "         4.44956419e-02,  -1.37408613e-02,   1.40361842e-02,\n",
       "        -1.29945362e-02,  -1.65439621e-03,  -9.61818251e-03,\n",
       "         7.83681073e-04,   3.22853618e-03,   1.80407881e-02,\n",
       "         1.02064822e-02,   7.28201611e-03,   2.58751676e-02,\n",
       "         4.10722197e-02,   3.97975760e-02,   3.71646217e-02,\n",
       "         3.26102518e-02,   4.96662508e-02,  -1.11916056e-03])"
      ]
     },
     "execution_count": 85,
     "metadata": {},
     "output_type": "execute_result"
    }
   ],
   "source": [
    "lsfit(guess[:-1],WT_08_sat,WT_08_lig)"
   ]
  },
  {
   "cell_type": "code",
   "execution_count": 101,
   "metadata": {
    "collapsed": false
   },
   "outputs": [
    {
     "data": {
      "text/plain": [
       "((4.6, 5.3, 0.34, 530.0, 0.0, 0.0, 0.0, 0.0, 0.0, 0.0),\n",
       " (4.6, 5.3, 0.34, 530.0, 1.0, 1.0, 1.0, 1.0, 1.0, 1.0))"
      ]
     },
     "execution_count": 101,
     "metadata": {},
     "output_type": "execute_result"
    }
   ],
   "source": [
    "lsbnds = tuple([i[0] for i in bnds][:-1]), tuple([i[1] for i in bnds][:-1])\n",
    "lsbnds"
   ]
  },
  {
   "cell_type": "code",
   "execution_count": 102,
   "metadata": {
    "collapsed": false
   },
   "outputs": [
    {
     "ename": "ValueError",
     "evalue": "Each lower bound must be strictly less than each upper bound.",
     "output_type": "error",
     "traceback": [
      "\u001b[0;31m-------------------------------------------------------------------------\u001b[0m",
      "\u001b[0;31mValueError\u001b[0m                              Traceback (most recent call last)",
      "\u001b[0;32m<ipython-input-102-179e18074045>\u001b[0m in \u001b[0;36m<module>\u001b[0;34m()\u001b[0m\n\u001b[0;32m----> 1\u001b[0;31m \u001b[0mres_ls\u001b[0m \u001b[0;34m=\u001b[0m \u001b[0moptimize\u001b[0m\u001b[0;34m.\u001b[0m\u001b[0mleast_squares\u001b[0m\u001b[0;34m(\u001b[0m\u001b[0mlsfit\u001b[0m\u001b[0;34m,\u001b[0m\u001b[0mguess\u001b[0m\u001b[0;34m[\u001b[0m\u001b[0;34m:\u001b[0m\u001b[0;34m-\u001b[0m\u001b[0;36m1\u001b[0m\u001b[0;34m]\u001b[0m\u001b[0;34m,\u001b[0m\u001b[0mbounds\u001b[0m\u001b[0;34m=\u001b[0m\u001b[0mlsbnds\u001b[0m\u001b[0;34m,\u001b[0m\u001b[0margs\u001b[0m\u001b[0;34m=\u001b[0m\u001b[0;34m(\u001b[0m\u001b[0mWT_08_sat\u001b[0m\u001b[0;34m,\u001b[0m\u001b[0mWT_08_lig\u001b[0m\u001b[0;34m)\u001b[0m\u001b[0;34m)\u001b[0m\u001b[0;34m\u001b[0m\u001b[0m\n\u001b[0m",
      "\u001b[0;32m/Users/michael/miniconda3/envs/fitter/lib/python3.5/site-packages/scipy/optimize/_lsq/least_squares.py\u001b[0m in \u001b[0;36mleast_squares\u001b[0;34m(fun, x0, jac, bounds, method, ftol, xtol, gtol, x_scale, loss, f_scale, diff_step, tr_solver, tr_options, jac_sparsity, max_nfev, verbose, args, kwargs)\u001b[0m\n\u001b[1;32m    751\u001b[0m \u001b[0;34m\u001b[0m\u001b[0m\n\u001b[1;32m    752\u001b[0m     \u001b[0;32mif\u001b[0m \u001b[0mnp\u001b[0m\u001b[0;34m.\u001b[0m\u001b[0many\u001b[0m\u001b[0;34m(\u001b[0m\u001b[0mlb\u001b[0m \u001b[0;34m>=\u001b[0m \u001b[0mub\u001b[0m\u001b[0;34m)\u001b[0m\u001b[0;34m:\u001b[0m\u001b[0;34m\u001b[0m\u001b[0m\n\u001b[0;32m--> 753\u001b[0;31m         raise ValueError(\"Each lower bound must be strictly less than each \"\n\u001b[0m\u001b[1;32m    754\u001b[0m                          \"upper bound.\")\n\u001b[1;32m    755\u001b[0m \u001b[0;34m\u001b[0m\u001b[0m\n",
      "\u001b[0;31mValueError\u001b[0m: Each lower bound must be strictly less than each upper bound."
     ]
    }
   ],
   "source": [
    "res_ls = optimize.least_squares(lsfit,guess[:-1],bounds=lsbnds,args=(WT_08_sat,WT_08_lig))"
   ]
  },
  {
   "cell_type": "code",
   "execution_count": 96,
   "metadata": {
    "collapsed": false
   },
   "outputs": [
    {
     "data": {
      "text/plain": [
       "11"
      ]
     },
     "execution_count": 96,
     "metadata": {},
     "output_type": "execute_result"
    }
   ],
   "source": [
    "guess.size"
   ]
  },
  {
   "cell_type": "code",
   "execution_count": 95,
   "metadata": {
    "collapsed": false
   },
   "outputs": [
    {
     "data": {
      "text/plain": [
       "(4.6, 5.3, 0.34, 530.0, 0.0, 0.0, 0.0, 0.0, 0.0)"
      ]
     },
     "execution_count": 95,
     "metadata": {},
     "output_type": "execute_result"
    }
   ],
   "source": [
    "lsbnds[0]"
   ]
  },
  {
   "cell_type": "code",
   "execution_count": 103,
   "metadata": {
    "collapsed": true
   },
   "outputs": [],
   "source": [
    "lsbnds = ((4.599, 5.299, 0.3399, 529.99, 0.0, 0.0, 0.0, 0.0, 0.0, 0.0),\n",
    " (4.6, 5.3, 0.34, 530.0, 1.0, 1.0, 1.0, 1.0, 1.0, 1.0))"
   ]
  },
  {
   "cell_type": "code",
   "execution_count": 104,
   "metadata": {
    "collapsed": false
   },
   "outputs": [
    {
     "data": {
      "text/plain": [
       "((4.599, 5.299, 0.3399, 529.99, 0.0, 0.0, 0.0, 0.0, 0.0, 0.0),\n",
       " (4.6, 5.3, 0.34, 530.0, 1.0, 1.0, 1.0, 1.0, 1.0, 1.0))"
      ]
     },
     "execution_count": 104,
     "metadata": {},
     "output_type": "execute_result"
    }
   ],
   "source": [
    "lsbnds"
   ]
  },
  {
   "cell_type": "code",
   "execution_count": 114,
   "metadata": {
    "collapsed": true
   },
   "outputs": [],
   "source": [
    "res_ls = optimize.least_squares(lsfit,guess[:-1],bounds=lsbnds,args=(WT_08_sat,WT_08_lig))"
   ]
  },
  {
   "cell_type": "code",
   "execution_count": 115,
   "metadata": {
    "collapsed": false
   },
   "outputs": [
    {
     "data": {
      "text/plain": [
       "array([  4.59900000e+00,   5.29900000e+00,   3.39900000e-01,\n",
       "         5.30000000e+02,   1.43706384e-03,   2.41953823e-03,\n",
       "         3.38836918e-03,   2.71519863e-03,   1.21495444e-02,\n",
       "         2.59094121e-02])"
      ]
     },
     "execution_count": 115,
     "metadata": {},
     "output_type": "execute_result"
    }
   ],
   "source": [
    "res_ls.x"
   ]
  },
  {
   "cell_type": "code",
   "execution_count": 116,
   "metadata": {
    "collapsed": false
   },
   "outputs": [
    {
     "data": {
      "text/plain": [
       "[<matplotlib.lines.Line2D at 0x110ccae10>]"
      ]
     },
     "execution_count": 116,
     "metadata": {},
     "output_type": "execute_result"
    },
    {
     "data": {
      "image/png": "[encoded data removed]",
      "text/plain": [
       "<matplotlib.figure.Figure at 0x110bcdc50>"
      ]
     },
     "metadata": {},
     "output_type": "display_data"
    }
   ],
   "source": [
    "plt.plot(cellct,est,'.')\n",
    "plt.plot(cellct,res.x[4:-1],'x')\n",
    "plt.plot(cellct_ed,res_ed.x[4:-1],'*')\n",
    "plt.plot(cellct,res_ls.x[4:],'d')"
   ]
  },
  {
   "cell_type": "code",
   "execution_count": 117,
   "metadata": {
    "collapsed": true
   },
   "outputs": [],
   "source": [
    "def lsfit_wt(allfit,data,ligs):\n",
    "    datac = np.concatenate(data)\n",
    "    modparms = allfit[0:4]\n",
    "    rtots = allfit[4:]\n",
    "    calc = ligbind.models.wymfunc(modparms,ligs,rtots)\n",
    "    return ((calc-datac)/calc)"
   ]
  },
  {
   "cell_type": "code",
   "execution_count": 118,
   "metadata": {
    "collapsed": false
   },
   "outputs": [],
   "source": [
    "res_ls_wt = optimize.least_squares(lsfit_wt,guess[:-1],bounds=lsbnds,args=(WT_08_sat,WT_08_lig))"
   ]
  },
  {
   "cell_type": "code",
   "execution_count": 119,
   "metadata": {
    "collapsed": false
   },
   "outputs": [
    {
     "data": {
      "text/plain": [
       "[<matplotlib.lines.Line2D at 0x110e05748>]"
      ]
     },
     "execution_count": 119,
     "metadata": {},
     "output_type": "execute_result"
    },
    {
     "data": {
      "image/png": "[encoded data removed]",
      "text/plain": [
       "<matplotlib.figure.Figure at 0x110be1748>"
      ]
     },
     "metadata": {},
     "output_type": "display_data"
    }
   ],
   "source": [
    "plt.plot(cellct,est,'.')\n",
    "plt.plot(cellct,res.x[4:-1],'x')\n",
    "plt.plot(cellct_ed,res_ed.x[4:-1],'*')\n",
    "plt.plot(cellct,res_ls.x[4:],'d')\n",
    "plt.plot(cellct,res_ls_wt.x[4:],'s')"
   ]
  },
  {
   "cell_type": "code",
   "execution_count": 120,
   "metadata": {
    "collapsed": false
   },
   "outputs": [
    {
     "data": {
      "text/plain": [
       "((4.599, 5.299, 0.3399, 529.99, 0.0, 0.0, 0.0, 0.0, 0.0, 0.0),\n",
       " (4.6, 5.3, 0.34, 530.0, 1.0, 1.0, 1.0, 1.0, 1.0, 1.0))"
      ]
     },
     "execution_count": 120,
     "metadata": {},
     "output_type": "execute_result"
    }
   ],
   "source": [
    "lsbnds"
   ]
  },
  {
   "cell_type": "code",
   "execution_count": 121,
   "metadata": {
    "collapsed": true
   },
   "outputs": [],
   "source": [
    "lsbnds_ed = ((4.599, 5.299, 0.3399, 529.99, 0.0, 0.0, 0.0, 0.0, 0.0),\n",
    " (4.6, 5.3, 0.34, 530.0, 1.0, 1.0, 1.0, 1.0, 1.0))"
   ]
  },
  {
   "cell_type": "code",
   "execution_count": 123,
   "metadata": {
    "collapsed": false
   },
   "outputs": [],
   "source": [
    "res_ls_ed = optimize.least_squares(lsfit,guess[:-2],bounds=lsbnds_ed,args=(WT_08_sat_ed,WT_08_lig_ed))"
   ]
  },
  {
   "cell_type": "code",
   "execution_count": 132,
   "metadata": {
    "collapsed": false
   },
   "outputs": [
    {
     "data": {
      "text/plain": [
       "[<matplotlib.lines.Line2D at 0x1116ed208>]"
      ]
     },
     "execution_count": 132,
     "metadata": {},
     "output_type": "execute_result"
    },
    {
     "data": {
      "image/png": "[encoded data removed]",
      "text/plain": [
       "<matplotlib.figure.Figure at 0x110e4ae80>"
      ]
     },
     "metadata": {},
     "output_type": "display_data"
    }
   ],
   "source": [
    "plt.plot(cellct,est,'.') #envelope\n",
    "#plt.plot(cellct,res.x[4:-1],'x') #ml with noise --- all data\n",
    "plt.plot(cellct_ed,res_ed.x[4:-1],'*') #ml with noise --- ed data\n",
    "#plt.plot(cellct,res_ls.x[4:],'d') #ls no weight or noise --- all data\n",
    "#plt.plot(cellct,res_ls_wt.x[4:],'s') #ls weight --- all data\n",
    "plt.plot(cellct_ed,res_ls_ed.x[4:],'8') #ls no weight --- ed data"
   ]
  },
  {
   "cell_type": "code",
   "execution_count": 133,
   "metadata": {
    "collapsed": true
   },
   "outputs": [],
   "source": [
    "res_ls_wt_ed = optimize.least_squares(lsfit_wt,guess[:-2],bounds=lsbnds_ed,args=(WT_08_sat_ed,WT_08_lig_ed))"
   ]
  },
  {
   "cell_type": "code",
   "execution_count": 134,
   "metadata": {
    "collapsed": false
   },
   "outputs": [
    {
     "data": {
      "text/plain": [
       "[<matplotlib.lines.Line2D at 0x111ba1588>]"
      ]
     },
     "execution_count": 134,
     "metadata": {},
     "output_type": "execute_result"
    },
    {
     "data": {
      "image/png": "[encoded data removed]",
      "text/plain": [
       "<matplotlib.figure.Figure at 0x111a7fe48>"
      ]
     },
     "metadata": {},
     "output_type": "display_data"
    }
   ],
   "source": [
    "plt.plot(cellct,est,'.') #envelope\n",
    "#plt.plot(cellct,res.x[4:-1],'x') #ml with noise --- all data\n",
    "plt.plot(cellct_ed,res_ed.x[4:-1],'*') #ml with noise --- ed data\n",
    "#plt.plot(cellct,res_ls.x[4:],'d') #ls no weight or noise --- all data\n",
    "#plt.plot(cellct,res_ls_wt.x[4:],'s') #ls weight --- all data\n",
    "plt.plot(cellct_ed,res_ls_ed.x[4:],'8') #ls no weight --- ed data\n",
    "plt.plot(cellct_ed,res_ls_wt_ed.x[4:],'4') #ls weight --- ed data"
   ]
  },
  {
   "cell_type": "code",
   "execution_count": 148,
   "metadata": {
    "collapsed": false
   },
   "outputs": [
    {
     "name": "stdout",
     "output_type": "stream",
     "text": [
      "5.289999999999999\n",
      "5.29\n",
      "61.15239999999999\n",
      "61.1524\n"
     ]
    }
   ],
   "source": [
    "print(2.3**2)\n",
    "print(np.exp(2.000*np.log(2.3)))\n",
    "print((2.3*3.4)**2)\n",
    "print(np.exp(2.0*(np.log(2.3)+np.log(3.4))))"
   ]
  },
  {
   "cell_type": "code",
   "execution_count": 149,
   "metadata": {
    "collapsed": true
   },
   "outputs": [],
   "source": [
    "#vary all Wym model parameters\n",
    "#variance weighted by y-value (not y squared)\n",
    "def lnlik_s(allfit,data,ligs):\n",
    "    datac = np.concatenate(data)\n",
    "    modparms = allfit[0:4]\n",
    "    rtots = allfit[4:-1]\n",
    "    lnf = allfit[-1]\n",
    "    model = ligbind.models.wymfunc(modparms,ligs,rtots)\n",
    "    #print((model-datac))\n",
    "    invsig2 = 1.0/np.exp(2*(lnf + np.log(model)))\n",
    "    return -0.5*(np.sum((datac-model)**2*invsig2 - np.log(invsig2)))"
   ]
  },
  {
   "cell_type": "code",
   "execution_count": 150,
   "metadata": {
    "collapsed": true
   },
   "outputs": [],
   "source": [
    "nll_s = lambda *args: -lnlik_s(*args)"
   ]
  },
  {
   "cell_type": "code",
   "execution_count": 151,
   "metadata": {
    "collapsed": true
   },
   "outputs": [],
   "source": [
    "res_s = optimize.minimize(nll_s,guess,bounds=bnds,args=(WT_08_sat,WT_08_lig))"
   ]
  },
  {
   "cell_type": "code",
   "execution_count": 153,
   "metadata": {
    "collapsed": true
   },
   "outputs": [],
   "source": [
    "res_s_ed = optimize.minimize(nll_s,guess_ed,bounds=bnds_ed,args=(WT_08_sat_ed,WT_08_lig_ed))"
   ]
  },
  {
   "cell_type": "code",
   "execution_count": 155,
   "metadata": {
    "collapsed": false
   },
   "outputs": [
    {
     "data": {
      "text/plain": [
       "[<matplotlib.lines.Line2D at 0x1120717b8>]"
      ]
     },
     "execution_count": 155,
     "metadata": {},
     "output_type": "execute_result"
    },
    {
     "data": {
      "image/png": "[encoded data removed]",
      "text/plain": [
       "<matplotlib.figure.Figure at 0x111e41ba8>"
      ]
     },
     "metadata": {},
     "output_type": "display_data"
    }
   ],
   "source": [
    "plt.plot(cellct,est,'.') #envelope\n",
    "plt.plot(cellct,res.x[4:-1],'x') #ml with noise --- all data\n",
    "plt.plot(cellct,res_s.x[4:-1],'.')\n",
    "plt.plot(cellct_ed,res_s_ed.x[4:-1],'s')"
   ]
  },
  {
   "cell_type": "code",
   "execution_count": 157,
   "metadata": {
    "collapsed": false
   },
   "outputs": [
    {
     "data": {
      "text/plain": [
       "array([  4.60000000e+00,   5.30000000e+00,   3.40000000e-01,\n",
       "         5.30000000e+02,   4.79758851e-05,   2.46028779e-03,\n",
       "         3.94904356e-03,   4.10705401e-03,   1.26658270e-02,\n",
       "         5.32081963e-03,  -2.27680602e+00])"
      ]
     },
     "execution_count": 157,
     "metadata": {},
     "output_type": "execute_result"
    }
   ],
   "source": [
    "res_s.x"
   ]
  },
  {
   "cell_type": "code",
   "execution_count": 159,
   "metadata": {
    "collapsed": false
   },
   "outputs": [
    {
     "data": {
      "text/plain": [
       "0.032952224461527783"
      ]
     },
     "execution_count": 159,
     "metadata": {},
     "output_type": "execute_result"
    }
   ],
   "source": [
    "np.exp(res.x[-1])"
   ]
  },
  {
   "cell_type": "code",
   "execution_count": 160,
   "metadata": {
    "collapsed": true
   },
   "outputs": [],
   "source": [
    "#vary all Wym model parameters\n",
    "#variance weighted by y-value (not y squared)\n",
    "def lnlik_nosc(allfit,data,ligs):\n",
    "    datac = np.concatenate(data)\n",
    "    modparms = allfit[0:4]\n",
    "    rtots = allfit[4:-1]\n",
    "    lnf = allfit[-1]\n",
    "    model = ligbind.models.wymfunc(modparms,ligs,rtots)\n",
    "    #print((model-datac))\n",
    "    invsig2 = 1.0/np.exp(2*lnf)\n",
    "    return -0.5*(np.sum((datac-model)**2*invsig2 - np.log(invsig2)))"
   ]
  },
  {
   "cell_type": "code",
   "execution_count": 161,
   "metadata": {
    "collapsed": true
   },
   "outputs": [],
   "source": [
    "nll_nosc = lambda *args: -lnlik_nosc(*args)"
   ]
  },
  {
   "cell_type": "code",
   "execution_count": 163,
   "metadata": {
    "collapsed": true
   },
   "outputs": [],
   "source": [
    "res_nosc = optimize.minimize(nll_nosc,guess,bounds=bnds,args=(WT_08_sat,WT_08_lig))"
   ]
  },
  {
   "cell_type": "code",
   "execution_count": 164,
   "metadata": {
    "collapsed": false
   },
   "outputs": [
    {
     "data": {
      "text/plain": [
       "[<matplotlib.lines.Line2D at 0x1120e4128>]"
      ]
     },
     "execution_count": 164,
     "metadata": {},
     "output_type": "execute_result"
    },
    {
     "data": {
      "image/png": "[encoded data removed]",
      "text/plain": [
       "<matplotlib.figure.Figure at 0x111f7a240>"
      ]
     },
     "metadata": {},
     "output_type": "display_data"
    }
   ],
   "source": [
    "plt.plot(cellct,est,'.') #envelope\n",
    "plt.plot(cellct,res.x[4:-1],'x') #ml with noise --- all data\n",
    "plt.plot(cellct,res_nosc.x[4:-1],'.')\n"
   ]
  },
  {
   "cell_type": "code",
   "execution_count": 239,
   "metadata": {
    "collapsed": false
   },
   "outputs": [
    {
     "data": {
      "text/plain": [
       "[<matplotlib.lines.Line2D at 0x115454470>]"
      ]
     },
     "execution_count": 239,
     "metadata": {},
     "output_type": "execute_result"
    },
    {
     "data": {
      "image/png": "[encoded data removed]",
      "text/plain": [
       "<matplotlib.figure.Figure at 0x115454080>"
      ]
     },
     "metadata": {},
     "output_type": "display_data"
    }
   ],
   "source": [
    "plt.plot(WT_08_lig[0],WT_08_sat[0])\n",
    "plt.plot(WT_08_lig[0],WT_08_sat[0]**0.5,'--')\n",
    "#plt.plot(WT_08_lig[0],WT_08_sat[0]**2,'--')\n",
    "#plt.plot(WT_08_sat[0])\n",
    "#plt.plot(WT_08_sat[0]**0.5,':')\n",
    "#plt.plot(WT_08_sat[0]**2,'--')"
   ]
  },
  {
   "cell_type": "code",
   "execution_count": 222,
   "metadata": {
    "collapsed": true
   },
   "outputs": [],
   "source": [
    "#vary all Wym model parameters\n",
    "#variance weighted by y-value (not y squared)\n",
    "def lnlik_weerd(allfit,data,ligs):\n",
    "    datac = np.concatenate(data)\n",
    "    modparms = allfit[0:4]\n",
    "    rtots = allfit[4:-1]\n",
    "    f = allfit[-1]\n",
    "    model = ligbind.models.wymfunc(modparms,ligs,rtots)\n",
    "    #print((model-datac))\n",
    "    invsig2 = 1.0/(f*model)**2\n",
    "    return -0.5*(np.sum((datac-model)**2*invsig2 - np.log(invsig2)))"
   ]
  },
  {
   "cell_type": "code",
   "execution_count": 223,
   "metadata": {
    "collapsed": true
   },
   "outputs": [],
   "source": [
    "nll_weerd = lambda *args: -lnlik_weerd(*args)"
   ]
  },
  {
   "cell_type": "code",
   "execution_count": 214,
   "metadata": {
    "collapsed": false
   },
   "outputs": [
    {
     "data": {
      "text/plain": [
       "((4.6, 4.6),\n",
       " (5.3, 5.3),\n",
       " (0.34, 0.34),\n",
       " (530.0, 530.0),\n",
       " (0.0, 1.0),\n",
       " (0.0, 1.0),\n",
       " (0.0, 1.0),\n",
       " (0.0, 1.0),\n",
       " (0.0, 1.0),\n",
       " (0.0, 1.0),\n",
       " (-10.0, -1.0))"
      ]
     },
     "execution_count": 214,
     "metadata": {},
     "output_type": "execute_result"
    }
   ],
   "source": [
    "bnds"
   ]
  },
  {
   "cell_type": "code",
   "execution_count": 215,
   "metadata": {
    "collapsed": true
   },
   "outputs": [],
   "source": [
    "bnds_weerd = ((4.6, 4.6),\n",
    "             (5.3, 5.3),\n",
    "             (0.34, 0.34),\n",
    "             (530.0, 530.0),\n",
    "             (0.0, 1.0),\n",
    "             (0.0, 1.0),\n",
    "             (0.0, 1.0),\n",
    "             (0.0, 1.0),\n",
    "             (0.0, 1.0),\n",
    "             (0.0, 1.0),\n",
    "             (0.0001, 0.1))"
   ]
  },
  {
   "cell_type": "code",
   "execution_count": 216,
   "metadata": {
    "collapsed": false
   },
   "outputs": [],
   "source": [
    "guess_weerd = np.array([4.60000000e+00,5.30000000e+00,3.40000000e-01,\n",
    "                     5.30000000e+02,5.70000000e-04,1.02000000e-03,\n",
    "                     2.18000000e-03,2.85000000e-03,5.48000000e-03,\n",
    "                     1.06000000e-02,0.02])"
   ]
  },
  {
   "cell_type": "code",
   "execution_count": 217,
   "metadata": {
    "collapsed": false
   },
   "outputs": [],
   "source": [
    "res_weerd = optimize.minimize(nll_weerd,guess_weerd,bounds=bnds_weerd,args=(WT_08_sat,WT_08_lig))"
   ]
  },
  {
   "cell_type": "code",
   "execution_count": 229,
   "metadata": {
    "collapsed": false
   },
   "outputs": [
    {
     "data": {
      "text/plain": [
       "[<matplotlib.lines.Line2D at 0x114dc3b38>]"
      ]
     },
     "execution_count": 229,
     "metadata": {},
     "output_type": "execute_result"
    },
    {
     "data": {
      "image/png": "[encoded data removed]",
      "text/plain": [
       "<matplotlib.figure.Figure at 0x114d66eb8>"
      ]
     },
     "metadata": {},
     "output_type": "display_data"
    }
   ],
   "source": [
    "plt.plot(cellct,est,'.') #envelope\n",
    "plt.plot(cellct,res.x[4:-1],'x') #ml with noise --- all data\n",
    "plt.plot(cellct,res_weerd.x[4:-1],'s')"
   ]
  },
  {
   "cell_type": "code",
   "execution_count": 220,
   "metadata": {
    "collapsed": false
   },
   "outputs": [
    {
     "data": {
      "text/plain": [
       "array([  4.60000000e+00,   5.30000000e+00,   3.40000000e-01,\n",
       "         5.30000000e+02,   4.54362945e-05,   2.44310704e-03,\n",
       "         3.92138963e-03,   4.07906122e-03,   1.25617717e-02,\n",
       "         5.27692781e-03,   1.00000000e-01])"
      ]
     },
     "execution_count": 220,
     "metadata": {},
     "output_type": "execute_result"
    }
   ],
   "source": [
    "res_weerd.x"
   ]
  },
  {
   "cell_type": "code",
   "execution_count": 268,
   "metadata": {
    "collapsed": true
   },
   "outputs": [],
   "source": [
    "#vary all Wym model parameters\n",
    "#variance weighted by y-value (not y squared)\n",
    "def lnlik_weerdV2(allfit,data,ligs):\n",
    "    datac = np.concatenate(data)\n",
    "    modparms = allfit[0:4]\n",
    "    rtots = allfit[4:-1]\n",
    "    f = allfit[-1]\n",
    "    model = ligbind.models.wymfunc(modparms,ligs,rtots)\n",
    "    #print((model-datac))\n",
    "    invsig2 = 1.0/np.square(f*np.sqrt(model))\n",
    "    return -0.5*(np.sum((datac-model)**2*invsig2 - np.log(invsig2)))"
   ]
  },
  {
   "cell_type": "code",
   "execution_count": 269,
   "metadata": {
    "collapsed": true
   },
   "outputs": [],
   "source": [
    "nll_weerdV2 = lambda *args: -lnlik_weerdV2(*args)"
   ]
  },
  {
   "cell_type": "code",
   "execution_count": 270,
   "metadata": {
    "collapsed": true
   },
   "outputs": [],
   "source": [
    "res_weerdV2 = optimize.minimize(nll_weerdV2,guess_weerd,bounds=bnds_weerd,args=(WT_08_sat,WT_08_lig))"
   ]
  },
  {
   "cell_type": "code",
   "execution_count": null,
   "metadata": {
    "collapsed": true
   },
   "outputs": [],
   "source": [
    "res_weerdV2_ed = optimize.minimize(nll_weerdV2,guess_weerd,bounds=bnds_weerd,args=(WT_08_sat,WT_08_lig))"
   ]
  },
  {
   "cell_type": "code",
   "execution_count": 271,
   "metadata": {
    "collapsed": false
   },
   "outputs": [
    {
     "data": {
      "text/plain": [
       "[<matplotlib.lines.Line2D at 0x11453c240>]"
      ]
     },
     "execution_count": 271,
     "metadata": {},
     "output_type": "execute_result"
    },
    {
     "data": {
      "image/png": "[encoded data removed]",
      "text/plain": [
       "<matplotlib.figure.Figure at 0x11590feb8>"
      ]
     },
     "metadata": {},
     "output_type": "display_data"
    }
   ],
   "source": [
    "plt.plot(cellct,est,'.') #envelope\n",
    "plt.plot(cellct,res.x[4:-1],'x') #ml with noise --- all data\n",
    "#plt.plot(cellct,res_weerd.x[4:-1],'s')\n",
    "plt.plot(cellct,res_weerdV2.x[4:-1],'o')"
   ]
  },
  {
   "cell_type": "code",
   "execution_count": 232,
   "metadata": {
    "collapsed": false
   },
   "outputs": [
    {
     "data": {
      "text/plain": [
       "array([  4.60000000e+00,   5.30000000e+00,   3.40000000e-01,\n",
       "         5.30000000e+02,   1.15429223e-03,   2.45392547e-03,\n",
       "         4.16830018e-03,   3.14049605e-03,   1.25394977e-02,\n",
       "         2.02418731e-02,   3.29521616e-02])"
      ]
     },
     "execution_count": 232,
     "metadata": {},
     "output_type": "execute_result"
    }
   ],
   "source": [
    "res_weerdV2.x"
   ]
  },
  {
   "cell_type": "code",
   "execution_count": 235,
   "metadata": {
    "collapsed": false
   },
   "outputs": [
    {
     "data": {
      "text/plain": [
       "array([ 0.00705922,  0.00889026,  0.01098895,  0.01443502,  0.01620513,\n",
       "        0.01937139,  0.02185099,  0.02341773,  0.0278151 ,  0.02966592,\n",
       "        0.03039528,  0.03104041,  0.03120797,  0.03200002,  0.03283653])"
      ]
     },
     "execution_count": 235,
     "metadata": {},
     "output_type": "execute_result"
    }
   ],
   "source": [
    "0.0329*np.sqrt(WT_08_sat[0])"
   ]
  },
  {
   "cell_type": "code",
   "execution_count": 238,
   "metadata": {
    "collapsed": false
   },
   "outputs": [
    {
     "data": {
      "text/plain": [
       "[<matplotlib.lines.Line2D at 0x115330390>]"
      ]
     },
     "execution_count": 238,
     "metadata": {},
     "output_type": "execute_result"
    },
    {
     "data": {
      "image/png": "[encoded data removed]",
      "text/plain": [
       "<matplotlib.figure.Figure at 0x115330438>"
      ]
     },
     "metadata": {},
     "output_type": "display_data"
    }
   ],
   "source": [
    "plt.plot(0.0329*(WT_08_sat[0]))\n",
    "plt.plot(0.0329*(np.sqrt(WT_08_sat[0])),'--')"
   ]
  },
  {
   "cell_type": "code",
   "execution_count": 244,
   "metadata": {
    "collapsed": false
   },
   "outputs": [
    {
     "data": {
      "image/png": "[encoded data removed]",
      "text/plain": [
       "<matplotlib.figure.Figure at 0x116e7a400>"
      ]
     },
     "metadata": {},
     "output_type": "display_data"
    }
   ],
   "source": [
    "plotter.semlogerr(WT_08_lig,WT_08_sat,0.0329*(WT_08_sat**0.5))"
   ]
  },
  {
   "cell_type": "code",
   "execution_count": 248,
   "metadata": {
    "collapsed": false
   },
   "outputs": [
    {
     "data": {
      "text/plain": [
       "[<matplotlib.lines.Line2D at 0x1158b9dd8>]"
      ]
     },
     "execution_count": 248,
     "metadata": {},
     "output_type": "execute_result"
    },
    {
     "data": {
      "image/png": "[encoded data removed]",
      "text/plain": [
       "<matplotlib.figure.Figure at 0x115cb54a8>"
      ]
     },
     "metadata": {},
     "output_type": "display_data"
    }
   ],
   "source": [
    "plt.plot(np.log(WT_08_sat[0]))"
   ]
  },
  {
   "cell_type": "code",
   "execution_count": 263,
   "metadata": {
    "collapsed": false
   },
   "outputs": [
    {
     "data": {
      "text/plain": [
       "[<matplotlib.lines.Line2D at 0x115320f60>]"
      ]
     },
     "execution_count": 263,
     "metadata": {},
     "output_type": "execute_result"
    },
    {
     "data": {
      "image/png": "[encoded data removed]",
      "text/plain": [
       "<matplotlib.figure.Figure at 0x115937390>"
      ]
     },
     "metadata": {},
     "output_type": "display_data"
    }
   ],
   "source": [
    "plt.plot(np.linspace(1,100,20),np.linspace(1,100,20)**2)\n",
    "plt.plot(np.linspace(1,100,20),np.sqrt(np.linspace(1,100,20)), ':')\n",
    "plt.plot(np.linspace(1,100,20),np.linspace(1,100,20),'--',)"
   ]
  },
  {
   "cell_type": "code",
   "execution_count": 257,
   "metadata": {
    "collapsed": false
   },
   "outputs": [
    {
     "data": {
      "text/plain": [
       "[<matplotlib.lines.Line2D at 0x1169d6128>]"
      ]
     },
     "execution_count": 257,
     "metadata": {},
     "output_type": "execute_result"
    },
    {
     "data": {
      "image/png": "[encoded data removed]",
      "text/plain": [
       "<matplotlib.figure.Figure at 0x1170e3240>"
      ]
     },
     "metadata": {},
     "output_type": "display_data"
    }
   ],
   "source": [
    "plt.plot(np.linspace(0.01,1,20),np.linspace(0.01,1,20)**2)\n",
    "plt.plot(np.linspace(0.01,1,20),np.linspace(0.01,1,20)**0.5,':')\n",
    "plt.plot(np.linspace(0.01,1,20),np.linspace(0.01,1,20),'--')"
   ]
  },
  {
   "cell_type": "code",
   "execution_count": null,
   "metadata": {
    "collapsed": true
   },
   "outputs": [],
   "source": []
  }
 ],
 "metadata": {
  "anaconda-cloud": {},
  "kernelspec": {
   "display_name": "Python [default]",
   "language": "python",
   "name": "python3"
  },
  "language_info": {
   "codemirror_mode": {
    "name": "ipython",
    "version": 3
   },
   "file_extension": ".py",
   "mimetype": "text/x-python",
   "name": "python",
   "nbconvert_exporter": "python",
   "pygments_lexer": "ipython3",
   "version": "3.5.2"
  }
 },
 "nbformat": 4,
 "nbformat_minor": 1
}

{
 "cells": [
  {
   "cell_type": "code",
   "execution_count": 1,
   "metadata": {
    "collapsed": true
   },
   "outputs": [],
   "source": [
    "import numpy as np\n",
    "import scipy as sp\n",
    "import matplotlib.pyplot as plt\n",
    "import sys, copy, emcee, corner\n",
    "\n",
    "%matplotlib inline\n",
    "%load_ext autoreload\n",
    "\n",
    "sys.path.append('./ligbind/')\n",
    "import ligbind as lb"
   ]
  },
  {
   "cell_type": "code",
   "execution_count": 6,
   "metadata": {
    "collapsed": false
   },
   "outputs": [],
   "source": [
    "dat1 = lb.WymSim(sets=1,reps=1)"
   ]
  },
  {
   "cell_type": "code",
   "execution_count": 9,
   "metadata": {
    "collapsed": false
   },
   "outputs": [
    {
     "data": {
      "image/png": "[encoded data removed]",
      "text/plain": [
       "<matplotlib.figure.Figure at 0x112d8bd30>"
      ]
     },
     "metadata": {},
     "output_type": "display_data"
    }
   ],
   "source": [
    "lb.semlog(dat1.ligs,dat1.meanset[0],'.')"
   ]
  },
  {
   "cell_type": "code",
   "execution_count": 10,
   "metadata": {
    "collapsed": true
   },
   "outputs": [],
   "source": [
    "def lsfit(parms,rtots,data,ligs):\n",
    "    datac = np.concatenate(data)\n",
    "    calc = lb.models.wymfunc(parms,ligs,rtots)\n",
    "    return (calc-datac)"
   ]
  },
  {
   "cell_type": "code",
   "execution_count": 11,
   "metadata": {
    "collapsed": true
   },
   "outputs": [],
   "source": [
    "guess = np.array([10.,10.,10.,100.])"
   ]
  },
  {
   "cell_type": "code",
   "execution_count": 12,
   "metadata": {
    "collapsed": false
   },
   "outputs": [
    {
     "data": {
      "text/plain": [
       "array([ 0.00634719,  0.01285862,  0.02479844,  0.04781582,  0.09036795,\n",
       "        0.15279986,  0.23529421,  0.29310701,  0.30546488,  0.20642758,\n",
       "        0.22259241,  0.11200232,  0.01937445,  0.03628611,  0.06147225,\n",
       "        0.00505032,  0.04675217,  0.00794945,  0.00608442,  0.01258865,\n",
       "        0.02333163,  0.04442332,  0.0885217 ,  0.15816904,  0.25382377,\n",
       "        0.31255434,  0.34641748,  0.29838833,  0.22202089,  0.2056604 ,\n",
       "       -0.01090975,  0.02197695, -0.0352483 ,  0.01546283,  0.03118156,\n",
       "       -0.03046096,  0.00588137,  0.011348  ,  0.02340408,  0.04532627,\n",
       "        0.08973605,  0.16051262,  0.25051654,  0.36296006,  0.36660819,\n",
       "        0.2968831 ,  0.19409014,  0.17232053,  0.111868  ,  0.13897775,\n",
       "       -0.08620268, -0.00825353,  0.05210225,  0.00532356,  0.00536109,\n",
       "        0.01090235,  0.02166489,  0.04345522,  0.08284325,  0.15684497,\n",
       "        0.26712761,  0.36811256,  0.41297268,  0.3990328 ,  0.29477495,\n",
       "        0.19710264,  0.1031233 ,  0.0196617 ,  0.01127245,  0.02291567,\n",
       "        0.00520912,  0.00314625,  0.00524891,  0.00999558,  0.02051723,\n",
       "        0.04083115,  0.07931923,  0.15564447,  0.27111445,  0.39744774,\n",
       "        0.46300184,  0.42357369,  0.32682145,  0.26197248,  0.18888757,\n",
       "        0.12267603, -0.03915431,  0.02143535,  0.039198  ,  0.10643204,\n",
       "        0.00477248,  0.00958542,  0.01975128,  0.0397843 ,  0.0795638 ,\n",
       "        0.15272155,  0.27914176,  0.40772781,  0.5079054 ,  0.44795806,\n",
       "        0.42056207,  0.32641066,  0.17698523,  0.15565197,  0.06950765,\n",
       "        0.03265828, -0.00997225, -0.0177906 ])"
      ]
     },
     "execution_count": 12,
     "metadata": {},
     "output_type": "execute_result"
    }
   ],
   "source": [
    "lsfit(guess,dat1.rtot,dat1.meanset[0],dat1.ligs)"
   ]
  },
  {
   "cell_type": "code",
   "execution_count": 13,
   "metadata": {
    "collapsed": true
   },
   "outputs": [],
   "source": [
    "lsbnds = (tuple(1e-3 for i in range(4)),tuple(1000. for i in range(4)))"
   ]
  },
  {
   "cell_type": "code",
   "execution_count": 14,
   "metadata": {
    "collapsed": false
   },
   "outputs": [
    {
     "data": {
      "text/plain": [
       "((0.001, 0.001, 0.001, 0.001), (1000.0, 1000.0, 1000.0, 1000.0))"
      ]
     },
     "execution_count": 14,
     "metadata": {},
     "output_type": "execute_result"
    }
   ],
   "source": [
    "lsbnds"
   ]
  },
  {
   "cell_type": "code",
   "execution_count": 15,
   "metadata": {
    "collapsed": false
   },
   "outputs": [
    {
     "data": {
      "text/plain": [
       "array([  3.23767199e+00,   2.36856333e+00,   6.88362736e-02,\n",
       "         1.83363640e+02])"
      ]
     },
     "execution_count": 15,
     "metadata": {},
     "output_type": "execute_result"
    }
   ],
   "source": [
    "sp.optimize.least_squares(lsfit,guess,args=(dat1.rtot,dat1.meanset[0],dat1.ligs),bounds=lsbnds,ftol=1e-14,gtol=1e-14,xtol=1e-14,method='trf').x"
   ]
  },
  {
   "cell_type": "code",
   "execution_count": 16,
   "metadata": {
    "collapsed": false
   },
   "outputs": [
    {
     "data": {
      "text/plain": [
       "array([   3. ,    2. ,    0.1,  100. ])"
      ]
     },
     "execution_count": 16,
     "metadata": {},
     "output_type": "execute_result"
    }
   ],
   "source": [
    "dat1.parms"
   ]
  },
  {
   "cell_type": "code",
   "execution_count": 17,
   "metadata": {
    "collapsed": true
   },
   "outputs": [],
   "source": [
    "def lsfitRTs(rtots,parms,data,ligs):\n",
    "    datac = np.concatenate(data)\n",
    "    calc = lb.models.wymfunc(parms,ligs,rtots)\n",
    "    return (calc-datac)"
   ]
  },
  {
   "cell_type": "code",
   "execution_count": 20,
   "metadata": {
    "collapsed": false
   },
   "outputs": [
    {
     "data": {
      "text/plain": [
       "array([ 0.001 ,  0.0025,  0.005 ,  0.01  ,  0.025 ,  0.05  ])"
      ]
     },
     "execution_count": 20,
     "metadata": {},
     "output_type": "execute_result"
    }
   ],
   "source": [
    "dat1.rtot"
   ]
  },
  {
   "cell_type": "code",
   "execution_count": 44,
   "metadata": {
    "collapsed": true
   },
   "outputs": [],
   "source": [
    "guessRT = np.array([0.005,0.005,0.005,0.005,0.01,0.01])"
   ]
  },
  {
   "cell_type": "code",
   "execution_count": 58,
   "metadata": {
    "collapsed": false
   },
   "outputs": [],
   "source": [
    "gRT1 = np.abs(np.random.normal(0.01,0.01,6))\n",
    "gRT2 = np.abs(np.random.normal(0.01,0.01,6))\n",
    "gRT3 = np.abs(np.random.normal(0.01,0.01,6))"
   ]
  },
  {
   "cell_type": "code",
   "execution_count": 51,
   "metadata": {
    "collapsed": false
   },
   "outputs": [
    {
     "data": {
      "text/plain": [
       "array([ -6.19895553e-04,  -9.42571954e-04,  -2.28228257e-03,\n",
       "        -4.33882192e-03,  -6.51607800e-03,  -1.55056196e-02,\n",
       "        -2.53654307e-02,  -4.71627876e-02,  -5.41980973e-02,\n",
       "        -9.96842290e-02,   6.92535174e-03,  -1.99567806e-02,\n",
       "        -5.43425543e-02,  -2.78449465e-03,   4.13440918e-02,\n",
       "        -5.16730642e-03,   4.16042780e-02,   5.36564568e-03,\n",
       "        -2.92678984e-04,  -7.17705522e-05,  -1.61676366e-03,\n",
       "        -4.00714334e-03,  -2.68978505e-03,  -3.62413871e-03,\n",
       "        -3.10092738e-03,  -2.98904855e-02,  -1.94162429e-02,\n",
       "        -1.38586835e-02,   2.07219713e-03,   7.11749741e-02,\n",
       "        -8.59986758e-02,  -1.78085071e-02,  -5.57413264e-02,\n",
       "         5.06087853e-03,   2.59410282e-02,  -3.30912069e-02,\n",
       "         5.67093616e-05,  -2.41865897e-04,   4.65403809e-04,\n",
       "         4.33595297e-04,   3.98446566e-03,   5.10208479e-03,\n",
       "        -2.68729804e-03,   1.83427898e-02,  -5.30611577e-03,\n",
       "        -2.12977491e-02,  -2.99388628e-02,   3.54497145e-02,\n",
       "         3.54903441e-02,   9.85226125e-02,  -1.07037050e-01,\n",
       "        -1.88278003e-02,   4.67751482e-02,   2.64992430e-03,\n",
       "         1.09314549e-04,   4.24576936e-04,   8.20716486e-04,\n",
       "         2.27171271e-03,   2.87414440e-03,   8.29034457e-03,\n",
       "         1.79727445e-02,   2.11263579e-02,   3.44990395e-02,\n",
       "         7.45439496e-02,   6.64575353e-02,   5.77423760e-02,\n",
       "         2.54059316e-02,  -2.14881825e-02,  -9.91565916e-03,\n",
       "         1.21629225e-02,  -2.07631106e-04,   4.27693057e-04,\n",
       "         4.50882128e-04,   3.88370844e-04,   1.27154433e-03,\n",
       "         2.31380646e-03,   2.85678091e-03,   8.80942094e-03,\n",
       "         1.47824325e-02,   2.71651272e-02,   4.70560978e-02,\n",
       "         5.65233950e-02,   6.02670615e-02,   9.42895694e-02,\n",
       "         9.31455516e-02,   7.11895679e-02,  -6.59064866e-02,\n",
       "         7.79166567e-03,   3.23071719e-02,   1.02969101e-01,\n",
       "         4.03161258e-04,   8.12510479e-04,   2.08449722e-03,\n",
       "         4.08810445e-03,   7.56651518e-03,   1.12952163e-02,\n",
       "         2.60683963e-02,   3.55325054e-02,   8.67510658e-02,\n",
       "         7.60091596e-02,   1.50734085e-01,   1.56847266e-01,\n",
       "         8.02370515e-02,   1.03645322e-01,   4.24910254e-02,\n",
       "         1.88812682e-02,  -1.69300182e-02,  -2.12870795e-02])"
      ]
     },
     "execution_count": 51,
     "metadata": {},
     "output_type": "execute_result"
    }
   ],
   "source": [
    "lsfitRTs(guessRT,dat1.parms,dat1.meanset[0],dat1.ligs)"
   ]
  },
  {
   "cell_type": "code",
   "execution_count": 52,
   "metadata": {
    "collapsed": true
   },
   "outputs": [],
   "source": [
    "rtbnds = (tuple(1e-5 for i in range(6)),tuple(1e-1 for i in range(6)))"
   ]
  },
  {
   "cell_type": "code",
   "execution_count": 53,
   "metadata": {
    "collapsed": false
   },
   "outputs": [
    {
     "data": {
      "text/plain": [
       "((1e-05, 1e-05, 1e-05, 1e-05, 1e-05, 1e-05), (0.1, 0.1, 0.1, 0.1, 0.1, 0.1))"
      ]
     },
     "execution_count": 53,
     "metadata": {},
     "output_type": "execute_result"
    }
   ],
   "source": [
    "rtbnds"
   ]
  },
  {
   "cell_type": "code",
   "execution_count": 54,
   "metadata": {
    "collapsed": false
   },
   "outputs": [],
   "source": [
    "rt_solve = sp.optimize.least_squares(lsfitRTs,guessRT,args=(dat1.parms,dat1.meanset[0],dat1.ligs),bounds=rtbnds,ftol=1e-14,gtol=1e-14,xtol=1e-14,method='dogbox').x"
   ]
  },
  {
   "cell_type": "code",
   "execution_count": 55,
   "metadata": {
    "collapsed": false
   },
   "outputs": [
    {
     "data": {
      "text/plain": [
       "[<matplotlib.lines.Line2D at 0x113131978>]"
      ]
     },
     "execution_count": 55,
     "metadata": {},
     "output_type": "execute_result"
    },
    {
     "data": {
      "image/png": "[encoded data removed]",
      "text/plain": [
       "<matplotlib.figure.Figure at 0x113131550>"
      ]
     },
     "metadata": {},
     "output_type": "display_data"
    }
   ],
   "source": [
    "plt.plot(dat1.rtot,dat1.rtot,'.')\n",
    "plt.plot(dat1.rtot,rt_solve,'.')"
   ]
  },
  {
   "cell_type": "code",
   "execution_count": 56,
   "metadata": {
    "collapsed": false
   },
   "outputs": [
    {
     "data": {
      "text/plain": [
       "array([ 0.00050517,  0.00367086,  0.00520193,  0.01502149,  0.03780006,\n",
       "        0.08925475])"
      ]
     },
     "execution_count": 56,
     "metadata": {},
     "output_type": "execute_result"
    }
   ],
   "source": [
    "sp.optimize.least_squares(lsfitRTs,guessRT,args=(dat1.parms,dat1.meanset[0],dat1.ligs),bounds=rtbnds,ftol=1e-14,gtol=1e-14,xtol=1e-14,method='dogbox').x"
   ]
  },
  {
   "cell_type": "code",
   "execution_count": 57,
   "metadata": {
    "collapsed": false
   },
   "outputs": [
    {
     "data": {
      "text/plain": [
       "array([ 0.00050517,  0.00367086,  0.00520193,  0.01502149,  0.03780006,\n",
       "        0.08925475])"
      ]
     },
     "execution_count": 57,
     "metadata": {},
     "output_type": "execute_result"
    }
   ],
   "source": [
    "sp.optimize.least_squares(lsfitRTs,gRT1,args=(dat1.parms,dat1.meanset[0],dat1.ligs),bounds=rtbnds,ftol=1e-14,gtol=1e-14,xtol=1e-14,method='dogbox').x"
   ]
  },
  {
   "cell_type": "code",
   "execution_count": 59,
   "metadata": {
    "collapsed": false
   },
   "outputs": [
    {
     "data": {
      "text/plain": [
       "array([ 0.00050517,  0.00367086,  0.00520193,  0.01502149,  0.03780006,\n",
       "        0.08925475])"
      ]
     },
     "execution_count": 59,
     "metadata": {},
     "output_type": "execute_result"
    }
   ],
   "source": [
    "sp.optimize.least_squares(lsfitRTs,gRT2,args=(dat1.parms,dat1.meanset[0],dat1.ligs),bounds=rtbnds,ftol=1e-14,gtol=1e-14,xtol=1e-14,method='dogbox').x"
   ]
  },
  {
   "cell_type": "code",
   "execution_count": 60,
   "metadata": {
    "collapsed": false
   },
   "outputs": [
    {
     "data": {
      "text/plain": [
       "array([ 0.00050517,  0.00367086,  0.00520193,  0.01502149,  0.03780006,\n",
       "        0.08925475])"
      ]
     },
     "execution_count": 60,
     "metadata": {},
     "output_type": "execute_result"
    }
   ],
   "source": [
    "sp.optimize.least_squares(lsfitRTs,gRT3,args=(dat1.parms,dat1.meanset[0],dat1.ligs),bounds=rtbnds,ftol=1e-14,gtol=1e-14,xtol=1e-14,method='dogbox').x"
   ]
  },
  {
   "cell_type": "code",
   "execution_count": 61,
   "metadata": {
    "collapsed": false
   },
   "outputs": [
    {
     "data": {
      "text/plain": [
       "array([ 0.01606445,  0.01197917,  0.00583767,  0.01198029,  0.00720414,\n",
       "        0.00058532])"
      ]
     },
     "execution_count": 61,
     "metadata": {},
     "output_type": "execute_result"
    }
   ],
   "source": [
    "gRT1"
   ]
  },
  {
   "cell_type": "code",
   "execution_count": 62,
   "metadata": {
    "collapsed": false
   },
   "outputs": [
    {
     "data": {
      "text/plain": [
       "array([ 0.00346072,  0.00018189,  0.01017222,  0.01021183,  0.02430235,\n",
       "        0.00194335])"
      ]
     },
     "execution_count": 62,
     "metadata": {},
     "output_type": "execute_result"
    }
   ],
   "source": [
    "gRT2"
   ]
  },
  {
   "cell_type": "code",
   "execution_count": 63,
   "metadata": {
    "collapsed": false
   },
   "outputs": [
    {
     "data": {
      "text/plain": [
       "array([ 0.00172898,  0.02144104,  0.03777562,  0.00538541,  0.01358363,\n",
       "        0.00899015])"
      ]
     },
     "execution_count": 63,
     "metadata": {},
     "output_type": "execute_result"
    }
   ],
   "source": [
    "gRT3"
   ]
  },
  {
   "cell_type": "code",
   "execution_count": 64,
   "metadata": {
    "collapsed": true
   },
   "outputs": [],
   "source": [
    "parmsolve = sp.optimize.least_squares(lsfit,guess,args=(dat1.rtot,dat1.meanset[0],dat1.ligs),bounds=lsbnds,ftol=1e-14,gtol=1e-14,xtol=1e-14,method='trf').x"
   ]
  },
  {
   "cell_type": "code",
   "execution_count": 65,
   "metadata": {
    "collapsed": false
   },
   "outputs": [
    {
     "data": {
      "text/plain": [
       "array([  3.23767199e+00,   2.36856333e+00,   6.88362736e-02,\n",
       "         1.83363640e+02])"
      ]
     },
     "execution_count": 65,
     "metadata": {},
     "output_type": "execute_result"
    }
   ],
   "source": [
    "parmsolve"
   ]
  },
  {
   "cell_type": "code",
   "execution_count": 123,
   "metadata": {
    "collapsed": false
   },
   "outputs": [],
   "source": [
    "rtsolve_slvprm = sp.optimize.least_squares(lsfitRTs,gRT1,args=(parmsolve,dat1.meanset[0],dat1.ligs),bounds=rtbnds,ftol=1e-14,gtol=1e-14,xtol=1e-14,method='trf').x"
   ]
  },
  {
   "cell_type": "code",
   "execution_count": 124,
   "metadata": {
    "collapsed": false
   },
   "outputs": [
    {
     "data": {
      "text/plain": [
       "[<matplotlib.lines.Line2D at 0x113117f98>]"
      ]
     },
     "execution_count": 124,
     "metadata": {},
     "output_type": "execute_result"
    },
    {
     "data": {
      "image/png": "[encoded data removed]",
      "text/plain": [
       "<matplotlib.figure.Figure at 0x1130f3cf8>"
      ]
     },
     "metadata": {},
     "output_type": "display_data"
    }
   ],
   "source": [
    "plt.plot(dat1.rtot,dat1.rtot,'x')\n",
    "plt.plot(dat1.rtot,rt_solve,'.')\n",
    "plt.plot(dat1.rtot,rtsolve_slvprm,'*')"
   ]
  },
  {
   "cell_type": "code",
   "execution_count": 125,
   "metadata": {
    "collapsed": false
   },
   "outputs": [
    {
     "data": {
      "text/plain": [
       "array([  3.23767199e+00,   2.36856333e+00,   6.88362736e-02,\n",
       "         1.83363640e+02])"
      ]
     },
     "execution_count": 125,
     "metadata": {},
     "output_type": "execute_result"
    }
   ],
   "source": [
    "parmsolve"
   ]
  },
  {
   "cell_type": "code",
   "execution_count": 72,
   "metadata": {
    "collapsed": false
   },
   "outputs": [
    {
     "data": {
      "text/plain": [
       "array([ 0.00088578,  0.00304926,  0.00417917,  0.01021449,  0.02428285,\n",
       "        0.05256839])"
      ]
     },
     "execution_count": 72,
     "metadata": {},
     "output_type": "execute_result"
    }
   ],
   "source": [
    "rtsolve_slvprm"
   ]
  },
  {
   "cell_type": "code",
   "execution_count": 73,
   "metadata": {
    "collapsed": false
   },
   "outputs": [
    {
     "data": {
      "text/plain": [
       "array([ 0.001 ,  0.0025,  0.005 ,  0.01  ,  0.025 ,  0.05  ])"
      ]
     },
     "execution_count": 73,
     "metadata": {},
     "output_type": "execute_result"
    }
   ],
   "source": [
    "dat1.rtot"
   ]
  },
  {
   "cell_type": "code",
   "execution_count": 75,
   "metadata": {
    "collapsed": false
   },
   "outputs": [
    {
     "data": {
      "text/plain": [
       "array([ 0.11421519,  0.21970394,  0.16416648,  0.02144902,  0.02868616,\n",
       "        0.05136784])"
      ]
     },
     "execution_count": 75,
     "metadata": {},
     "output_type": "execute_result"
    }
   ],
   "source": [
    "np.abs((rtsolve_slvprm - dat1.rtot)/(dat1.rtot))"
   ]
  },
  {
   "cell_type": "code",
   "execution_count": 76,
   "metadata": {
    "collapsed": true
   },
   "outputs": [],
   "source": [
    "parmslv_from_rtsolve = sp.optimize.least_squares(lsfit,guess,args=(rtsolve_slvprm,dat1.meanset[0],dat1.ligs),bounds=lsbnds,ftol=1e-14,gtol=1e-14,xtol=1e-14,method='trf').x"
   ]
  },
  {
   "cell_type": "code",
   "execution_count": 77,
   "metadata": {
    "collapsed": false
   },
   "outputs": [
    {
     "data": {
      "text/plain": [
       "array([  3.26112177e+00,   2.38829372e+00,   8.38639145e-02,\n",
       "         1.95276274e+02])"
      ]
     },
     "execution_count": 77,
     "metadata": {},
     "output_type": "execute_result"
    }
   ],
   "source": [
    "parmslv_from_rtsolve"
   ]
  },
  {
   "cell_type": "code",
   "execution_count": 78,
   "metadata": {
    "collapsed": false
   },
   "outputs": [
    {
     "data": {
      "text/plain": [
       "array([  3.23767199e+00,   2.36856333e+00,   6.88362736e-02,\n",
       "         1.83363640e+02])"
      ]
     },
     "execution_count": 78,
     "metadata": {},
     "output_type": "execute_result"
    }
   ],
   "source": [
    "parmsolve"
   ]
  },
  {
   "cell_type": "code",
   "execution_count": 80,
   "metadata": {
    "collapsed": true
   },
   "outputs": [],
   "source": [
    "g1 = np.abs(np.random.normal(1.,10.,4))\n",
    "g2 = np.abs(np.random.normal(1.,10.,4))\n",
    "g3 = np.abs(np.random.normal(1.,10.,4))"
   ]
  },
  {
   "cell_type": "code",
   "execution_count": 81,
   "metadata": {
    "collapsed": false
   },
   "outputs": [
    {
     "data": {
      "text/plain": [
       "array([  3.26112189e+00,   2.38829372e+00,   8.38639354e-02,\n",
       "         1.95276314e+02])"
      ]
     },
     "execution_count": 81,
     "metadata": {},
     "output_type": "execute_result"
    }
   ],
   "source": [
    "sp.optimize.least_squares(lsfit,g1,args=(rtsolve_slvprm,dat1.meanset[0],dat1.ligs),bounds=lsbnds,ftol=1e-14,gtol=1e-14,xtol=1e-14,method='trf').x"
   ]
  },
  {
   "cell_type": "code",
   "execution_count": 82,
   "metadata": {
    "collapsed": false
   },
   "outputs": [
    {
     "data": {
      "text/plain": [
       "array([  3.26112212e+00,   2.38829386e+00,   8.38639718e-02,\n",
       "         1.95276380e+02])"
      ]
     },
     "execution_count": 82,
     "metadata": {},
     "output_type": "execute_result"
    }
   ],
   "source": [
    "sp.optimize.least_squares(lsfit,g2,args=(rtsolve_slvprm,dat1.meanset[0],dat1.ligs),bounds=lsbnds,ftol=1e-14,gtol=1e-14,xtol=1e-14,method='trf').x"
   ]
  },
  {
   "cell_type": "code",
   "execution_count": 83,
   "metadata": {
    "collapsed": false
   },
   "outputs": [
    {
     "data": {
      "text/plain": [
       "array([  3.26112187e+00,   2.38829363e+00,   8.38639178e-02,\n",
       "         1.95276303e+02])"
      ]
     },
     "execution_count": 83,
     "metadata": {},
     "output_type": "execute_result"
    }
   ],
   "source": [
    "sp.optimize.least_squares(lsfit,g3,args=(rtsolve_slvprm,dat1.meanset[0],dat1.ligs),bounds=lsbnds,ftol=1e-14,gtol=1e-14,xtol=1e-14,method='trf').x"
   ]
  },
  {
   "cell_type": "code",
   "execution_count": 93,
   "metadata": {
    "collapsed": false
   },
   "outputs": [
    {
     "data": {
      "text/plain": [
       "array([  8.74144979e+00,   2.88625330e+01,   3.15791234e-01,\n",
       "         1.58809988e+03])"
      ]
     },
     "execution_count": 93,
     "metadata": {},
     "output_type": "execute_result"
    }
   ],
   "source": [
    "prmstrt = np.array([10.,10.,1.,1000.])\n",
    "devs = np.array([10.,10.,1.,1000.])\n",
    "np.abs(np.random.normal(prmstrt,devs))"
   ]
  },
  {
   "cell_type": "code",
   "execution_count": 94,
   "metadata": {
    "collapsed": true
   },
   "outputs": [],
   "source": [
    "parmset = [np.abs(np.random.normal(prmstrt,devs)) for i in range(10000)]"
   ]
  },
  {
   "cell_type": "code",
   "execution_count": 95,
   "metadata": {
    "collapsed": true
   },
   "outputs": [],
   "source": [
    "datset = [lb.WymSim(sets=1,reps=1,parms=i) for i in parmset]"
   ]
  },
  {
   "cell_type": "code",
   "execution_count": 98,
   "metadata": {
    "collapsed": false
   },
   "outputs": [],
   "source": [
    "known_rtot = datset[1].rtot"
   ]
  },
  {
   "cell_type": "code",
   "execution_count": 101,
   "metadata": {
    "collapsed": false
   },
   "outputs": [],
   "source": [
    "known_ligs = datset[1].ligs"
   ]
  },
  {
   "cell_type": "code",
   "execution_count": 102,
   "metadata": {
    "collapsed": true
   },
   "outputs": [],
   "source": [
    "prmsols = [sp.optimize.least_squares(lsfit,guess,args=(known_rtot,i.meanset[0],known_ligs),bounds=lsbnds,ftol=1e-14,gtol=1e-14,xtol=1e-14,method='trf').x for i in datset]"
   ]
  },
  {
   "cell_type": "code",
   "execution_count": 103,
   "metadata": {
    "collapsed": false
   },
   "outputs": [
    {
     "ename": "TypeError",
     "evalue": "unsupported operand type(s) for -: 'list' and 'list'",
     "output_type": "error",
     "traceback": [
      "\u001b[0;31m---------------------------------------------------------------------------\u001b[0m",
      "\u001b[0;31mTypeError\u001b[0m                                 Traceback (most recent call last)",
      "\u001b[0;32m<ipython-input-103-79ed53d827f3>\u001b[0m in \u001b[0;36m<module>\u001b[0;34m()\u001b[0m\n\u001b[0;32m----> 1\u001b[0;31m \u001b[0mnp\u001b[0m\u001b[0;34m.\u001b[0m\u001b[0mabs\u001b[0m\u001b[0;34m(\u001b[0m\u001b[0mprmsols\u001b[0m\u001b[0;34m-\u001b[0m\u001b[0mparmset\u001b[0m\u001b[0;34m)\u001b[0m\u001b[0;34m/\u001b[0m\u001b[0mparmset\u001b[0m\u001b[0;34m\u001b[0m\u001b[0m\n\u001b[0m",
      "\u001b[0;31mTypeError\u001b[0m: unsupported operand type(s) for -: 'list' and 'list'"
     ]
    }
   ],
   "source": [
    "np.abs(prmsols-parmset)/parmset"
   ]
  },
  {
   "cell_type": "code",
   "execution_count": 112,
   "metadata": {
    "collapsed": false
   },
   "outputs": [],
   "source": [
    "pcts = np.abs(np.array(prmsols)-np.array(parmset))/np.array(parmset)"
   ]
  },
  {
   "cell_type": "code",
   "execution_count": 116,
   "metadata": {
    "collapsed": false
   },
   "outputs": [
    {
     "data": {
      "text/plain": [
       "{'boxes': [<matplotlib.lines.Line2D at 0x1130d3b00>],\n",
       " 'caps': [<matplotlib.lines.Line2D at 0x112f97b70>,\n",
       "  <matplotlib.lines.Line2D at 0x112f9bc88>],\n",
       " 'fliers': [],\n",
       " 'means': [],\n",
       " 'medians': [<matplotlib.lines.Line2D at 0x112f9b9b0>],\n",
       " 'whiskers': [<matplotlib.lines.Line2D at 0x1128ad5f8>,\n",
       "  <matplotlib.lines.Line2D at 0x112f97128>]}"
      ]
     },
     "execution_count": 116,
     "metadata": {},
     "output_type": "execute_result"
    },
    {
     "data": {
      "image/png": "[encoded data removed]",
      "text/plain": [
       "<matplotlib.figure.Figure at 0x1130d5278>"
      ]
     },
     "metadata": {},
     "output_type": "display_data"
    }
   ],
   "source": [
    "plt.boxplot(pcts[:,2],showfliers=False)"
   ]
  },
  {
   "cell_type": "code",
   "execution_count": 118,
   "metadata": {
    "collapsed": false
   },
   "outputs": [
    {
     "data": {
      "text/plain": [
       "array([ 0.11792567,  0.07333131,  0.17425526,  0.46119754])"
      ]
     },
     "execution_count": 118,
     "metadata": {},
     "output_type": "execute_result"
    }
   ],
   "source": [
    "np.median(pcts,axis=0)"
   ]
  },
  {
   "cell_type": "code",
   "execution_count": 120,
   "metadata": {
    "collapsed": false
   },
   "outputs": [],
   "source": [
    "tiles = np.percentile(pcts, [16, 50, 84], axis=0)"
   ]
  },
  {
   "cell_type": "code",
   "execution_count": 121,
   "metadata": {
    "collapsed": false
   },
   "outputs": [
    {
     "data": {
      "text/plain": [
       "array([[ 0.03485227,  0.0207845 ,  0.04599493,  0.16371403],\n",
       "       [ 0.11792567,  0.07333131,  0.17425526,  0.46119754],\n",
       "       [ 0.25930668,  0.2051277 ,  0.65556563,  0.78072008]])"
      ]
     },
     "execution_count": 121,
     "metadata": {},
     "output_type": "execute_result"
    }
   ],
   "source": [
    "tiles"
   ]
  },
  {
   "cell_type": "code",
   "execution_count": 122,
   "metadata": {
    "collapsed": false
   },
   "outputs": [
    {
     "data": {
      "text/plain": [
       "0.05"
      ]
     },
     "execution_count": 122,
     "metadata": {},
     "output_type": "execute_result"
    }
   ],
   "source": [
    "datset[0].noise"
   ]
  },
  {
   "cell_type": "code",
   "execution_count": 131,
   "metadata": {
    "collapsed": false
   },
   "outputs": [],
   "source": [
    "rtslv_from_prmsols = [sp.optimize.least_squares(lsfitRTs,gRT1,args=(prmsols[i],datset[i].meanset[0],known_ligs),bounds=rtbnds,ftol=1e-14,gtol=1e-14,xtol=1e-14,method='trf').x for i in range(len(prmsols))]"
   ]
  },
  {
   "cell_type": "code",
   "execution_count": null,
   "metadata": {
    "collapsed": true
   },
   "outputs": [],
   "source": []
  },
  {
   "cell_type": "code",
   "execution_count": 148,
   "metadata": {
    "collapsed": false
   },
   "outputs": [],
   "source": [
    "rt_pcts = np.abs((np.array(rtslv_from_prmsols)-known_rtot))/known_rtot"
   ]
  },
  {
   "cell_type": "code",
   "execution_count": 149,
   "metadata": {
    "collapsed": false
   },
   "outputs": [
    {
     "data": {
      "text/plain": [
       "array([ 0.0125435 ,  0.14354894,  0.2966992 ,  0.00409061,  0.36753618,\n",
       "        0.56681731])"
      ]
     },
     "execution_count": 149,
     "metadata": {},
     "output_type": "execute_result"
    }
   ],
   "source": [
    "rt_pcts[0]"
   ]
  },
  {
   "cell_type": "code",
   "execution_count": 134,
   "metadata": {
    "collapsed": true
   },
   "outputs": [],
   "source": [
    "rt_tiles = np.percentile(rt_pcts, [16, 50, 84], axis=0)"
   ]
  },
  {
   "cell_type": "code",
   "execution_count": 154,
   "metadata": {
    "collapsed": false
   },
   "outputs": [
    {
     "data": {
      "text/plain": [
       "array([ 5.39885915,  4.97024507,  4.72669991,  4.54418085,  4.1412549 ,\n",
       "        4.96258566])"
      ]
     },
     "execution_count": 154,
     "metadata": {},
     "output_type": "execute_result"
    }
   ],
   "source": [
    "1/rt_tiles[1,:]"
   ]
  },
  {
   "cell_type": "code",
   "execution_count": 147,
   "metadata": {
    "collapsed": false
   },
   "outputs": [
    {
     "data": {
      "text/plain": [
       "0.8999999999999999"
      ]
     },
     "execution_count": 147,
     "metadata": {},
     "output_type": "execute_result"
    }
   ],
   "source": [
    "0.045/0.05"
   ]
  },
  {
   "cell_type": "code",
   "execution_count": null,
   "metadata": {
    "collapsed": true
   },
   "outputs": [],
   "source": []
  }
 ],
 "metadata": {
  "anaconda-cloud": {},
  "kernelspec": {
   "display_name": "Python [conda env:fitter]",
   "language": "python",
   "name": "conda-env-fitter-py"
  },
  "language_info": {
   "codemirror_mode": {
    "name": "ipython",
    "version": 3
   },
   "file_extension": ".py",
   "mimetype": "text/x-python",
   "name": "python",
   "nbconvert_exporter": "python",
   "pygments_lexer": "ipython3",
   "version": "3.5.2"
  }
 },
 "nbformat": 4,
 "nbformat_minor": 1
}

{
 "cells": [
  {
   "cell_type": "code",
   "execution_count": 1,
   "metadata": {
    "collapsed": true
   },
   "outputs": [],
   "source": [
    "import math\n",
    "import numpy as np\n",
    "from scipy import optimize"
   ]
  },
  {
   "cell_type": "code",
   "execution_count": 2,
   "metadata": {
    "collapsed": true
   },
   "outputs": [],
   "source": [
    "def wymsol(var,parms,rtot,ltot):\n",
    "    \n",
    "    k11 = parm[0]\n",
    "    k21 = parm[1]\n",
    "    k22 = parm[2]\n",
    "    l20 = parm[3]\n",
    "    \n",
    "    (L, M, MM, ML, MML, MMLL) = var\n",
    "    \n",
    "    eq1 = M + 2*MM + ML + 2*MML + 2*MMLL - rtot\n",
    "    eq2 = L + ML + MML + 2*MMLL - ltot\n",
    "    eq3 = l20 * M**2 - MM\n",
    "    eq4 = k11 * L * M - ML\n",
    "    eq5 = l20 * k21 * M**2 * L - MML\n",
    "    eq6 = l20 * k21 * k22 * M**2 * L**2 - MMLL\n",
    "    \n",
    "    return np.array([eq1,eq2,eq3,eq4,eq5,eq6])"
   ]
  },
  {
   "cell_type": "code",
   "execution_count": 3,
   "metadata": {
    "collapsed": true
   },
   "outputs": [],
   "source": [
    "guess = (1.,1.,1.,1.,1.,1.)"
   ]
  },
  {
   "cell_type": "code",
   "execution_count": 4,
   "metadata": {
    "collapsed": true
   },
   "outputs": [],
   "source": [
    "parm = np.array([3.914,2.951,0.1136,313.9])"
   ]
  },
  {
   "cell_type": "code",
   "execution_count": 5,
   "metadata": {
    "collapsed": true
   },
   "outputs": [],
   "source": [
    "lig = np.array([0.01, 0.02, 0.03, 0.05, 0.08, 0.1, 0.2, 0.3, 0.5, 0.8, 1.0, 2.0, 3.0, 5.0, 8.0, 10.0])"
   ]
  },
  {
   "cell_type": "code",
   "execution_count": 6,
   "metadata": {
    "collapsed": true
   },
   "outputs": [],
   "source": [
    "res = np.array([optimize.root(wymsol,guess,args=(parm,1.0,i),method='lm').x for i in lig])"
   ]
  },
  {
   "cell_type": "code",
   "execution_count": 7,
   "metadata": {
    "collapsed": false
   },
   "outputs": [
    {
     "data": {
      "text/plain": [
       "array([ 0.03889071,  0.03866007,  0.03843033,  0.03797364,  0.03729592,\n",
       "        0.03684927,  0.03468443,  0.03264705,  0.02900043,  0.02460532,\n",
       "        0.02229869,  0.01528137,  0.01178744,  0.00823574,  0.00575232,\n",
       "        0.00480604])"
      ]
     },
     "execution_count": 7,
     "metadata": {},
     "output_type": "execute_result"
    }
   ],
   "source": [
    "res[:,1]"
   ]
  },
  {
   "cell_type": "code",
   "execution_count": 44,
   "metadata": {
    "collapsed": false
   },
   "outputs": [],
   "source": [
    "def frax(res):\n",
    "    L = res[:,0]\n",
    "    M = res[:,1]\n",
    "    MM = res[:,2]\n",
    "    ML = res[:,3]\n",
    "    MML = res[:,4]\n",
    "    MMLL = res[:,5]\n",
    "    \n",
    "    Mfree = M + 2*MM\n",
    "    \n",
    "    Mtot = M + ML + 2*MM + 2*MML + 2*MMLL\n",
    "    \n",
    "    Ltot = L + ML + MML + 2*MMLL\n",
    "    \n",
    "    Mbound = ML + 2*MML + 2*MMLL\n",
    "    \n",
    "    Lbound = ML + MML + 2*MMLL\n",
    "    \n",
    "    Lfree_check = Ltot - Lbound\n",
    "    \n",
    "    Mfree_check = Mtot - Mbound\n",
    "    \n",
    "    Monomer = M + ML\n",
    "    \n",
    "    Dimer = 2*MM + 2*MML + 2*MMLL #quantified as monomer, i.e., [MM] = 2[M]\n",
    "    \n",
    "    Monfrac = Monomer/Mtot\n",
    "    \n",
    "    Dimfrac = Dimer/Mtot\n",
    "    \n",
    "    Mon_bfrac = ML/Monomer\n",
    "    \n",
    "    Dim_bfrac = (MML + 2*MMLL)/Dimer\n",
    "    \n",
    "    \n",
    "    return np.array([L, Ltot, Lbound/Mtot])"
   ]
  },
  {
   "cell_type": "code",
   "execution_count": 40,
   "metadata": {
    "collapsed": false
   },
   "outputs": [
    {
     "data": {
      "text/plain": [
       "array([ 0.00608535,  0.01212062,  0.01810555,  0.02992347,  0.04726751,\n",
       "        0.05857303,  0.11198767,  0.1602331 ,  0.24203215,  0.33393615,\n",
       "        0.37994469,  0.5174091 ,  0.5909201 ,  0.67760667,  0.75129343,\n",
       "        0.78349592])"
      ]
     },
     "execution_count": 40,
     "metadata": {},
     "output_type": "execute_result"
    }
   ],
   "source": [
    "frax(res)"
   ]
  },
  {
   "cell_type": "code",
   "execution_count": 10,
   "metadata": {
    "collapsed": true
   },
   "outputs": [],
   "source": [
    "lfree = res[:,0]"
   ]
  },
  {
   "cell_type": "code",
   "execution_count": 11,
   "metadata": {
    "collapsed": false
   },
   "outputs": [
    {
     "data": {
      "text/plain": [
       "array([  3.91464565e-03,   7.87937893e-03,   1.18944500e-02,\n",
       "         2.00765260e-02,   3.27324880e-02,   4.14269692e-02,\n",
       "         8.80123268e-02,   1.39766903e-01,   2.57967849e-01,\n",
       "         4.66063847e-01,   6.20055307e-01,   1.48259090e+00,\n",
       "         2.40907990e+00,   4.32239333e+00,   7.24870657e+00,\n",
       "         9.21650408e+00])"
      ]
     },
     "execution_count": 11,
     "metadata": {},
     "output_type": "execute_result"
    }
   ],
   "source": [
    "lfree"
   ]
  },
  {
   "cell_type": "code",
   "execution_count": 12,
   "metadata": {
    "collapsed": true
   },
   "outputs": [],
   "source": [
    "import sys"
   ]
  },
  {
   "cell_type": "code",
   "execution_count": 13,
   "metadata": {
    "collapsed": true
   },
   "outputs": [],
   "source": [
    "sys.path.append('ligbind/')"
   ]
  },
  {
   "cell_type": "code",
   "execution_count": 14,
   "metadata": {
    "collapsed": true
   },
   "outputs": [],
   "source": [
    "import ligbind"
   ]
  },
  {
   "cell_type": "code",
   "execution_count": 19,
   "metadata": {
    "collapsed": false
   },
   "outputs": [],
   "source": [
    "a = ligbind.core.WymSim_Hardlig(np.array(lfree),parms=parm,rtot=np.array([1.]),sets=1)"
   ]
  },
  {
   "cell_type": "code",
   "execution_count": 21,
   "metadata": {
    "collapsed": false
   },
   "outputs": [
    {
     "data": {
      "text/plain": [
       "array([  3.91400000e+00,   2.95100000e+00,   1.13600000e-01,\n",
       "         3.13900000e+02])"
      ]
     },
     "execution_count": 21,
     "metadata": {},
     "output_type": "execute_result"
    }
   ],
   "source": [
    "parm"
   ]
  },
  {
   "cell_type": "code",
   "execution_count": 59,
   "metadata": {
    "collapsed": true
   },
   "outputs": [],
   "source": [
    "%load_ext autoreload"
   ]
  },
  {
   "cell_type": "code",
   "execution_count": 60,
   "metadata": {
    "collapsed": true
   },
   "outputs": [],
   "source": [
    "autoreload"
   ]
  },
  {
   "cell_type": "code",
   "execution_count": 22,
   "metadata": {
    "collapsed": false
   },
   "outputs": [
    {
     "data": {
      "text/plain": [
       "array([  3.91464565e-03,   7.87937893e-03,   1.18944500e-02,\n",
       "         2.00765260e-02,   3.27324880e-02,   4.14269692e-02,\n",
       "         8.80123268e-02,   1.39766903e-01,   2.57967849e-01,\n",
       "         4.66063847e-01,   6.20055307e-01,   1.48259090e+00,\n",
       "         2.40907990e+00,   4.32239333e+00,   7.24870657e+00,\n",
       "         9.21650408e+00])"
      ]
     },
     "execution_count": 22,
     "metadata": {},
     "output_type": "execute_result"
    }
   ],
   "source": [
    "lfree"
   ]
  },
  {
   "cell_type": "code",
   "execution_count": 26,
   "metadata": {
    "collapsed": false
   },
   "outputs": [],
   "source": [
    "liggys = np.array([lfree for i in range(3)])"
   ]
  },
  {
   "cell_type": "code",
   "execution_count": 33,
   "metadata": {
    "collapsed": true
   },
   "outputs": [],
   "source": [
    "rtots = np.array([0.01,0.1,1.0])"
   ]
  },
  {
   "cell_type": "code",
   "execution_count": 35,
   "metadata": {
    "collapsed": false
   },
   "outputs": [
    {
     "data": {
      "text/plain": [
       "array([  3.91400000e+00,   2.95100000e+00,   1.13600000e-01,\n",
       "         3.13900000e+02])"
      ]
     },
     "execution_count": 35,
     "metadata": {},
     "output_type": "execute_result"
    }
   ],
   "source": [
    "parm"
   ]
  },
  {
   "cell_type": "code",
   "execution_count": 36,
   "metadata": {
    "collapsed": true
   },
   "outputs": [],
   "source": [
    "a = ligbind.core.WymSim_Hardlig(liggys,rtot=rtots,parms=parm,reps=1)"
   ]
  },
  {
   "cell_type": "code",
   "execution_count": 37,
   "metadata": {
    "collapsed": false
   },
   "outputs": [
    {
     "data": {
      "text/plain": [
       "<ligbind.core.WymSim_Hardlig at 0x10ae25ba8>"
      ]
     },
     "execution_count": 37,
     "metadata": {},
     "output_type": "execute_result"
    }
   ],
   "source": [
    "a"
   ]
  },
  {
   "cell_type": "code",
   "execution_count": 38,
   "metadata": {
    "collapsed": false
   },
   "outputs": [
    {
     "data": {
      "text/plain": [
       "array([[ 0.00880749,  0.01754174,  0.02620242,  0.04330187,  0.06839222,\n",
       "         0.08474395,  0.16196353,  0.23163886,  0.34943417,  0.48035815,\n",
       "         0.54454526,  0.72186274,  0.80005658,  0.87185265,  0.91669863,\n",
       "         0.93247488],\n",
       "       [ 0.006836  ,  0.01361745,  0.02034409,  0.03363184,  0.05314621,\n",
       "         0.06587534,  0.12612092,  0.18070477,  0.27367899,  0.37880929,\n",
       "         0.4316192 ,  0.58790411,  0.6676447 ,  0.75454547,  0.82104139,\n",
       "         0.84796005],\n",
       "       [ 0.00608535,  0.01212062,  0.01810555,  0.02992347,  0.04726751,\n",
       "         0.05857303,  0.11198767,  0.1602331 ,  0.24203215,  0.33393615,\n",
       "         0.37994469,  0.5174091 ,  0.5909201 ,  0.67760667,  0.75129343,\n",
       "         0.78349592]])"
      ]
     },
     "execution_count": 38,
     "metadata": {},
     "output_type": "execute_result"
    }
   ],
   "source": [
    "a.bfrac"
   ]
  },
  {
   "cell_type": "code",
   "execution_count": 46,
   "metadata": {
    "collapsed": false
   },
   "outputs": [],
   "source": [
    "ressy = frax(res)"
   ]
  },
  {
   "cell_type": "code",
   "execution_count": 47,
   "metadata": {
    "collapsed": false
   },
   "outputs": [
    {
     "data": {
      "text/plain": [
       "array([  0.01,   0.02,   0.03,   0.05,   0.08,   0.1 ,   0.2 ,   0.3 ,\n",
       "         0.5 ,   0.8 ,   1.  ,   2.  ,   3.  ,   5.  ,   8.  ,  10.  ])"
      ]
     },
     "execution_count": 47,
     "metadata": {},
     "output_type": "execute_result"
    }
   ],
   "source": [
    "ressy[1]"
   ]
  },
  {
   "cell_type": "code",
   "execution_count": 48,
   "metadata": {
    "collapsed": true
   },
   "outputs": [],
   "source": [
    "import matplotlib.pyplot as plt\n",
    "%matplotlib inline"
   ]
  },
  {
   "cell_type": "code",
   "execution_count": 55,
   "metadata": {
    "collapsed": false
   },
   "outputs": [
    {
     "data": {
      "text/plain": [
       "[<matplotlib.lines.Line2D at 0x10f6524e0>]"
      ]
     },
     "execution_count": 55,
     "metadata": {},
     "output_type": "execute_result"
    },
    {
     "data": {
      "image/png": "[encoded data removed]",
      "text/plain": [
       "<matplotlib.figure.Figure at 0x10f39c320>"
      ]
     },
     "metadata": {},
     "output_type": "display_data"
    }
   ],
   "source": [
    "plt.semilogx(ressy[0],ressy[2],'o')\n",
    "plt.semilogx(ressy[1],ressy[2],'o',color='red')\n",
    "plt.semilogx(ressy[0],a.meanset[0][2],'x')"
   ]
  },
  {
   "cell_type": "code",
   "execution_count": 54,
   "metadata": {
    "collapsed": false
   },
   "outputs": [
    {
     "data": {
      "text/plain": [
       "array([ 0.00617931,  0.01183374,  0.02014432,  0.02913392,  0.05210293,\n",
       "        0.05709821,  0.11445237,  0.15030526,  0.24188644,  0.31887153,\n",
       "        0.36695615,  0.50524493,  0.55108215,  0.66418243,  0.73345975,\n",
       "        0.8046409 ])"
      ]
     },
     "execution_count": 54,
     "metadata": {},
     "output_type": "execute_result"
    }
   ],
   "source": [
    "a.meanset[0][2]"
   ]
  },
  {
   "cell_type": "code",
   "execution_count": 65,
   "metadata": {
    "collapsed": true
   },
   "outputs": [],
   "source": [
    "def lsfit(parmguess,lig,rtot,data):\n",
    "    datac = np.concatenate(data)\n",
    "    return (ligbind.models.wymfunc(parmguess,lig,rtot) - datac)"
   ]
  },
  {
   "cell_type": "code",
   "execution_count": 58,
   "metadata": {
    "collapsed": false
   },
   "outputs": [
    {
     "data": {
      "text/plain": [
       "array([  3.91400000e+00,   2.95100000e+00,   1.13600000e-01,\n",
       "         3.13900000e+02])"
      ]
     },
     "execution_count": 58,
     "metadata": {},
     "output_type": "execute_result"
    }
   ],
   "source": [
    "parm"
   ]
  },
  {
   "cell_type": "code",
   "execution_count": 59,
   "metadata": {
    "collapsed": true
   },
   "outputs": [],
   "source": [
    "parmguess = np.array([4,2,0.4,500.])"
   ]
  },
  {
   "cell_type": "code",
   "execution_count": 66,
   "metadata": {
    "collapsed": false
   },
   "outputs": [
    {
     "data": {
      "text/plain": [
       "array([-0.00176805, -0.00346916, -0.0051043 , -0.00818061, -0.01232556,\n",
       "       -0.01478824, -0.02383137, -0.02828194, -0.02792643, -0.01721674,\n",
       "       -0.00908203,  0.01458899,  0.02045638,  0.02009054,  0.01617517,\n",
       "        0.01403239, -0.00183155, -0.00359964, -0.00530482, -0.00852875,\n",
       "       -0.01290797, -0.01553087, -0.02531709, -0.03019802, -0.02905624,\n",
       "       -0.01290914,  0.00065132,  0.05093133,  0.07120936,  0.07868386,\n",
       "        0.07133594,  0.06510876, -0.00182627, -0.00359053, -0.00529319,\n",
       "       -0.00851546, -0.01289859, -0.01552675, -0.02533231, -0.03013669,\n",
       "       -0.02823326, -0.00911067,  0.00738092,  0.07417621,  0.10608911,\n",
       "        0.12375682,  0.1182583 ,  0.11046834])"
      ]
     },
     "execution_count": 66,
     "metadata": {},
     "output_type": "execute_result"
    }
   ],
   "source": [
    "lsfit(parmguess,a.ligs,rtots,a.bfrac)"
   ]
  },
  {
   "cell_type": "code",
   "execution_count": 68,
   "metadata": {
    "collapsed": true
   },
   "outputs": [],
   "source": [
    "from mods import prep, plotter"
   ]
  },
  {
   "cell_type": "code",
   "execution_count": 70,
   "metadata": {
    "collapsed": false
   },
   "outputs": [
    {
     "data": {
      "image/png": "[encoded data removed]",
      "text/plain": [
       "<matplotlib.figure.Figure at 0x10f3bf438>"
      ]
     },
     "metadata": {},
     "output_type": "display_data"
    }
   ],
   "source": [
    "plotter.semlog(a.ligs,a.bfrac,'.')"
   ]
  },
  {
   "cell_type": "code",
   "execution_count": 71,
   "metadata": {
    "collapsed": false
   },
   "outputs": [
    {
     "data": {
      "text/plain": [
       "array([[  3.91464565e-03,   7.87937893e-03,   1.18944500e-02,\n",
       "          2.00765260e-02,   3.27324880e-02,   4.14269692e-02,\n",
       "          8.80123268e-02,   1.39766903e-01,   2.57967849e-01,\n",
       "          4.66063847e-01,   6.20055307e-01,   1.48259090e+00,\n",
       "          2.40907990e+00,   4.32239333e+00,   7.24870657e+00,\n",
       "          9.21650408e+00],\n",
       "       [  3.91464565e-03,   7.87937893e-03,   1.18944500e-02,\n",
       "          2.00765260e-02,   3.27324880e-02,   4.14269692e-02,\n",
       "          8.80123268e-02,   1.39766903e-01,   2.57967849e-01,\n",
       "          4.66063847e-01,   6.20055307e-01,   1.48259090e+00,\n",
       "          2.40907990e+00,   4.32239333e+00,   7.24870657e+00,\n",
       "          9.21650408e+00],\n",
       "       [  3.91464565e-03,   7.87937893e-03,   1.18944500e-02,\n",
       "          2.00765260e-02,   3.27324880e-02,   4.14269692e-02,\n",
       "          8.80123268e-02,   1.39766903e-01,   2.57967849e-01,\n",
       "          4.66063847e-01,   6.20055307e-01,   1.48259090e+00,\n",
       "          2.40907990e+00,   4.32239333e+00,   7.24870657e+00,\n",
       "          9.21650408e+00]])"
      ]
     },
     "execution_count": 71,
     "metadata": {},
     "output_type": "execute_result"
    }
   ],
   "source": [
    "a.ligs"
   ]
  },
  {
   "cell_type": "code",
   "execution_count": 76,
   "metadata": {
    "collapsed": false
   },
   "outputs": [],
   "source": [
    "totligs = np.array([ressy[1] for i in range(3)])"
   ]
  },
  {
   "cell_type": "code",
   "execution_count": 78,
   "metadata": {
    "collapsed": false
   },
   "outputs": [
    {
     "data": {
      "image/png": "[encoded data removed]",
      "text/plain": [
       "<matplotlib.figure.Figure at 0x111470358>"
      ]
     },
     "metadata": {},
     "output_type": "display_data"
    }
   ],
   "source": [
    "plotter.semlog(a.ligs,a.bfrac,'.')\n",
    "plotter.semlog(totligs,a.bfrac,'x')"
   ]
  },
  {
   "cell_type": "code",
   "execution_count": 79,
   "metadata": {
    "collapsed": true
   },
   "outputs": [],
   "source": [
    "bndsls = ((0.,0.,0.,0.,),(10.,10.,10.,1000.))"
   ]
  },
  {
   "cell_type": "code",
   "execution_count": 80,
   "metadata": {
    "collapsed": false
   },
   "outputs": [
    {
     "data": {
      "text/plain": [
       "array([  4.00000000e+00,   2.00000000e+00,   4.00000000e-01,\n",
       "         5.00000000e+02])"
      ]
     },
     "execution_count": 80,
     "metadata": {},
     "output_type": "execute_result"
    }
   ],
   "source": [
    "parmguess"
   ]
  },
  {
   "cell_type": "code",
   "execution_count": 81,
   "metadata": {
    "collapsed": true
   },
   "outputs": [],
   "source": [
    "lsres = optimize.least_squares(lsfit,parmguess,bounds=bndsls,args=(a.ligs,rtots,a.bfrac))"
   ]
  },
  {
   "cell_type": "code",
   "execution_count": 82,
   "metadata": {
    "collapsed": false
   },
   "outputs": [
    {
     "data": {
      "text/plain": [
       "array([  3.91400000e+00,   2.95100000e+00,   1.13600000e-01,\n",
       "         3.13900000e+02])"
      ]
     },
     "execution_count": 82,
     "metadata": {},
     "output_type": "execute_result"
    }
   ],
   "source": [
    "lsres.x"
   ]
  },
  {
   "cell_type": "code",
   "execution_count": 84,
   "metadata": {
    "collapsed": false
   },
   "outputs": [
    {
     "data": {
      "text/plain": [
       "array([  3.91400000e+00,   2.95100000e+00,   1.13600000e-01,\n",
       "         3.13900000e+02])"
      ]
     },
     "execution_count": 84,
     "metadata": {},
     "output_type": "execute_result"
    }
   ],
   "source": [
    "parm"
   ]
  },
  {
   "cell_type": "code",
   "execution_count": 85,
   "metadata": {
    "collapsed": true
   },
   "outputs": [],
   "source": [
    "lsres_totlig = optimize.least_squares(lsfit,parmguess,bounds=bndsls,args=(totligs,rtots,a.bfrac))"
   ]
  },
  {
   "cell_type": "code",
   "execution_count": 86,
   "metadata": {
    "collapsed": false
   },
   "outputs": [
    {
     "data": {
      "text/plain": [
       "array([  1.63913086,   1.20898203,   0.12877072,  79.91174973])"
      ]
     },
     "execution_count": 86,
     "metadata": {},
     "output_type": "execute_result"
    }
   ],
   "source": [
    "lsres_totlig.x"
   ]
  },
  {
   "cell_type": "code",
   "execution_count": 88,
   "metadata": {
    "collapsed": false
   },
   "outputs": [],
   "source": [
    "res_mult = np.array([[optimize.root(wymsol,guess,args=(parm,j,i),method='lm').x for i in lig] for j in rtots])"
   ]
  },
  {
   "cell_type": "code",
   "execution_count": 93,
   "metadata": {
    "collapsed": false
   },
   "outputs": [
    {
     "data": {
      "text/plain": [
       "array([  3.91464565e-03,   7.87937893e-03,   1.18944500e-02,\n",
       "         2.00765260e-02,   3.27324880e-02,   4.14269692e-02,\n",
       "         8.80123268e-02,   1.39766903e-01,   2.57967849e-01,\n",
       "         4.66063847e-01,   6.20055307e-01,   1.48259090e+00,\n",
       "         2.40907990e+00,   4.32239333e+00,   7.24870657e+00,\n",
       "         9.21650408e+00])"
      ]
     },
     "execution_count": 93,
     "metadata": {},
     "output_type": "execute_result"
    }
   ],
   "source": [
    "res_mult[2][:,0]"
   ]
  },
  {
   "cell_type": "code",
   "execution_count": 92,
   "metadata": {
    "collapsed": false
   },
   "outputs": [
    {
     "data": {
      "text/plain": [
       "1.0"
      ]
     },
     "execution_count": 92,
     "metadata": {},
     "output_type": "execute_result"
    }
   ],
   "source": [
    "rtots[2]"
   ]
  },
  {
   "cell_type": "code",
   "execution_count": 94,
   "metadata": {
    "collapsed": false
   },
   "outputs": [
    {
     "data": {
      "text/plain": [
       "array([  3.91464565e-03,   7.87937893e-03,   1.18944500e-02,\n",
       "         2.00765260e-02,   3.27324880e-02,   4.14269692e-02,\n",
       "         8.80123268e-02,   1.39766903e-01,   2.57967849e-01,\n",
       "         4.66063847e-01,   6.20055307e-01,   1.48259090e+00,\n",
       "         2.40907990e+00,   4.32239333e+00,   7.24870657e+00,\n",
       "         9.21650408e+00])"
      ]
     },
     "execution_count": 94,
     "metadata": {},
     "output_type": "execute_result"
    }
   ],
   "source": [
    "res[:,0]"
   ]
  },
  {
   "cell_type": "code",
   "execution_count": 95,
   "metadata": {
    "collapsed": true
   },
   "outputs": [],
   "source": [
    "ligfreez = np.array([res_mult[i][:,0] for i in range(3)])"
   ]
  },
  {
   "cell_type": "code",
   "execution_count": 96,
   "metadata": {
    "collapsed": false
   },
   "outputs": [
    {
     "data": {
      "text/plain": [
       "array([[  9.78328682e-03,   1.95772117e-02,   2.93809876e-02,\n",
       "          4.90153142e-02,   7.85249200e-02,   9.82310299e-02,\n",
       "          1.97054845e-01,   2.96208965e-01,   4.95059962e-01,\n",
       "          7.94014160e-01,   9.93546198e-01,   1.99228531e+00,\n",
       "          2.99170534e+00,   4.99114039e+00,   7.99076550e+00,\n",
       "          9.99062852e+00],\n",
       "       [  8.52854775e-03,   1.71119210e-02,   2.57473810e-02,\n",
       "          4.31643353e-02,   6.96200615e-02,   8.74532373e-02,\n",
       "          1.78480033e-01,   2.71752056e-01,   4.62269602e-01,\n",
       "          7.53248559e-01,   9.49042865e-01,   1.93674294e+00,\n",
       "          2.93020388e+00,   4.92277110e+00,   7.91687641e+00,\n",
       "          9.91443993e+00],\n",
       "       [  3.91464565e-03,   7.87937893e-03,   1.18944500e-02,\n",
       "          2.00765260e-02,   3.27324880e-02,   4.14269692e-02,\n",
       "          8.80123268e-02,   1.39766903e-01,   2.57967849e-01,\n",
       "          4.66063847e-01,   6.20055307e-01,   1.48259090e+00,\n",
       "          2.40907990e+00,   4.32239333e+00,   7.24870657e+00,\n",
       "          9.21650408e+00]])"
      ]
     },
     "execution_count": 96,
     "metadata": {},
     "output_type": "execute_result"
    }
   ],
   "source": [
    "ligfreez"
   ]
  },
  {
   "cell_type": "code",
   "execution_count": 102,
   "metadata": {
    "collapsed": false
   },
   "outputs": [
    {
     "data": {
      "text/plain": [
       "[<matplotlib.lines.Line2D at 0x11148e630>]"
      ]
     },
     "execution_count": 102,
     "metadata": {},
     "output_type": "execute_result"
    },
    {
     "data": {
      "image/png": "[encoded data removed]",
      "text/plain": [
       "<matplotlib.figure.Figure at 0x111e93128>"
      ]
     },
     "metadata": {},
     "output_type": "display_data"
    }
   ],
   "source": [
    "plt.semilogy(ressy[1],'x')\n",
    "plt.semilogy(ligfreez[0],'.')\n",
    "plt.semilogy(ligfreez[1],'.')\n",
    "plt.semilogy(ligfreez[2],'.')"
   ]
  },
  {
   "cell_type": "code",
   "execution_count": 131,
   "metadata": {
    "collapsed": false
   },
   "outputs": [],
   "source": [
    "frax_res = np.array([frax(res_mult[i]) for i in range(3)])"
   ]
  },
  {
   "cell_type": "code",
   "execution_count": 138,
   "metadata": {
    "collapsed": false
   },
   "outputs": [],
   "source": [
    "liggers = np.array([frax_res[i][0] for i in range(3)])"
   ]
  },
  {
   "cell_type": "code",
   "execution_count": 139,
   "metadata": {
    "collapsed": false
   },
   "outputs": [],
   "source": [
    "ltoters = np.array([frax_res[i][1] for i in range(3)])"
   ]
  },
  {
   "cell_type": "code",
   "execution_count": 140,
   "metadata": {
    "collapsed": true
   },
   "outputs": [],
   "source": [
    "fraxers = np.array([frax_res[i][2] for i in range(3)])"
   ]
  },
  {
   "cell_type": "code",
   "execution_count": 142,
   "metadata": {
    "collapsed": false
   },
   "outputs": [
    {
     "data": {
      "image/png": "[encoded data removed]",
      "text/plain": [
       "<matplotlib.figure.Figure at 0x111ed9a20>"
      ]
     },
     "metadata": {},
     "output_type": "display_data"
    }
   ],
   "source": [
    "plotter.semlog(liggers,fraxers,'.')\n",
    "plotter.semlog(ltoters,fraxers,':')"
   ]
  },
  {
   "cell_type": "code",
   "execution_count": 143,
   "metadata": {
    "collapsed": true
   },
   "outputs": [],
   "source": [
    "lsres_thangs = optimize.least_squares(lsfit,parmguess,bounds=bndsls,args=(liggers,rtots,fraxers))"
   ]
  },
  {
   "cell_type": "code",
   "execution_count": 144,
   "metadata": {
    "collapsed": false
   },
   "outputs": [
    {
     "data": {
      "text/plain": [
       "array([  3.91400000e+00,   2.95100000e+00,   1.13600000e-01,\n",
       "         3.13900000e+02])"
      ]
     },
     "execution_count": 144,
     "metadata": {},
     "output_type": "execute_result"
    }
   ],
   "source": [
    "lsres_thangs.x"
   ]
  },
  {
   "cell_type": "code",
   "execution_count": 145,
   "metadata": {
    "collapsed": false
   },
   "outputs": [
    {
     "data": {
      "text/plain": [
       "array([  3.91400000e+00,   2.95100000e+00,   1.13600000e-01,\n",
       "         3.13900000e+02])"
      ]
     },
     "execution_count": 145,
     "metadata": {},
     "output_type": "execute_result"
    }
   ],
   "source": [
    "parm"
   ]
  },
  {
   "cell_type": "code",
   "execution_count": 146,
   "metadata": {
    "collapsed": true
   },
   "outputs": [],
   "source": [
    "lsres_thangs2 = optimize.least_squares(lsfit,parmguess,bounds=bndsls,args=(ltoters,rtots,fraxers))"
   ]
  },
  {
   "cell_type": "code",
   "execution_count": 147,
   "metadata": {
    "collapsed": false
   },
   "outputs": [
    {
     "data": {
      "text/plain": [
       "array([  3.74683424e+00,   1.63529889e+00,   7.80165314e-02,\n",
       "         2.38674920e+02])"
      ]
     },
     "execution_count": 147,
     "metadata": {},
     "output_type": "execute_result"
    }
   ],
   "source": [
    "lsres_thangs2.x"
   ]
  },
  {
   "cell_type": "code",
   "execution_count": 148,
   "metadata": {
    "collapsed": false
   },
   "outputs": [
    {
     "data": {
      "image/png": "[encoded data removed]",
      "text/plain": [
       "<matplotlib.figure.Figure at 0x1125860b8>"
      ]
     },
     "metadata": {},
     "output_type": "display_data"
    }
   ],
   "source": [
    "plotter.viewf(ligbind.models.wymfunc,lsres_thangs.x,liggers,fraxers,rtots)"
   ]
  },
  {
   "cell_type": "code",
   "execution_count": 149,
   "metadata": {
    "collapsed": false
   },
   "outputs": [
    {
     "data": {
      "image/png": "[encoded data removed]",
      "text/plain": [
       "<matplotlib.figure.Figure at 0x112519080>"
      ]
     },
     "metadata": {},
     "output_type": "display_data"
    }
   ],
   "source": [
    "plotter.viewf(ligbind.models.wymfunc,lsres_thangs2.x,ltoters,fraxers,rtots)"
   ]
  },
  {
   "cell_type": "code",
   "execution_count": 150,
   "metadata": {
    "collapsed": false
   },
   "outputs": [
    {
     "data": {
      "text/plain": [
       "633"
      ]
     },
     "execution_count": 150,
     "metadata": {},
     "output_type": "execute_result"
    }
   ],
   "source": [
    "447+186"
   ]
  },
  {
   "cell_type": "code",
   "execution_count": 151,
   "metadata": {
    "collapsed": false
   },
   "outputs": [
    {
     "data": {
      "text/plain": [
       "316.5"
      ]
     },
     "execution_count": 151,
     "metadata": {},
     "output_type": "execute_result"
    }
   ],
   "source": [
    "633/2"
   ]
  },
  {
   "cell_type": "code",
   "execution_count": 152,
   "metadata": {
    "collapsed": false
   },
   "outputs": [
    {
     "data": {
      "text/plain": [
       "391"
      ]
     },
     "execution_count": 152,
     "metadata": {},
     "output_type": "execute_result"
    }
   ],
   "source": [
    "316+75"
   ]
  },
  {
   "cell_type": "code",
   "execution_count": 153,
   "metadata": {
    "collapsed": false
   },
   "outputs": [
    {
     "data": {
      "text/plain": [
       "70.75"
      ]
     },
     "execution_count": 153,
     "metadata": {},
     "output_type": "execute_result"
    }
   ],
   "source": [
    "283/4"
   ]
  },
  {
   "cell_type": "code",
   "execution_count": 157,
   "metadata": {
    "collapsed": false
   },
   "outputs": [],
   "source": [
    "colnames = ['L','M','MM','ML','MML','MMLL','Bfrac','Monfrac','Dimfrac','Mon_bfrac','Dim_bfrac']"
   ]
  },
  {
   "cell_type": "code",
   "execution_count": null,
   "metadata": {
    "collapsed": true
   },
   "outputs": [],
   "source": []
  }
 ],
 "metadata": {
  "kernelspec": {
   "display_name": "Python [conda env:fitter]",
   "language": "python",
   "name": "conda-env-fitter-py"
  },
  "language_info": {
   "codemirror_mode": {
    "name": "ipython",
    "version": 3
   },
   "file_extension": ".py",
   "mimetype": "text/x-python",
   "name": "python",
   "nbconvert_exporter": "python",
   "pygments_lexer": "ipython3",
   "version": "3.5.2"
  }
 },
 "nbformat": 4,
 "nbformat_minor": 1
}

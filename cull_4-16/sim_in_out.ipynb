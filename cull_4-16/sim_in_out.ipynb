{
 "cells": [
  {
   "cell_type": "code",
   "execution_count": 1,
   "metadata": {},
   "outputs": [
    {
     "name": "stderr",
     "output_type": "stream",
     "text": [
      "/Users/michael/miniconda3/envs/fitter/lib/python3.5/site-packages/matplotlib/font_manager.py:280: UserWarning: Matplotlib is building the font cache using fc-list. This may take a moment.\n",
      "  'Matplotlib is building the font cache using fc-list. '\n"
     ]
    }
   ],
   "source": [
    "import numpy as np\n",
    "import scipy as sp\n",
    "import matplotlib.pyplot as plt\n",
    "import sys, copy, emcee, corner\n",
    "\n",
    "%matplotlib inline\n",
    "%load_ext autoreload\n",
    "\n",
    "sys.path.append('./ligbind/')\n",
    "import ligbind as lb"
   ]
  },
  {
   "cell_type": "code",
   "execution_count": 93,
   "metadata": {},
   "outputs": [],
   "source": [
    "dat1 = lb.WymSim(sets=1,reps=1)"
   ]
  },
  {
   "cell_type": "code",
   "execution_count": 94,
   "metadata": {},
   "outputs": [
    {
     "data": {
      "image/png": "[encoded data removed]",
      "text/plain": [
       "<matplotlib.figure.Figure at 0x116dbcbe0>"
      ]
     },
     "metadata": {},
     "output_type": "display_data"
    }
   ],
   "source": [
    "lb.semlog(dat1.ligs,dat1.meanset[0],'.')"
   ]
  },
  {
   "cell_type": "code",
   "execution_count": 95,
   "metadata": {
    "collapsed": true
   },
   "outputs": [],
   "source": [
    "def lsfit(parms,rtots,data,ligs):\n",
    "    datac = np.concatenate(data)\n",
    "    calc = lb.models.wymfunc(parms,ligs,rtots)\n",
    "    return (calc-datac)"
   ]
  },
  {
   "cell_type": "code",
   "execution_count": 96,
   "metadata": {
    "collapsed": true
   },
   "outputs": [],
   "source": [
    "guess = np.array([10.,10.,10.,100.])"
   ]
  },
  {
   "cell_type": "code",
   "execution_count": 97,
   "metadata": {
    "collapsed": true
   },
   "outputs": [],
   "source": [
    "lsbnds = (tuple(1e-3 for i in range(4)),tuple(1000. for i in range(4)))"
   ]
  },
  {
   "cell_type": "code",
   "execution_count": 98,
   "metadata": {},
   "outputs": [
    {
     "data": {
      "text/plain": [
       "array([  3.12480623e+00,   2.02968885e+00,   1.00000000e-03,\n",
       "         1.15429942e+02])"
      ]
     },
     "execution_count": 98,
     "metadata": {},
     "output_type": "execute_result"
    }
   ],
   "source": [
    "sp.optimize.least_squares(lsfit,guess,args=(dat1.rtot,dat1.meanset[0],dat1.ligs),bounds=lsbnds,ftol=1e-14,gtol=1e-14,xtol=1e-14,method='trf').x"
   ]
  },
  {
   "cell_type": "code",
   "execution_count": 99,
   "metadata": {},
   "outputs": [
    {
     "data": {
      "text/plain": [
       "array([   3. ,    2. ,    0.1,  100. ])"
      ]
     },
     "execution_count": 99,
     "metadata": {},
     "output_type": "execute_result"
    }
   ],
   "source": [
    "dat1.parms"
   ]
  },
  {
   "cell_type": "code",
   "execution_count": 100,
   "metadata": {
    "collapsed": true
   },
   "outputs": [],
   "source": [
    "def lsfitRTs(rtots,parms,data,ligs):\n",
    "    datac = np.concatenate(data)\n",
    "    calc = lb.models.wymfunc(parms,ligs,rtots)\n",
    "    return (calc-datac)"
   ]
  },
  {
   "cell_type": "code",
   "execution_count": 101,
   "metadata": {},
   "outputs": [
    {
     "data": {
      "text/plain": [
       "array([ 0.001 ,  0.0025,  0.005 ,  0.01  ,  0.025 ,  0.05  ])"
      ]
     },
     "execution_count": 101,
     "metadata": {},
     "output_type": "execute_result"
    }
   ],
   "source": [
    "dat1.rtot"
   ]
  },
  {
   "cell_type": "code",
   "execution_count": 102,
   "metadata": {
    "collapsed": true
   },
   "outputs": [],
   "source": [
    "guessRT = np.array([0.005,0.005,0.005,0.005,0.01,0.01])"
   ]
  },
  {
   "cell_type": "code",
   "execution_count": 103,
   "metadata": {},
   "outputs": [],
   "source": [
    "gRT1 = np.abs(np.random.normal(0.01,0.01,6))\n",
    "gRT2 = np.abs(np.random.normal(0.01,0.01,6))\n",
    "gRT3 = np.abs(np.random.normal(0.01,0.01,6))"
   ]
  },
  {
   "cell_type": "code",
   "execution_count": 104,
   "metadata": {
    "collapsed": true
   },
   "outputs": [],
   "source": [
    "rtbnds = (tuple(1e-5 for i in range(6)),tuple(1e-1 for i in range(6)))"
   ]
  },
  {
   "cell_type": "code",
   "execution_count": 105,
   "metadata": {},
   "outputs": [],
   "source": [
    "rt_solve = sp.optimize.least_squares(lsfitRTs,guessRT,args=(dat1.parms,dat1.meanset[0],dat1.ligs),bounds=rtbnds,ftol=1e-14,gtol=1e-14,xtol=1e-14,method='trf').x"
   ]
  },
  {
   "cell_type": "code",
   "execution_count": 106,
   "metadata": {},
   "outputs": [
    {
     "data": {
      "text/plain": [
       "[<matplotlib.lines.Line2D at 0x1171f5550>]"
      ]
     },
     "execution_count": 106,
     "metadata": {},
     "output_type": "execute_result"
    },
    {
     "data": {
      "image/png": "[encoded data removed]",
      "text/plain": [
       "<matplotlib.figure.Figure at 0x1171f5668>"
      ]
     },
     "metadata": {},
     "output_type": "display_data"
    }
   ],
   "source": [
    "plt.plot(dat1.rtot,dat1.rtot,'.')\n",
    "plt.plot(dat1.rtot,rt_solve,'*')"
   ]
  },
  {
   "cell_type": "code",
   "execution_count": 107,
   "metadata": {},
   "outputs": [
    {
     "data": {
      "text/plain": [
       "array([ 0.00072597,  0.00162081,  0.00604606,  0.01023969,  0.02666544,\n",
       "        0.08520737])"
      ]
     },
     "execution_count": 107,
     "metadata": {},
     "output_type": "execute_result"
    }
   ],
   "source": [
    "sp.optimize.least_squares(lsfitRTs,guessRT,args=(dat1.parms,dat1.meanset[0],dat1.ligs),bounds=rtbnds,ftol=1e-14,gtol=1e-14,xtol=1e-14,method='dogbox').x"
   ]
  },
  {
   "cell_type": "code",
   "execution_count": 108,
   "metadata": {},
   "outputs": [
    {
     "data": {
      "text/plain": [
       "array([ 0.00072597,  0.00162081,  0.00604606,  0.01023969,  0.02666544,\n",
       "        0.08520737])"
      ]
     },
     "execution_count": 108,
     "metadata": {},
     "output_type": "execute_result"
    }
   ],
   "source": [
    "sp.optimize.least_squares(lsfitRTs,gRT1,args=(dat1.parms,dat1.meanset[0],dat1.ligs),bounds=rtbnds,ftol=1e-14,gtol=1e-14,xtol=1e-14,method='dogbox').x"
   ]
  },
  {
   "cell_type": "code",
   "execution_count": 109,
   "metadata": {},
   "outputs": [
    {
     "data": {
      "text/plain": [
       "array([ 0.00072597,  0.00162081,  0.00604606,  0.01023969,  0.02666544,\n",
       "        0.08520738])"
      ]
     },
     "execution_count": 109,
     "metadata": {},
     "output_type": "execute_result"
    }
   ],
   "source": [
    "sp.optimize.least_squares(lsfitRTs,gRT2,args=(dat1.parms,dat1.meanset[0],dat1.ligs),bounds=rtbnds,ftol=1e-14,gtol=1e-14,xtol=1e-14,method='dogbox').x"
   ]
  },
  {
   "cell_type": "code",
   "execution_count": 110,
   "metadata": {},
   "outputs": [
    {
     "data": {
      "text/plain": [
       "array([ 0.00072597,  0.00162081,  0.00604606,  0.01023969,  0.02666544,\n",
       "        0.08520737])"
      ]
     },
     "execution_count": 110,
     "metadata": {},
     "output_type": "execute_result"
    }
   ],
   "source": [
    "sp.optimize.least_squares(lsfitRTs,gRT3,args=(dat1.parms,dat1.meanset[0],dat1.ligs),bounds=rtbnds,ftol=1e-14,gtol=1e-14,xtol=1e-14,method='dogbox').x"
   ]
  },
  {
   "cell_type": "code",
   "execution_count": 111,
   "metadata": {
    "collapsed": true
   },
   "outputs": [],
   "source": [
    "parmsolve = sp.optimize.least_squares(lsfit,guess,args=(dat1.rtot,dat1.meanset[0],dat1.ligs),bounds=lsbnds,ftol=1e-14,gtol=1e-14,xtol=1e-14,method='trf').x"
   ]
  },
  {
   "cell_type": "code",
   "execution_count": 112,
   "metadata": {},
   "outputs": [
    {
     "data": {
      "text/plain": [
       "array([  3.12480623e+00,   2.02968885e+00,   1.00000000e-03,\n",
       "         1.15429942e+02])"
      ]
     },
     "execution_count": 112,
     "metadata": {},
     "output_type": "execute_result"
    }
   ],
   "source": [
    "parmsolve"
   ]
  },
  {
   "cell_type": "code",
   "execution_count": 42,
   "metadata": {},
   "outputs": [],
   "source": [
    "rtsolve_slvprm = sp.optimize.least_squares(lsfitRTs,gRT1,args=(parmsolve,dat1.meanset[0],dat1.ligs),bounds=rtbnds,ftol=1e-14,gtol=1e-14,xtol=1e-14,method='trf').x"
   ]
  },
  {
   "cell_type": "code",
   "execution_count": 43,
   "metadata": {},
   "outputs": [
    {
     "data": {
      "text/plain": [
       "[<matplotlib.lines.Line2D at 0x11474e898>]"
      ]
     },
     "execution_count": 43,
     "metadata": {},
     "output_type": "execute_result"
    },
    {
     "data": {
      "image/png": "[encoded data removed]",
      "text/plain": [
       "<matplotlib.figure.Figure at 0x116ab4940>"
      ]
     },
     "metadata": {},
     "output_type": "display_data"
    }
   ],
   "source": [
    "plt.plot(dat1.rtot,dat1.rtot,'x')\n",
    "plt.plot(dat1.rtot,rt_solve,'.')\n",
    "plt.plot(dat1.rtot,rtsolve_slvprm,'*')"
   ]
  },
  {
   "cell_type": "code",
   "execution_count": 44,
   "metadata": {},
   "outputs": [
    {
     "data": {
      "text/plain": [
       "array([   3.24993398,    1.78753556,    0.22639222,  137.70659232])"
      ]
     },
     "execution_count": 44,
     "metadata": {},
     "output_type": "execute_result"
    }
   ],
   "source": [
    "parmsolve"
   ]
  },
  {
   "cell_type": "code",
   "execution_count": 45,
   "metadata": {},
   "outputs": [
    {
     "data": {
      "text/plain": [
       "array([ 0.00161201,  0.00180195,  0.00521894,  0.00949237,  0.03107339,\n",
       "        0.04311913])"
      ]
     },
     "execution_count": 45,
     "metadata": {},
     "output_type": "execute_result"
    }
   ],
   "source": [
    "rtsolve_slvprm"
   ]
  },
  {
   "cell_type": "code",
   "execution_count": 46,
   "metadata": {},
   "outputs": [
    {
     "data": {
      "text/plain": [
       "array([ 0.001 ,  0.0025,  0.005 ,  0.01  ,  0.025 ,  0.05  ])"
      ]
     },
     "execution_count": 46,
     "metadata": {},
     "output_type": "execute_result"
    }
   ],
   "source": [
    "dat1.rtot"
   ]
  },
  {
   "cell_type": "code",
   "execution_count": 47,
   "metadata": {},
   "outputs": [
    {
     "data": {
      "text/plain": [
       "array([ 0.61201026,  0.27922036,  0.04378739,  0.05076267,  0.24293563,\n",
       "        0.13761744])"
      ]
     },
     "execution_count": 47,
     "metadata": {},
     "output_type": "execute_result"
    }
   ],
   "source": [
    "np.abs((rtsolve_slvprm - dat1.rtot)/(dat1.rtot))"
   ]
  },
  {
   "cell_type": "code",
   "execution_count": 49,
   "metadata": {
    "collapsed": true
   },
   "outputs": [],
   "source": [
    "parmslv_from_rtsolve = sp.optimize.least_squares(lsfit,guess,args=(rtsolve_slvprm,dat1.meanset[0],dat1.ligs),bounds=lsbnds,ftol=1e-14,gtol=1e-14,xtol=1e-14,method='trf').x"
   ]
  },
  {
   "cell_type": "code",
   "execution_count": 50,
   "metadata": {},
   "outputs": [
    {
     "data": {
      "text/plain": [
       "array([   3.33426259,    1.82013098,    0.22695653,  153.89064419])"
      ]
     },
     "execution_count": 50,
     "metadata": {},
     "output_type": "execute_result"
    }
   ],
   "source": [
    "parmslv_from_rtsolve"
   ]
  },
  {
   "cell_type": "code",
   "execution_count": 51,
   "metadata": {},
   "outputs": [
    {
     "data": {
      "text/plain": [
       "array([   3.24993398,    1.78753556,    0.22639222,  137.70659232])"
      ]
     },
     "execution_count": 51,
     "metadata": {},
     "output_type": "execute_result"
    }
   ],
   "source": [
    "parmsolve"
   ]
  },
  {
   "cell_type": "code",
   "execution_count": 52,
   "metadata": {
    "collapsed": true
   },
   "outputs": [],
   "source": [
    "g1 = np.abs(np.random.normal(1.,10.,4))\n",
    "g2 = np.abs(np.random.normal(1.,10.,4))\n",
    "g3 = np.abs(np.random.normal(1.,10.,4))"
   ]
  },
  {
   "cell_type": "code",
   "execution_count": 53,
   "metadata": {},
   "outputs": [
    {
     "data": {
      "text/plain": [
       "array([   3.33426262,    1.82013107,    0.22695648,  153.89064381])"
      ]
     },
     "execution_count": 53,
     "metadata": {},
     "output_type": "execute_result"
    }
   ],
   "source": [
    "sp.optimize.least_squares(lsfit,g1,args=(rtsolve_slvprm,dat1.meanset[0],dat1.ligs),bounds=lsbnds,ftol=1e-14,gtol=1e-14,xtol=1e-14,method='trf').x"
   ]
  },
  {
   "cell_type": "code",
   "execution_count": 54,
   "metadata": {},
   "outputs": [
    {
     "data": {
      "text/plain": [
       "array([   3.33426252,    1.82013123,    0.22695649,  153.89062729])"
      ]
     },
     "execution_count": 54,
     "metadata": {},
     "output_type": "execute_result"
    }
   ],
   "source": [
    "sp.optimize.least_squares(lsfit,g2,args=(rtsolve_slvprm,dat1.meanset[0],dat1.ligs),bounds=lsbnds,ftol=1e-14,gtol=1e-14,xtol=1e-14,method='trf').x"
   ]
  },
  {
   "cell_type": "code",
   "execution_count": 55,
   "metadata": {},
   "outputs": [
    {
     "data": {
      "text/plain": [
       "array([   3.33426282,    1.82013131,    0.22695663,  153.89071303])"
      ]
     },
     "execution_count": 55,
     "metadata": {},
     "output_type": "execute_result"
    }
   ],
   "source": [
    "sp.optimize.least_squares(lsfit,g3,args=(rtsolve_slvprm,dat1.meanset[0],dat1.ligs),bounds=lsbnds,ftol=1e-14,gtol=1e-14,xtol=1e-14,method='trf').x"
   ]
  },
  {
   "cell_type": "code",
   "execution_count": 56,
   "metadata": {},
   "outputs": [
    {
     "data": {
      "text/plain": [
       "array([  2.06923351e+01,   1.78311762e+01,   1.72814425e-01,\n",
       "         1.30357573e+03])"
      ]
     },
     "execution_count": 56,
     "metadata": {},
     "output_type": "execute_result"
    }
   ],
   "source": [
    "prmstrt = np.array([10.,10.,1.,1000.])\n",
    "devs = np.array([10.,10.,1.,1000.])\n",
    "np.abs(np.random.normal(prmstrt,devs))"
   ]
  },
  {
   "cell_type": "code",
   "execution_count": 59,
   "metadata": {
    "collapsed": true
   },
   "outputs": [],
   "source": [
    "parmset = [np.abs(np.random.normal(prmstrt,devs)) for i in range(1000)]"
   ]
  },
  {
   "cell_type": "code",
   "execution_count": 60,
   "metadata": {
    "collapsed": true
   },
   "outputs": [],
   "source": [
    "datset = [lb.WymSim(sets=1,reps=1,parms=i) for i in parmset]"
   ]
  },
  {
   "cell_type": "code",
   "execution_count": 61,
   "metadata": {},
   "outputs": [],
   "source": [
    "known_rtot = datset[1].rtot"
   ]
  },
  {
   "cell_type": "code",
   "execution_count": 62,
   "metadata": {},
   "outputs": [],
   "source": [
    "known_ligs = datset[1].ligs"
   ]
  },
  {
   "cell_type": "code",
   "execution_count": 63,
   "metadata": {
    "collapsed": true
   },
   "outputs": [],
   "source": [
    "prmsols = [sp.optimize.least_squares(lsfit,guess,args=(known_rtot,i.meanset[0],known_ligs),bounds=lsbnds,ftol=1e-14,gtol=1e-14,xtol=1e-14,method='trf').x for i in datset]"
   ]
  },
  {
   "cell_type": "code",
   "execution_count": 66,
   "metadata": {},
   "outputs": [],
   "source": [
    "pcts = np.abs(np.array(prmsols)-np.array(parmset))/np.array(parmset)"
   ]
  },
  {
   "cell_type": "code",
   "execution_count": 75,
   "metadata": {},
   "outputs": [
    {
     "data": {
      "text/plain": [
       "{'boxes': [<matplotlib.lines.Line2D at 0x116d2f160>,\n",
       "  <matplotlib.lines.Line2D at 0x116d695c0>,\n",
       "  <matplotlib.lines.Line2D at 0x116d7d1d0>,\n",
       "  <matplotlib.lines.Line2D at 0x116d8dda0>],\n",
       " 'caps': [<matplotlib.lines.Line2D at 0x116d5eeb8>,\n",
       "  <matplotlib.lines.Line2D at 0x116d65a20>,\n",
       "  <matplotlib.lines.Line2D at 0x116d72c18>,\n",
       "  <matplotlib.lines.Line2D at 0x116d72da0>,\n",
       "  <matplotlib.lines.Line2D at 0x116d82f98>,\n",
       "  <matplotlib.lines.Line2D at 0x116d879b0>,\n",
       "  <matplotlib.lines.Line2D at 0x116d96ba8>,\n",
       "  <matplotlib.lines.Line2D at 0x116d9ce10>],\n",
       " 'fliers': [],\n",
       " 'means': [],\n",
       " 'medians': [<matplotlib.lines.Line2D at 0x116d65ba8>,\n",
       "  <matplotlib.lines.Line2D at 0x116d787b8>,\n",
       "  <matplotlib.lines.Line2D at 0x116d8d3c8>,\n",
       "  <matplotlib.lines.Line2D at 0x116d9cf98>],\n",
       " 'whiskers': [<matplotlib.lines.Line2D at 0x116d59c18>,\n",
       "  <matplotlib.lines.Line2D at 0x116d59da0>,\n",
       "  <matplotlib.lines.Line2D at 0x116d69f98>,\n",
       "  <matplotlib.lines.Line2D at 0x116d6f9b0>,\n",
       "  <matplotlib.lines.Line2D at 0x116d7dba8>,\n",
       "  <matplotlib.lines.Line2D at 0x116d82e10>,\n",
       "  <matplotlib.lines.Line2D at 0x116d91eb8>,\n",
       "  <matplotlib.lines.Line2D at 0x116d96a20>]}"
      ]
     },
     "execution_count": 75,
     "metadata": {},
     "output_type": "execute_result"
    },
    {
     "data": {
      "image/png": "[encoded data removed]",
      "text/plain": [
       "<matplotlib.figure.Figure at 0x116cf57f0>"
      ]
     },
     "metadata": {},
     "output_type": "display_data"
    }
   ],
   "source": [
    "plt.boxplot([pcts[:,i] for i in range(4)],showfliers=False)"
   ]
  },
  {
   "cell_type": "code",
   "execution_count": 76,
   "metadata": {},
   "outputs": [
    {
     "data": {
      "text/plain": [
       "array([ 0.11430356,  0.07539112,  0.16197942,  0.44596016])"
      ]
     },
     "execution_count": 76,
     "metadata": {},
     "output_type": "execute_result"
    }
   ],
   "source": [
    "np.median(pcts,axis=0)"
   ]
  },
  {
   "cell_type": "code",
   "execution_count": 77,
   "metadata": {},
   "outputs": [],
   "source": [
    "tiles = np.percentile(pcts, [16, 50, 84], axis=0)"
   ]
  },
  {
   "cell_type": "code",
   "execution_count": 78,
   "metadata": {},
   "outputs": [
    {
     "data": {
      "text/plain": [
       "array([[ 0.03470678,  0.02245045,  0.04406561,  0.14224281],\n",
       "       [ 0.11430356,  0.07539112,  0.16197942,  0.44596016],\n",
       "       [ 0.25411522,  0.19594896,  0.61888238,  0.75871843]])"
      ]
     },
     "execution_count": 78,
     "metadata": {},
     "output_type": "execute_result"
    }
   ],
   "source": [
    "tiles"
   ]
  },
  {
   "cell_type": "code",
   "execution_count": 79,
   "metadata": {},
   "outputs": [
    {
     "data": {
      "text/plain": [
       "0.05"
      ]
     },
     "execution_count": 79,
     "metadata": {},
     "output_type": "execute_result"
    }
   ],
   "source": [
    "datset[0].noise"
   ]
  },
  {
   "cell_type": "code",
   "execution_count": 80,
   "metadata": {},
   "outputs": [],
   "source": [
    "rtslv_from_prmsols = [sp.optimize.least_squares(lsfitRTs,gRT1,args=(prmsols[i],datset[i].meanset[0],known_ligs),bounds=rtbnds,ftol=1e-14,gtol=1e-14,xtol=1e-14,method='trf').x for i in range(len(prmsols))]"
   ]
  },
  {
   "cell_type": "code",
   "execution_count": 81,
   "metadata": {},
   "outputs": [],
   "source": [
    "rt_pcts = np.abs((np.array(rtslv_from_prmsols)-known_rtot))/known_rtot"
   ]
  },
  {
   "cell_type": "code",
   "execution_count": 82,
   "metadata": {},
   "outputs": [
    {
     "data": {
      "text/plain": [
       "array([ 0.19116598,  0.59198827,  0.25719366,  0.06907291,  0.63994221,\n",
       "        0.26026624])"
      ]
     },
     "execution_count": 82,
     "metadata": {},
     "output_type": "execute_result"
    }
   ],
   "source": [
    "rt_pcts[0]"
   ]
  },
  {
   "cell_type": "code",
   "execution_count": 83,
   "metadata": {
    "collapsed": true
   },
   "outputs": [],
   "source": [
    "rt_tiles = np.percentile(rt_pcts, [16, 50, 84], axis=0)"
   ]
  },
  {
   "cell_type": "code",
   "execution_count": 92,
   "metadata": {},
   "outputs": [
    {
     "data": {
      "text/plain": [
       "array([ 0.05232336,  0.23404802,  0.70299108])"
      ]
     },
     "execution_count": 92,
     "metadata": {},
     "output_type": "execute_result"
    }
   ],
   "source": [
    "rt_tiles[:,5]"
   ]
  },
  {
   "cell_type": "code",
   "execution_count": 85,
   "metadata": {},
   "outputs": [
    {
     "data": {
      "text/plain": [
       "0.8999999999999999"
      ]
     },
     "execution_count": 85,
     "metadata": {},
     "output_type": "execute_result"
    }
   ],
   "source": [
    "0.045/0.05"
   ]
  },
  {
   "cell_type": "code",
   "execution_count": null,
   "metadata": {
    "collapsed": true
   },
   "outputs": [],
   "source": []
  }
 ],
 "metadata": {
  "anaconda-cloud": {},
  "kernelspec": {
   "display_name": "Python [conda env:fitter]",
   "language": "python",
   "name": "conda-env-fitter-py"
  },
  "language_info": {
   "codemirror_mode": {
    "name": "ipython",
    "version": 3
   },
   "file_extension": ".py",
   "mimetype": "text/x-python",
   "name": "python",
   "nbconvert_exporter": "python",
   "pygments_lexer": "ipython3",
   "version": "3.5.3"
  }
 },
 "nbformat": 4,
 "nbformat_minor": 1
}

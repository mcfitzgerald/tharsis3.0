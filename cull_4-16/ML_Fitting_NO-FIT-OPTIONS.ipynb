{
 "cells": [
  {
   "cell_type": "code",
   "execution_count": 1,
   "metadata": {
    "collapsed": true
   },
   "outputs": [],
   "source": [
    "import numpy as np\n",
    "import scipy as sp\n",
    "import matplotlib.pyplot as plt\n",
    "import sys, copy, emcee, corner\n",
    "\n",
    "%matplotlib inline\n",
    "%load_ext autoreload\n",
    "\n",
    "sys.path.append('./ligbind/')\n",
    "import ligbind as lb"
   ]
  },
  {
   "cell_type": "code",
   "execution_count": 2,
   "metadata": {},
   "outputs": [
    {
     "data": {
      "text/plain": [
       "array([  1.00000000e-03,   2.00000000e-03,   4.00000000e-03,\n",
       "         8.00000000e-03,   1.60000000e-02,   3.20000000e-02,\n",
       "         6.40000000e-02,   1.28000000e-01,   2.56000000e-01,\n",
       "         5.12000000e-01,   1.02400000e+00,   2.04800000e+00,\n",
       "         4.09600000e+00,   8.19200000e+00,   1.63840000e+01,\n",
       "         3.27680000e+01,   6.55360000e+01,   1.31072000e+02])"
      ]
     },
     "execution_count": 2,
     "metadata": {},
     "output_type": "execute_result"
    }
   ],
   "source": [
    "lb.dilser()"
   ]
  },
  {
   "cell_type": "code",
   "execution_count": 3,
   "metadata": {
    "collapsed": true
   },
   "outputs": [],
   "source": [
    "parmset = np.array([4.5,5.8,0.65,540.])"
   ]
  },
  {
   "cell_type": "code",
   "execution_count": 8,
   "metadata": {
    "collapsed": true
   },
   "outputs": [],
   "source": [
    "dat = lb.WymSim(sets=100,parms=parmset,noise=0.05)"
   ]
  },
  {
   "cell_type": "code",
   "execution_count": 12,
   "metadata": {},
   "outputs": [
    {
     "data": {
      "text/plain": [
       "array([[ 0.00361559,  0.00743462,  0.0152872 ,  0.030828  ,  0.05681743,\n",
       "         0.10647174,  0.20086565,  0.30908152,  0.48598897,  0.65884997,\n",
       "         0.7469418 ,  0.87757925,  0.96053226,  0.98831858,  1.01118594,\n",
       "         0.94627302,  0.96677798,  0.94882612],\n",
       "       [ 0.00360972,  0.00736284,  0.01406966,  0.02785261,  0.05486371,\n",
       "         0.10046908,  0.1741307 ,  0.29912491,  0.45674529,  0.5997407 ,\n",
       "         0.777844  ,  0.86063076,  0.90623634,  0.98214029,  0.99805615,\n",
       "         0.9826326 ,  0.97426596,  1.01802151],\n",
       "       [ 0.00344439,  0.00689408,  0.01316229,  0.02651879,  0.05332117,\n",
       "         0.09816229,  0.17135474,  0.29718729,  0.42462182,  0.6152278 ,\n",
       "         0.73442895,  0.85779007,  0.91340766,  0.93904058,  0.98714307,\n",
       "         1.00984839,  1.00872182,  0.99706894],\n",
       "       [ 0.00330017,  0.0066636 ,  0.01332658,  0.02469875,  0.04976276,\n",
       "         0.09595824,  0.16293146,  0.28901424,  0.39984734,  0.57110142,\n",
       "         0.71739435,  0.87714917,  0.87074058,  0.91206652,  0.97430663,\n",
       "         0.99614664,  0.96865041,  1.00143468],\n",
       "       [ 0.00324604,  0.00641813,  0.01213679,  0.02553258,  0.04509645,\n",
       "         0.08740059,  0.16927362,  0.27013549,  0.40630059,  0.55488146,\n",
       "         0.67579962,  0.80734571,  0.9009378 ,  0.92391673,  0.93200288,\n",
       "         0.98381379,  1.00347003,  0.98813779],\n",
       "       [ 0.00308933,  0.00639208,  0.01226498,  0.02410067,  0.04572638,\n",
       "         0.09194635,  0.16077651,  0.26541599,  0.39540848,  0.54430432,\n",
       "         0.68233945,  0.79476464,  0.82817521,  0.93016192,  1.00199506,\n",
       "         0.98900123,  1.00545788,  0.96298727]])"
      ]
     },
     "execution_count": 12,
     "metadata": {},
     "output_type": "execute_result"
    }
   ],
   "source": [
    "dat.meanset[1]"
   ]
  },
  {
   "cell_type": "code",
   "execution_count": 13,
   "metadata": {},
   "outputs": [
    {
     "data": {
      "image/png": "[encoded data removed]",
      "text/plain": [
       "<matplotlib.figure.Figure at 0x10edd6cc0>"
      ]
     },
     "metadata": {},
     "output_type": "display_data"
    }
   ],
   "source": [
    "lb.semlog(dat.ligs,dat.meanset[0],'o')"
   ]
  },
  {
   "cell_type": "code",
   "execution_count": 18,
   "metadata": {
    "collapsed": true
   },
   "outputs": [],
   "source": [
    "#vary all Wym model parameters\n",
    "#variance weighted by y-value (not y squared)\n",
    "def lnlik4p(parms,rtot,data,ligs):\n",
    "    datac = np.concatenate(data)\n",
    "    modparms = parms\n",
    "    rtots = rtot\n",
    "    f = parms[-1]\n",
    "    model = lb.models.wymfunc(modparms,ligs,rtots)\n",
    "    invsig2 = 1.0/np.square(f * np.sqrt(model))\n",
    "    return -0.5*(np.sum((datac-model)**2*invsig2 - np.log(invsig2)))\n",
    "\n",
    "#uniform prior based on bounds\n",
    "def lnpri4p(allfit,bounds):\n",
    "    assert len(bounds) == len(allfit)\n",
    "    if all([bounds[i][0] <= allfit[i] <= bounds[i][1] for i in range(len(bounds))]) is True:\n",
    "        return 0.0\n",
    "    else:\n",
    "        return -np.inf\n",
    "    \n",
    "def lnprob4p(allfit,bounds,rtot,data,ligs):\n",
    "    lp = lnpri4p(allfit,bounds)\n",
    "    if not np.isfinite(lp):\n",
    "        return -np.inf\n",
    "    return lp + lnlik4p(allfit,rtot,data,ligs)"
   ]
  },
  {
   "cell_type": "code",
   "execution_count": 19,
   "metadata": {
    "collapsed": true
   },
   "outputs": [],
   "source": [
    "nll4p = lambda *args: -lnlik4p(*args)"
   ]
  },
  {
   "cell_type": "code",
   "execution_count": 81,
   "metadata": {
    "collapsed": true
   },
   "outputs": [],
   "source": [
    "guess = np.array([5.,5.,1.,467.,0.05])"
   ]
  },
  {
   "cell_type": "code",
   "execution_count": 82,
   "metadata": {},
   "outputs": [
    {
     "data": {
      "text/plain": [
       "-387.29181750903376"
      ]
     },
     "execution_count": 82,
     "metadata": {},
     "output_type": "execute_result"
    }
   ],
   "source": [
    "nll4p(guess,dat.rtot,dat.meanset[0],dat.ligs)"
   ]
  },
  {
   "cell_type": "code",
   "execution_count": 83,
   "metadata": {
    "collapsed": true
   },
   "outputs": [],
   "source": [
    "bnds4p = ((0.01, 100.),\n",
    "                 (0.01, 100.),\n",
    "                 (0.01, 10.),\n",
    "                 (0.01, 10000.0),\n",
    "                 (0.01, 0.1))"
   ]
  },
  {
   "cell_type": "code",
   "execution_count": 91,
   "metadata": {},
   "outputs": [],
   "source": [
    "nll_res4p = sp.optimize.minimize(nll4p,guess,bounds=bnds4p,args=(dat.rtot,dat.meanset[0],dat.ligs))"
   ]
  },
  {
   "cell_type": "code",
   "execution_count": 89,
   "metadata": {},
   "outputs": [
    {
     "data": {
      "text/plain": [
       "array([  4.55633119e+00,   5.71038912e+00,   5.88030746e-01,\n",
       "         4.67000081e+02,   2.26412116e-02])"
      ]
     },
     "execution_count": 89,
     "metadata": {},
     "output_type": "execute_result"
    }
   ],
   "source": [
    "nll_res4p.x"
   ]
  },
  {
   "cell_type": "code",
   "execution_count": 31,
   "metadata": {},
   "outputs": [
    {
     "data": {
      "text/plain": [
       "array([[  1.00000000e-03,   2.00000000e-03,   4.00000000e-03,\n",
       "          8.00000000e-03,   1.60000000e-02,   3.20000000e-02,\n",
       "          6.40000000e-02,   1.28000000e-01,   2.56000000e-01,\n",
       "          5.12000000e-01,   1.02400000e+00,   2.04800000e+00,\n",
       "          4.09600000e+00,   8.19200000e+00,   1.63840000e+01,\n",
       "          3.27680000e+01,   6.55360000e+01,   1.31072000e+02],\n",
       "       [  1.00000000e-03,   2.00000000e-03,   4.00000000e-03,\n",
       "          8.00000000e-03,   1.60000000e-02,   3.20000000e-02,\n",
       "          6.40000000e-02,   1.28000000e-01,   2.56000000e-01,\n",
       "          5.12000000e-01,   1.02400000e+00,   2.04800000e+00,\n",
       "          4.09600000e+00,   8.19200000e+00,   1.63840000e+01,\n",
       "          3.27680000e+01,   6.55360000e+01,   1.31072000e+02],\n",
       "       [  1.00000000e-03,   2.00000000e-03,   4.00000000e-03,\n",
       "          8.00000000e-03,   1.60000000e-02,   3.20000000e-02,\n",
       "          6.40000000e-02,   1.28000000e-01,   2.56000000e-01,\n",
       "          5.12000000e-01,   1.02400000e+00,   2.04800000e+00,\n",
       "          4.09600000e+00,   8.19200000e+00,   1.63840000e+01,\n",
       "          3.27680000e+01,   6.55360000e+01,   1.31072000e+02],\n",
       "       [  1.00000000e-03,   2.00000000e-03,   4.00000000e-03,\n",
       "          8.00000000e-03,   1.60000000e-02,   3.20000000e-02,\n",
       "          6.40000000e-02,   1.28000000e-01,   2.56000000e-01,\n",
       "          5.12000000e-01,   1.02400000e+00,   2.04800000e+00,\n",
       "          4.09600000e+00,   8.19200000e+00,   1.63840000e+01,\n",
       "          3.27680000e+01,   6.55360000e+01,   1.31072000e+02],\n",
       "       [  1.00000000e-03,   2.00000000e-03,   4.00000000e-03,\n",
       "          8.00000000e-03,   1.60000000e-02,   3.20000000e-02,\n",
       "          6.40000000e-02,   1.28000000e-01,   2.56000000e-01,\n",
       "          5.12000000e-01,   1.02400000e+00,   2.04800000e+00,\n",
       "          4.09600000e+00,   8.19200000e+00,   1.63840000e+01,\n",
       "          3.27680000e+01,   6.55360000e+01,   1.31072000e+02],\n",
       "       [  1.00000000e-03,   2.00000000e-03,   4.00000000e-03,\n",
       "          8.00000000e-03,   1.60000000e-02,   3.20000000e-02,\n",
       "          6.40000000e-02,   1.28000000e-01,   2.56000000e-01,\n",
       "          5.12000000e-01,   1.02400000e+00,   2.04800000e+00,\n",
       "          4.09600000e+00,   8.19200000e+00,   1.63840000e+01,\n",
       "          3.27680000e+01,   6.55360000e+01,   1.31072000e+02]])"
      ]
     },
     "execution_count": 31,
     "metadata": {},
     "output_type": "execute_result"
    }
   ],
   "source": [
    "dat.ligs"
   ]
  },
  {
   "cell_type": "code",
   "execution_count": 40,
   "metadata": {},
   "outputs": [
    {
     "data": {
      "text/plain": [
       "array([   4.5 ,    5.8 ,    0.65,  540.  ])"
      ]
     },
     "execution_count": 40,
     "metadata": {},
     "output_type": "execute_result"
    }
   ],
   "source": [
    "dat.parms"
   ]
  },
  {
   "cell_type": "code",
   "execution_count": 100,
   "metadata": {
    "collapsed": true
   },
   "outputs": [],
   "source": [
    "#vary all Wym model parameters\n",
    "#variance weighted by y-value (not y squared)\n",
    "def lnlik4pV1(parms,rtot,data,ligs):\n",
    "    datac = np.concatenate(data)\n",
    "    modparms = parms[:-1]\n",
    "    rtots = rtot\n",
    "    #f = parms[-1]\n",
    "    model = lb.models.wymfunc(modparms,ligs,rtots)\n",
    "    invsig2 = 1.0\n",
    "    return -0.5*(np.sum((datac-model)**2*invsig2 - np.log(invsig2)))"
   ]
  },
  {
   "cell_type": "code",
   "execution_count": 101,
   "metadata": {
    "collapsed": true
   },
   "outputs": [],
   "source": [
    "nll4pV1 = lambda *args: -lnlik4pV1(*args)"
   ]
  },
  {
   "cell_type": "code",
   "execution_count": 102,
   "metadata": {},
   "outputs": [
    {
     "data": {
      "text/plain": [
       "0.043900045038868719"
      ]
     },
     "execution_count": 102,
     "metadata": {},
     "output_type": "execute_result"
    }
   ],
   "source": [
    "nll4pV1(guess,dat.rtot,dat.meanset[0],dat.ligs)"
   ]
  },
  {
   "cell_type": "code",
   "execution_count": 104,
   "metadata": {},
   "outputs": [],
   "source": [
    "nll_res4p = sp.optimize.minimize(nll4pV1,guess,bounds=bnds4p,args=(dat.rtot,dat.meanset[0],dat.ligs))"
   ]
  },
  {
   "cell_type": "code",
   "execution_count": 105,
   "metadata": {},
   "outputs": [
    {
     "data": {
      "text/plain": [
       "array([  4.37517327e+00,   5.96800978e+00,   6.31266100e-01,\n",
       "         4.67001820e+02,   5.00000000e-02])"
      ]
     },
     "execution_count": 105,
     "metadata": {},
     "output_type": "execute_result"
    }
   ],
   "source": [
    "nll_res4p.x"
   ]
  },
  {
   "cell_type": "code",
   "execution_count": 115,
   "metadata": {
    "collapsed": true
   },
   "outputs": [],
   "source": [
    "guess = np.array([5.,5.,1.,100,0.021])"
   ]
  },
  {
   "cell_type": "code",
   "execution_count": 125,
   "metadata": {},
   "outputs": [],
   "source": [
    "nll_res4p = sp.optimize.minimize(nll4pV1,guess,bounds=bnds4p,method='SLSQP',args=(dat.rtot,dat.meanset[8],dat.ligs))"
   ]
  },
  {
   "cell_type": "code",
   "execution_count": 131,
   "metadata": {},
   "outputs": [
    {
     "data": {
      "text/plain": [
       "0.018217146903746154"
      ]
     },
     "execution_count": 131,
     "metadata": {},
     "output_type": "execute_result"
    }
   ],
   "source": [
    "nll_res4p.fun"
   ]
  },
  {
   "cell_type": "code",
   "execution_count": null,
   "metadata": {
    "collapsed": true
   },
   "outputs": [],
   "source": []
  }
 ],
 "metadata": {
  "anaconda-cloud": {},
  "kernelspec": {
   "display_name": "Python [conda env:fitter]",
   "language": "python",
   "name": "conda-env-fitter-py"
  },
  "language_info": {
   "codemirror_mode": {
    "name": "ipython",
    "version": 3
   },
   "file_extension": ".py",
   "mimetype": "text/x-python",
   "name": "python",
   "nbconvert_exporter": "python",
   "pygments_lexer": "ipython3",
   "version": "3.5.3"
  }
 },
 "nbformat": 4,
 "nbformat_minor": 1
}

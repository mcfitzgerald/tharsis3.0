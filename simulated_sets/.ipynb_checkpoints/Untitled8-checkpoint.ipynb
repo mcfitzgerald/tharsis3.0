{
 "cells": [
  {
   "cell_type": "code",
   "execution_count": 1,
   "metadata": {
    "collapsed": true
   },
   "outputs": [],
   "source": [
    "import sys\n",
    "import copy\n",
    "import emcee\n",
    "import corner\n",
    "import numpy as np\n",
    "import matplotlib.pyplot as plt\n",
    "from mods import prep, plotter\n",
    "from scipy import optimize\n",
    "%matplotlib inline\n",
    "%load_ext autoreload\n",
    "\n",
    "sys.path.append('./ligbind/')\n",
    "import ligbind"
   ]
  },
  {
   "cell_type": "code",
   "execution_count": 2,
   "metadata": {
    "collapsed": true
   },
   "outputs": [],
   "source": [
    "#vary all Wym model parameters\n",
    "#variance weighted by y-value (not y squared)\n",
    "def lnlik(allfit,data,ligs):\n",
    "    datac = np.concatenate(data)\n",
    "    modparms = allfit[0:4]\n",
    "    rtots = allfit[4:-1]\n",
    "    f = allfit[-1]\n",
    "    model = ligbind.models.wymfunc(modparms,ligs,rtots)\n",
    "    invsig2 = 1.0/np.square(f * np.sqrt(model))\n",
    "    return -0.5*(np.sum((datac-model)**2*invsig2 - np.log(invsig2)))"
   ]
  },
  {
   "cell_type": "code",
   "execution_count": 3,
   "metadata": {
    "collapsed": true
   },
   "outputs": [],
   "source": [
    "#uniform prior based on bounds\n",
    "def lnpri(allfit,bounds):\n",
    "    assert len(bounds) == len(allfit)\n",
    "    if all([bounds[i][0] <= allfit[i] <= bounds[i][1] for i in range(len(bounds))]) is True:\n",
    "        return 0.0\n",
    "    else:\n",
    "        return -np.inf"
   ]
  },
  {
   "cell_type": "code",
   "execution_count": 4,
   "metadata": {
    "collapsed": true
   },
   "outputs": [],
   "source": [
    "def lnprob(allfit,bounds,data,ligs):\n",
    "    lp = lnpri(allfit,bounds)\n",
    "    if not np.isfinite(lp):\n",
    "        return -np.inf\n",
    "    return lp + lnlik(allfit,data,ligs)"
   ]
  },
  {
   "cell_type": "code",
   "execution_count": 5,
   "metadata": {
    "collapsed": true
   },
   "outputs": [],
   "source": [
    "bnds = ((4.6, 4.6),\n",
    "        (5.3, 5.3),\n",
    "        (0.34, 0.34),\n",
    "        (530.0, 530.0),\n",
    "        (0.0, 1.0),\n",
    "        (0.0, 1.0),\n",
    "        (0.0, 1.0),\n",
    "        (0.0, 1.0),\n",
    "        (0.0, 1.0),\n",
    "        (0.0, 1.0),\n",
    "        (0.0001, 0.1))"
   ]
  },
  {
   "cell_type": "code",
   "execution_count": 6,
   "metadata": {
    "collapsed": true
   },
   "outputs": [],
   "source": [
    "guess = np.array([4.60,\n",
    "                  5.30,\n",
    "                  3.40e-01,\n",
    "                  5.30e+02,\n",
    "                  5.70e-04,\n",
    "                  1.02e-03,\n",
    "                  2.18e-03,\n",
    "                  2.85e-03,\n",
    "                  5.48e-03,\n",
    "                  1.06e-02,\n",
    "                  0.02])"
   ]
  },
  {
   "cell_type": "code",
   "execution_count": 7,
   "metadata": {
    "collapsed": true
   },
   "outputs": [],
   "source": [
    "est = np.array([5.70E-04,\n",
    "                1.02E-03,\n",
    "                2.18E-03,\n",
    "                2.85E-03,\n",
    "                5.48E-03,\n",
    "                1.06E-02])"
   ]
  },
  {
   "cell_type": "code",
   "execution_count": 47,
   "metadata": {
    "collapsed": false
   },
   "outputs": [
    {
     "data": {
      "text/plain": [
       "array([  5.70000000e-05,   1.02000000e-04,   2.18000000e-04,\n",
       "         2.85000000e-04,   5.48000000e-04,   1.06000000e-03])"
      ]
     },
     "execution_count": 47,
     "metadata": {},
     "output_type": "execute_result"
    }
   ],
   "source": [
    "np.float64(est/10.)"
   ]
  },
  {
   "cell_type": "code",
   "execution_count": 48,
   "metadata": {
    "collapsed": false
   },
   "outputs": [
    {
     "data": {
      "text/plain": [
       "array([ 0.0057,  0.0102,  0.0218,  0.0285,  0.0548,  0.106 ])"
      ]
     },
     "execution_count": 48,
     "metadata": {},
     "output_type": "execute_result"
    }
   ],
   "source": [
    "np.float64(est*10.)"
   ]
  },
  {
   "cell_type": "code",
   "execution_count": 46,
   "metadata": {
    "collapsed": false
   },
   "outputs": [
    {
     "data": {
      "text/plain": [
       "((5.6999999999999996e-05, 0.0057000000000000002),\n",
       " (0.00010200000000000001, 0.010200000000000001),\n",
       " (0.00021800000000000001, 0.0218),\n",
       " (0.00028499999999999999, 0.028500000000000001),\n",
       " (0.00054799999999999998, 0.054799999999999995),\n",
       " (0.00106, 0.106))"
      ]
     },
     "execution_count": 46,
     "metadata": {},
     "output_type": "execute_result"
    }
   ],
   "source": [
    "tuple(i for i in zip(np.float64(rtlo.tolist()),np.float64(rthi.tolist())))"
   ]
  },
  {
   "cell_type": "code",
   "execution_count": 22,
   "metadata": {
    "collapsed": false
   },
   "outputs": [
    {
     "data": {
      "text/plain": [
       "[numpy.float64,\n",
       " numpy.float64,\n",
       " numpy.float64,\n",
       " numpy.float64,\n",
       " numpy.float64,\n",
       " numpy.float64]"
      ]
     },
     "execution_count": 22,
     "metadata": {},
     "output_type": "execute_result"
    }
   ],
   "source": [
    "[type(i) for i in rtlo]"
   ]
  },
  {
   "cell_type": "code",
   "execution_count": 36,
   "metadata": {
    "collapsed": true
   },
   "outputs": [],
   "source": [
    "bnds = ((4.6, 4.6),\n",
    "        (5.3, 5.3),\n",
    "        (0.34, 0.34),\n",
    "        (530.0, 530.0),\n",
    "        (5.6999999999999996e-05, 0.0057),\n",
    "        (0.00010200000000000001, 0.0102),\n",
    "        (0.000218, 0.0218),\n",
    "        (0.000285, 0.0285),\n",
    "        (0.000548, 0.054799999999999995),\n",
    "        (0.00106, 0.106),\n",
    "        (0.0001, 0.1))"
   ]
  },
  {
   "cell_type": "code",
   "execution_count": 37,
   "metadata": {
    "collapsed": false
   },
   "outputs": [
    {
     "data": {
      "text/plain": [
       "((4.6, 4.6),\n",
       " (5.3, 5.3),\n",
       " (0.34, 0.34),\n",
       " (530.0, 530.0),\n",
       " (5.6999999999999996e-05, 0.0057),\n",
       " (0.00010200000000000001, 0.0102),\n",
       " (0.000218, 0.0218),\n",
       " (0.000285, 0.0285),\n",
       " (0.000548, 0.054799999999999995),\n",
       " (0.00106, 0.106),\n",
       " (0.0001, 0.1))"
      ]
     },
     "execution_count": 37,
     "metadata": {},
     "output_type": "execute_result"
    }
   ],
   "source": [
    "bnds"
   ]
  },
  {
   "cell_type": "code",
   "execution_count": 50,
   "metadata": {
    "collapsed": false
   },
   "outputs": [],
   "source": [
    "thing = np.float64(bnds)"
   ]
  },
  {
   "cell_type": "code",
   "execution_count": 51,
   "metadata": {
    "collapsed": false
   },
   "outputs": [
    {
     "data": {
      "text/plain": [
       "(array([ 4.6,  4.6]),\n",
       " array([ 5.3,  5.3]),\n",
       " array([ 0.34,  0.34]),\n",
       " array([ 530.,  530.]),\n",
       " array([  5.70000000e-05,   5.70000000e-03]),\n",
       " array([ 0.000102,  0.0102  ]),\n",
       " array([ 0.000218,  0.0218  ]),\n",
       " array([ 0.000285,  0.0285  ]),\n",
       " array([ 0.000548,  0.0548  ]),\n",
       " array([ 0.00106,  0.106  ]),\n",
       " array([ 0.0001,  0.1   ]))"
      ]
     },
     "execution_count": 51,
     "metadata": {},
     "output_type": "execute_result"
    }
   ],
   "source": [
    "tuple(thing)"
   ]
  },
  {
   "cell_type": "code",
   "execution_count": null,
   "metadata": {
    "collapsed": true
   },
   "outputs": [],
   "source": []
  }
 ],
 "metadata": {
  "kernelspec": {
   "display_name": "Python [conda env:fitter]",
   "language": "python",
   "name": "conda-env-fitter-py"
  },
  "language_info": {
   "codemirror_mode": {
    "name": "ipython",
    "version": 3
   },
   "file_extension": ".py",
   "mimetype": "text/x-python",
   "name": "python",
   "nbconvert_exporter": "python",
   "pygments_lexer": "ipython3",
   "version": "3.5.2"
  }
 },
 "nbformat": 4,
 "nbformat_minor": 1
}

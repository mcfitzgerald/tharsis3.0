{
 "cells": [
  {
   "cell_type": "code",
   "execution_count": 1,
   "metadata": {
    "collapsed": true
   },
   "outputs": [],
   "source": [
    "import sys\n",
    "import copy\n",
    "import emcee\n",
    "import corner\n",
    "import numpy as np\n",
    "import matplotlib.pyplot as plt\n",
    "from mods import prep, plotter\n",
    "from scipy import optimize\n",
    "%matplotlib inline\n",
    "%load_ext autoreload\n",
    "\n",
    "sys.path.append('./ligbind/')\n",
    "import ligbind"
   ]
  },
  {
   "cell_type": "code",
   "execution_count": 2,
   "metadata": {
    "collapsed": false
   },
   "outputs": [
    {
     "name": "stdout",
     "output_type": "stream",
     "text": [
      "hootie hoo! the indices match!\n"
     ]
    }
   ],
   "source": [
    "WT_08_lbl, WT_08_rtot, WT_08_lig, WT_08_sat = prep.datprep('data/EGFR_WT_08_Sat.csv','Data/EGFR_WT_08_Rtot.csv')"
   ]
  },
  {
   "cell_type": "code",
   "execution_count": 4,
   "metadata": {
    "collapsed": false
   },
   "outputs": [],
   "source": [
    "def lnlikelihood(parms,data,*modargs):\n",
    "    datac = np.concatenate(data)\n",
    "    lnf = parms[-1]\n",
    "    model = ligbind.models.wymfunc(parms[:-1],*modargs)\n",
    "    invsig2 = 1.0/np.exp(2*lnf)\n",
    "    return -0.5*(np.sum((datac-model)**2*invsig2 - np.log(invsig2)))"
   ]
  },
  {
   "cell_type": "code",
   "execution_count": 5,
   "metadata": {
    "collapsed": true
   },
   "outputs": [],
   "source": [
    "def lnprior(parms,bounds):\n",
    "    k11,k21,k22,l20,lnf = parms\n",
    "    k11_lo = bounds[0][0]\n",
    "    k11_hi = bounds[0][1]\n",
    "    k21_lo = bounds[1][0]\n",
    "    k21_hi = bounds[1][1]\n",
    "    k22_lo = bounds[2][0]\n",
    "    k22_hi = bounds[2][1]\n",
    "    l20_lo = bounds[3][0]\n",
    "    l20_hi = bounds[3][1]\n",
    "    lnf_lo = bounds[4][0]\n",
    "    lnf_hi = bounds[4][1]\n",
    "    if k11_lo < k11 < k11_hi and k21_lo < k21 < k22_hi and k22_lo < k22 < k22_hi and l20_lo < l20 < l20_hi and lnf_lo < lnf < lnf_hi:\n",
    "        return 0.0\n",
    "    return -np.inf"
   ]
  },
  {
   "cell_type": "code",
   "execution_count": 6,
   "metadata": {
    "collapsed": true
   },
   "outputs": [],
   "source": [
    "def lnprob_jn(parms,bounds,data,*modargs):\n",
    "    lp = lnprior(parms,bounds)\n",
    "    if not np.isfinite(lp):\n",
    "        return -np.inf\n",
    "    return lp + lnlikelihood(parms,data,*modargs)"
   ]
  },
  {
   "cell_type": "code",
   "execution_count": 7,
   "metadata": {
    "collapsed": true
   },
   "outputs": [],
   "source": [
    "bnds = ((0.0, 100.0), (0.0, 100.0), (0.0, 100.0), (0.0, 100000.0), (-10.0, 0.0))"
   ]
  },
  {
   "cell_type": "code",
   "execution_count": 8,
   "metadata": {
    "collapsed": true
   },
   "outputs": [],
   "source": [
    "nll = lambda *args: -lnlikelihood(*args)"
   ]
  },
  {
   "cell_type": "code",
   "execution_count": 9,
   "metadata": {
    "collapsed": true
   },
   "outputs": [],
   "source": [
    "guess = np.array([10.,5.,0.5,100.,-2.])"
   ]
  },
  {
   "cell_type": "code",
   "execution_count": 10,
   "metadata": {
    "collapsed": true
   },
   "outputs": [],
   "source": [
    "wt08nllfit = optimize.minimize(nll,guess,args=(WT_08_sat,WT_08_lig,WT_08_rtot),bounds=bnds)"
   ]
  },
  {
   "cell_type": "code",
   "execution_count": 11,
   "metadata": {
    "collapsed": false
   },
   "outputs": [
    {
     "data": {
      "text/plain": [
       "array([   3.79533024,    5.44190955,    0.19626168,  170.11237782,\n",
       "         -4.03667003])"
      ]
     },
     "execution_count": 11,
     "metadata": {},
     "output_type": "execute_result"
    }
   ],
   "source": [
    "wt08nllfit.x"
   ]
  },
  {
   "cell_type": "code",
   "execution_count": 17,
   "metadata": {
    "collapsed": true
   },
   "outputs": [],
   "source": [
    "def lnlikelihood_s(parms,data,*modargs):\n",
    "    datac = np.concatenate(data)\n",
    "    lnf = parms[-1]\n",
    "    model = ligbind.models.wymfunc(parms[:-1],*modargs)\n",
    "    invsig2 = 1.0/(model**2*np.exp(2*lnf))\n",
    "    return -0.5*(np.sum((datac-model)**2*invsig2 - np.log(invsig2)))"
   ]
  },
  {
   "cell_type": "code",
   "execution_count": 18,
   "metadata": {
    "collapsed": true
   },
   "outputs": [],
   "source": [
    "def lnprob_jn_s(parms,bounds,data,*modargs):\n",
    "    lp = lnprior(parms,bounds)\n",
    "    if not np.isfinite(lp):\n",
    "        return -np.inf\n",
    "    return lp + lnlikelihood_s(parms,data,*modargs)"
   ]
  },
  {
   "cell_type": "code",
   "execution_count": 19,
   "metadata": {
    "collapsed": true
   },
   "outputs": [],
   "source": [
    "nll_s = lambda *args: -lnlikelihood_s(*args)"
   ]
  },
  {
   "cell_type": "code",
   "execution_count": 20,
   "metadata": {
    "collapsed": true
   },
   "outputs": [],
   "source": [
    "wt08nllfit_s = optimize.minimize(nll_s,guess,args=(WT_08_sat,WT_08_lig,WT_08_rtot),bounds=bnds)"
   ]
  },
  {
   "cell_type": "code",
   "execution_count": 21,
   "metadata": {
    "collapsed": false
   },
   "outputs": [
    {
     "data": {
      "text/plain": [
       "array([  1.01196961e+01,   6.59313258e+00,   4.40348630e-01,\n",
       "         1.35852914e+04,  -2.29471119e+00])"
      ]
     },
     "execution_count": 21,
     "metadata": {},
     "output_type": "execute_result"
    }
   ],
   "source": [
    "wt08nllfit_s.x"
   ]
  },
  {
   "cell_type": "code",
   "execution_count": null,
   "metadata": {
    "collapsed": true
   },
   "outputs": [],
   "source": []
  }
 ],
 "metadata": {
  "anaconda-cloud": {},
  "kernelspec": {
   "display_name": "Python [conda env:fitter]",
   "language": "python",
   "name": "conda-env-fitter-py"
  },
  "language_info": {
   "codemirror_mode": {
    "name": "ipython",
    "version": 3
   },
   "file_extension": ".py",
   "mimetype": "text/x-python",
   "name": "python",
   "nbconvert_exporter": "python",
   "pygments_lexer": "ipython3",
   "version": "3.5.2"
  }
 },
 "nbformat": 4,
 "nbformat_minor": 1
}

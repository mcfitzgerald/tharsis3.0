{
 "cells": [
  {
   "cell_type": "code",
   "execution_count": 5,
   "metadata": {
    "collapsed": true
   },
   "outputs": [],
   "source": [
    "import sys\n",
    "import copy\n",
    "import emcee\n",
    "import corner\n",
    "import numpy as np\n",
    "import matplotlib.pyplot as plt\n",
    "from mods import prep, plotter\n",
    "from scipy import optimize\n",
    "%matplotlib inline\n",
    "%load_ext autoreload\n",
    "\n",
    "sys.path.append('./ligbind/')\n",
    "import ligbind"
   ]
  },
  {
   "cell_type": "code",
   "execution_count": 2,
   "metadata": {
    "collapsed": true
   },
   "outputs": [],
   "source": [
    "def wymsol(var,parms,rtot,ltot):\n",
    "    \n",
    "    k11 = parm[0]\n",
    "    k21 = parm[1]\n",
    "    k22 = parm[2]\n",
    "    l20 = parm[3]\n",
    "    \n",
    "    (L, M, MM, ML, MML, MMLL) = var\n",
    "    \n",
    "    eq1 = M + 2*MM + ML + 2*MML + 2*MMLL - rtot\n",
    "    eq2 = L + ML + MML + 2*MMLL - ltot\n",
    "    eq3 = l20 * M**2 - MM\n",
    "    eq4 = k11 * L * M - ML\n",
    "    eq5 = l20 * k21 * M**2 * L - MML\n",
    "    eq6 = l20 * k21 * k22 * M**2 * L**2 - MMLL\n",
    "    \n",
    "    return np.array([eq1,eq2,eq3,eq4,eq5,eq6])"
   ]
  },
  {
   "cell_type": "code",
   "execution_count": 121,
   "metadata": {
    "collapsed": true
   },
   "outputs": [],
   "source": [
    "guess = (1000.,1000.,1000.,1000.,1000.,1000.)"
   ]
  },
  {
   "cell_type": "code",
   "execution_count": 4,
   "metadata": {
    "collapsed": true
   },
   "outputs": [],
   "source": [
    "parm = np.array([3.914,2.951,0.1136,313.9])\n"
   ]
  },
  {
   "cell_type": "code",
   "execution_count": 6,
   "metadata": {
    "collapsed": true
   },
   "outputs": [],
   "source": [
    "ligser = ligbind.helpers.dilser()"
   ]
  },
  {
   "cell_type": "code",
   "execution_count": 7,
   "metadata": {
    "collapsed": false
   },
   "outputs": [
    {
     "data": {
      "text/plain": [
       "array([  1.00000000e-03,   2.00000000e-03,   4.00000000e-03,\n",
       "         8.00000000e-03,   1.60000000e-02,   3.20000000e-02,\n",
       "         6.40000000e-02,   1.28000000e-01,   2.56000000e-01,\n",
       "         5.12000000e-01,   1.02400000e+00,   2.04800000e+00,\n",
       "         4.09600000e+00,   8.19200000e+00,   1.63840000e+01,\n",
       "         3.27680000e+01,   6.55360000e+01,   1.31072000e+02])"
      ]
     },
     "execution_count": 7,
     "metadata": {},
     "output_type": "execute_result"
    }
   ],
   "source": [
    "ligser"
   ]
  },
  {
   "cell_type": "code",
   "execution_count": 188,
   "metadata": {
    "collapsed": true
   },
   "outputs": [],
   "source": [
    "def frax(res):\n",
    "    L = res[:,0]\n",
    "    M = res[:,1]\n",
    "    MM = res[:,2]\n",
    "    ML = res[:,3]\n",
    "    MML = res[:,4]\n",
    "    MMLL = res[:,5]\n",
    "    \n",
    "    Mfree = M + 2*MM\n",
    "    \n",
    "    Mtot = M + ML + 2*MM + 2*MML + 2*MMLL\n",
    "    \n",
    "    Ltot = L + ML + MML + 2*MMLL\n",
    "    \n",
    "    Mbound = ML + 2*MML + 2*MMLL\n",
    "    \n",
    "    Lbound = ML + MML + 2*MMLL\n",
    "    \n",
    "    Lfree_check = Ltot - Lbound\n",
    "    \n",
    "    Mfree_check = Mtot - Mbound\n",
    "    \n",
    "    Monomer = M + ML\n",
    "    \n",
    "    Dimer = 2*MM + 2*MML + 2*MMLL #quantified as monomer, i.e., [MM] = 2[M]\n",
    "    \n",
    "    Monfrac = Monomer/Mtot\n",
    "    \n",
    "    Dimfrac = Dimer/Mtot\n",
    "    \n",
    "    Mon_bfrac = ML/Monomer\n",
    "    \n",
    "    Dim_bfrac = (MML + 2*MMLL)/Dimer\n",
    "    \n",
    "    Bfrac = Lbound/Mtot\n",
    "    \n",
    "    \n",
    "    return np.array([L,M,MM,ML,MML,MMLL,Bfrac,Monfrac,Dimfrac,Mon_bfrac,Dim_bfrac,Mtot])"
   ]
  },
  {
   "cell_type": "code",
   "execution_count": 189,
   "metadata": {
    "collapsed": true
   },
   "outputs": [],
   "source": [
    "colnames = ['L','M','MM','ML','MML','MMLL','Bfrac','Monfrac','Dimfrac','Mon_bfrac','Dim_bfrac','Mtot']"
   ]
  },
  {
   "cell_type": "code",
   "execution_count": 190,
   "metadata": {
    "collapsed": false
   },
   "outputs": [],
   "source": [
    "rtot = np.array([1e-4,1e-3,1e-2,1e-1,1e0])"
   ]
  },
  {
   "cell_type": "code",
   "execution_count": 191,
   "metadata": {
    "collapsed": false
   },
   "outputs": [
    {
     "data": {
      "text/plain": [
       "array([  1.00000000e-04,   1.00000000e-03,   1.00000000e-02,\n",
       "         1.00000000e-01,   1.00000000e+00])"
      ]
     },
     "execution_count": 191,
     "metadata": {},
     "output_type": "execute_result"
    }
   ],
   "source": [
    "rtot"
   ]
  },
  {
   "cell_type": "code",
   "execution_count": 192,
   "metadata": {
    "collapsed": false
   },
   "outputs": [],
   "source": [
    "res_mult = np.array([[optimize.root(wymsol,guess,args=(parm,j,i),method='lm',options={'factor':0.1}).x for i in ligser] for j in rtot])"
   ]
  },
  {
   "cell_type": "code",
   "execution_count": 193,
   "metadata": {
    "collapsed": false
   },
   "outputs": [
    {
     "data": {
      "text/plain": [
       "array([[[  9.99623789e-04,   9.40611373e-05,   2.77722948e-06,\n",
       "           3.68016787e-07,   8.19252093e-09,   9.30320249e-13],\n",
       "        [  1.99925036e-03,   9.37198685e-05,   2.75711358e-06,\n",
       "           7.33364149e-07,   1.62663851e-08,   3.69433747e-12],\n",
       "        [  3.99851174e-03,   9.30446209e-05,   2.71752693e-06,\n",
       "           1.45616460e-06,   3.20657529e-08,   1.45652569e-11],\n",
       "        [  7.99706660e-03,   9.17225769e-05,   2.64085047e-06,\n",
       "           2.87096423e-06,   6.23223374e-08,   5.66177723e-11],\n",
       "        [  1.59942985e-02,   8.91869093e-05,   2.49685628e-06,\n",
       "           5.58325074e-06,   1.17849556e-07,   2.14127022e-10],\n",
       "        [  3.19892057e-02,   8.45102827e-05,   2.24187000e-06,\n",
       "           1.05811734e-05,   2.11632855e-07,   7.69068242e-10],\n",
       "        [  6.39804967e-02,   7.64781116e-05,   1.83597020e-06,\n",
       "           1.91516230e-05,   3.46643008e-07,   2.51946531e-09],\n",
       "        [  1.27967321e-01,   6.42406900e-05,   1.29542332e-06,\n",
       "           3.21758550e-05,   4.89192733e-07,   7.11143763e-09],\n",
       "        [  2.55950683e-01,   4.86367494e-05,   7.42540931e-07,\n",
       "           4.87238564e-05,   5.60848935e-07,   1.63072423e-08],\n",
       "        [  5.11933890e-01,   3.27110225e-05,   3.35876450e-07,\n",
       "           6.55433781e-05,   5.07414232e-07,   2.95090248e-08],\n",
       "        [  1.02392037e+00,   1.97555787e-05,   1.22509799e-07,\n",
       "           7.91729378e-05,   3.70174262e-07,   4.30576908e-08],\n",
       "        [  2.04791133e+00,   1.10205185e-05,   3.81237290e-08,\n",
       "           8.83352411e-05,   2.30396423e-07,   5.36000520e-08],\n",
       "        [  4.09590600e+00,   5.84792910e-06,   1.07348385e-08,\n",
       "           9.37503508e-05,   1.29752192e-07,   6.03730361e-08],\n",
       "        [  8.19190309e+00,   3.01628376e-06,   2.85585207e-09,\n",
       "           9.67114341e-05,   6.90382418e-08,   6.42470010e-08],\n",
       "        [  1.63839016e+01,   1.53231740e-06,   7.37036134e-10,\n",
       "           9.82622907e-05,   3.56348816e-08,   6.63240413e-08],\n",
       "        [  3.27679008e+01,   7.72347077e-07,   1.87247630e-10,\n",
       "           9.90562651e-05,   1.81064855e-08,   6.74001886e-08],\n",
       "        [  6.55359004e+01,   3.87739194e-07,   4.71922541e-11,\n",
       "           9.94580168e-05,   9.12681404e-09,   6.79480197e-08],\n",
       "        [  1.31071900e+02,   1.94276428e-07,   1.12998467e-11,\n",
       "           9.96668026e-05,   4.37070055e-09,   6.50787103e-08]],\n",
       "\n",
       "       [[  9.96847318e-04,   6.94016818e-04,   1.51192868e-04,\n",
       "           2.70781794e-06,   4.44763521e-07,   5.03658463e-11],\n",
       "        [  1.99371417e-03,   6.92106322e-04,   1.50361603e-04,\n",
       "           5.40078059e-06,   8.84645054e-07,   2.00359658e-10],\n",
       "        [  3.98750579e-03,   6.88316741e-04,   1.48719522e-04,\n",
       "           1.07426266e-05,   1.75000188e-06,   7.92717003e-10],\n",
       "        [  7.97531574e-03,   6.80860841e-04,   1.45515089e-04,\n",
       "           2.12533338e-05,   3.42472043e-06,   3.10278256e-09],\n",
       "        [  1.59518053e-02,   6.66423788e-04,   1.39409477e-04,\n",
       "           4.16084130e-05,   6.56253067e-06,   1.18921264e-08],\n",
       "        [  3.19079894e-02,   6.39313375e-04,   1.28297707e-04,\n",
       "           7.98424859e-05,   1.20805733e-05,   4.37890289e-08],\n",
       "        [  6.38313254e-02,   5.91217656e-04,   1.09720078e-04,\n",
       "           1.47707341e-04,   2.06675586e-05,   1.49865398e-07],\n",
       "        [  1.27710964e-01,   5.13913508e-04,   8.29032166e-05,\n",
       "           2.56885173e-04,   3.12441543e-05,   4.53289113e-07],\n",
       "        [  2.55550917e-01,   4.07416504e-04,   5.21036985e-05,\n",
       "           4.07508698e-04,   3.92930015e-05,   1.14069879e-06],\n",
       "        [  5.11379503e-01,   2.88085820e-04,   2.60516408e-05,\n",
       "           5.76615113e-04,   3.93140339e-05,   2.28385883e-06],\n",
       "        [  1.02323372e+00,   1.81702599e-04,   1.03636704e-05,\n",
       "           7.27707424e-04,   3.12937528e-05,   3.63756552e-06],\n",
       "        [  2.04713211e+00,   1.04528956e-04,   3.42976641e-06,\n",
       "           8.37535656e-04,   2.07195168e-05,   4.81841080e-06],\n",
       "        [  4.09507065e+00,   5.65230347e-05,   1.00286450e-06,\n",
       "           9.05957221e-04,   1.21191697e-05,   5.63783804e-06],\n",
       "        [  8.19103659e+00,   2.94626025e-05,   2.72479309e-07,\n",
       "           9.44562706e-04,   6.58630146e-06,   6.12856508e-06],\n",
       "        [  1.63830186e+01,   1.50512571e-05,   7.11110126e-08,\n",
       "           9.65133788e-04,   3.43795349e-06,   6.39841278e-06],\n",
       "        [  3.27670094e+01,   7.60827012e-06,   1.81703445e-08,\n",
       "           9.75761212e-04,   1.75698955e-06,   6.54009888e-06],\n",
       "        [  6.55350046e+01,   3.82514028e-06,   4.59287479e-09,\n",
       "           9.81163812e-04,   8.88233502e-07,   6.61269992e-06],\n",
       "        [  1.31071002e+02,   1.91786521e-06,   1.15458916e-09,\n",
       "           9.83887680e-04,   4.46584151e-07,   6.64948880e-06]],\n",
       "\n",
       "       [[  9.77825828e-04,   3.26709149e-03,   3.35053308e-03,\n",
       "           1.25038462e-05,   9.66817769e-06,   1.07395098e-09],\n",
       "        [  1.95576577e-03,   3.26088233e-03,   3.33780969e-03,\n",
       "           2.49616213e-05,   1.92640511e-05,   4.27999038e-09],\n",
       "        [  3.91198438e-03,   3.24854430e-03,   3.31259928e-03,\n",
       "           4.97401083e-05,   3.82415268e-05,   1.69945890e-08],\n",
       "        [  7.82575180e-03,   3.22418435e-03,   3.26310499e-03,\n",
       "           9.87567426e-05,   7.53574729e-05,   6.69932007e-08],\n",
       "        [  1.56584173e-02,   3.17668998e-03,   3.16767766e-03,\n",
       "           1.94689943e-04,   1.46372016e-04,   2.60365987e-07],\n",
       "        [  3.13428611e-02,   3.08631177e-03,   2.98999806e-03,\n",
       "           3.78616255e-04,   2.76553243e-04,   9.84681378e-07],\n",
       "        [  6.27784566e-02,   2.92194676e-03,   2.68000690e-03,\n",
       "           7.17965793e-04,   4.96496001e-04,   3.54082710e-06],\n",
       "        [  1.25857114e-01,   2.64588809e-03,   2.19752720e-03,\n",
       "           1.30337702e-03,   8.16171144e-04,   1.16690993e-05],\n",
       "        [  2.52550422e-01,   2.23723039e-03,   1.57113222e-03,\n",
       "           2.21146276e-03,   1.17092761e-03,   3.35935945e-05],\n",
       "        [  5.07006108e-01,   1.72823829e-03,   9.37558904e-04,\n",
       "           3.42955393e-03,   1.40275222e-03,   8.07927679e-05],\n",
       "        [  1.01749798e+00,   1.20767859e-03,   4.57819250e-04,\n",
       "           4.80956441e-03,   1.37466481e-03,   1.58894441e-04],\n",
       "        [  2.04024808e+00,   7.66985583e-04,   1.84656975e-04,\n",
       "           6.12478713e-03,   1.11177756e-03,   2.57679110e-04],\n",
       "        [  4.08733994e+00,   4.49217062e-04,   6.33437547e-05,\n",
       "           7.18650652e-03,   7.64035911e-04,   3.54758543e-04],\n",
       "        [  8.18274979e+00,   2.47404916e-04,   1.92135655e-05,\n",
       "           7.92370717e-03,   4.63955626e-04,   4.31274766e-04],\n",
       "        [  1.63744005e+01,   1.30699285e-04,   5.36213493e-06,\n",
       "           8.37643922e-03,   2.59102949e-04,   4.81965662e-04],\n",
       "        [  3.27582077e+01,   6.73187771e-05,   1.42253759e-06,\n",
       "           8.63131907e-03,   1.37515956e-04,   5.11742583e-04],\n",
       "        [  6.55261058e+01,   3.41844063e-05,   3.66815263e-07,\n",
       "           8.76724659e-03,   7.09301645e-05,   5.27987520e-04],\n",
       "        [  1.31062053e+02,   1.72279550e-05,   9.31662696e-08,\n",
       "           8.83754255e-03,   3.60333703e-05,   5.36488212e-04]],\n",
       "\n",
       "       [[  8.50306434e-04,   1.18331595e-02,   4.39534283e-02,\n",
       "           3.93819309e-05,   1.10290328e-04,   1.06534734e-08],\n",
       "        [  1.70118695e-03,   1.18168241e-02,   4.38321583e-02,\n",
       "           7.86816817e-05,   2.20046319e-04,   4.25250156e-08],\n",
       "        [  3.40465846e-03,   1.17842985e-02,   4.35911964e-02,\n",
       "           1.57035597e-04,   4.37967162e-04,   1.69392209e-07],\n",
       "        [  6.81836186e-03,   1.17198239e-02,   4.31155058e-02,\n",
       "           3.12767740e-04,   8.67526482e-04,   6.71956437e-07],\n",
       "        [  1.36721713e-02,   1.15931394e-02,   4.21884364e-02,\n",
       "           6.20382258e-04,   1.70215902e-03,   2.64372301e-06],\n",
       "        [  2.74804928e-02,   1.13485128e-02,   4.04267862e-02,\n",
       "           1.22063070e-03,   3.27840757e-03,   1.02344802e-05],\n",
       "        [  5.54637816e-02,   1.08918195e-02,   3.72385009e-02,\n",
       "           2.36445327e-03,   6.09496024e-03,   3.84024282e-05],\n",
       "        [  1.12651661e-01,   1.00914403e-02,   3.19666867e-02,\n",
       "           4.44950372e-03,   1.06268471e-02,   1.35994193e-04],\n",
       "        [  2.30494092e-01,   8.83428697e-03,   2.44982082e-02,\n",
       "           7.96988624e-03,   1.66633889e-02,   4.36316322e-04],\n",
       "        [  4.73815112e-01,   7.15815015e-03,   1.60839577e-02,\n",
       "           1.32748778e-02,   2.24890464e-02,   1.21048185e-03],\n",
       "        [  9.72601583e-01,   5.32084520e-03,   8.88694646e-03,\n",
       "           2.02551945e-02,   2.55068451e-02,   2.81818857e-03],\n",
       "        [  1.98434626e+00,   3.64177107e-03,   4.16309766e-03,\n",
       "           2.82846572e-02,   2.43782915e-02,   5.49539675e-03],\n",
       "        [  4.02155657e+00,   2.31086617e-03,   1.67625817e-03,\n",
       "           3.63738942e-02,   1.98931839e-02,   9.08817773e-03],\n",
       "        [  8.10860593e+00,   1.36827890e-03,   5.87679545e-04,\n",
       "           4.34251818e-02,   1.40622877e-02,   1.29533024e-02],\n",
       "        [  1.62939292e+01,   7.63552546e-04,   1.83007621e-04,\n",
       "           4.86951351e-02,   8.79962589e-03,   1.62880227e-02],\n",
       "        [  3.26735387e+01,   4.07539874e-04,   5.21352583e-05,\n",
       "           5.21179231e-02,   5.02686141e-03,   1.86582718e-02],\n",
       "        [  6.54389453e+01,   2.11284908e-04,   1.40129080e-05,\n",
       "           5.41159878e-02,   2.70603726e-03,   2.01163135e-02],\n",
       "        [  1.30973522e+02,   1.07688092e-04,   3.64021202e-06,\n",
       "           5.52041860e-02,   1.40695237e-03,   2.09334704e-02]],\n",
       "\n",
       "       [[  3.89218077e-04,   3.90990244e-02,   4.79869512e-01,\n",
       "           5.95634364e-05,   5.51169746e-04,   2.43700660e-08],\n",
       "        [  7.78934658e-04,   3.90758436e-02,   4.79300677e-01,\n",
       "           1.19132488e-04,   1.10173787e-03,   9.74894542e-08],\n",
       "        [  1.55986441e-03,   3.90295076e-02,   4.78164644e-01,\n",
       "           2.38287217e-04,   2.20106831e-03,   3.90030619e-07],\n",
       "        [  3.12771780e-03,   3.89369386e-02,   4.75899140e-01,\n",
       "           4.76661620e-04,   4.39249920e-03,   1.56069336e-06],\n",
       "        [  6.28745874e-03,   3.87522179e-02,   4.71394426e-01,\n",
       "           9.53657729e-04,   8.74638923e-03,   6.24715497e-06],\n",
       "        [  1.27035257e-02,   3.83844908e-02,   4.62490570e-01,\n",
       "           1.90853828e-03,   1.73378947e-02,   2.50206716e-05],\n",
       "        [  2.59252384e-02,   3.76562444e-02,   4.45107922e-01,\n",
       "           3.82103120e-03,   3.40531501e-02,   1.00290173e-04],\n",
       "        [  5.39470278e-02,   3.62312883e-02,   4.12058492e-01,\n",
       "           7.65018821e-03,   6.55987555e-02,   4.02014256e-04],\n",
       "        [  1.16364858e-01,   3.35267948e-02,   3.52838030e-01,\n",
       "           1.52698475e-02,   1.21162002e-01,   1.60164630e-03],\n",
       "        [  2.65637066e-01,   2.88003659e-02,   2.60367832e-01,\n",
       "           2.99438405e-02,   2.04101037e-01,   6.15902854e-03],\n",
       "        [  6.39163305e-01,   2.20501811e-02,   1.52621472e-01,\n",
       "           5.51626111e-02,   2.87870180e-01,   2.09019519e-02],\n",
       "        [  1.52615503e+00,   1.50611852e-02,   7.12048557e-02,\n",
       "           8.99660434e-02,   3.20684133e-01,   5.55973967e-02],\n",
       "        [  3.45151058e+00,   9.51091173e-03,   2.83945910e-02,\n",
       "           1.28484927e-01,   2.89210487e-01,   1.13397003e-01],\n",
       "        [  7.43718641e+00,   5.64505008e-03,   1.00029227e-02,\n",
       "           1.64322596e-01,   2.19535517e-01,   1.85477737e-01],\n",
       "        [  1.55377561e+01,   3.16630310e-03,   3.14699670e-03,\n",
       "           1.92558019e-01,   1.44295836e-01,   2.54695007e-01],\n",
       "        [  3.18564728e+01,   1.69687248e-03,   9.03836192e-04,\n",
       "           2.11576640e-01,   8.49682406e-02,   3.07491167e-01],\n",
       "        [  6.45838940e+01,   8.81851842e-04,   2.44108312e-04,\n",
       "           2.22915709e-01,   4.65238883e-02,   3.41333223e-01],\n",
       "        [  1.30096985e+02,   4.50039495e-04,   6.35759082e-05,\n",
       "           2.29159931e-01,   2.44078213e-02,   3.60723618e-01]]])"
      ]
     },
     "execution_count": 193,
     "metadata": {},
     "output_type": "execute_result"
    }
   ],
   "source": [
    "res_mult"
   ]
  },
  {
   "cell_type": "code",
   "execution_count": 194,
   "metadata": {
    "collapsed": false
   },
   "outputs": [],
   "source": [
    "fraxres = [frax(i) for i in res_mult]"
   ]
  },
  {
   "cell_type": "code",
   "execution_count": 196,
   "metadata": {
    "collapsed": false
   },
   "outputs": [
    {
     "ename": "IndexError",
     "evalue": "index 8 is out of bounds for axis 1 with size 6",
     "output_type": "error",
     "traceback": [
      "\u001b[0;31m-------------------------------------------------------------------------\u001b[0m",
      "\u001b[0;31mIndexError\u001b[0m                              Traceback (most recent call last)",
      "\u001b[0;32m<ipython-input-196-9a099ca23314>\u001b[0m in \u001b[0;36m<module>\u001b[0;34m()\u001b[0m\n\u001b[1;32m      1\u001b[0m \u001b[0;32mfor\u001b[0m \u001b[0mi\u001b[0m \u001b[0;32min\u001b[0m \u001b[0mres_mult\u001b[0m\u001b[0;34m:\u001b[0m\u001b[0;34m\u001b[0m\u001b[0m\n\u001b[0;32m----> 2\u001b[0;31m     \u001b[0mplt\u001b[0m\u001b[0;34m.\u001b[0m\u001b[0mloglog\u001b[0m\u001b[0;34m(\u001b[0m\u001b[0mligser\u001b[0m\u001b[0;34m,\u001b[0m\u001b[0mi\u001b[0m\u001b[0;34m[\u001b[0m\u001b[0;34m:\u001b[0m\u001b[0;34m,\u001b[0m\u001b[0;36m8\u001b[0m\u001b[0;34m]\u001b[0m\u001b[0;34m,\u001b[0m\u001b[0;34m'.'\u001b[0m\u001b[0;34m)\u001b[0m\u001b[0;34m\u001b[0m\u001b[0m\n\u001b[0m",
      "\u001b[0;31mIndexError\u001b[0m: index 8 is out of bounds for axis 1 with size 6"
     ]
    }
   ],
   "source": [
    "for i in res_mult:\n",
    "    plt.loglog(ligser,i[:,8],'.')"
   ]
  },
  {
   "cell_type": "code",
   "execution_count": 39,
   "metadata": {
    "collapsed": false
   },
   "outputs": [
    {
     "data": {
      "text/plain": [
       "(18,)"
      ]
     },
     "execution_count": 39,
     "metadata": {},
     "output_type": "execute_result"
    }
   ],
   "source": [
    "ligser.shape"
   ]
  },
  {
   "cell_type": "code",
   "execution_count": 273,
   "metadata": {
    "collapsed": false
   },
   "outputs": [
    {
     "data": {
      "image/png": "[encoded data removed]",
      "text/plain": [
       "<matplotlib.figure.Figure at 0x1167529e8>"
      ]
     },
     "metadata": {},
     "output_type": "display_data"
    }
   ],
   "source": [
    "ind = 10\n",
    "for i,j in enumerate(fraxres):\n",
    "    plt.plot((j[ind]/j[11]),'.',label=rtot[i])\n",
    "    plt.legend()\n",
    "    plt.title(colnames[ind])\n"
   ]
  },
  {
   "cell_type": "code",
   "execution_count": null,
   "metadata": {
    "collapsed": true
   },
   "outputs": [],
   "source": [
    "plt.plot"
   ]
  },
  {
   "cell_type": "code",
   "execution_count": 94,
   "metadata": {
    "collapsed": true
   },
   "outputs": [],
   "source": [
    "import pandas as pd"
   ]
  },
  {
   "cell_type": "code",
   "execution_count": 98,
   "metadata": {
    "collapsed": false
   },
   "outputs": [
    {
     "data": {
      "text/html": [
       "<div>\n",
       "<table border=\"1\" class=\"dataframe\">\n",
       "  <thead>\n",
       "    <tr style=\"text-align: right;\">\n",
       "      <th></th>\n",
       "      <th>0</th>\n",
       "      <th>1</th>\n",
       "      <th>2</th>\n",
       "      <th>3</th>\n",
       "      <th>4</th>\n",
       "      <th>5</th>\n",
       "    </tr>\n",
       "  </thead>\n",
       "  <tbody>\n",
       "    <tr>\n",
       "      <th>0</th>\n",
       "      <td>0.000389</td>\n",
       "      <td>0.039099</td>\n",
       "      <td>0.479870</td>\n",
       "      <td>0.000060</td>\n",
       "      <td>0.000551</td>\n",
       "      <td>2.437007e-08</td>\n",
       "    </tr>\n",
       "    <tr>\n",
       "      <th>1</th>\n",
       "      <td>0.000779</td>\n",
       "      <td>0.039076</td>\n",
       "      <td>0.479301</td>\n",
       "      <td>0.000119</td>\n",
       "      <td>0.001102</td>\n",
       "      <td>9.748945e-08</td>\n",
       "    </tr>\n",
       "    <tr>\n",
       "      <th>2</th>\n",
       "      <td>0.001560</td>\n",
       "      <td>0.039030</td>\n",
       "      <td>0.478165</td>\n",
       "      <td>0.000238</td>\n",
       "      <td>0.002201</td>\n",
       "      <td>3.900306e-07</td>\n",
       "    </tr>\n",
       "    <tr>\n",
       "      <th>3</th>\n",
       "      <td>0.003128</td>\n",
       "      <td>0.038937</td>\n",
       "      <td>0.475899</td>\n",
       "      <td>0.000477</td>\n",
       "      <td>0.004392</td>\n",
       "      <td>1.560693e-06</td>\n",
       "    </tr>\n",
       "    <tr>\n",
       "      <th>4</th>\n",
       "      <td>0.006287</td>\n",
       "      <td>0.038752</td>\n",
       "      <td>0.471394</td>\n",
       "      <td>0.000954</td>\n",
       "      <td>0.008746</td>\n",
       "      <td>6.247155e-06</td>\n",
       "    </tr>\n",
       "    <tr>\n",
       "      <th>5</th>\n",
       "      <td>0.012704</td>\n",
       "      <td>0.038384</td>\n",
       "      <td>0.462491</td>\n",
       "      <td>0.001909</td>\n",
       "      <td>0.017338</td>\n",
       "      <td>2.502067e-05</td>\n",
       "    </tr>\n",
       "    <tr>\n",
       "      <th>6</th>\n",
       "      <td>0.025925</td>\n",
       "      <td>0.037656</td>\n",
       "      <td>0.445108</td>\n",
       "      <td>0.003821</td>\n",
       "      <td>0.034053</td>\n",
       "      <td>1.002902e-04</td>\n",
       "    </tr>\n",
       "    <tr>\n",
       "      <th>7</th>\n",
       "      <td>0.053947</td>\n",
       "      <td>0.036231</td>\n",
       "      <td>0.412058</td>\n",
       "      <td>0.007650</td>\n",
       "      <td>0.065599</td>\n",
       "      <td>4.020143e-04</td>\n",
       "    </tr>\n",
       "    <tr>\n",
       "      <th>8</th>\n",
       "      <td>0.116365</td>\n",
       "      <td>0.033527</td>\n",
       "      <td>0.352838</td>\n",
       "      <td>0.015270</td>\n",
       "      <td>0.121162</td>\n",
       "      <td>1.601646e-03</td>\n",
       "    </tr>\n",
       "    <tr>\n",
       "      <th>9</th>\n",
       "      <td>0.265637</td>\n",
       "      <td>0.028800</td>\n",
       "      <td>0.260368</td>\n",
       "      <td>0.029944</td>\n",
       "      <td>0.204101</td>\n",
       "      <td>6.159029e-03</td>\n",
       "    </tr>\n",
       "    <tr>\n",
       "      <th>10</th>\n",
       "      <td>0.639163</td>\n",
       "      <td>0.022050</td>\n",
       "      <td>0.152621</td>\n",
       "      <td>0.055163</td>\n",
       "      <td>0.287870</td>\n",
       "      <td>2.090195e-02</td>\n",
       "    </tr>\n",
       "    <tr>\n",
       "      <th>11</th>\n",
       "      <td>1.526155</td>\n",
       "      <td>0.015061</td>\n",
       "      <td>0.071205</td>\n",
       "      <td>0.089966</td>\n",
       "      <td>0.320684</td>\n",
       "      <td>5.559740e-02</td>\n",
       "    </tr>\n",
       "    <tr>\n",
       "      <th>12</th>\n",
       "      <td>3.451511</td>\n",
       "      <td>0.009511</td>\n",
       "      <td>0.028395</td>\n",
       "      <td>0.128485</td>\n",
       "      <td>0.289210</td>\n",
       "      <td>1.133970e-01</td>\n",
       "    </tr>\n",
       "    <tr>\n",
       "      <th>13</th>\n",
       "      <td>7.437186</td>\n",
       "      <td>0.005645</td>\n",
       "      <td>0.010003</td>\n",
       "      <td>0.164323</td>\n",
       "      <td>0.219536</td>\n",
       "      <td>1.854777e-01</td>\n",
       "    </tr>\n",
       "    <tr>\n",
       "      <th>14</th>\n",
       "      <td>15.537756</td>\n",
       "      <td>0.003166</td>\n",
       "      <td>0.003147</td>\n",
       "      <td>0.192558</td>\n",
       "      <td>0.144296</td>\n",
       "      <td>2.546950e-01</td>\n",
       "    </tr>\n",
       "    <tr>\n",
       "      <th>15</th>\n",
       "      <td>31.856473</td>\n",
       "      <td>0.001697</td>\n",
       "      <td>0.000904</td>\n",
       "      <td>0.211577</td>\n",
       "      <td>0.084968</td>\n",
       "      <td>3.074912e-01</td>\n",
       "    </tr>\n",
       "    <tr>\n",
       "      <th>16</th>\n",
       "      <td>64.612863</td>\n",
       "      <td>-0.001136</td>\n",
       "      <td>0.000405</td>\n",
       "      <td>-0.287196</td>\n",
       "      <td>0.077189</td>\n",
       "      <td>5.665718e-01</td>\n",
       "    </tr>\n",
       "    <tr>\n",
       "      <th>17</th>\n",
       "      <td>130.096985</td>\n",
       "      <td>0.000450</td>\n",
       "      <td>0.000064</td>\n",
       "      <td>0.229160</td>\n",
       "      <td>0.024408</td>\n",
       "      <td>3.607236e-01</td>\n",
       "    </tr>\n",
       "  </tbody>\n",
       "</table>\n",
       "</div>"
      ],
      "text/plain": [
       "             0         1         2         3         4             5\n",
       "0     0.000389  0.039099  0.479870  0.000060  0.000551  2.437007e-08\n",
       "1     0.000779  0.039076  0.479301  0.000119  0.001102  9.748945e-08\n",
       "2     0.001560  0.039030  0.478165  0.000238  0.002201  3.900306e-07\n",
       "3     0.003128  0.038937  0.475899  0.000477  0.004392  1.560693e-06\n",
       "4     0.006287  0.038752  0.471394  0.000954  0.008746  6.247155e-06\n",
       "5     0.012704  0.038384  0.462491  0.001909  0.017338  2.502067e-05\n",
       "6     0.025925  0.037656  0.445108  0.003821  0.034053  1.002902e-04\n",
       "7     0.053947  0.036231  0.412058  0.007650  0.065599  4.020143e-04\n",
       "8     0.116365  0.033527  0.352838  0.015270  0.121162  1.601646e-03\n",
       "9     0.265637  0.028800  0.260368  0.029944  0.204101  6.159029e-03\n",
       "10    0.639163  0.022050  0.152621  0.055163  0.287870  2.090195e-02\n",
       "11    1.526155  0.015061  0.071205  0.089966  0.320684  5.559740e-02\n",
       "12    3.451511  0.009511  0.028395  0.128485  0.289210  1.133970e-01\n",
       "13    7.437186  0.005645  0.010003  0.164323  0.219536  1.854777e-01\n",
       "14   15.537756  0.003166  0.003147  0.192558  0.144296  2.546950e-01\n",
       "15   31.856473  0.001697  0.000904  0.211577  0.084968  3.074912e-01\n",
       "16   64.612863 -0.001136  0.000405 -0.287196  0.077189  5.665718e-01\n",
       "17  130.096985  0.000450  0.000064  0.229160  0.024408  3.607236e-01"
      ]
     },
     "execution_count": 98,
     "metadata": {},
     "output_type": "execute_result"
    }
   ],
   "source": [
    "pd.DataFrame(res_mult[5])"
   ]
  },
  {
   "cell_type": "code",
   "execution_count": 231,
   "metadata": {
    "collapsed": false
   },
   "outputs": [
    {
     "name": "stdout",
     "output_type": "stream",
     "text": [
      "0 [[  9.99623789e-04   1.99925036e-03   3.99851174e-03   7.99706660e-03\n",
      "    1.59942985e-02   3.19892057e-02   6.39804967e-02   1.27967321e-01\n",
      "    2.55950683e-01   5.11933890e-01   1.02392037e+00   2.04791133e+00\n",
      "    4.09590600e+00   8.19190309e+00   1.63839016e+01   3.27679008e+01\n",
      "    6.55359004e+01   1.31071900e+02]\n",
      " [  9.40611373e-05   9.37198685e-05   9.30446209e-05   9.17225769e-05\n",
      "    8.91869093e-05   8.45102827e-05   7.64781116e-05   6.42406900e-05\n",
      "    4.86367494e-05   3.27110225e-05   1.97555787e-05   1.10205185e-05\n",
      "    5.84792910e-06   3.01628376e-06   1.53231740e-06   7.72347077e-07\n",
      "    3.87739194e-07   1.94276428e-07]\n",
      " [  2.77722948e-06   2.75711358e-06   2.71752693e-06   2.64085047e-06\n",
      "    2.49685628e-06   2.24187000e-06   1.83597020e-06   1.29542332e-06\n",
      "    7.42540931e-07   3.35876450e-07   1.22509799e-07   3.81237290e-08\n",
      "    1.07348385e-08   2.85585207e-09   7.37036134e-10   1.87247630e-10\n",
      "    4.71922541e-11   1.12998467e-11]\n",
      " [  3.68016787e-07   7.33364149e-07   1.45616460e-06   2.87096423e-06\n",
      "    5.58325074e-06   1.05811734e-05   1.91516230e-05   3.21758550e-05\n",
      "    4.87238564e-05   6.55433781e-05   7.91729378e-05   8.83352411e-05\n",
      "    9.37503508e-05   9.67114341e-05   9.82622907e-05   9.90562651e-05\n",
      "    9.94580168e-05   9.96668026e-05]\n",
      " [  8.19252093e-09   1.62663851e-08   3.20657529e-08   6.23223374e-08\n",
      "    1.17849556e-07   2.11632855e-07   3.46643008e-07   4.89192733e-07\n",
      "    5.60848935e-07   5.07414232e-07   3.70174262e-07   2.30396423e-07\n",
      "    1.29752192e-07   6.90382418e-08   3.56348816e-08   1.81064855e-08\n",
      "    9.12681404e-09   4.37070055e-09]\n",
      " [  9.30320249e-13   3.69433747e-12   1.45652569e-11   5.66177723e-11\n",
      "    2.14127022e-10   7.69068242e-10   2.51946531e-09   7.11143763e-09\n",
      "    1.63072423e-08   2.95090248e-08   4.30576908e-08   5.36000520e-08\n",
      "    6.03730361e-08   6.42470010e-08   6.63240413e-08   6.74001886e-08\n",
      "    6.79480197e-08   6.50787103e-08]\n",
      " [  3.76211169e-03   7.49637923e-03   1.48825948e-02   2.93339980e-02\n",
      "    5.70152855e-02   1.07943444e-01   1.95033050e-01   3.26792706e-01\n",
      "    4.93173198e-01   6.61098104e-01   7.96292275e-01   8.86728376e-01\n",
      "    9.40008490e-01   9.69089663e-01   9.84305736e-01   9.92091719e-01\n",
      "    9.96030396e-01   9.98013303e-01]\n",
      " [  9.44291541e-01   9.44532327e-01   9.45007855e-01   9.45935412e-01\n",
      "    9.47701601e-01   9.50914562e-01   9.56297347e-01   9.64165450e-01\n",
      "    9.73606058e-01   9.82544006e-01   9.89285165e-01   9.93557596e-01\n",
      "    9.95982799e-01   9.97277178e-01   9.97946081e-01   9.98286122e-01\n",
      "    9.98457559e-01   9.98610786e-01]\n",
      " [  5.57084587e-02   5.54676732e-02   5.49921450e-02   5.40645885e-02\n",
      "    5.22983992e-02   4.90854384e-02   4.37026534e-02   3.58345498e-02\n",
      "    2.63939422e-02   1.74559941e-02   1.07148350e-02   6.44240407e-03\n",
      "    4.01720133e-03   2.72282190e-03   2.05391918e-03   1.71387843e-03\n",
      "    1.54244052e-03   1.38921421e-03]\n",
      " [  3.89727930e-03   7.76430968e-03   1.54090211e-02   3.03505313e-02\n",
      "    5.89135940e-02   1.11273650e-01   2.00268495e-01   3.33717154e-01\n",
      "    5.00447342e-01   6.67078296e-01   8.00304509e-01   8.89080225e-01\n",
      "    9.41284838e-01   9.69754810e-01   9.84645289e-01   9.92263269e-01\n",
      "    9.96116618e-01   9.98054533e-01]\n",
      " [  1.47094028e-03   2.93392040e-03   5.83626688e-03   1.15483304e-02\n",
      "    2.26159522e-02   4.34285601e-02   8.04715299e-02   1.40483308e-01\n",
      "    2.24848344e-01   3.24491563e-01   4.25848501e-01   5.24022590e-01\n",
      "    6.23564127e-01   7.25468838e-01   8.19326124e-01   8.92168661e-01\n",
      "    9.40216829e-01   9.68375646e-01]\n",
      " [  1.00000000e-04   1.00000000e-04   1.00000000e-04   1.00000000e-04\n",
      "    1.00000000e-04   1.00000000e-04   1.00000000e-04   1.00000000e-04\n",
      "    1.00000000e-04   1.00000000e-04   1.00000000e-04   1.00000000e-04\n",
      "    1.00000000e-04   1.00000000e-04   1.00000000e-04   1.00000000e-04\n",
      "    1.00000000e-04   1.00000000e-04]]\n",
      "1 [[  9.96847318e-04   1.99371417e-03   3.98750579e-03   7.97531574e-03\n",
      "    1.59518053e-02   3.19079894e-02   6.38313254e-02   1.27710964e-01\n",
      "    2.55550917e-01   5.11379503e-01   1.02323372e+00   2.04713211e+00\n",
      "    4.09507065e+00   8.19103659e+00   1.63830186e+01   3.27670094e+01\n",
      "    6.55350046e+01   1.31071002e+02]\n",
      " [  6.94016818e-04   6.92106322e-04   6.88316741e-04   6.80860841e-04\n",
      "    6.66423788e-04   6.39313375e-04   5.91217656e-04   5.13913508e-04\n",
      "    4.07416504e-04   2.88085820e-04   1.81702599e-04   1.04528956e-04\n",
      "    5.65230347e-05   2.94626025e-05   1.50512571e-05   7.60827012e-06\n",
      "    3.82514028e-06   1.91786521e-06]\n",
      " [  1.51192868e-04   1.50361603e-04   1.48719522e-04   1.45515089e-04\n",
      "    1.39409477e-04   1.28297707e-04   1.09720078e-04   8.29032166e-05\n",
      "    5.21036985e-05   2.60516408e-05   1.03636704e-05   3.42976641e-06\n",
      "    1.00286450e-06   2.72479309e-07   7.11110126e-08   1.81703445e-08\n",
      "    4.59287479e-09   1.15458916e-09]\n",
      " [  2.70781794e-06   5.40078059e-06   1.07426266e-05   2.12533338e-05\n",
      "    4.16084130e-05   7.98424859e-05   1.47707341e-04   2.56885173e-04\n",
      "    4.07508698e-04   5.76615113e-04   7.27707424e-04   8.37535656e-04\n",
      "    9.05957221e-04   9.44562706e-04   9.65133788e-04   9.75761212e-04\n",
      "    9.81163812e-04   9.83887680e-04]\n",
      " [  4.44763521e-07   8.84645054e-07   1.75000188e-06   3.42472043e-06\n",
      "    6.56253067e-06   1.20805733e-05   2.06675586e-05   3.12441543e-05\n",
      "    3.92930015e-05   3.93140339e-05   3.12937528e-05   2.07195168e-05\n",
      "    1.21191697e-05   6.58630146e-06   3.43795349e-06   1.75698955e-06\n",
      "    8.88233502e-07   4.46584151e-07]\n",
      " [  5.03658463e-11   2.00359658e-10   7.92717003e-10   3.10278256e-09\n",
      "    1.18921264e-08   4.37890289e-08   1.49865398e-07   4.53289113e-07\n",
      "    1.14069879e-06   2.28385883e-06   3.63756552e-06   4.81841080e-06\n",
      "    5.63783804e-06   6.12856508e-06   6.39841278e-06   6.54009888e-06\n",
      "    6.61269992e-06   6.64948880e-06]\n",
      " [  3.15268219e-03   6.28582636e-03   1.24942139e-02   2.46842598e-02\n",
      "    4.81947279e-02   9.20106372e-02   1.68674630e-01   2.89035905e-01\n",
      "    4.49083097e-01   6.20496864e-01   7.66276308e-01   8.67891994e-01\n",
      "    9.29352067e-01   9.63406137e-01   9.81368567e-01   9.90598400e-01\n",
      "    9.95277440e-01   9.97633241e-01]\n",
      " [  6.96724636e-01   6.97507102e-01   6.99059367e-01   7.02114175e-01\n",
      "    7.08032201e-01   7.19155861e-01   7.38924997e-01   7.70798680e-01\n",
      "    8.14925202e-01   8.64700933e-01   9.09410022e-01   9.42064612e-01\n",
      "    9.62480256e-01   9.74025308e-01   9.80185045e-01   9.83369482e-01\n",
      "    9.84988947e-01   9.85805545e-01]\n",
      " [  3.03275364e-01   3.02492898e-01   3.00940633e-01   2.97885825e-01\n",
      "    2.91967799e-01   2.80844139e-01   2.61075003e-01   2.29201320e-01\n",
      "    1.85074798e-01   1.35299067e-01   9.05899776e-02   5.79353880e-02\n",
      "    3.75197444e-02   2.59746917e-02   1.98149546e-02   1.66305175e-02\n",
      "    1.50110525e-02   1.41944551e-02]\n",
      " [  3.88649661e-03   7.74297576e-03   1.53672593e-02   3.02704811e-02\n",
      "    5.87662721e-02   1.11022506e-01   1.99894903e-01   3.33271422e-01\n",
      "    5.00056566e-01   6.66837621e-01   8.00197277e-01   8.89042689e-01\n",
      "    9.41273564e-01   9.69751707e-01   9.84644474e-01   9.92263061e-01\n",
      "    9.96116565e-01   9.98054520e-01]\n",
      " [  1.46686578e-03   2.92583985e-03   5.82037494e-03   1.15175873e-02\n",
      "    2.25583607e-02   4.33270616e-02   8.03113632e-02   1.40272894e-01\n",
      "    2.24635659e-01   3.24331516e-01   4.25752218e-01   5.23968846e-01\n",
      "    6.23534251e-01   7.25453524e-01   8.19319519e-01   8.92166300e-01\n",
      "    9.40216101e-01   9.68375445e-01]\n",
      " [  1.00000000e-03   1.00000000e-03   1.00000000e-03   1.00000000e-03\n",
      "    1.00000000e-03   1.00000000e-03   1.00000000e-03   1.00000000e-03\n",
      "    1.00000000e-03   1.00000000e-03   1.00000000e-03   1.00000000e-03\n",
      "    1.00000000e-03   1.00000000e-03   1.00000000e-03   1.00000000e-03\n",
      "    1.00000000e-03   1.00000000e-03]]\n",
      "2 [[  9.77825828e-04   1.95576577e-03   3.91198438e-03   7.82575180e-03\n",
      "    1.56584173e-02   3.13428611e-02   6.27784566e-02   1.25857114e-01\n",
      "    2.52550422e-01   5.07006108e-01   1.01749798e+00   2.04024808e+00\n",
      "    4.08733994e+00   8.18274979e+00   1.63744005e+01   3.27582077e+01\n",
      "    6.55261058e+01   1.31062053e+02]\n",
      " [  3.26709149e-03   3.26088233e-03   3.24854430e-03   3.22418435e-03\n",
      "    3.17668998e-03   3.08631177e-03   2.92194676e-03   2.64588809e-03\n",
      "    2.23723039e-03   1.72823829e-03   1.20767859e-03   7.66985583e-04\n",
      "    4.49217062e-04   2.47404916e-04   1.30699285e-04   6.73187771e-05\n",
      "    3.41844063e-05   1.72279550e-05]\n",
      " [  3.35053308e-03   3.33780969e-03   3.31259928e-03   3.26310499e-03\n",
      "    3.16767766e-03   2.98999806e-03   2.68000690e-03   2.19752720e-03\n",
      "    1.57113222e-03   9.37558904e-04   4.57819250e-04   1.84656975e-04\n",
      "    6.33437547e-05   1.92135655e-05   5.36213493e-06   1.42253759e-06\n",
      "    3.66815263e-07   9.31662696e-08]\n",
      " [  1.25038462e-05   2.49616213e-05   4.97401083e-05   9.87567426e-05\n",
      "    1.94689943e-04   3.78616255e-04   7.17965793e-04   1.30337702e-03\n",
      "    2.21146276e-03   3.42955393e-03   4.80956441e-03   6.12478713e-03\n",
      "    7.18650652e-03   7.92370717e-03   8.37643922e-03   8.63131907e-03\n",
      "    8.76724659e-03   8.83754255e-03]\n",
      " [  9.66817769e-06   1.92640511e-05   3.82415268e-05   7.53574729e-05\n",
      "    1.46372016e-04   2.76553243e-04   4.96496001e-04   8.16171144e-04\n",
      "    1.17092761e-03   1.40275222e-03   1.37466481e-03   1.11177756e-03\n",
      "    7.64035911e-04   4.63955626e-04   2.59102949e-04   1.37515956e-04\n",
      "    7.09301645e-05   3.60333703e-05]\n",
      " [  1.07395098e-09   4.27999038e-09   1.69945890e-08   6.69932007e-08\n",
      "    2.60365987e-07   9.84681378e-07   3.54082710e-06   1.16690993e-05\n",
      "    3.35935945e-05   8.07927679e-05   1.58894441e-04   2.57679110e-04\n",
      "    3.54758543e-04   4.31274766e-04   4.81965662e-04   5.11742583e-04\n",
      "    5.27987520e-04   5.36488212e-04]\n",
      " [  2.21741718e-03   4.42342323e-03   8.80156243e-03   1.74248202e-02\n",
      "    3.41582691e-02   6.57138860e-02   1.22154345e-01   2.14288637e-01\n",
      "    3.44957756e-01   4.99389168e-01   6.50201810e-01   7.75192291e-01\n",
      "    8.66005952e-01   9.25021233e-01   9.59947350e-01   9.79232019e-01\n",
      "    9.89415180e-01   9.94655234e-01]\n",
      " [  3.27959534e-01   3.28584395e-01   3.29828441e-01   3.32294109e-01\n",
      "    3.37137992e-01   3.46492803e-01   3.63991255e-01   3.94926511e-01\n",
      "    4.44869315e-01   5.15779222e-01   6.01724300e-01   6.89177271e-01\n",
      "    7.63572358e-01   8.17111208e-01   8.50713851e-01   8.69863785e-01\n",
      "    8.80143100e-01   8.85477050e-01]\n",
      " [  6.72040466e-01   6.71415605e-01   6.70171559e-01   6.67705891e-01\n",
      "    6.62862008e-01   6.53507197e-01   6.36008745e-01   6.05073489e-01\n",
      "    5.55130685e-01   4.84220778e-01   3.98275700e-01   3.10822729e-01\n",
      "    2.36427642e-01   1.82888792e-01   1.49286149e-01   1.30136215e-01\n",
      "    1.19856900e-01   1.14522950e-01]\n",
      " [  3.81261860e-03   7.59671537e-03   1.50806001e-02   2.97196790e-02\n",
      "    5.77478502e-02   1.09271030e-01   1.97248089e-01   3.30030268e-01\n",
      "    4.97103910e-01   6.64926733e-01   7.99297022e-01   8.88709971e-01\n",
      "    9.41169025e-01   9.69722002e-01   9.84636516e-01   9.92260998e-01\n",
      "    9.96116040e-01   9.98054387e-01]\n",
      " [  1.43894990e-03   2.87044432e-03   5.71130115e-03   1.13060946e-02\n",
      "    2.21603812e-02   4.26196692e-02   7.91777880e-02   1.38745022e-01\n",
      "    2.23031230e-01   3.23062914e-01   4.24945256e-01   5.23493177e-01\n",
      "    6.23257495e-01   7.25306973e-01   8.19255021e-01   8.92142989e-01\n",
      "    9.40208870e-01   9.68373411e-01]\n",
      " [  1.00000000e-02   1.00000000e-02   1.00000000e-02   1.00000000e-02\n",
      "    1.00000000e-02   1.00000000e-02   1.00000000e-02   1.00000000e-02\n",
      "    1.00000000e-02   1.00000000e-02   1.00000000e-02   1.00000000e-02\n",
      "    1.00000000e-02   1.00000000e-02   1.00000000e-02   1.00000000e-02\n",
      "    1.00000000e-02   1.00000000e-02]]\n",
      "3 [[  8.50306434e-04   1.70118695e-03   3.40465846e-03   6.81836186e-03\n",
      "    1.36721713e-02   2.74804928e-02   5.54637816e-02   1.12651661e-01\n",
      "    2.30494092e-01   4.73815112e-01   9.72601583e-01   1.98434626e+00\n",
      "    4.02155657e+00   8.10860593e+00   1.62939292e+01   3.26735387e+01\n",
      "    6.54389453e+01   1.30973522e+02]\n",
      " [  1.18331595e-02   1.18168241e-02   1.17842985e-02   1.17198239e-02\n",
      "    1.15931394e-02   1.13485128e-02   1.08918195e-02   1.00914403e-02\n",
      "    8.83428697e-03   7.15815015e-03   5.32084520e-03   3.64177107e-03\n",
      "    2.31086617e-03   1.36827890e-03   7.63552546e-04   4.07539874e-04\n",
      "    2.11284908e-04   1.07688092e-04]\n",
      " [  4.39534283e-02   4.38321583e-02   4.35911964e-02   4.31155058e-02\n",
      "    4.21884364e-02   4.04267862e-02   3.72385009e-02   3.19666867e-02\n",
      "    2.44982082e-02   1.60839577e-02   8.88694646e-03   4.16309766e-03\n",
      "    1.67625817e-03   5.87679545e-04   1.83007621e-04   5.21352583e-05\n",
      "    1.40129080e-05   3.64021202e-06]\n",
      " [  3.93819309e-05   7.86816817e-05   1.57035597e-04   3.12767740e-04\n",
      "    6.20382258e-04   1.22063070e-03   2.36445327e-03   4.44950372e-03\n",
      "    7.96988624e-03   1.32748778e-02   2.02551945e-02   2.82846572e-02\n",
      "    3.63738942e-02   4.34251818e-02   4.86951351e-02   5.21179231e-02\n",
      "    5.41159878e-02   5.52041860e-02]\n",
      " [  1.10290328e-04   2.20046319e-04   4.37967162e-04   8.67526482e-04\n",
      "    1.70215902e-03   3.27840757e-03   6.09496024e-03   1.06268471e-02\n",
      "    1.66633889e-02   2.24890464e-02   2.55068451e-02   2.43782915e-02\n",
      "    1.98931839e-02   1.40622877e-02   8.79962589e-03   5.02686141e-03\n",
      "    2.70603726e-03   1.40695237e-03]\n",
      " [  1.06534734e-08   4.25250156e-08   1.69392209e-07   6.71956437e-07\n",
      "    2.64372301e-06   1.02344802e-05   3.84024282e-05   1.35994193e-04\n",
      "    4.36316322e-04   1.21048185e-03   2.81818857e-03   5.49539675e-03\n",
      "    9.08817773e-03   1.29533024e-02   1.62880227e-02   1.86582718e-02\n",
      "    2.01163135e-02   2.09334704e-02]\n",
      " [  1.49693566e-03   2.98813051e-03   5.95341544e-03   1.18163814e-02\n",
      "    2.32782872e-02   4.51950723e-02   8.53621836e-02   1.53483392e-01\n",
      "    2.55059078e-01   3.81848880e-01   5.13984168e-01   6.36537422e-01\n",
      "    7.44434336e-01   8.33940743e-01   9.00708063e-01   9.44613282e-01\n",
      "    9.70546520e-01   9.84780791e-01]\n",
      " [  1.18725415e-01   1.18955058e-01   1.19413341e-01   1.20325916e-01\n",
      "    1.22135216e-01   1.25691435e-01   1.32562728e-01   1.45409440e-01\n",
      "    1.68041732e-01   2.04330280e-01   2.55760397e-01   3.19264283e-01\n",
      "    3.86847603e-01   4.47934607e-01   4.94586877e-01   5.25254630e-01\n",
      "    5.43272727e-01   5.53118741e-01]\n",
      " [  8.81274585e-01   8.81044942e-01   8.80586659e-01   8.79674084e-01\n",
      "    8.77864784e-01   8.74308565e-01   8.67437272e-01   8.54590560e-01\n",
      "    8.31958268e-01   7.95669720e-01   7.44239603e-01   6.80735717e-01\n",
      "    6.13152397e-01   5.52065393e-01   5.05413123e-01   4.74745370e-01\n",
      "    4.56727273e-01   4.46881259e-01]\n",
      " [  3.31705988e-03   6.61440407e-03   1.31505906e-02   2.59933812e-02\n",
      "    5.07947074e-02   9.71132760e-02   1.78364862e-01   3.05998271e-01\n",
      "    4.74280177e-01   6.49677466e-01   7.91959769e-01   8.85932399e-01\n",
      "    9.40264172e-01   9.69453602e-01   9.84561811e-01   9.92241099e-01\n",
      "    9.96110887e-01   9.98053075e-01]\n",
      " [  1.25172832e-03   2.49852599e-03   4.97743115e-03   9.87718532e-03\n",
      "    1.94499938e-02   3.77312617e-02   7.11494109e-02   1.27532833e-01\n",
      "    2.10780062e-01   3.13069726e-01   4.18456934e-01   5.19571459e-01\n",
      "    6.20882175e-01   7.23988372e-01   8.18650512e-01   8.91918231e-01\n",
      "    9.40137950e-01   9.68353276e-01]\n",
      " [  1.00000000e-01   1.00000000e-01   1.00000000e-01   1.00000000e-01\n",
      "    1.00000000e-01   1.00000000e-01   1.00000000e-01   1.00000000e-01\n",
      "    1.00000000e-01   1.00000000e-01   1.00000000e-01   1.00000000e-01\n",
      "    1.00000000e-01   1.00000000e-01   1.00000000e-01   1.00000000e-01\n",
      "    1.00000000e-01   1.00000000e-01]]\n",
      "4 [[  3.89218077e-04   7.78934658e-04   1.55986441e-03   3.12771780e-03\n",
      "    6.28745874e-03   1.27035257e-02   2.59252384e-02   5.39470278e-02\n",
      "    1.16364858e-01   2.65637066e-01   6.39163305e-01   1.52615503e+00\n",
      "    3.45151058e+00   7.43718641e+00   1.55377561e+01   3.18564728e+01\n",
      "    6.45838940e+01   1.30096985e+02]\n",
      " [  3.90990244e-02   3.90758436e-02   3.90295076e-02   3.89369386e-02\n",
      "    3.87522179e-02   3.83844908e-02   3.76562444e-02   3.62312883e-02\n",
      "    3.35267948e-02   2.88003659e-02   2.20501811e-02   1.50611852e-02\n",
      "    9.51091173e-03   5.64505008e-03   3.16630310e-03   1.69687248e-03\n",
      "    8.81851842e-04   4.50039495e-04]\n",
      " [  4.79869512e-01   4.79300677e-01   4.78164644e-01   4.75899140e-01\n",
      "    4.71394426e-01   4.62490570e-01   4.45107922e-01   4.12058492e-01\n",
      "    3.52838030e-01   2.60367832e-01   1.52621472e-01   7.12048557e-02\n",
      "    2.83945910e-02   1.00029227e-02   3.14699670e-03   9.03836192e-04\n",
      "    2.44108312e-04   6.35759082e-05]\n",
      " [  5.95634364e-05   1.19132488e-04   2.38287217e-04   4.76661620e-04\n",
      "    9.53657729e-04   1.90853828e-03   3.82103120e-03   7.65018821e-03\n",
      "    1.52698475e-02   2.99438405e-02   5.51626111e-02   8.99660434e-02\n",
      "    1.28484927e-01   1.64322596e-01   1.92558019e-01   2.11576640e-01\n",
      "    2.22915709e-01   2.29159931e-01]\n",
      " [  5.51169746e-04   1.10173787e-03   2.20106831e-03   4.39249920e-03\n",
      "    8.74638923e-03   1.73378947e-02   3.40531501e-02   6.55987555e-02\n",
      "    1.21162002e-01   2.04101037e-01   2.87870180e-01   3.20684133e-01\n",
      "    2.89210487e-01   2.19535517e-01   1.44295836e-01   8.49682406e-02\n",
      "    4.65238883e-02   2.44078213e-02]\n",
      " [  2.43700660e-08   9.74894542e-08   3.90030619e-07   1.56069336e-06\n",
      "    6.24715497e-06   2.50206716e-05   1.00290173e-04   4.02014256e-04\n",
      "    1.60164630e-03   6.15902854e-03   2.09019519e-02   5.55973967e-02\n",
      "    1.13397003e-01   1.85477737e-01   2.54695007e-01   3.07491167e-01\n",
      "    3.41333223e-01   3.60723618e-01]\n",
      " [  6.10781923e-04   1.22106534e-03   2.44013559e-03   4.87228220e-03\n",
      "    9.71254126e-03   1.92964743e-02   3.80747616e-02   7.40529722e-02\n",
      "    1.39635142e-01   2.46362934e-01   3.84836695e-01   5.21844970e-01\n",
      "    6.44489420e-01   7.54813588e-01   8.46243868e-01   9.11527215e-01\n",
      "    9.52106043e-01   9.75014987e-01]\n",
      " [  3.91585879e-02   3.91949761e-02   3.92677949e-02   3.94136002e-02\n",
      "    3.97058756e-02   4.02930290e-02   4.14772756e-02   4.38814765e-02\n",
      "    4.87966424e-02   5.87442064e-02   7.72127922e-02   1.05027229e-01\n",
      "    1.37995839e-01   1.69967646e-01   1.95724322e-01   2.13273512e-01\n",
      "    2.23797561e-01   2.29609970e-01]\n",
      " [  9.60841412e-01   9.60805024e-01   9.60732205e-01   9.60586400e-01\n",
      "    9.60294124e-01   9.59706971e-01   9.58522724e-01   9.56118524e-01\n",
      "    9.51203358e-01   9.41255794e-01   9.22787208e-01   8.94972771e-01\n",
      "    8.62004161e-01   8.30032354e-01   8.04275678e-01   7.86726488e-01\n",
      "    7.76202439e-01   7.70390030e-01]\n",
      " [  1.52108234e-03   3.03948363e-03   6.06826071e-03   1.20938361e-02\n",
      "    2.40180506e-02   4.73664632e-02   9.21234856e-02   1.74337530e-01\n",
      "    3.12928243e-01   5.09732659e-01   7.14423213e-01   8.56597329e-01\n",
      "    9.31078271e-01   9.66787502e-01   9.83822639e-01   9.92043679e-01\n",
      "    9.96059600e-01   9.98039983e-01]\n",
      " [  5.73683106e-04   1.14688498e-03   2.29184403e-03   4.57597628e-03\n",
      "    9.12104251e-03   1.81179637e-02   3.57359607e-02   6.94503687e-02\n",
      "    1.30745223e-01   2.29925909e-01   3.57259053e-01   4.82560968e-01\n",
      "    5.98610211e-01   7.11407199e-01   8.12763418e-01   8.89700024e-01\n",
      "    9.39433191e-01   9.68152530e-01]\n",
      " [  1.00000000e+00   1.00000000e+00   1.00000000e+00   1.00000000e+00\n",
      "    1.00000000e+00   1.00000000e+00   1.00000000e+00   1.00000000e+00\n",
      "    1.00000000e+00   1.00000000e+00   1.00000000e+00   1.00000000e+00\n",
      "    1.00000000e+00   1.00000000e+00   1.00000000e+00   1.00000000e+00\n",
      "    1.00000000e+00   1.00000000e+00]]\n"
     ]
    }
   ],
   "source": [
    "for i,j in enumerate(fraxres):\n",
    "    print(str(i), j)\n",
    "    "
   ]
  },
  {
   "cell_type": "code",
   "execution_count": 227,
   "metadata": {
    "collapsed": false
   },
   "outputs": [
    {
     "data": {
      "text/plain": [
       "<enumerate at 0x1153b42d0>"
      ]
     },
     "execution_count": 227,
     "metadata": {},
     "output_type": "execute_result"
    }
   ],
   "source": [
    "thing"
   ]
  },
  {
   "cell_type": "code",
   "execution_count": 240,
   "metadata": {
    "collapsed": false
   },
   "outputs": [
    {
     "data": {
      "text/plain": [
       "'1 2'"
      ]
     },
     "execution_count": 240,
     "metadata": {},
     "output_type": "execute_result"
    }
   ],
   "source": [
    "''.join(['1',' ','2'])"
   ]
  },
  {
   "cell_type": "code",
   "execution_count": 304,
   "metadata": {
    "collapsed": true
   },
   "outputs": [],
   "source": [
    "parm4 = np.array([2,6,8.,109.])"
   ]
  },
  {
   "cell_type": "code",
   "execution_count": 305,
   "metadata": {
    "collapsed": true
   },
   "outputs": [],
   "source": [
    "res_mult4 = np.array([[optimize.root(wymsol,guess,args=(parm4,j,i),method='lm',options={'factor':0.1}).x for i in ligser] for j in rtot])"
   ]
  },
  {
   "cell_type": "code",
   "execution_count": 293,
   "metadata": {
    "collapsed": true
   },
   "outputs": [],
   "source": [
    "fraxres1 = [frax(i) for i in res_mult]"
   ]
  },
  {
   "cell_type": "code",
   "execution_count": 300,
   "metadata": {
    "collapsed": true
   },
   "outputs": [],
   "source": [
    "fraxres2 = [frax(i) for i in res_mult2]"
   ]
  },
  {
   "cell_type": "code",
   "execution_count": 301,
   "metadata": {
    "collapsed": false
   },
   "outputs": [
    {
     "data": {
      "image/png": "[encoded data removed]",
      "text/plain": [
       "<matplotlib.figure.Figure at 0x11533b438>"
      ]
     },
     "metadata": {},
     "output_type": "display_data"
    }
   ],
   "source": [
    "ind = 2\n",
    "for i,j in enumerate(fraxres1):\n",
    "    plt.semilogy((j[ind]),'.',label=rtot[i])\n",
    "    plt.legend()\n",
    "    plt.title(colnames[ind])"
   ]
  },
  {
   "cell_type": "code",
   "execution_count": 303,
   "metadata": {
    "collapsed": false
   },
   "outputs": [
    {
     "data": {
      "image/png": "[encoded data removed]",
      "text/plain": [
       "<matplotlib.figure.Figure at 0x115665588>"
      ]
     },
     "metadata": {},
     "output_type": "display_data"
    }
   ],
   "source": [
    "ind = 2\n",
    "for i,j in enumerate(fraxres2):\n",
    "    plt.semilogy((j[ind]),'.',label=rtot[i])\n",
    "    plt.legend()\n",
    "    plt.title(colnames[ind])"
   ]
  },
  {
   "cell_type": "code",
   "execution_count": 307,
   "metadata": {
    "collapsed": false
   },
   "outputs": [
    {
     "data": {
      "text/plain": [
       "array([[  9.99623789e-04,   9.40611373e-05,   2.77722948e-06,\n",
       "          3.68016787e-07,   8.19252093e-09,   9.30320249e-13],\n",
       "       [  1.99925036e-03,   9.37198685e-05,   2.75711358e-06,\n",
       "          7.33364149e-07,   1.62663851e-08,   3.69433747e-12],\n",
       "       [  3.99851174e-03,   9.30446209e-05,   2.71752693e-06,\n",
       "          1.45616460e-06,   3.20657529e-08,   1.45652569e-11],\n",
       "       [  7.99706660e-03,   9.17225769e-05,   2.64085047e-06,\n",
       "          2.87096423e-06,   6.23223374e-08,   5.66177723e-11],\n",
       "       [  1.59942985e-02,   8.91869093e-05,   2.49685628e-06,\n",
       "          5.58325074e-06,   1.17849556e-07,   2.14127022e-10],\n",
       "       [  3.19892057e-02,   8.45102827e-05,   2.24187000e-06,\n",
       "          1.05811734e-05,   2.11632855e-07,   7.69068242e-10],\n",
       "       [  6.39804967e-02,   7.64781116e-05,   1.83597020e-06,\n",
       "          1.91516230e-05,   3.46643008e-07,   2.51946531e-09],\n",
       "       [  1.27967321e-01,   6.42406900e-05,   1.29542332e-06,\n",
       "          3.21758550e-05,   4.89192733e-07,   7.11143763e-09],\n",
       "       [  2.55950683e-01,   4.86367494e-05,   7.42540931e-07,\n",
       "          4.87238564e-05,   5.60848935e-07,   1.63072423e-08],\n",
       "       [  5.11933890e-01,   3.27110225e-05,   3.35876450e-07,\n",
       "          6.55433781e-05,   5.07414232e-07,   2.95090248e-08],\n",
       "       [  1.02392037e+00,   1.97555787e-05,   1.22509799e-07,\n",
       "          7.91729378e-05,   3.70174262e-07,   4.30576908e-08],\n",
       "       [  2.04791133e+00,   1.10205185e-05,   3.81237290e-08,\n",
       "          8.83352411e-05,   2.30396423e-07,   5.36000520e-08],\n",
       "       [  4.09590600e+00,   5.84792910e-06,   1.07348385e-08,\n",
       "          9.37503508e-05,   1.29752192e-07,   6.03730361e-08],\n",
       "       [  8.19190309e+00,   3.01628376e-06,   2.85585207e-09,\n",
       "          9.67114341e-05,   6.90382418e-08,   6.42470010e-08],\n",
       "       [  1.63839016e+01,   1.53231740e-06,   7.37036134e-10,\n",
       "          9.82622907e-05,   3.56348816e-08,   6.63240413e-08],\n",
       "       [  3.27679008e+01,   7.72347077e-07,   1.87247630e-10,\n",
       "          9.90562651e-05,   1.81064855e-08,   6.74001886e-08],\n",
       "       [  6.55359004e+01,   3.87739194e-07,   4.71922541e-11,\n",
       "          9.94580168e-05,   9.12681404e-09,   6.79480197e-08],\n",
       "       [  1.31071900e+02,   1.94276428e-07,   1.12998467e-11,\n",
       "          9.96668026e-05,   4.37070055e-09,   6.50787103e-08]])"
      ]
     },
     "execution_count": 307,
     "metadata": {},
     "output_type": "execute_result"
    }
   ],
   "source": [
    "res_mult[0]"
   ]
  },
  {
   "cell_type": "code",
   "execution_count": 308,
   "metadata": {
    "collapsed": false
   },
   "outputs": [
    {
     "data": {
      "text/plain": [
       "array([[  9.99623789e-04,   9.40611373e-05,   2.77722948e-06,\n",
       "          3.68016787e-07,   8.19252093e-09,   9.30320249e-13],\n",
       "       [  1.99925036e-03,   9.37198685e-05,   2.75711358e-06,\n",
       "          7.33364149e-07,   1.62663851e-08,   3.69433747e-12],\n",
       "       [  3.99851174e-03,   9.30446209e-05,   2.71752693e-06,\n",
       "          1.45616460e-06,   3.20657529e-08,   1.45652569e-11],\n",
       "       [  7.99706660e-03,   9.17225769e-05,   2.64085047e-06,\n",
       "          2.87096423e-06,   6.23223374e-08,   5.66177723e-11],\n",
       "       [  1.59942985e-02,   8.91869093e-05,   2.49685628e-06,\n",
       "          5.58325074e-06,   1.17849556e-07,   2.14127022e-10],\n",
       "       [  3.19892057e-02,   8.45102827e-05,   2.24187000e-06,\n",
       "          1.05811734e-05,   2.11632855e-07,   7.69068242e-10],\n",
       "       [  6.39804967e-02,   7.64781116e-05,   1.83597020e-06,\n",
       "          1.91516230e-05,   3.46643008e-07,   2.51946531e-09],\n",
       "       [  1.27967321e-01,   6.42406900e-05,   1.29542332e-06,\n",
       "          3.21758550e-05,   4.89192733e-07,   7.11143763e-09],\n",
       "       [  2.55950683e-01,   4.86367494e-05,   7.42540931e-07,\n",
       "          4.87238564e-05,   5.60848935e-07,   1.63072423e-08],\n",
       "       [  5.11933890e-01,   3.27110225e-05,   3.35876450e-07,\n",
       "          6.55433781e-05,   5.07414232e-07,   2.95090248e-08],\n",
       "       [  1.02392037e+00,   1.97555787e-05,   1.22509799e-07,\n",
       "          7.91729378e-05,   3.70174262e-07,   4.30576908e-08],\n",
       "       [  2.04791133e+00,   1.10205185e-05,   3.81237290e-08,\n",
       "          8.83352411e-05,   2.30396423e-07,   5.36000520e-08],\n",
       "       [  4.09590600e+00,   5.84792910e-06,   1.07348385e-08,\n",
       "          9.37503508e-05,   1.29752192e-07,   6.03730361e-08],\n",
       "       [  8.19190309e+00,   3.01628376e-06,   2.85585207e-09,\n",
       "          9.67114341e-05,   6.90382418e-08,   6.42470010e-08],\n",
       "       [  1.63839016e+01,   1.53231740e-06,   7.37036134e-10,\n",
       "          9.82622907e-05,   3.56348816e-08,   6.63240413e-08],\n",
       "       [  3.27679008e+01,   7.72347077e-07,   1.87247630e-10,\n",
       "          9.90562651e-05,   1.81064855e-08,   6.74001886e-08],\n",
       "       [  6.55359004e+01,   3.87739194e-07,   4.71922541e-11,\n",
       "          9.94580168e-05,   9.12681404e-09,   6.79480197e-08],\n",
       "       [  1.31071900e+02,   1.94276428e-07,   1.12998467e-11,\n",
       "          9.96668026e-05,   4.37070055e-09,   6.50787103e-08]])"
      ]
     },
     "execution_count": 308,
     "metadata": {},
     "output_type": "execute_result"
    }
   ],
   "source": [
    "res_mult2[0]"
   ]
  },
  {
   "cell_type": "code",
   "execution_count": null,
   "metadata": {
    "collapsed": true
   },
   "outputs": [],
   "source": []
  }
 ],
 "metadata": {
  "kernelspec": {
   "display_name": "Python [conda env:fitter]",
   "language": "python",
   "name": "conda-env-fitter-py"
  },
  "language_info": {
   "codemirror_mode": {
    "name": "ipython",
    "version": 3
   },
   "file_extension": ".py",
   "mimetype": "text/x-python",
   "name": "python",
   "nbconvert_exporter": "python",
   "pygments_lexer": "ipython3",
   "version": "3.5.2"
  }
 },
 "nbformat": 4,
 "nbformat_minor": 1
}

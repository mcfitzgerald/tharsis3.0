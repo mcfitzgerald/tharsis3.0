{
 "cells": [
  {
   "cell_type": "code",
   "execution_count": 3,
   "metadata": {
    "collapsed": true
   },
   "outputs": [],
   "source": [
    "import math\n",
    "import numpy as np\n",
    "from scipy import optimize"
   ]
  },
  {
   "cell_type": "code",
   "execution_count": 6,
   "metadata": {
    "collapsed": true
   },
   "outputs": [],
   "source": [
    "def f(var):\n",
    "    (x,y) = var\n",
    "    \n",
    "    first_eq = x * y - 2 * y - 2**x\n",
    "    second_eq = math.log(x) - y - math.cos(x)\n",
    "    \n",
    "    return [first_eq,second_eq]"
   ]
  },
  {
   "cell_type": "code",
   "execution_count": 7,
   "metadata": {
    "collapsed": false
   },
   "outputs": [
    {
     "data": {
      "text/plain": [
       "array([ 0.66687559, -1.19090982])"
      ]
     },
     "execution_count": 7,
     "metadata": {},
     "output_type": "execute_result"
    }
   ],
   "source": [
    "optimize.fsolve(f,(0.1,0))"
   ]
  },
  {
   "cell_type": "code",
   "execution_count": 38,
   "metadata": {
    "collapsed": true
   },
   "outputs": [],
   "source": [
    "def wymsol(var,parms,rtot,ltot):\n",
    "    \n",
    "    k11 = parm[0]\n",
    "    k21 = parm[1]\n",
    "    k22 = parm[2]\n",
    "    l20 = parm[3]\n",
    "    \n",
    "    (x1, x2, x3, x4, x5, x6) = var\n",
    "    \n",
    "    eq1 = x2 + 2*x3 + x4 + 2*x5 + 2*x6 - rtot\n",
    "    eq2 = x1 + x4 + x5 + 2*x6 - ltot\n",
    "    eq3 = l20 * x2**2 - x3\n",
    "    eq4 = k11 * x1 * x2 - x4\n",
    "    eq5 = l20 * k21 * x2**2 * x1 - x5\n",
    "    eq6 = l20 * k21 * k22 * x2**2 * x1**2 - x6\n",
    "    \n",
    "    return np.array([eq1,eq2,eq3,eq4,eq5,eq6])"
   ]
  },
  {
   "cell_type": "code",
   "execution_count": 39,
   "metadata": {
    "collapsed": true
   },
   "outputs": [],
   "source": [
    "guess = (1.,1.,1.,1.,1.,1.)"
   ]
  },
  {
   "cell_type": "code",
   "execution_count": 40,
   "metadata": {
    "collapsed": true
   },
   "outputs": [],
   "source": [
    "parm = np.array([0.4,8.,2.,300.])"
   ]
  },
  {
   "cell_type": "code",
   "execution_count": 41,
   "metadata": {
    "collapsed": false
   },
   "outputs": [
    {
     "data": {
      "text/plain": [
       "array([  7.99000000e+00,   4.99000000e+00,   2.99000000e+02,\n",
       "        -6.00000000e-01,   2.39900000e+03,   4.79900000e+03])"
      ]
     },
     "execution_count": 41,
     "metadata": {},
     "output_type": "execute_result"
    }
   ],
   "source": [
    "wymsol(guess,parm,0.01,0.01)"
   ]
  },
  {
   "cell_type": "code",
   "execution_count": 17,
   "metadata": {
    "collapsed": false
   },
   "outputs": [
    {
     "data": {
      "text/plain": [
       "[-1.0717734625362931, -3.297589258272071]"
      ]
     },
     "execution_count": 17,
     "metadata": {},
     "output_type": "execute_result"
    }
   ],
   "source": [
    "f((0.1,0))"
   ]
  },
  {
   "cell_type": "code",
   "execution_count": 42,
   "metadata": {
    "collapsed": false
   },
   "outputs": [
    {
     "data": {
      "text/plain": [
       "array([  2.07234487e-03,   3.96771417e-02,   4.72282671e-01,\n",
       "         3.28898884e-05,   7.82986056e-03,   3.24523427e-05])"
      ]
     },
     "execution_count": 42,
     "metadata": {},
     "output_type": "execute_result"
    }
   ],
   "source": [
    "optimize.fsolve(wymsol,guess,args=(parm,1.0,0.01))"
   ]
  },
  {
   "cell_type": "code",
   "execution_count": 48,
   "metadata": {
    "collapsed": false
   },
   "outputs": [
    {
     "data": {
      "text/plain": [
       "array([  2.07234487e-03,   3.96771417e-02,   4.72282671e-01,\n",
       "         3.28898884e-05,   7.82986056e-03,   3.24523427e-05])"
      ]
     },
     "execution_count": 48,
     "metadata": {},
     "output_type": "execute_result"
    }
   ],
   "source": [
    "optimize.root(wymsol,guess,args=(parm,1.0,0.01),method='lm').x"
   ]
  },
  {
   "cell_type": "code",
   "execution_count": 49,
   "metadata": {
    "collapsed": false
   },
   "outputs": [
    {
     "data": {
      "text/plain": [
       "[array([  2.07234487e-03,   3.96771417e-02,   4.72282671e-01,\n",
       "          3.28898884e-05,   7.82986056e-03,   3.24523427e-05]),\n",
       " array([  4.17100764e-03,   3.93554508e-02,   4.64655453e-01,\n",
       "          6.56607544e-05,   1.55046515e-02,   1.29340040e-04]),\n",
       " array([  6.29635740e-03,   3.90349414e-02,   4.57117995e-01,\n",
       "          9.83111769e-05,   2.30254262e-02,   2.89952625e-04]),\n",
       " array([  1.06286114e-02,   3.83975233e-02,   4.42310940e-01,\n",
       "          1.63244942e-04,   3.76092089e-02,   7.99467337e-04]),\n",
       " array([  1.73365658e-02,   3.74506132e-02,   4.20764529e-01,\n",
       "          2.59706008e-04,   5.83568955e-02,   2.02341632e-03]),\n",
       " array([  2.19527467e-02,   3.68256543e-02,   4.06838643e-01,\n",
       "          3.23369705e-04,   7.14498056e-02,   3.13703897e-03]),\n",
       " array([ 0.0468832 ,  0.03378112,  0.34234932,  0.00063351,  0.12840344,\n",
       "         0.01203993]),\n",
       " array([ 0.07519537,  0.03088163,  0.28610253,  0.00092886,  0.17210867,\n",
       "         0.02588355]),\n",
       " array([ 0.14358499,  0.0255783 ,  0.19627485,  0.00146906,  0.22545699,\n",
       "         0.06474448]),\n",
       " array([ 0.28040019,  0.01903767,  0.10872982,  0.00213527,  0.24390289,\n",
       "         0.13678083]),\n",
       " array([ 0.39577178,  0.01566066,  0.07357691,  0.00247922,  0.2329573 ,\n",
       "         0.18439585]),\n",
       " array([ 1.18008702,  0.00709938,  0.01512038,  0.00335116,  0.14274688,\n",
       "         0.33690748]),\n",
       " array([ 2.10942481,  0.0043085 ,  0.00556896,  0.00363538,  0.09397839,\n",
       "         0.39648071]),\n",
       " array([  4.06000594e+00,   2.36068058e-03,   1.67184385e-03,\n",
       "          3.83375087e-03,   5.43015675e-02,   4.40929373e-01]),\n",
       " array([  7.03552889e+00,   1.39714996e-03,   5.85608400e-04,\n",
       "          3.93187555e-03,   3.29605185e-02,   4.63789360e-01]),\n",
       " array([  9.02790667e+00,   1.09726847e-03,   3.61199427e-04,\n",
       "          3.96241493e-03,   2.60869977e-02,   4.71021961e-01])]"
      ]
     },
     "execution_count": 49,
     "metadata": {},
     "output_type": "execute_result"
    }
   ],
   "source": [
    "lig = np.array([0.01, 0.02, 0.03, 0.05, 0.08, 0.1, 0.2, 0.3, 0.5, 0.8, 1.0, 2.0, 3.0, 5.0, 8.0, 10.0])\n",
    "[optimize.root(wymsol,guess,args=(parm,1.0,i),method='lm').x for i in lig]"
   ]
  },
  {
   "cell_type": "code",
   "execution_count": 50,
   "metadata": {
    "collapsed": true
   },
   "outputs": [],
   "source": [
    "import sys"
   ]
  },
  {
   "cell_type": "code",
   "execution_count": 51,
   "metadata": {
    "collapsed": true
   },
   "outputs": [],
   "source": [
    "sys.path.append('./ligbind/')"
   ]
  },
  {
   "cell_type": "code",
   "execution_count": 52,
   "metadata": {
    "collapsed": true
   },
   "outputs": [],
   "source": [
    "import ligbind"
   ]
  },
  {
   "cell_type": "code",
   "execution_count": 54,
   "metadata": {
    "collapsed": false
   },
   "outputs": [],
   "source": [
    "ligs = ligbind.helpers.dilser()"
   ]
  },
  {
   "cell_type": "code",
   "execution_count": 56,
   "metadata": {
    "collapsed": false
   },
   "outputs": [],
   "source": [
    "b = [optimize.root(wymsol,guess,args=(parm,1.0,i),method='lm').x for i in ligs]"
   ]
  },
  {
   "cell_type": "code",
   "execution_count": 60,
   "metadata": {
    "collapsed": false
   },
   "outputs": [],
   "source": [
    "c = np.stack(b)"
   ]
  },
  {
   "cell_type": "code",
   "execution_count": 61,
   "metadata": {
    "collapsed": false
   },
   "outputs": [
    {
     "data": {
      "text/plain": [
       "array([  2.06060628e-04,   3.99676620e-02,   4.79224202e-01,\n",
       "         3.29430462e-06,   7.89993921e-04,   3.25573287e-07])"
      ]
     },
     "execution_count": 61,
     "metadata": {},
     "output_type": "execute_result"
    }
   ],
   "source": [
    "c[0]"
   ]
  },
  {
   "cell_type": "code",
   "execution_count": 65,
   "metadata": {
    "collapsed": false
   },
   "outputs": [],
   "source": [
    "d = np.array(b)"
   ]
  },
  {
   "cell_type": "code",
   "execution_count": 72,
   "metadata": {
    "collapsed": false
   },
   "outputs": [
    {
     "data": {
      "text/plain": [
       "array([  2.06060628e-04,   4.12381140e-04,   8.25803275e-04,\n",
       "         1.65578221e-03,   3.32836084e-03,   6.72466252e-03,\n",
       "         1.37272082e-02,   2.86160757e-02,   6.22949695e-02,\n",
       "         1.48236969e-01,   4.10859340e-01,   1.22288605e+00,\n",
       "         3.17154644e+00,   7.22662191e+00,   1.54005501e+01,\n",
       "         3.17760901e+01,   6.45399995e+01,   1.30073988e+02])"
      ]
     },
     "execution_count": 72,
     "metadata": {},
     "output_type": "execute_result"
    }
   ],
   "source": [
    "d[:,0]"
   ]
  },
  {
   "cell_type": "code",
   "execution_count": 73,
   "metadata": {
    "collapsed": true
   },
   "outputs": [],
   "source": [
    "import matplotlib.pyplot as plt"
   ]
  },
  {
   "cell_type": "code",
   "execution_count": 74,
   "metadata": {
    "collapsed": true
   },
   "outputs": [],
   "source": [
    "%matplotlib inline"
   ]
  },
  {
   "cell_type": "code",
   "execution_count": 84,
   "metadata": {
    "collapsed": false
   },
   "outputs": [
    {
     "data": {
      "text/plain": [
       "[<matplotlib.lines.Line2D at 0x11005f7b8>]"
      ]
     },
     "execution_count": 84,
     "metadata": {},
     "output_type": "execute_result"
    },
    {
     "data": {
      "image/png": "[encoded data removed]",
      "text/plain": [
       "<matplotlib.figure.Figure at 0x11003de10>"
      ]
     },
     "metadata": {},
     "output_type": "display_data"
    }
   ],
   "source": [
    "plt.semilogx(ligs,d[:,0],'.')"
   ]
  },
  {
   "cell_type": "code",
   "execution_count": 85,
   "metadata": {
    "collapsed": false
   },
   "outputs": [
    {
     "data": {
      "text/plain": [
       "array([  2.06060628e-04,   4.12381140e-04,   8.25803275e-04,\n",
       "         1.65578221e-03,   3.32836084e-03,   6.72466252e-03,\n",
       "         1.37272082e-02,   2.86160757e-02,   6.22949695e-02,\n",
       "         1.48236969e-01,   4.10859340e-01,   1.22288605e+00,\n",
       "         3.17154644e+00,   7.22662191e+00,   1.54005501e+01,\n",
       "         3.17760901e+01,   6.45399995e+01,   1.30073988e+02])"
      ]
     },
     "execution_count": 85,
     "metadata": {},
     "output_type": "execute_result"
    }
   ],
   "source": [
    "d[:,0]"
   ]
  },
  {
   "cell_type": "code",
   "execution_count": 86,
   "metadata": {
    "collapsed": false
   },
   "outputs": [
    {
     "data": {
      "text/plain": [
       "array([   0.4,    8. ,    2. ,  300. ])"
      ]
     },
     "execution_count": 86,
     "metadata": {},
     "output_type": "execute_result"
    }
   ],
   "source": [
    "parm"
   ]
  },
  {
   "cell_type": "code",
   "execution_count": 88,
   "metadata": {
    "collapsed": false
   },
   "outputs": [],
   "source": [
    "a = ligbind.WymSim(parms=parm,sets=1)"
   ]
  },
  {
   "cell_type": "code",
   "execution_count": 89,
   "metadata": {
    "collapsed": false
   },
   "outputs": [
    {
     "data": {
      "text/plain": [
       "array([[ 0.00146758,  0.00293375,  0.00586171,  0.01169931,  0.02329463,\n",
       "         0.04612139,  0.09006539,  0.17018449,  0.30017904,  0.4729287 ,\n",
       "         0.65033043,  0.79203411,  0.88535322,  0.93961525,  0.96898467,\n",
       "         0.9842788 ,  0.992085  ,  0.99602877],\n",
       "       [ 0.00202221,  0.00403864,  0.00805413,  0.01601553,  0.03165972,\n",
       "         0.06183817,  0.11787341,  0.21426016,  0.35860079,  0.53396807,\n",
       "         0.70021558,  0.82548708,  0.90502811,  0.95033264,  0.97458468,\n",
       "         0.98714206,  0.99353282,  0.99675678],\n",
       "       [ 0.00243162,  0.00485318,  0.00966624,  0.01917335,  0.03772077,\n",
       "         0.073024  ,  0.13706486,  0.24328744,  0.39486965,  0.56969666,\n",
       "         0.72809461,  0.8436266 ,  0.91551206,  0.95599002,  0.97752634,\n",
       "         0.98864237,  0.99429051,  0.99713753],\n",
       "       [ 0.00279275,  0.00557107,  0.01108482,  0.02194339,  0.04300586,\n",
       "         0.08267159,  0.15331245,  0.26719026,  0.42373104,  0.5971914 ,\n",
       "         0.74899553,  0.85699631,  0.9231635 ,  0.96009701,  0.97965595,\n",
       "         0.98972698,  0.99483788,  0.99741249],\n",
       "       [ 0.00317296,  0.00632642,  0.01257551,  0.0248471 ,  0.04852003,\n",
       "         0.0926514 ,  0.16987792,  0.29104314,  0.45178326,  0.62323669,\n",
       "         0.76840112,  0.86924776,  0.93012181,  0.96381662,  0.98158055,\n",
       "         0.99070612,  0.99533174,  0.9976605 ],\n",
       "       [ 0.00338864,  0.00675471,  0.01342003,  0.02648936,  0.05162868,\n",
       "         0.09824458,  0.17907027,  0.30408582,  0.4668469 ,  0.63697669,\n",
       "         0.77849693,  0.87556365,  0.93368995,  0.9657185 ,  0.98256315,\n",
       "         0.99120563,  0.99558358,  0.99778695]])"
      ]
     },
     "execution_count": 89,
     "metadata": {},
     "output_type": "execute_result"
    }
   ],
   "source": [
    "a.bfrac"
   ]
  },
  {
   "cell_type": "code",
   "execution_count": 91,
   "metadata": {
    "collapsed": false
   },
   "outputs": [
    {
     "ename": "TypeError",
     "evalue": "wymfunc() missing 3 required positional arguments: 'parm', 'lig', and 'rtot'",
     "output_type": "error",
     "traceback": [
      "\u001b[0;31m-------------------------------------------------------------------------\u001b[0m",
      "\u001b[0;31mTypeError\u001b[0m                               Traceback (most recent call last)",
      "\u001b[0;32m<ipython-input-91-189fd7f2f855>\u001b[0m in \u001b[0;36m<module>\u001b[0;34m()\u001b[0m\n\u001b[0;32m----> 1\u001b[0;31m \u001b[0mligbind\u001b[0m\u001b[0;34m.\u001b[0m\u001b[0mmodels\u001b[0m\u001b[0;34m.\u001b[0m\u001b[0mwymfunc\u001b[0m\u001b[0;34m(\u001b[0m\u001b[0;34m)\u001b[0m\u001b[0;34m\u001b[0m\u001b[0m\n\u001b[0m",
      "\u001b[0;31mTypeError\u001b[0m: wymfunc() missing 3 required positional arguments: 'parm', 'lig', and 'rtot'"
     ]
    }
   ],
   "source": [
    "ligbind.models.wymfunc()"
   ]
  },
  {
   "cell_type": "code",
   "execution_count": 94,
   "metadata": {
    "collapsed": false
   },
   "outputs": [
    {
     "data": {
      "text/plain": [
       "0.0"
      ]
     },
     "execution_count": 94,
     "metadata": {},
     "output_type": "execute_result"
    }
   ],
   "source": [
    "np.log(np.exp(0))"
   ]
  },
  {
   "cell_type": "code",
   "execution_count": 97,
   "metadata": {
    "collapsed": false
   },
   "outputs": [
    {
     "data": {
      "text/plain": [
       "1.0"
      ]
     },
     "execution_count": 97,
     "metadata": {},
     "output_type": "execute_result"
    }
   ],
   "source": [
    "np.log(np.exp(1))"
   ]
  },
  {
   "cell_type": "code",
   "execution_count": 101,
   "metadata": {
    "collapsed": false
   },
   "outputs": [
    {
     "data": {
      "text/plain": [
       "2.0"
      ]
     },
     "execution_count": 101,
     "metadata": {},
     "output_type": "execute_result"
    }
   ],
   "source": [
    "np.exp(np.log(2))"
   ]
  },
  {
   "cell_type": "code",
   "execution_count": 102,
   "metadata": {
    "collapsed": false
   },
   "outputs": [
    {
     "data": {
      "text/plain": [
       "2.1972245773362196"
      ]
     },
     "execution_count": 102,
     "metadata": {},
     "output_type": "execute_result"
    }
   ],
   "source": [
    "np.log(3**2)"
   ]
  },
  {
   "cell_type": "code",
   "execution_count": 105,
   "metadata": {
    "collapsed": false
   },
   "outputs": [
    {
     "data": {
      "text/plain": [
       "2.1972245773362196"
      ]
     },
     "execution_count": 105,
     "metadata": {},
     "output_type": "execute_result"
    }
   ],
   "source": [
    "2* np.log(3)"
   ]
  },
  {
   "cell_type": "code",
   "execution_count": 106,
   "metadata": {
    "collapsed": false
   },
   "outputs": [
    {
     "data": {
      "text/plain": [
       "1.3862943611198906"
      ]
     },
     "execution_count": 106,
     "metadata": {},
     "output_type": "execute_result"
    }
   ],
   "source": [
    "np.log(2**2)"
   ]
  },
  {
   "cell_type": "code",
   "execution_count": 107,
   "metadata": {
    "collapsed": false
   },
   "outputs": [
    {
     "data": {
      "text/plain": [
       "1.3862943611198906"
      ]
     },
     "execution_count": 107,
     "metadata": {},
     "output_type": "execute_result"
    }
   ],
   "source": [
    "2*np.log(2)"
   ]
  },
  {
   "cell_type": "code",
   "execution_count": 108,
   "metadata": {
    "collapsed": false
   },
   "outputs": [
    {
     "data": {
      "text/plain": [
       "4.0"
      ]
     },
     "execution_count": 108,
     "metadata": {},
     "output_type": "execute_result"
    }
   ],
   "source": [
    "np.exp(2*np.log(2))"
   ]
  },
  {
   "cell_type": "code",
   "execution_count": null,
   "metadata": {
    "collapsed": true
   },
   "outputs": [],
   "source": []
  }
 ],
 "metadata": {
  "anaconda-cloud": {},
  "kernelspec": {
   "display_name": "Python [default]",
   "language": "python",
   "name": "python3"
  },
  "language_info": {
   "codemirror_mode": {
    "name": "ipython",
    "version": 3
   },
   "file_extension": ".py",
   "mimetype": "text/x-python",
   "name": "python",
   "nbconvert_exporter": "python",
   "pygments_lexer": "ipython3",
   "version": "3.5.2"
  }
 },
 "nbformat": 4,
 "nbformat_minor": 1
}

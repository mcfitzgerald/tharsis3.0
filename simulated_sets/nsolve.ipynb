{
 "cells": [
  {
   "cell_type": "code",
   "execution_count": 1,
   "metadata": {
    "collapsed": true
   },
   "outputs": [],
   "source": [
    "import math\n",
    "import numpy as np\n",
    "from scipy import optimize"
   ]
  },
  {
   "cell_type": "code",
   "execution_count": 2,
   "metadata": {
    "collapsed": true
   },
   "outputs": [],
   "source": [
    "def f(var):\n",
    "    (x,y) = var\n",
    "    \n",
    "    first_eq = x * y - 2 * y - 2**x\n",
    "    second_eq = math.log(x) - y - math.cos(x)\n",
    "    \n",
    "    return [first_eq,second_eq]"
   ]
  },
  {
   "cell_type": "code",
   "execution_count": 3,
   "metadata": {
    "collapsed": false
   },
   "outputs": [
    {
     "data": {
      "text/plain": [
       "array([ 0.66687559, -1.19090982])"
      ]
     },
     "execution_count": 3,
     "metadata": {},
     "output_type": "execute_result"
    }
   ],
   "source": [
    "optimize.fsolve(f,(0.1,0))"
   ]
  },
  {
   "cell_type": "code",
   "execution_count": 4,
   "metadata": {
    "collapsed": true
   },
   "outputs": [],
   "source": [
    "def wymsol(var,parms,rtot,ltot):\n",
    "    \n",
    "    k11 = parm[0]\n",
    "    k21 = parm[1]\n",
    "    k22 = parm[2]\n",
    "    l20 = parm[3]\n",
    "    \n",
    "    (x1, x2, x3, x4, x5, x6) = var\n",
    "    \n",
    "    eq1 = x2 + 2*x3 + x4 + 2*x5 + 2*x6 - rtot\n",
    "    eq2 = x1 + x4 + x5 + 2*x6 - ltot\n",
    "    eq3 = l20 * x2**2 - x3\n",
    "    eq4 = k11 * x1 * x2 - x4\n",
    "    eq5 = l20 * k21 * x2**2 * x1 - x5\n",
    "    eq6 = l20 * k21 * k22 * x2**2 * x1**2 - x6\n",
    "    \n",
    "    return np.array([eq1,eq2,eq3,eq4,eq5,eq6])"
   ]
  },
  {
   "cell_type": "code",
   "execution_count": 5,
   "metadata": {
    "collapsed": true
   },
   "outputs": [],
   "source": [
    "guess = (1.,1.,1.,1.,1.,1.)"
   ]
  },
  {
   "cell_type": "code",
   "execution_count": 6,
   "metadata": {
    "collapsed": true
   },
   "outputs": [],
   "source": [
    "parm = np.array([0.4,8.,2.,300.])"
   ]
  },
  {
   "cell_type": "code",
   "execution_count": 7,
   "metadata": {
    "collapsed": false
   },
   "outputs": [
    {
     "data": {
      "text/plain": [
       "array([  7.99000000e+00,   4.99000000e+00,   2.99000000e+02,\n",
       "        -6.00000000e-01,   2.39900000e+03,   4.79900000e+03])"
      ]
     },
     "execution_count": 7,
     "metadata": {},
     "output_type": "execute_result"
    }
   ],
   "source": [
    "wymsol(guess,parm,0.01,0.01)"
   ]
  },
  {
   "cell_type": "code",
   "execution_count": 8,
   "metadata": {
    "collapsed": false
   },
   "outputs": [
    {
     "data": {
      "text/plain": [
       "[-1.0717734625362931, -3.297589258272071]"
      ]
     },
     "execution_count": 8,
     "metadata": {},
     "output_type": "execute_result"
    }
   ],
   "source": [
    "f((0.1,0))"
   ]
  },
  {
   "cell_type": "code",
   "execution_count": 9,
   "metadata": {
    "collapsed": false
   },
   "outputs": [
    {
     "data": {
      "text/plain": [
       "array([  2.07234487e-03,   3.96771417e-02,   4.72282671e-01,\n",
       "         3.28898884e-05,   7.82986056e-03,   3.24523427e-05])"
      ]
     },
     "execution_count": 9,
     "metadata": {},
     "output_type": "execute_result"
    }
   ],
   "source": [
    "optimize.fsolve(wymsol,guess,args=(parm,1.0,0.01))"
   ]
  },
  {
   "cell_type": "code",
   "execution_count": 10,
   "metadata": {
    "collapsed": false
   },
   "outputs": [
    {
     "data": {
      "text/plain": [
       "array([  2.07234487e-03,   3.96771417e-02,   4.72282671e-01,\n",
       "         3.28898884e-05,   7.82986056e-03,   3.24523427e-05])"
      ]
     },
     "execution_count": 10,
     "metadata": {},
     "output_type": "execute_result"
    }
   ],
   "source": [
    "optimize.root(wymsol,guess,args=(parm,1.0,0.01),method='lm').x"
   ]
  },
  {
   "cell_type": "code",
   "execution_count": 50,
   "metadata": {
    "collapsed": false
   },
   "outputs": [],
   "source": [
    "lig = np.array([0.01, 0.02, 0.03, 0.05, 0.08, 0.1, 0.2, 0.3, 0.5, 0.8, 1.0, 2.0, 3.0, 5.0, 8.0, 10.0])\n",
    "res = [optimize.root(wymsol,guess,args=(parm,1.0,i),method='lm').x for i in lig]"
   ]
  },
  {
   "cell_type": "code",
   "execution_count": 34,
   "metadata": {
    "collapsed": true
   },
   "outputs": [],
   "source": [
    "import sys"
   ]
  },
  {
   "cell_type": "code",
   "execution_count": 35,
   "metadata": {
    "collapsed": true
   },
   "outputs": [],
   "source": [
    "sys.path.append('./ligbind/')"
   ]
  },
  {
   "cell_type": "code",
   "execution_count": 36,
   "metadata": {
    "collapsed": true
   },
   "outputs": [],
   "source": [
    "import ligbind"
   ]
  },
  {
   "cell_type": "code",
   "execution_count": 37,
   "metadata": {
    "collapsed": false
   },
   "outputs": [],
   "source": [
    "ligs = ligbind.helpers.dilser()"
   ]
  },
  {
   "cell_type": "code",
   "execution_count": 38,
   "metadata": {
    "collapsed": false
   },
   "outputs": [],
   "source": [
    "b = [optimize.root(wymsol,guess,args=(parm,1.0,i),method='lm').x for i in ligs]"
   ]
  },
  {
   "cell_type": "code",
   "execution_count": 39,
   "metadata": {
    "collapsed": false
   },
   "outputs": [],
   "source": [
    "c = np.stack(b)"
   ]
  },
  {
   "cell_type": "code",
   "execution_count": 40,
   "metadata": {
    "collapsed": false
   },
   "outputs": [
    {
     "data": {
      "text/plain": [
       "array([  2.06060628e-04,   3.99676620e-02,   4.79224202e-01,\n",
       "         3.29430462e-06,   7.89993921e-04,   3.25573287e-07])"
      ]
     },
     "execution_count": 40,
     "metadata": {},
     "output_type": "execute_result"
    }
   ],
   "source": [
    "c[0]"
   ]
  },
  {
   "cell_type": "code",
   "execution_count": 41,
   "metadata": {
    "collapsed": false
   },
   "outputs": [],
   "source": [
    "d = np.array(b)"
   ]
  },
  {
   "cell_type": "code",
   "execution_count": 42,
   "metadata": {
    "collapsed": false
   },
   "outputs": [
    {
     "data": {
      "text/plain": [
       "array([  2.06060628e-04,   4.12381140e-04,   8.25803275e-04,\n",
       "         1.65578221e-03,   3.32836084e-03,   6.72466252e-03,\n",
       "         1.37272082e-02,   2.86160757e-02,   6.22949695e-02,\n",
       "         1.48236969e-01,   4.10859340e-01,   1.22288605e+00,\n",
       "         3.17154644e+00,   7.22662191e+00,   1.54005501e+01,\n",
       "         3.17760901e+01,   6.45399995e+01,   1.30073988e+02])"
      ]
     },
     "execution_count": 42,
     "metadata": {},
     "output_type": "execute_result"
    }
   ],
   "source": [
    "d[:,0]"
   ]
  },
  {
   "cell_type": "code",
   "execution_count": 43,
   "metadata": {
    "collapsed": true
   },
   "outputs": [],
   "source": [
    "import matplotlib.pyplot as plt"
   ]
  },
  {
   "cell_type": "code",
   "execution_count": 44,
   "metadata": {
    "collapsed": true
   },
   "outputs": [],
   "source": [
    "%matplotlib inline"
   ]
  },
  {
   "cell_type": "code",
   "execution_count": 45,
   "metadata": {
    "collapsed": false
   },
   "outputs": [
    {
     "data": {
      "text/plain": [
       "[<matplotlib.lines.Line2D at 0x10e818e48>]"
      ]
     },
     "execution_count": 45,
     "metadata": {},
     "output_type": "execute_result"
    },
    {
     "data": {
      "image/png": "[encoded data removed]",
      "text/plain": [
       "<matplotlib.figure.Figure at 0x10f2694e0>"
      ]
     },
     "metadata": {},
     "output_type": "display_data"
    }
   ],
   "source": [
    "plt.semilogx(ligs,d[:,2],'.')"
   ]
  },
  {
   "cell_type": "code",
   "execution_count": 46,
   "metadata": {
    "collapsed": false
   },
   "outputs": [
    {
     "data": {
      "text/plain": [
       "array([  2.06060628e-04,   4.12381140e-04,   8.25803275e-04,\n",
       "         1.65578221e-03,   3.32836084e-03,   6.72466252e-03,\n",
       "         1.37272082e-02,   2.86160757e-02,   6.22949695e-02,\n",
       "         1.48236969e-01,   4.10859340e-01,   1.22288605e+00,\n",
       "         3.17154644e+00,   7.22662191e+00,   1.54005501e+01,\n",
       "         3.17760901e+01,   6.45399995e+01,   1.30073988e+02])"
      ]
     },
     "execution_count": 46,
     "metadata": {},
     "output_type": "execute_result"
    }
   ],
   "source": [
    "d[:,0]"
   ]
  },
  {
   "cell_type": "code",
   "execution_count": 47,
   "metadata": {
    "collapsed": false
   },
   "outputs": [
    {
     "data": {
      "text/plain": [
       "array([   0.4,    8. ,    2. ,  300. ])"
      ]
     },
     "execution_count": 47,
     "metadata": {},
     "output_type": "execute_result"
    }
   ],
   "source": [
    "parm"
   ]
  },
  {
   "cell_type": "code",
   "execution_count": 48,
   "metadata": {
    "collapsed": false
   },
   "outputs": [],
   "source": [
    "a = ligbind.WymSim(parms=parm,sets=1)"
   ]
  },
  {
   "cell_type": "code",
   "execution_count": 49,
   "metadata": {
    "collapsed": false
   },
   "outputs": [
    {
     "data": {
      "text/plain": [
       "array([  2.06060628e-04,   4.12381140e-04,   8.25803275e-04,\n",
       "         1.65578221e-03,   3.32836084e-03,   6.72466252e-03,\n",
       "         1.37272082e-02,   2.86160757e-02,   6.22949695e-02,\n",
       "         1.48236969e-01,   4.10859340e-01,   1.22288605e+00,\n",
       "         3.17154644e+00,   7.22662191e+00,   1.54005501e+01,\n",
       "         3.17760901e+01,   6.45399995e+01,   1.30073988e+02])"
      ]
     },
     "execution_count": 49,
     "metadata": {},
     "output_type": "execute_result"
    }
   ],
   "source": [
    "d[:,0]"
   ]
  },
  {
   "cell_type": "code",
   "execution_count": null,
   "metadata": {
    "collapsed": true
   },
   "outputs": [],
   "source": []
  },
  {
   "cell_type": "code",
   "execution_count": null,
   "metadata": {
    "collapsed": true
   },
   "outputs": [],
   "source": []
  }
 ],
 "metadata": {
  "anaconda-cloud": {},
  "kernelspec": {
   "display_name": "Python [default]",
   "language": "python",
   "name": "python3"
  },
  "language_info": {
   "codemirror_mode": {
    "name": "ipython",
    "version": 3
   },
   "file_extension": ".py",
   "mimetype": "text/x-python",
   "name": "python",
   "nbconvert_exporter": "python",
   "pygments_lexer": "ipython3",
   "version": "3.5.2"
  }
 },
 "nbformat": 4,
 "nbformat_minor": 1
}

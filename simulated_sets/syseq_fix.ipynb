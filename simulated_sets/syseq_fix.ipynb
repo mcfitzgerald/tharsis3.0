{
 "cells": [
  {
   "cell_type": "code",
   "execution_count": 1,
   "metadata": {
    "collapsed": true
   },
   "outputs": [],
   "source": [
    "import sys\n",
    "import copy\n",
    "import emcee\n",
    "import corner\n",
    "import numpy as np\n",
    "import matplotlib.pyplot as plt\n",
    "from mods import prep, plotter\n",
    "from scipy import optimize\n",
    "%matplotlib inline\n",
    "%load_ext autoreload\n",
    "\n",
    "sys.path.append('./ligbind/')\n",
    "import ligbind"
   ]
  },
  {
   "cell_type": "code",
   "execution_count": 15,
   "metadata": {
    "collapsed": true
   },
   "outputs": [],
   "source": [
    "def wymsol(var,parm,rtot,ltot):\n",
    "    \n",
    "    k11 = parm[0]\n",
    "    k21 = parm[1]\n",
    "    k22 = parm[2]\n",
    "    l20 = parm[3]\n",
    "    \n",
    "    (L, M, MM, ML, MML, MMLL) = var\n",
    "    \n",
    "    eq1 = M + 2*MM + ML + 2*MML + 2*MMLL - rtot\n",
    "    eq2 = L + ML + MML + 2*MMLL - ltot\n",
    "    eq3 = l20 * M**2 - MM\n",
    "    eq4 = k11 * L * M - ML\n",
    "    eq5 = l20 * k21 * M**2 * L - MML\n",
    "    eq6 = l20 * k21 * k22 * M**2 * L**2 - MMLL\n",
    "    \n",
    "    return np.array([eq1,eq2,eq3,eq4,eq5,eq6])"
   ]
  },
  {
   "cell_type": "code",
   "execution_count": 16,
   "metadata": {
    "collapsed": true
   },
   "outputs": [],
   "source": [
    "guess = (1000.,1000.,1000.,1000.,1000.,1000.)"
   ]
  },
  {
   "cell_type": "code",
   "execution_count": 17,
   "metadata": {
    "collapsed": true
   },
   "outputs": [],
   "source": [
    "parm4 = np.array([2.,6.,8.,109.])"
   ]
  },
  {
   "cell_type": "code",
   "execution_count": 18,
   "metadata": {
    "collapsed": true
   },
   "outputs": [],
   "source": [
    "ligser = ligbind.helpers.dilser()"
   ]
  },
  {
   "cell_type": "code",
   "execution_count": 19,
   "metadata": {
    "collapsed": true
   },
   "outputs": [],
   "source": [
    "rtot = np.array([1e-4,1e-3,1e-2,1e-1,1e0])"
   ]
  },
  {
   "cell_type": "code",
   "execution_count": 20,
   "metadata": {
    "collapsed": true
   },
   "outputs": [],
   "source": [
    "def frax(res):\n",
    "    L = res[:,0]\n",
    "    M = res[:,1]\n",
    "    MM = res[:,2]\n",
    "    ML = res[:,3]\n",
    "    MML = res[:,4]\n",
    "    MMLL = res[:,5]\n",
    "    \n",
    "    Mfree = M + 2*MM\n",
    "    \n",
    "    Mtot = M + ML + 2*MM + 2*MML + 2*MMLL\n",
    "    \n",
    "    Ltot = L + ML + MML + 2*MMLL\n",
    "    \n",
    "    Mbound = ML + 2*MML + 2*MMLL\n",
    "    \n",
    "    Lbound = ML + MML + 2*MMLL\n",
    "    \n",
    "    Lfree_check = Ltot - Lbound\n",
    "    \n",
    "    Mfree_check = Mtot - Mbound\n",
    "    \n",
    "    Monomer = M + ML\n",
    "    \n",
    "    Dimer = 2*MM + 2*MML + 2*MMLL #quantified as monomer, i.e., [MM] = 2[M]\n",
    "    \n",
    "    Monfrac = Monomer/Mtot\n",
    "    \n",
    "    Dimfrac = Dimer/Mtot\n",
    "    \n",
    "    Mon_bfrac = ML/Monomer\n",
    "    \n",
    "    Dim_bfrac = (MML + 2*MMLL)/Dimer\n",
    "    \n",
    "    Bfrac = Lbound/Mtot\n",
    "    \n",
    "    \n",
    "    return np.array([L,M,MM,ML,MML,MMLL,Bfrac,Monfrac,Dimfrac,Mon_bfrac,Dim_bfrac,Mtot])"
   ]
  },
  {
   "cell_type": "code",
   "execution_count": 21,
   "metadata": {
    "collapsed": true
   },
   "outputs": [],
   "source": [
    "colnames = ['L','M','MM','ML','MML','MMLL','Bfrac','Monfrac','Dimfrac','Mon_bfrac','Dim_bfrac','Mtot']"
   ]
  },
  {
   "cell_type": "code",
   "execution_count": 22,
   "metadata": {
    "collapsed": false
   },
   "outputs": [
    {
     "data": {
      "text/plain": [
       "array([  7.99999990e+03,   4.99999900e+03,   1.08999000e+08,\n",
       "         1.99900000e+06,   6.53999999e+11,   5.23200000e+15])"
      ]
     },
     "execution_count": 22,
     "metadata": {},
     "output_type": "execute_result"
    }
   ],
   "source": [
    "wymsol(guess,parm4,rtot[0],ligser[0])"
   ]
  },
  {
   "cell_type": "code",
   "execution_count": null,
   "metadata": {
    "collapsed": true
   },
   "outputs": [],
   "source": []
  }
 ],
 "metadata": {
  "kernelspec": {
   "display_name": "Python [conda env:fitter]",
   "language": "python",
   "name": "conda-env-fitter-py"
  },
  "language_info": {
   "codemirror_mode": {
    "name": "ipython",
    "version": 3
   },
   "file_extension": ".py",
   "mimetype": "text/x-python",
   "name": "python",
   "nbconvert_exporter": "python",
   "pygments_lexer": "ipython3",
   "version": "3.5.2"
  }
 },
 "nbformat": 4,
 "nbformat_minor": 1
}
